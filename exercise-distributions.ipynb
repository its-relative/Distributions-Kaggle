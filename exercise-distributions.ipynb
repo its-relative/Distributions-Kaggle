{
 "cells": [
  {
   "cell_type": "markdown",
   "id": "1f6d5162",
   "metadata": {
    "papermill": {
     "duration": 0.00583,
     "end_time": "2025-06-09T14:32:39.207221",
     "exception": false,
     "start_time": "2025-06-09T14:32:39.201391",
     "status": "completed"
    },
    "tags": []
   },
   "source": [
    "**This notebook is an exercise in the [Data Visualization](https://www.kaggle.com/learn/data-visualization) course.  You can reference the tutorial at [this link](https://www.kaggle.com/alexisbcook/distributions).**\n",
    "\n",
    "---\n"
   ]
  },
  {
   "cell_type": "markdown",
   "id": "3d239d4b",
   "metadata": {
    "papermill": {
     "duration": 0.004221,
     "end_time": "2025-06-09T14:32:39.216446",
     "exception": false,
     "start_time": "2025-06-09T14:32:39.212225",
     "status": "completed"
    },
    "tags": []
   },
   "source": [
    "In this exercise, you will use your new knowledge to propose a solution to a real-world scenario.  To succeed, you will need to import data into Python, answer questions using the data, and generate **histograms** and **density plots** to understand patterns in the data.\n",
    "\n",
    "## Scenario\n",
    "\n",
    "You'll work with a real-world dataset containing information collected from microscopic images of breast cancer tumors, similar to the image below.\n",
    "\n",
    "![ex4_cancer_image](https://storage.googleapis.com/kaggle-media/learn/images/qUESsJe.png)\n",
    "\n",
    "Each tumor has been labeled as either [**benign**](https://en.wikipedia.org/wiki/Benign_tumor) (_noncancerous_) or **malignant** (_cancerous_).\n",
    "\n",
    "To learn more about how this kind of data is used to create intelligent algorithms to classify tumors in medical settings, **watch the short video [at this link](https://www.youtube.com/watch?v=9Mz84cwVmS0)**."
   ]
  },
  {
   "cell_type": "markdown",
   "id": "9d3f0211",
   "metadata": {
    "papermill": {
     "duration": 0.004138,
     "end_time": "2025-06-09T14:32:39.224928",
     "exception": false,
     "start_time": "2025-06-09T14:32:39.220790",
     "status": "completed"
    },
    "tags": []
   },
   "source": [
    "\n",
    "\n",
    "## Setup\n",
    "\n",
    "Run the next cell to import and configure the Python libraries that you need to complete the exercise."
   ]
  },
  {
   "cell_type": "code",
   "execution_count": 1,
   "id": "f24a41ec",
   "metadata": {
    "execution": {
     "iopub.execute_input": "2025-06-09T14:32:39.234893Z",
     "iopub.status.busy": "2025-06-09T14:32:39.234585Z",
     "iopub.status.idle": "2025-06-09T14:32:43.521513Z",
     "shell.execute_reply": "2025-06-09T14:32:43.520257Z"
    },
    "papermill": {
     "duration": 4.293825,
     "end_time": "2025-06-09T14:32:43.523176",
     "exception": false,
     "start_time": "2025-06-09T14:32:39.229351",
     "status": "completed"
    },
    "tags": []
   },
   "outputs": [
    {
     "name": "stdout",
     "output_type": "stream",
     "text": [
      "Setup Complete\n"
     ]
    }
   ],
   "source": [
    "import pandas as pd\n",
    "pd.plotting.register_matplotlib_converters()\n",
    "import matplotlib.pyplot as plt\n",
    "%matplotlib inline\n",
    "import seaborn as sns\n",
    "print(\"Setup Complete\")"
   ]
  },
  {
   "cell_type": "markdown",
   "id": "fba06c92",
   "metadata": {
    "papermill": {
     "duration": 0.004437,
     "end_time": "2025-06-09T14:32:43.532843",
     "exception": false,
     "start_time": "2025-06-09T14:32:43.528406",
     "status": "completed"
    },
    "tags": []
   },
   "source": [
    "The questions below will give you feedback on your work. Run the following cell to set up our feedback system."
   ]
  },
  {
   "cell_type": "code",
   "execution_count": 2,
   "id": "87af82a6",
   "metadata": {
    "execution": {
     "iopub.execute_input": "2025-06-09T14:32:43.544224Z",
     "iopub.status.busy": "2025-06-09T14:32:43.543734Z",
     "iopub.status.idle": "2025-06-09T14:32:43.636690Z",
     "shell.execute_reply": "2025-06-09T14:32:43.635486Z"
    },
    "papermill": {
     "duration": 0.101232,
     "end_time": "2025-06-09T14:32:43.638780",
     "exception": false,
     "start_time": "2025-06-09T14:32:43.537548",
     "status": "completed"
    },
    "tags": []
   },
   "outputs": [
    {
     "name": "stdout",
     "output_type": "stream",
     "text": [
      "Setup Complete\n"
     ]
    }
   ],
   "source": [
    "# Set up code checking\n",
    "from learntools.core import binder\n",
    "binder.bind(globals())\n",
    "from learntools.data_viz_to_coder.ex5 import *\n",
    "print(\"Setup Complete\")"
   ]
  },
  {
   "cell_type": "markdown",
   "id": "7de64de4",
   "metadata": {
    "papermill": {
     "duration": 0.004436,
     "end_time": "2025-06-09T14:32:43.648050",
     "exception": false,
     "start_time": "2025-06-09T14:32:43.643614",
     "status": "completed"
    },
    "tags": []
   },
   "source": [
    "## Step 1: Load the data\n",
    "\n",
    "In this step, you will load the data.\n",
    "- Load the data file into a DataFrame called `cancer_data`.  \n",
    "- The corresponding filepath is `cancer_filepath`.  \n",
    "- Use the `\"Id\"` column to label the rows."
   ]
  },
  {
   "cell_type": "code",
   "execution_count": 3,
   "id": "89c1b1da",
   "metadata": {
    "execution": {
     "iopub.execute_input": "2025-06-09T14:32:43.658575Z",
     "iopub.status.busy": "2025-06-09T14:32:43.658239Z",
     "iopub.status.idle": "2025-06-09T14:32:43.674428Z",
     "shell.execute_reply": "2025-06-09T14:32:43.673325Z"
    },
    "papermill": {
     "duration": 0.023839,
     "end_time": "2025-06-09T14:32:43.676486",
     "exception": false,
     "start_time": "2025-06-09T14:32:43.652647",
     "status": "completed"
    },
    "tags": []
   },
   "outputs": [
    {
     "data": {
      "application/javascript": [
       "parent.postMessage({\"jupyterEvent\": \"custom.exercise_interaction\", \"data\": {\"outcomeType\": 1, \"valueTowardsCompletion\": 0.5, \"interactionType\": 1, \"questionType\": 1, \"questionId\": \"1_LoadCancerData\", \"learnToolsVersion\": \"0.3.5\", \"failureMessage\": \"\", \"exceptionClass\": \"\", \"trace\": \"\"}}, \"*\")"
      ],
      "text/plain": [
       "<IPython.core.display.Javascript object>"
      ]
     },
     "metadata": {},
     "output_type": "display_data"
    },
    {
     "data": {
      "text/markdown": [
       "<span style=\"color:#33cc33\">Correct</span>"
      ],
      "text/plain": [
       "Correct"
      ]
     },
     "metadata": {},
     "output_type": "display_data"
    }
   ],
   "source": [
    "# Path of the files to read\n",
    "cancer_filepath = \"../input/cancer.csv\"\n",
    "\n",
    "# Fill in the line below to read the file into a variable cancer_data\n",
    "cancer_data = pd.read_csv(cancer_filepath, index_col = \"Id\")\n",
    "\n",
    "# Run the line below with no changes to check that you've loaded the data correctly\n",
    "step_1.check()"
   ]
  },
  {
   "cell_type": "code",
   "execution_count": 4,
   "id": "b952d66c",
   "metadata": {
    "execution": {
     "iopub.execute_input": "2025-06-09T14:32:43.688024Z",
     "iopub.status.busy": "2025-06-09T14:32:43.687712Z",
     "iopub.status.idle": "2025-06-09T14:32:43.692839Z",
     "shell.execute_reply": "2025-06-09T14:32:43.691608Z"
    },
    "papermill": {
     "duration": 0.012563,
     "end_time": "2025-06-09T14:32:43.694576",
     "exception": false,
     "start_time": "2025-06-09T14:32:43.682013",
     "status": "completed"
    },
    "tags": []
   },
   "outputs": [],
   "source": [
    "df = cancer_data.copy() "
   ]
  },
  {
   "cell_type": "code",
   "execution_count": 5,
   "id": "758da01d",
   "metadata": {
    "execution": {
     "iopub.execute_input": "2025-06-09T14:32:43.705483Z",
     "iopub.status.busy": "2025-06-09T14:32:43.705063Z",
     "iopub.status.idle": "2025-06-09T14:32:43.744959Z",
     "shell.execute_reply": "2025-06-09T14:32:43.743785Z"
    },
    "papermill": {
     "duration": 0.04762,
     "end_time": "2025-06-09T14:32:43.747060",
     "exception": false,
     "start_time": "2025-06-09T14:32:43.699440",
     "status": "completed"
    },
    "tags": []
   },
   "outputs": [
    {
     "data": {
      "text/html": [
       "<div>\n",
       "<style scoped>\n",
       "    .dataframe tbody tr th:only-of-type {\n",
       "        vertical-align: middle;\n",
       "    }\n",
       "\n",
       "    .dataframe tbody tr th {\n",
       "        vertical-align: top;\n",
       "    }\n",
       "\n",
       "    .dataframe thead th {\n",
       "        text-align: right;\n",
       "    }\n",
       "</style>\n",
       "<table border=\"1\" class=\"dataframe\">\n",
       "  <thead>\n",
       "    <tr style=\"text-align: right;\">\n",
       "      <th></th>\n",
       "      <th>Diagnosis</th>\n",
       "      <th>Radius (mean)</th>\n",
       "      <th>Texture (mean)</th>\n",
       "      <th>Perimeter (mean)</th>\n",
       "      <th>Area (mean)</th>\n",
       "      <th>Smoothness (mean)</th>\n",
       "      <th>Compactness (mean)</th>\n",
       "      <th>Concavity (mean)</th>\n",
       "      <th>Concave points (mean)</th>\n",
       "      <th>Symmetry (mean)</th>\n",
       "      <th>...</th>\n",
       "      <th>Radius (worst)</th>\n",
       "      <th>Texture (worst)</th>\n",
       "      <th>Perimeter (worst)</th>\n",
       "      <th>Area (worst)</th>\n",
       "      <th>Smoothness (worst)</th>\n",
       "      <th>Compactness (worst)</th>\n",
       "      <th>Concavity (worst)</th>\n",
       "      <th>Concave points (worst)</th>\n",
       "      <th>Symmetry (worst)</th>\n",
       "      <th>Fractal dimension (worst)</th>\n",
       "    </tr>\n",
       "    <tr>\n",
       "      <th>Id</th>\n",
       "      <th></th>\n",
       "      <th></th>\n",
       "      <th></th>\n",
       "      <th></th>\n",
       "      <th></th>\n",
       "      <th></th>\n",
       "      <th></th>\n",
       "      <th></th>\n",
       "      <th></th>\n",
       "      <th></th>\n",
       "      <th></th>\n",
       "      <th></th>\n",
       "      <th></th>\n",
       "      <th></th>\n",
       "      <th></th>\n",
       "      <th></th>\n",
       "      <th></th>\n",
       "      <th></th>\n",
       "      <th></th>\n",
       "      <th></th>\n",
       "      <th></th>\n",
       "    </tr>\n",
       "  </thead>\n",
       "  <tbody>\n",
       "    <tr>\n",
       "      <th>8510426</th>\n",
       "      <td>B</td>\n",
       "      <td>13.540</td>\n",
       "      <td>14.36</td>\n",
       "      <td>87.46</td>\n",
       "      <td>566.3</td>\n",
       "      <td>0.09779</td>\n",
       "      <td>0.08129</td>\n",
       "      <td>0.06664</td>\n",
       "      <td>0.047810</td>\n",
       "      <td>0.1885</td>\n",
       "      <td>...</td>\n",
       "      <td>15.110</td>\n",
       "      <td>19.26</td>\n",
       "      <td>99.70</td>\n",
       "      <td>711.2</td>\n",
       "      <td>0.14400</td>\n",
       "      <td>0.17730</td>\n",
       "      <td>0.23900</td>\n",
       "      <td>0.12880</td>\n",
       "      <td>0.2977</td>\n",
       "      <td>0.07259</td>\n",
       "    </tr>\n",
       "    <tr>\n",
       "      <th>8510653</th>\n",
       "      <td>B</td>\n",
       "      <td>13.080</td>\n",
       "      <td>15.71</td>\n",
       "      <td>85.63</td>\n",
       "      <td>520.0</td>\n",
       "      <td>0.10750</td>\n",
       "      <td>0.12700</td>\n",
       "      <td>0.04568</td>\n",
       "      <td>0.031100</td>\n",
       "      <td>0.1967</td>\n",
       "      <td>...</td>\n",
       "      <td>14.500</td>\n",
       "      <td>20.49</td>\n",
       "      <td>96.09</td>\n",
       "      <td>630.5</td>\n",
       "      <td>0.13120</td>\n",
       "      <td>0.27760</td>\n",
       "      <td>0.18900</td>\n",
       "      <td>0.07283</td>\n",
       "      <td>0.3184</td>\n",
       "      <td>0.08183</td>\n",
       "    </tr>\n",
       "    <tr>\n",
       "      <th>8510824</th>\n",
       "      <td>B</td>\n",
       "      <td>9.504</td>\n",
       "      <td>12.44</td>\n",
       "      <td>60.34</td>\n",
       "      <td>273.9</td>\n",
       "      <td>0.10240</td>\n",
       "      <td>0.06492</td>\n",
       "      <td>0.02956</td>\n",
       "      <td>0.020760</td>\n",
       "      <td>0.1815</td>\n",
       "      <td>...</td>\n",
       "      <td>10.230</td>\n",
       "      <td>15.66</td>\n",
       "      <td>65.13</td>\n",
       "      <td>314.9</td>\n",
       "      <td>0.13240</td>\n",
       "      <td>0.11480</td>\n",
       "      <td>0.08867</td>\n",
       "      <td>0.06227</td>\n",
       "      <td>0.2450</td>\n",
       "      <td>0.07773</td>\n",
       "    </tr>\n",
       "    <tr>\n",
       "      <th>854941</th>\n",
       "      <td>B</td>\n",
       "      <td>13.030</td>\n",
       "      <td>18.42</td>\n",
       "      <td>82.61</td>\n",
       "      <td>523.8</td>\n",
       "      <td>0.08983</td>\n",
       "      <td>0.03766</td>\n",
       "      <td>0.02562</td>\n",
       "      <td>0.029230</td>\n",
       "      <td>0.1467</td>\n",
       "      <td>...</td>\n",
       "      <td>13.300</td>\n",
       "      <td>22.81</td>\n",
       "      <td>84.46</td>\n",
       "      <td>545.9</td>\n",
       "      <td>0.09701</td>\n",
       "      <td>0.04619</td>\n",
       "      <td>0.04833</td>\n",
       "      <td>0.05013</td>\n",
       "      <td>0.1987</td>\n",
       "      <td>0.06169</td>\n",
       "    </tr>\n",
       "    <tr>\n",
       "      <th>85713702</th>\n",
       "      <td>B</td>\n",
       "      <td>8.196</td>\n",
       "      <td>16.84</td>\n",
       "      <td>51.71</td>\n",
       "      <td>201.9</td>\n",
       "      <td>0.08600</td>\n",
       "      <td>0.05943</td>\n",
       "      <td>0.01588</td>\n",
       "      <td>0.005917</td>\n",
       "      <td>0.1769</td>\n",
       "      <td>...</td>\n",
       "      <td>8.964</td>\n",
       "      <td>21.96</td>\n",
       "      <td>57.26</td>\n",
       "      <td>242.2</td>\n",
       "      <td>0.12970</td>\n",
       "      <td>0.13570</td>\n",
       "      <td>0.06880</td>\n",
       "      <td>0.02564</td>\n",
       "      <td>0.3105</td>\n",
       "      <td>0.07409</td>\n",
       "    </tr>\n",
       "  </tbody>\n",
       "</table>\n",
       "<p>5 rows × 31 columns</p>\n",
       "</div>"
      ],
      "text/plain": [
       "         Diagnosis  Radius (mean)  Texture (mean)  Perimeter (mean)  \\\n",
       "Id                                                                    \n",
       "8510426          B         13.540           14.36             87.46   \n",
       "8510653          B         13.080           15.71             85.63   \n",
       "8510824          B          9.504           12.44             60.34   \n",
       "854941           B         13.030           18.42             82.61   \n",
       "85713702         B          8.196           16.84             51.71   \n",
       "\n",
       "          Area (mean)  Smoothness (mean)  Compactness (mean)  \\\n",
       "Id                                                             \n",
       "8510426         566.3            0.09779             0.08129   \n",
       "8510653         520.0            0.10750             0.12700   \n",
       "8510824         273.9            0.10240             0.06492   \n",
       "854941          523.8            0.08983             0.03766   \n",
       "85713702        201.9            0.08600             0.05943   \n",
       "\n",
       "          Concavity (mean)  Concave points (mean)  Symmetry (mean)  ...  \\\n",
       "Id                                                                  ...   \n",
       "8510426            0.06664               0.047810           0.1885  ...   \n",
       "8510653            0.04568               0.031100           0.1967  ...   \n",
       "8510824            0.02956               0.020760           0.1815  ...   \n",
       "854941             0.02562               0.029230           0.1467  ...   \n",
       "85713702           0.01588               0.005917           0.1769  ...   \n",
       "\n",
       "          Radius (worst)  Texture (worst)  Perimeter (worst)  Area (worst)  \\\n",
       "Id                                                                           \n",
       "8510426           15.110            19.26              99.70         711.2   \n",
       "8510653           14.500            20.49              96.09         630.5   \n",
       "8510824           10.230            15.66              65.13         314.9   \n",
       "854941            13.300            22.81              84.46         545.9   \n",
       "85713702           8.964            21.96              57.26         242.2   \n",
       "\n",
       "          Smoothness (worst)  Compactness (worst)  Concavity (worst)  \\\n",
       "Id                                                                     \n",
       "8510426              0.14400              0.17730            0.23900   \n",
       "8510653              0.13120              0.27760            0.18900   \n",
       "8510824              0.13240              0.11480            0.08867   \n",
       "854941               0.09701              0.04619            0.04833   \n",
       "85713702             0.12970              0.13570            0.06880   \n",
       "\n",
       "          Concave points (worst)  Symmetry (worst)  Fractal dimension (worst)  \n",
       "Id                                                                             \n",
       "8510426                  0.12880            0.2977                    0.07259  \n",
       "8510653                  0.07283            0.3184                    0.08183  \n",
       "8510824                  0.06227            0.2450                    0.07773  \n",
       "854941                   0.05013            0.1987                    0.06169  \n",
       "85713702                 0.02564            0.3105                    0.07409  \n",
       "\n",
       "[5 rows x 31 columns]"
      ]
     },
     "execution_count": 5,
     "metadata": {},
     "output_type": "execute_result"
    }
   ],
   "source": [
    "df.head()"
   ]
  },
  {
   "cell_type": "code",
   "execution_count": 6,
   "id": "417cc1cf",
   "metadata": {
    "execution": {
     "iopub.execute_input": "2025-06-09T14:32:43.759407Z",
     "iopub.status.busy": "2025-06-09T14:32:43.759044Z",
     "iopub.status.idle": "2025-06-09T14:32:43.780121Z",
     "shell.execute_reply": "2025-06-09T14:32:43.778988Z"
    },
    "papermill": {
     "duration": 0.029116,
     "end_time": "2025-06-09T14:32:43.781642",
     "exception": false,
     "start_time": "2025-06-09T14:32:43.752526",
     "status": "completed"
    },
    "tags": []
   },
   "outputs": [
    {
     "name": "stdout",
     "output_type": "stream",
     "text": [
      "<class 'pandas.core.frame.DataFrame'>\n",
      "Index: 569 entries, 8510426 to 927241\n",
      "Data columns (total 31 columns):\n",
      " #   Column                     Non-Null Count  Dtype  \n",
      "---  ------                     --------------  -----  \n",
      " 0   Diagnosis                  569 non-null    object \n",
      " 1   Radius (mean)              569 non-null    float64\n",
      " 2   Texture (mean)             569 non-null    float64\n",
      " 3   Perimeter (mean)           569 non-null    float64\n",
      " 4   Area (mean)                569 non-null    float64\n",
      " 5   Smoothness (mean)          569 non-null    float64\n",
      " 6   Compactness (mean)         569 non-null    float64\n",
      " 7   Concavity (mean)           569 non-null    float64\n",
      " 8   Concave points (mean)      569 non-null    float64\n",
      " 9   Symmetry (mean)            569 non-null    float64\n",
      " 10  Fractal dimension (mean)   569 non-null    float64\n",
      " 11  Radius (se)                569 non-null    float64\n",
      " 12  Texture (se)               569 non-null    float64\n",
      " 13  Perimeter (se)             569 non-null    float64\n",
      " 14  Area (se)                  569 non-null    float64\n",
      " 15  Smoothness (se)            569 non-null    float64\n",
      " 16  Compactness (se)           569 non-null    float64\n",
      " 17  Concavity (se)             569 non-null    float64\n",
      " 18  Concave points (se)        569 non-null    float64\n",
      " 19  Symmetry (se)              569 non-null    float64\n",
      " 20  Fractal dimension (se)     569 non-null    float64\n",
      " 21  Radius (worst)             569 non-null    float64\n",
      " 22  Texture (worst)            569 non-null    float64\n",
      " 23  Perimeter (worst)          569 non-null    float64\n",
      " 24  Area (worst)               569 non-null    float64\n",
      " 25  Smoothness (worst)         569 non-null    float64\n",
      " 26  Compactness (worst)        569 non-null    float64\n",
      " 27  Concavity (worst)          569 non-null    float64\n",
      " 28  Concave points (worst)     569 non-null    float64\n",
      " 29  Symmetry (worst)           569 non-null    float64\n",
      " 30  Fractal dimension (worst)  569 non-null    float64\n",
      "dtypes: float64(30), object(1)\n",
      "memory usage: 142.2+ KB\n"
     ]
    }
   ],
   "source": [
    "df.info()"
   ]
  },
  {
   "cell_type": "code",
   "execution_count": 7,
   "id": "8db3872b",
   "metadata": {
    "execution": {
     "iopub.execute_input": "2025-06-09T14:32:43.793997Z",
     "iopub.status.busy": "2025-06-09T14:32:43.793683Z",
     "iopub.status.idle": "2025-06-09T14:32:43.798280Z",
     "shell.execute_reply": "2025-06-09T14:32:43.797298Z"
    },
    "papermill": {
     "duration": 0.012307,
     "end_time": "2025-06-09T14:32:43.799824",
     "exception": false,
     "start_time": "2025-06-09T14:32:43.787517",
     "status": "completed"
    },
    "tags": []
   },
   "outputs": [],
   "source": [
    "# Lines below will give you a hint or solution code\n",
    "#step_1.hint()\n",
    "#step_1.solution()"
   ]
  },
  {
   "cell_type": "markdown",
   "id": "b2c7a283",
   "metadata": {
    "papermill": {
     "duration": 0.004834,
     "end_time": "2025-06-09T14:32:43.810223",
     "exception": false,
     "start_time": "2025-06-09T14:32:43.805389",
     "status": "completed"
    },
    "tags": []
   },
   "source": [
    "## Step 2: Review the data\n",
    "\n",
    "Use a Python command to print the first 5 rows of the data."
   ]
  },
  {
   "cell_type": "code",
   "execution_count": 8,
   "id": "73419729",
   "metadata": {
    "execution": {
     "iopub.execute_input": "2025-06-09T14:32:43.821950Z",
     "iopub.status.busy": "2025-06-09T14:32:43.821616Z",
     "iopub.status.idle": "2025-06-09T14:32:43.827822Z",
     "shell.execute_reply": "2025-06-09T14:32:43.826823Z"
    },
    "papermill": {
     "duration": 0.014223,
     "end_time": "2025-06-09T14:32:43.829703",
     "exception": false,
     "start_time": "2025-06-09T14:32:43.815480",
     "status": "completed"
    },
    "tags": []
   },
   "outputs": [
    {
     "data": {
      "text/markdown": [],
      "text/plain": [
       "<learntools.core.constants.PlaceholderValue at 0x7949c24fb7d0>"
      ]
     },
     "execution_count": 8,
     "metadata": {},
     "output_type": "execute_result"
    }
   ],
   "source": [
    "# Print the first five rows of the data\n",
    "____ # Your code here"
   ]
  },
  {
   "cell_type": "markdown",
   "id": "718b59da",
   "metadata": {
    "papermill": {
     "duration": 0.005137,
     "end_time": "2025-06-09T14:32:43.840710",
     "exception": false,
     "start_time": "2025-06-09T14:32:43.835573",
     "status": "completed"
    },
    "tags": []
   },
   "source": [
    "In the dataset, each row corresponds to a different image.  The dataset has 31 different columns, corresponding to:\n",
    "- 1 column (`'Diagnosis'`) that classifies tumors as either benign (which appears in the dataset as **`B`**) or malignant (__`M`__), and\n",
    "- 30 columns containing different measurements collected from the images.\n",
    "\n",
    "Use the first 5 rows of the data to answer the questions below."
   ]
  },
  {
   "cell_type": "code",
   "execution_count": 9,
   "id": "81206e8e",
   "metadata": {
    "execution": {
     "iopub.execute_input": "2025-06-09T14:32:43.852992Z",
     "iopub.status.busy": "2025-06-09T14:32:43.852659Z",
     "iopub.status.idle": "2025-06-09T14:32:43.860719Z",
     "shell.execute_reply": "2025-06-09T14:32:43.859804Z"
    },
    "papermill": {
     "duration": 0.016535,
     "end_time": "2025-06-09T14:32:43.862659",
     "exception": false,
     "start_time": "2025-06-09T14:32:43.846124",
     "status": "completed"
    },
    "tags": []
   },
   "outputs": [
    {
     "data": {
      "application/javascript": [
       "parent.postMessage({\"jupyterEvent\": \"custom.exercise_interaction\", \"data\": {\"outcomeType\": 4, \"interactionType\": 1, \"questionType\": 1, \"questionId\": \"2_ReviewData\", \"learnToolsVersion\": \"0.3.5\", \"valueTowardsCompletion\": 0.0, \"failureMessage\": \"\", \"exceptionClass\": \"\", \"trace\": \"\"}}, \"*\")"
      ],
      "text/plain": [
       "<IPython.core.display.Javascript object>"
      ]
     },
     "metadata": {},
     "output_type": "display_data"
    },
    {
     "data": {
      "text/markdown": [
       "<span style=\"color:#ccaa33\">Check:</span> When you've updated the starter code, `check()` will tell you whether your code is correct. You need to update the code that creates variables `max_perim`, `mean_radius`"
      ],
      "text/plain": [
       "Check: When you've updated the starter code, `check()` will tell you whether your code is correct. You need to update the code that creates variables `max_perim`, `mean_radius`"
      ]
     },
     "metadata": {},
     "output_type": "display_data"
    }
   ],
   "source": [
    "# Fill in the line below: In the first five rows of the data, what is the\n",
    "# largest value for 'Perimeter (mean)'?\n",
    "max_perim = ____\n",
    "\n",
    "# Fill in the line below: What is the value for 'Radius (mean)' for the tumor with Id 8510824?\n",
    "mean_radius = ____\n",
    "\n",
    "# Check your answers\n",
    "step_2.check()"
   ]
  },
  {
   "cell_type": "code",
   "execution_count": 10,
   "id": "96be1609",
   "metadata": {
    "execution": {
     "iopub.execute_input": "2025-06-09T14:32:43.875401Z",
     "iopub.status.busy": "2025-06-09T14:32:43.874994Z",
     "iopub.status.idle": "2025-06-09T14:32:43.879474Z",
     "shell.execute_reply": "2025-06-09T14:32:43.878287Z"
    },
    "papermill": {
     "duration": 0.012806,
     "end_time": "2025-06-09T14:32:43.881327",
     "exception": false,
     "start_time": "2025-06-09T14:32:43.868521",
     "status": "completed"
    },
    "tags": []
   },
   "outputs": [],
   "source": [
    "# Lines below will give you a hint or solution code\n",
    "#step_2.hint()\n",
    "#step_2.solution()"
   ]
  },
  {
   "cell_type": "markdown",
   "id": "f658f830",
   "metadata": {
    "papermill": {
     "duration": 0.006228,
     "end_time": "2025-06-09T14:32:43.893263",
     "exception": false,
     "start_time": "2025-06-09T14:32:43.887035",
     "status": "completed"
    },
    "tags": []
   },
   "source": [
    "## Step 3: Investigating differences"
   ]
  },
  {
   "cell_type": "markdown",
   "id": "57839652",
   "metadata": {
    "papermill": {
     "duration": 0.00532,
     "end_time": "2025-06-09T14:32:43.904589",
     "exception": false,
     "start_time": "2025-06-09T14:32:43.899269",
     "status": "completed"
    },
    "tags": []
   },
   "source": [
    "#### Part A\n",
    "\n",
    "Use the code cell below to create two histograms that show the distribution in values for `'Area (mean)'`, separately for both benign and malignant tumors.  (_To permit easy comparison, create a single figure containing both histograms in the code cell below._)"
   ]
  },
  {
   "cell_type": "code",
   "execution_count": 11,
   "id": "5c6202b5",
   "metadata": {
    "execution": {
     "iopub.execute_input": "2025-06-09T14:32:43.917002Z",
     "iopub.status.busy": "2025-06-09T14:32:43.916704Z",
     "iopub.status.idle": "2025-06-09T14:32:43.943617Z",
     "shell.execute_reply": "2025-06-09T14:32:43.942695Z"
    },
    "papermill": {
     "duration": 0.035172,
     "end_time": "2025-06-09T14:32:43.945412",
     "exception": false,
     "start_time": "2025-06-09T14:32:43.910240",
     "status": "completed"
    },
    "tags": []
   },
   "outputs": [
    {
     "data": {
      "application/javascript": [
       "parent.postMessage({\"jupyterEvent\": \"custom.exercise_interaction\", \"data\": {\"outcomeType\": 2, \"failureMessage\": \"Please write code to create two histograms.\", \"interactionType\": 1, \"questionType\": 2, \"questionId\": \"3.1_PlotHist\", \"learnToolsVersion\": \"0.3.5\", \"valueTowardsCompletion\": 0.0, \"exceptionClass\": \"\", \"trace\": \"\"}}, \"*\")"
      ],
      "text/plain": [
       "<IPython.core.display.Javascript object>"
      ]
     },
     "metadata": {},
     "output_type": "display_data"
    },
    {
     "data": {
      "text/markdown": [
       "<span style=\"color:#cc3333\">Incorrect:</span> Please write code to create two histograms."
      ],
      "text/plain": [
       "Incorrect: Please write code to create two histograms."
      ]
     },
     "metadata": {},
     "output_type": "display_data"
    },
    {
     "data": {
      "text/plain": [
       "<Figure size 640x480 with 0 Axes>"
      ]
     },
     "metadata": {},
     "output_type": "display_data"
    }
   ],
   "source": [
    "# Histograms for benign and maligant tumors\n",
    "____\n",
    "\n",
    "# Check your answer\n",
    "step_3.a.check()"
   ]
  },
  {
   "cell_type": "code",
   "execution_count": 12,
   "id": "ad6efb6a",
   "metadata": {
    "execution": {
     "iopub.execute_input": "2025-06-09T14:32:43.959544Z",
     "iopub.status.busy": "2025-06-09T14:32:43.959163Z",
     "iopub.status.idle": "2025-06-09T14:32:43.963493Z",
     "shell.execute_reply": "2025-06-09T14:32:43.962623Z"
    },
    "papermill": {
     "duration": 0.013651,
     "end_time": "2025-06-09T14:32:43.965228",
     "exception": false,
     "start_time": "2025-06-09T14:32:43.951577",
     "status": "completed"
    },
    "tags": []
   },
   "outputs": [],
   "source": [
    "# Lines below will give you a hint or solution code\n",
    "#step_3.a.hint()\n",
    "#step_3.a.solution_plot()"
   ]
  },
  {
   "cell_type": "markdown",
   "id": "13ca444a",
   "metadata": {
    "papermill": {
     "duration": 0.005555,
     "end_time": "2025-06-09T14:32:43.976862",
     "exception": false,
     "start_time": "2025-06-09T14:32:43.971307",
     "status": "completed"
    },
    "tags": []
   },
   "source": [
    "#### Part B\n",
    "\n",
    "A researcher approaches you for help with identifying how the `'Area (mean)'` column can be used to understand the difference between benign and malignant tumors.  Based on the histograms above, \n",
    "- Do malignant tumors have higher or lower values for `'Area (mean)'` (relative to benign tumors), on average?\n",
    "- Which tumor type seems to have a larger range of potential values?"
   ]
  },
  {
   "cell_type": "code",
   "execution_count": 13,
   "id": "d4ac1706",
   "metadata": {
    "execution": {
     "iopub.execute_input": "2025-06-09T14:32:43.990426Z",
     "iopub.status.busy": "2025-06-09T14:32:43.989974Z",
     "iopub.status.idle": "2025-06-09T14:32:43.994210Z",
     "shell.execute_reply": "2025-06-09T14:32:43.993407Z"
    },
    "papermill": {
     "duration": 0.012967,
     "end_time": "2025-06-09T14:32:43.995755",
     "exception": false,
     "start_time": "2025-06-09T14:32:43.982788",
     "status": "completed"
    },
    "tags": []
   },
   "outputs": [],
   "source": [
    "#step_3.b.hint()"
   ]
  },
  {
   "cell_type": "code",
   "execution_count": 14,
   "id": "c3ce1fcb",
   "metadata": {
    "execution": {
     "iopub.execute_input": "2025-06-09T14:32:44.009498Z",
     "iopub.status.busy": "2025-06-09T14:32:44.009177Z",
     "iopub.status.idle": "2025-06-09T14:32:44.016862Z",
     "shell.execute_reply": "2025-06-09T14:32:44.015910Z"
    },
    "papermill": {
     "duration": 0.016403,
     "end_time": "2025-06-09T14:32:44.018550",
     "exception": false,
     "start_time": "2025-06-09T14:32:44.002147",
     "status": "completed"
    },
    "tags": []
   },
   "outputs": [
    {
     "data": {
      "application/javascript": [
       "parent.postMessage({\"jupyterEvent\": \"custom.exercise_interaction\", \"data\": {\"interactionType\": 3, \"questionType\": 4, \"questionId\": \"3.2_ThinkHist\", \"learnToolsVersion\": \"0.3.5\", \"valueTowardsCompletion\": 0.0, \"failureMessage\": \"\", \"exceptionClass\": \"\", \"trace\": \"\", \"outcomeType\": 4}}, \"*\")"
      ],
      "text/plain": [
       "<IPython.core.display.Javascript object>"
      ]
     },
     "metadata": {},
     "output_type": "display_data"
    },
    {
     "data": {
      "text/markdown": [
       "<span style=\"color:#33cc99\">Solution:</span> Malignant tumors have higher values for `'Area (mean)'`, on average. Malignant tumors have a larger range of potential values."
      ],
      "text/plain": [
       "Solution: Malignant tumors have higher values for `'Area (mean)'`, on average. Malignant tumors have a larger range of potential values."
      ]
     },
     "metadata": {},
     "output_type": "display_data"
    }
   ],
   "source": [
    "# Check your answer (Run this code cell to receive credit!)\n",
    "step_3.b.solution()"
   ]
  },
  {
   "cell_type": "markdown",
   "id": "76beaef5",
   "metadata": {
    "papermill": {
     "duration": 0.006034,
     "end_time": "2025-06-09T14:32:44.031651",
     "exception": false,
     "start_time": "2025-06-09T14:32:44.025617",
     "status": "completed"
    },
    "tags": []
   },
   "source": [
    "## Step 4: A very useful column\n",
    "\n",
    "#### Part A\n",
    "\n",
    "Use the code cell below to create two KDE plots that show the distribution in values for `'Radius (worst)'`, separately for both benign and malignant tumors.  (_To permit easy comparison, create a single figure containing both KDE plots in the code cell below._)"
   ]
  },
  {
   "cell_type": "code",
   "execution_count": 15,
   "id": "ffc88b8a",
   "metadata": {
    "execution": {
     "iopub.execute_input": "2025-06-09T14:32:44.045257Z",
     "iopub.status.busy": "2025-06-09T14:32:44.044833Z",
     "iopub.status.idle": "2025-06-09T14:32:44.059251Z",
     "shell.execute_reply": "2025-06-09T14:32:44.058115Z"
    },
    "papermill": {
     "duration": 0.023183,
     "end_time": "2025-06-09T14:32:44.060919",
     "exception": false,
     "start_time": "2025-06-09T14:32:44.037736",
     "status": "completed"
    },
    "tags": []
   },
   "outputs": [
    {
     "data": {
      "application/javascript": [
       "parent.postMessage({\"jupyterEvent\": \"custom.exercise_interaction\", \"data\": {\"outcomeType\": 2, \"failureMessage\": \"Please write code to create one figure containing two KDE plots.\", \"interactionType\": 1, \"questionType\": 2, \"questionId\": \"4.1_PlotThreshold\", \"learnToolsVersion\": \"0.3.5\", \"valueTowardsCompletion\": 0.0, \"exceptionClass\": \"\", \"trace\": \"\"}}, \"*\")"
      ],
      "text/plain": [
       "<IPython.core.display.Javascript object>"
      ]
     },
     "metadata": {},
     "output_type": "display_data"
    },
    {
     "data": {
      "text/markdown": [
       "<span style=\"color:#cc3333\">Incorrect:</span> Please write code to create one figure containing two KDE plots."
      ],
      "text/plain": [
       "Incorrect: Please write code to create one figure containing two KDE plots."
      ]
     },
     "metadata": {},
     "output_type": "display_data"
    },
    {
     "data": {
      "text/plain": [
       "<Figure size 640x480 with 0 Axes>"
      ]
     },
     "metadata": {},
     "output_type": "display_data"
    }
   ],
   "source": [
    "# KDE plots for benign and malignant tumors\n",
    "____ \n",
    "\n",
    "# Check your answer\n",
    "step_4.a.check()"
   ]
  },
  {
   "cell_type": "code",
   "execution_count": 16,
   "id": "c9537922",
   "metadata": {
    "execution": {
     "iopub.execute_input": "2025-06-09T14:32:44.077526Z",
     "iopub.status.busy": "2025-06-09T14:32:44.076983Z",
     "iopub.status.idle": "2025-06-09T14:32:44.081817Z",
     "shell.execute_reply": "2025-06-09T14:32:44.080408Z"
    },
    "papermill": {
     "duration": 0.015715,
     "end_time": "2025-06-09T14:32:44.083439",
     "exception": false,
     "start_time": "2025-06-09T14:32:44.067724",
     "status": "completed"
    },
    "tags": []
   },
   "outputs": [],
   "source": [
    "# Lines below will give you a hint or solution code\n",
    "#step_4.a.hint()\n",
    "#step_4.a.solution_plot()"
   ]
  },
  {
   "cell_type": "markdown",
   "id": "1e08e8ad",
   "metadata": {
    "papermill": {
     "duration": 0.006957,
     "end_time": "2025-06-09T14:32:44.097194",
     "exception": false,
     "start_time": "2025-06-09T14:32:44.090237",
     "status": "completed"
    },
    "tags": []
   },
   "source": [
    "#### Part B\n",
    "\n",
    "A hospital has recently started using an algorithm that can diagnose tumors with high accuracy.  Given a tumor with a value for `'Radius (worst)'` of 25, do you think the algorithm is more likely to classify the tumor as benign or malignant?"
   ]
  },
  {
   "cell_type": "code",
   "execution_count": 17,
   "id": "5cee8347",
   "metadata": {
    "execution": {
     "iopub.execute_input": "2025-06-09T14:32:44.112518Z",
     "iopub.status.busy": "2025-06-09T14:32:44.112200Z",
     "iopub.status.idle": "2025-06-09T14:32:44.116621Z",
     "shell.execute_reply": "2025-06-09T14:32:44.115367Z"
    },
    "papermill": {
     "duration": 0.014147,
     "end_time": "2025-06-09T14:32:44.118298",
     "exception": false,
     "start_time": "2025-06-09T14:32:44.104151",
     "status": "completed"
    },
    "tags": []
   },
   "outputs": [],
   "source": [
    "#step_4.b.hint()"
   ]
  },
  {
   "cell_type": "code",
   "execution_count": 18,
   "id": "19a521c9",
   "metadata": {
    "execution": {
     "iopub.execute_input": "2025-06-09T14:32:44.133201Z",
     "iopub.status.busy": "2025-06-09T14:32:44.132778Z",
     "iopub.status.idle": "2025-06-09T14:32:44.141504Z",
     "shell.execute_reply": "2025-06-09T14:32:44.140419Z"
    },
    "papermill": {
     "duration": 0.018109,
     "end_time": "2025-06-09T14:32:44.143048",
     "exception": false,
     "start_time": "2025-06-09T14:32:44.124939",
     "status": "completed"
    },
    "tags": []
   },
   "outputs": [
    {
     "data": {
      "application/javascript": [
       "parent.postMessage({\"jupyterEvent\": \"custom.exercise_interaction\", \"data\": {\"interactionType\": 3, \"questionType\": 4, \"questionId\": \"4.2_ThinkThreshold\", \"learnToolsVersion\": \"0.3.5\", \"valueTowardsCompletion\": 0.0, \"failureMessage\": \"\", \"exceptionClass\": \"\", \"trace\": \"\", \"outcomeType\": 4}}, \"*\")"
      ],
      "text/plain": [
       "<IPython.core.display.Javascript object>"
      ]
     },
     "metadata": {},
     "output_type": "display_data"
    },
    {
     "data": {
      "text/markdown": [
       "<span style=\"color:#33cc99\">Solution:</span> The algorithm is more likely to classify the tumor as malignant. This is because the curve for malignant tumors is much higher than the curve for benign tumors around a value of 25 -- and an algorithm that gets high accuracy is likely to make decisions based on this pattern in the data."
      ],
      "text/plain": [
       "Solution: The algorithm is more likely to classify the tumor as malignant. This is because the curve for malignant tumors is much higher than the curve for benign tumors around a value of 25 -- and an algorithm that gets high accuracy is likely to make decisions based on this pattern in the data."
      ]
     },
     "metadata": {},
     "output_type": "display_data"
    }
   ],
   "source": [
    "# Check your answer (Run this code cell to receive credit!)\n",
    "step_4.b.solution()"
   ]
  },
  {
   "cell_type": "markdown",
   "id": "29c4fa5b",
   "metadata": {
    "papermill": {
     "duration": 0.006539,
     "end_time": "2025-06-09T14:32:44.156412",
     "exception": false,
     "start_time": "2025-06-09T14:32:44.149873",
     "status": "completed"
    },
    "tags": []
   },
   "source": [
    "## Keep going\n",
    "\n",
    "Review all that you've learned and explore how to further customize your plots in the **[next tutorial](https://www.kaggle.com/alexisbcook/choosing-plot-types-and-custom-styles)**!"
   ]
  },
  {
   "cell_type": "markdown",
   "id": "e71e61e0",
   "metadata": {
    "papermill": {
     "duration": 0.006488,
     "end_time": "2025-06-09T14:32:44.169553",
     "exception": false,
     "start_time": "2025-06-09T14:32:44.163065",
     "status": "completed"
    },
    "tags": []
   },
   "source": [
    "---\n",
    "\n",
    "\n",
    "\n",
    "\n",
    "*Have questions or comments? Visit the [course discussion forum](https://www.kaggle.com/learn/data-visualization/discussion) to chat with other learners.*"
   ]
  }
 ],
 "metadata": {
  "kaggle": {
   "accelerator": "none",
   "dataSources": [
    {
     "datasetId": 116573,
     "sourceId": 3551030,
     "sourceType": "datasetVersion"
    }
   ],
   "isGpuEnabled": false,
   "isInternetEnabled": false,
   "language": "python",
   "sourceType": "notebook"
  },
  "kernelspec": {
   "display_name": "Python 3",
   "language": "python",
   "name": "python3"
  },
  "language_info": {
   "codemirror_mode": {
    "name": "ipython",
    "version": 3
   },
   "file_extension": ".py",
   "mimetype": "text/x-python",
   "name": "python",
   "nbconvert_exporter": "python",
   "pygments_lexer": "ipython3",
   "version": "3.11.11"
  },
  "papermill": {
   "default_parameters": {},
   "duration": 10.997247,
   "end_time": "2025-06-09T14:32:44.898743",
   "environment_variables": {},
   "exception": null,
   "input_path": "__notebook__.ipynb",
   "output_path": "__notebook__.ipynb",
   "parameters": {},
   "start_time": "2025-06-09T14:32:33.901496",
   "version": "2.6.0"
  }
 },
 "nbformat": 4,
 "nbformat_minor": 5
}
