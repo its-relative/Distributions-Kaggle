{
 "cells": [
  {
   "cell_type": "markdown",
   "id": "31d3c536",
   "metadata": {
    "papermill": {
     "duration": 0.011125,
     "end_time": "2025-06-09T14:49:22.193133",
     "exception": false,
     "start_time": "2025-06-09T14:49:22.182008",
     "status": "completed"
    },
    "tags": []
   },
   "source": [
    "**This notebook is an exercise in the [Data Visualization](https://www.kaggle.com/learn/data-visualization) course.  You can reference the tutorial at [this link](https://www.kaggle.com/alexisbcook/distributions).**\n",
    "\n",
    "---\n"
   ]
  },
  {
   "cell_type": "markdown",
   "id": "4967d614",
   "metadata": {
    "papermill": {
     "duration": 0.004743,
     "end_time": "2025-06-09T14:49:22.203928",
     "exception": false,
     "start_time": "2025-06-09T14:49:22.199185",
     "status": "completed"
    },
    "tags": []
   },
   "source": [
    "In this exercise, you will use your new knowledge to propose a solution to a real-world scenario.  To succeed, you will need to import data into Python, answer questions using the data, and generate **histograms** and **density plots** to understand patterns in the data.\n",
    "\n",
    "## Scenario\n",
    "\n",
    "You'll work with a real-world dataset containing information collected from microscopic images of breast cancer tumors, similar to the image below.\n",
    "\n",
    "![ex4_cancer_image](https://storage.googleapis.com/kaggle-media/learn/images/qUESsJe.png)\n",
    "\n",
    "Each tumor has been labeled as either [**benign**](https://en.wikipedia.org/wiki/Benign_tumor) (_noncancerous_) or **malignant** (_cancerous_).\n",
    "\n",
    "To learn more about how this kind of data is used to create intelligent algorithms to classify tumors in medical settings, **watch the short video [at this link](https://www.youtube.com/watch?v=9Mz84cwVmS0)**."
   ]
  },
  {
   "cell_type": "markdown",
   "id": "44c7c98a",
   "metadata": {
    "papermill": {
     "duration": 0.004667,
     "end_time": "2025-06-09T14:49:22.213442",
     "exception": false,
     "start_time": "2025-06-09T14:49:22.208775",
     "status": "completed"
    },
    "tags": []
   },
   "source": [
    "\n",
    "\n",
    "## Setup\n",
    "\n",
    "Run the next cell to import and configure the Python libraries that you need to complete the exercise."
   ]
  },
  {
   "cell_type": "code",
   "execution_count": 1,
   "id": "dd7d0300",
   "metadata": {
    "execution": {
     "iopub.execute_input": "2025-06-09T14:49:22.226329Z",
     "iopub.status.busy": "2025-06-09T14:49:22.225974Z",
     "iopub.status.idle": "2025-06-09T14:49:26.308625Z",
     "shell.execute_reply": "2025-06-09T14:49:26.307668Z"
    },
    "papermill": {
     "duration": 4.090029,
     "end_time": "2025-06-09T14:49:26.310077",
     "exception": false,
     "start_time": "2025-06-09T14:49:22.220048",
     "status": "completed"
    },
    "tags": []
   },
   "outputs": [
    {
     "name": "stdout",
     "output_type": "stream",
     "text": [
      "Setup Complete\n"
     ]
    }
   ],
   "source": [
    "import pandas as pd\n",
    "pd.plotting.register_matplotlib_converters()\n",
    "import matplotlib.pyplot as plt\n",
    "%matplotlib inline\n",
    "import seaborn as sns\n",
    "print(\"Setup Complete\")"
   ]
  },
  {
   "cell_type": "markdown",
   "id": "d8017070",
   "metadata": {
    "papermill": {
     "duration": 0.00482,
     "end_time": "2025-06-09T14:49:26.320022",
     "exception": false,
     "start_time": "2025-06-09T14:49:26.315202",
     "status": "completed"
    },
    "tags": []
   },
   "source": [
    "The questions below will give you feedback on your work. Run the following cell to set up our feedback system."
   ]
  },
  {
   "cell_type": "code",
   "execution_count": 2,
   "id": "b99abb84",
   "metadata": {
    "execution": {
     "iopub.execute_input": "2025-06-09T14:49:26.332074Z",
     "iopub.status.busy": "2025-06-09T14:49:26.331587Z",
     "iopub.status.idle": "2025-06-09T14:49:26.410248Z",
     "shell.execute_reply": "2025-06-09T14:49:26.409314Z"
    },
    "papermill": {
     "duration": 0.086997,
     "end_time": "2025-06-09T14:49:26.411913",
     "exception": false,
     "start_time": "2025-06-09T14:49:26.324916",
     "status": "completed"
    },
    "tags": []
   },
   "outputs": [
    {
     "name": "stdout",
     "output_type": "stream",
     "text": [
      "Setup Complete\n"
     ]
    }
   ],
   "source": [
    "# Set up code checking\n",
    "from learntools.core import binder\n",
    "binder.bind(globals())\n",
    "from learntools.data_viz_to_coder.ex5 import *\n",
    "print(\"Setup Complete\")"
   ]
  },
  {
   "cell_type": "markdown",
   "id": "0995f687",
   "metadata": {
    "papermill": {
     "duration": 0.00499,
     "end_time": "2025-06-09T14:49:26.422137",
     "exception": false,
     "start_time": "2025-06-09T14:49:26.417147",
     "status": "completed"
    },
    "tags": []
   },
   "source": [
    "## Step 1: Load the data\n",
    "\n",
    "In this step, you will load the data.\n",
    "- Load the data file into a DataFrame called `cancer_data`.  \n",
    "- The corresponding filepath is `cancer_filepath`.  \n",
    "- Use the `\"Id\"` column to label the rows."
   ]
  },
  {
   "cell_type": "code",
   "execution_count": 3,
   "id": "be6768f2",
   "metadata": {
    "execution": {
     "iopub.execute_input": "2025-06-09T14:49:26.433401Z",
     "iopub.status.busy": "2025-06-09T14:49:26.433051Z",
     "iopub.status.idle": "2025-06-09T14:49:26.450612Z",
     "shell.execute_reply": "2025-06-09T14:49:26.449741Z"
    },
    "papermill": {
     "duration": 0.025061,
     "end_time": "2025-06-09T14:49:26.452149",
     "exception": false,
     "start_time": "2025-06-09T14:49:26.427088",
     "status": "completed"
    },
    "tags": []
   },
   "outputs": [
    {
     "data": {
      "application/javascript": [
       "parent.postMessage({\"jupyterEvent\": \"custom.exercise_interaction\", \"data\": {\"outcomeType\": 1, \"valueTowardsCompletion\": 0.5, \"interactionType\": 1, \"questionType\": 1, \"questionId\": \"1_LoadCancerData\", \"learnToolsVersion\": \"0.3.5\", \"failureMessage\": \"\", \"exceptionClass\": \"\", \"trace\": \"\"}}, \"*\")"
      ],
      "text/plain": [
       "<IPython.core.display.Javascript object>"
      ]
     },
     "metadata": {},
     "output_type": "display_data"
    },
    {
     "data": {
      "text/markdown": [
       "<span style=\"color:#33cc33\">Correct</span>"
      ],
      "text/plain": [
       "Correct"
      ]
     },
     "metadata": {},
     "output_type": "display_data"
    }
   ],
   "source": [
    "# Path of the files to read\n",
    "cancer_filepath = \"../input/cancer.csv\"\n",
    "\n",
    "# Fill in the line below to read the file into a variable cancer_data\n",
    "cancer_data = pd.read_csv(cancer_filepath, index_col = \"Id\")\n",
    "\n",
    "# Run the line below with no changes to check that you've loaded the data correctly\n",
    "step_1.check()"
   ]
  },
  {
   "cell_type": "code",
   "execution_count": 4,
   "id": "718434a0",
   "metadata": {
    "execution": {
     "iopub.execute_input": "2025-06-09T14:49:26.464139Z",
     "iopub.status.busy": "2025-06-09T14:49:26.463795Z",
     "iopub.status.idle": "2025-06-09T14:49:26.468492Z",
     "shell.execute_reply": "2025-06-09T14:49:26.467545Z"
    },
    "papermill": {
     "duration": 0.012621,
     "end_time": "2025-06-09T14:49:26.470170",
     "exception": false,
     "start_time": "2025-06-09T14:49:26.457549",
     "status": "completed"
    },
    "tags": []
   },
   "outputs": [],
   "source": [
    "df = cancer_data.copy() "
   ]
  },
  {
   "cell_type": "code",
   "execution_count": 5,
   "id": "cead10db",
   "metadata": {
    "execution": {
     "iopub.execute_input": "2025-06-09T14:49:26.483188Z",
     "iopub.status.busy": "2025-06-09T14:49:26.482212Z",
     "iopub.status.idle": "2025-06-09T14:49:26.517816Z",
     "shell.execute_reply": "2025-06-09T14:49:26.516985Z"
    },
    "papermill": {
     "duration": 0.043055,
     "end_time": "2025-06-09T14:49:26.519142",
     "exception": false,
     "start_time": "2025-06-09T14:49:26.476087",
     "status": "completed"
    },
    "tags": []
   },
   "outputs": [
    {
     "data": {
      "text/html": [
       "<div>\n",
       "<style scoped>\n",
       "    .dataframe tbody tr th:only-of-type {\n",
       "        vertical-align: middle;\n",
       "    }\n",
       "\n",
       "    .dataframe tbody tr th {\n",
       "        vertical-align: top;\n",
       "    }\n",
       "\n",
       "    .dataframe thead th {\n",
       "        text-align: right;\n",
       "    }\n",
       "</style>\n",
       "<table border=\"1\" class=\"dataframe\">\n",
       "  <thead>\n",
       "    <tr style=\"text-align: right;\">\n",
       "      <th></th>\n",
       "      <th>Diagnosis</th>\n",
       "      <th>Radius (mean)</th>\n",
       "      <th>Texture (mean)</th>\n",
       "      <th>Perimeter (mean)</th>\n",
       "      <th>Area (mean)</th>\n",
       "      <th>Smoothness (mean)</th>\n",
       "      <th>Compactness (mean)</th>\n",
       "      <th>Concavity (mean)</th>\n",
       "      <th>Concave points (mean)</th>\n",
       "      <th>Symmetry (mean)</th>\n",
       "      <th>...</th>\n",
       "      <th>Radius (worst)</th>\n",
       "      <th>Texture (worst)</th>\n",
       "      <th>Perimeter (worst)</th>\n",
       "      <th>Area (worst)</th>\n",
       "      <th>Smoothness (worst)</th>\n",
       "      <th>Compactness (worst)</th>\n",
       "      <th>Concavity (worst)</th>\n",
       "      <th>Concave points (worst)</th>\n",
       "      <th>Symmetry (worst)</th>\n",
       "      <th>Fractal dimension (worst)</th>\n",
       "    </tr>\n",
       "    <tr>\n",
       "      <th>Id</th>\n",
       "      <th></th>\n",
       "      <th></th>\n",
       "      <th></th>\n",
       "      <th></th>\n",
       "      <th></th>\n",
       "      <th></th>\n",
       "      <th></th>\n",
       "      <th></th>\n",
       "      <th></th>\n",
       "      <th></th>\n",
       "      <th></th>\n",
       "      <th></th>\n",
       "      <th></th>\n",
       "      <th></th>\n",
       "      <th></th>\n",
       "      <th></th>\n",
       "      <th></th>\n",
       "      <th></th>\n",
       "      <th></th>\n",
       "      <th></th>\n",
       "      <th></th>\n",
       "    </tr>\n",
       "  </thead>\n",
       "  <tbody>\n",
       "    <tr>\n",
       "      <th>8510426</th>\n",
       "      <td>B</td>\n",
       "      <td>13.540</td>\n",
       "      <td>14.36</td>\n",
       "      <td>87.46</td>\n",
       "      <td>566.3</td>\n",
       "      <td>0.09779</td>\n",
       "      <td>0.08129</td>\n",
       "      <td>0.06664</td>\n",
       "      <td>0.047810</td>\n",
       "      <td>0.1885</td>\n",
       "      <td>...</td>\n",
       "      <td>15.110</td>\n",
       "      <td>19.26</td>\n",
       "      <td>99.70</td>\n",
       "      <td>711.2</td>\n",
       "      <td>0.14400</td>\n",
       "      <td>0.17730</td>\n",
       "      <td>0.23900</td>\n",
       "      <td>0.12880</td>\n",
       "      <td>0.2977</td>\n",
       "      <td>0.07259</td>\n",
       "    </tr>\n",
       "    <tr>\n",
       "      <th>8510653</th>\n",
       "      <td>B</td>\n",
       "      <td>13.080</td>\n",
       "      <td>15.71</td>\n",
       "      <td>85.63</td>\n",
       "      <td>520.0</td>\n",
       "      <td>0.10750</td>\n",
       "      <td>0.12700</td>\n",
       "      <td>0.04568</td>\n",
       "      <td>0.031100</td>\n",
       "      <td>0.1967</td>\n",
       "      <td>...</td>\n",
       "      <td>14.500</td>\n",
       "      <td>20.49</td>\n",
       "      <td>96.09</td>\n",
       "      <td>630.5</td>\n",
       "      <td>0.13120</td>\n",
       "      <td>0.27760</td>\n",
       "      <td>0.18900</td>\n",
       "      <td>0.07283</td>\n",
       "      <td>0.3184</td>\n",
       "      <td>0.08183</td>\n",
       "    </tr>\n",
       "    <tr>\n",
       "      <th>8510824</th>\n",
       "      <td>B</td>\n",
       "      <td>9.504</td>\n",
       "      <td>12.44</td>\n",
       "      <td>60.34</td>\n",
       "      <td>273.9</td>\n",
       "      <td>0.10240</td>\n",
       "      <td>0.06492</td>\n",
       "      <td>0.02956</td>\n",
       "      <td>0.020760</td>\n",
       "      <td>0.1815</td>\n",
       "      <td>...</td>\n",
       "      <td>10.230</td>\n",
       "      <td>15.66</td>\n",
       "      <td>65.13</td>\n",
       "      <td>314.9</td>\n",
       "      <td>0.13240</td>\n",
       "      <td>0.11480</td>\n",
       "      <td>0.08867</td>\n",
       "      <td>0.06227</td>\n",
       "      <td>0.2450</td>\n",
       "      <td>0.07773</td>\n",
       "    </tr>\n",
       "    <tr>\n",
       "      <th>854941</th>\n",
       "      <td>B</td>\n",
       "      <td>13.030</td>\n",
       "      <td>18.42</td>\n",
       "      <td>82.61</td>\n",
       "      <td>523.8</td>\n",
       "      <td>0.08983</td>\n",
       "      <td>0.03766</td>\n",
       "      <td>0.02562</td>\n",
       "      <td>0.029230</td>\n",
       "      <td>0.1467</td>\n",
       "      <td>...</td>\n",
       "      <td>13.300</td>\n",
       "      <td>22.81</td>\n",
       "      <td>84.46</td>\n",
       "      <td>545.9</td>\n",
       "      <td>0.09701</td>\n",
       "      <td>0.04619</td>\n",
       "      <td>0.04833</td>\n",
       "      <td>0.05013</td>\n",
       "      <td>0.1987</td>\n",
       "      <td>0.06169</td>\n",
       "    </tr>\n",
       "    <tr>\n",
       "      <th>85713702</th>\n",
       "      <td>B</td>\n",
       "      <td>8.196</td>\n",
       "      <td>16.84</td>\n",
       "      <td>51.71</td>\n",
       "      <td>201.9</td>\n",
       "      <td>0.08600</td>\n",
       "      <td>0.05943</td>\n",
       "      <td>0.01588</td>\n",
       "      <td>0.005917</td>\n",
       "      <td>0.1769</td>\n",
       "      <td>...</td>\n",
       "      <td>8.964</td>\n",
       "      <td>21.96</td>\n",
       "      <td>57.26</td>\n",
       "      <td>242.2</td>\n",
       "      <td>0.12970</td>\n",
       "      <td>0.13570</td>\n",
       "      <td>0.06880</td>\n",
       "      <td>0.02564</td>\n",
       "      <td>0.3105</td>\n",
       "      <td>0.07409</td>\n",
       "    </tr>\n",
       "  </tbody>\n",
       "</table>\n",
       "<p>5 rows × 31 columns</p>\n",
       "</div>"
      ],
      "text/plain": [
       "         Diagnosis  Radius (mean)  Texture (mean)  Perimeter (mean)  \\\n",
       "Id                                                                    \n",
       "8510426          B         13.540           14.36             87.46   \n",
       "8510653          B         13.080           15.71             85.63   \n",
       "8510824          B          9.504           12.44             60.34   \n",
       "854941           B         13.030           18.42             82.61   \n",
       "85713702         B          8.196           16.84             51.71   \n",
       "\n",
       "          Area (mean)  Smoothness (mean)  Compactness (mean)  \\\n",
       "Id                                                             \n",
       "8510426         566.3            0.09779             0.08129   \n",
       "8510653         520.0            0.10750             0.12700   \n",
       "8510824         273.9            0.10240             0.06492   \n",
       "854941          523.8            0.08983             0.03766   \n",
       "85713702        201.9            0.08600             0.05943   \n",
       "\n",
       "          Concavity (mean)  Concave points (mean)  Symmetry (mean)  ...  \\\n",
       "Id                                                                  ...   \n",
       "8510426            0.06664               0.047810           0.1885  ...   \n",
       "8510653            0.04568               0.031100           0.1967  ...   \n",
       "8510824            0.02956               0.020760           0.1815  ...   \n",
       "854941             0.02562               0.029230           0.1467  ...   \n",
       "85713702           0.01588               0.005917           0.1769  ...   \n",
       "\n",
       "          Radius (worst)  Texture (worst)  Perimeter (worst)  Area (worst)  \\\n",
       "Id                                                                           \n",
       "8510426           15.110            19.26              99.70         711.2   \n",
       "8510653           14.500            20.49              96.09         630.5   \n",
       "8510824           10.230            15.66              65.13         314.9   \n",
       "854941            13.300            22.81              84.46         545.9   \n",
       "85713702           8.964            21.96              57.26         242.2   \n",
       "\n",
       "          Smoothness (worst)  Compactness (worst)  Concavity (worst)  \\\n",
       "Id                                                                     \n",
       "8510426              0.14400              0.17730            0.23900   \n",
       "8510653              0.13120              0.27760            0.18900   \n",
       "8510824              0.13240              0.11480            0.08867   \n",
       "854941               0.09701              0.04619            0.04833   \n",
       "85713702             0.12970              0.13570            0.06880   \n",
       "\n",
       "          Concave points (worst)  Symmetry (worst)  Fractal dimension (worst)  \n",
       "Id                                                                             \n",
       "8510426                  0.12880            0.2977                    0.07259  \n",
       "8510653                  0.07283            0.3184                    0.08183  \n",
       "8510824                  0.06227            0.2450                    0.07773  \n",
       "854941                   0.05013            0.1987                    0.06169  \n",
       "85713702                 0.02564            0.3105                    0.07409  \n",
       "\n",
       "[5 rows x 31 columns]"
      ]
     },
     "execution_count": 5,
     "metadata": {},
     "output_type": "execute_result"
    }
   ],
   "source": [
    "df.head()"
   ]
  },
  {
   "cell_type": "code",
   "execution_count": 6,
   "id": "cbe6b569",
   "metadata": {
    "execution": {
     "iopub.execute_input": "2025-06-09T14:49:26.531900Z",
     "iopub.status.busy": "2025-06-09T14:49:26.531607Z",
     "iopub.status.idle": "2025-06-09T14:49:26.550448Z",
     "shell.execute_reply": "2025-06-09T14:49:26.549369Z"
    },
    "papermill": {
     "duration": 0.027044,
     "end_time": "2025-06-09T14:49:26.552044",
     "exception": false,
     "start_time": "2025-06-09T14:49:26.525000",
     "status": "completed"
    },
    "tags": []
   },
   "outputs": [
    {
     "name": "stdout",
     "output_type": "stream",
     "text": [
      "<class 'pandas.core.frame.DataFrame'>\n",
      "Index: 569 entries, 8510426 to 927241\n",
      "Data columns (total 31 columns):\n",
      " #   Column                     Non-Null Count  Dtype  \n",
      "---  ------                     --------------  -----  \n",
      " 0   Diagnosis                  569 non-null    object \n",
      " 1   Radius (mean)              569 non-null    float64\n",
      " 2   Texture (mean)             569 non-null    float64\n",
      " 3   Perimeter (mean)           569 non-null    float64\n",
      " 4   Area (mean)                569 non-null    float64\n",
      " 5   Smoothness (mean)          569 non-null    float64\n",
      " 6   Compactness (mean)         569 non-null    float64\n",
      " 7   Concavity (mean)           569 non-null    float64\n",
      " 8   Concave points (mean)      569 non-null    float64\n",
      " 9   Symmetry (mean)            569 non-null    float64\n",
      " 10  Fractal dimension (mean)   569 non-null    float64\n",
      " 11  Radius (se)                569 non-null    float64\n",
      " 12  Texture (se)               569 non-null    float64\n",
      " 13  Perimeter (se)             569 non-null    float64\n",
      " 14  Area (se)                  569 non-null    float64\n",
      " 15  Smoothness (se)            569 non-null    float64\n",
      " 16  Compactness (se)           569 non-null    float64\n",
      " 17  Concavity (se)             569 non-null    float64\n",
      " 18  Concave points (se)        569 non-null    float64\n",
      " 19  Symmetry (se)              569 non-null    float64\n",
      " 20  Fractal dimension (se)     569 non-null    float64\n",
      " 21  Radius (worst)             569 non-null    float64\n",
      " 22  Texture (worst)            569 non-null    float64\n",
      " 23  Perimeter (worst)          569 non-null    float64\n",
      " 24  Area (worst)               569 non-null    float64\n",
      " 25  Smoothness (worst)         569 non-null    float64\n",
      " 26  Compactness (worst)        569 non-null    float64\n",
      " 27  Concavity (worst)          569 non-null    float64\n",
      " 28  Concave points (worst)     569 non-null    float64\n",
      " 29  Symmetry (worst)           569 non-null    float64\n",
      " 30  Fractal dimension (worst)  569 non-null    float64\n",
      "dtypes: float64(30), object(1)\n",
      "memory usage: 142.2+ KB\n"
     ]
    }
   ],
   "source": [
    "df.info()"
   ]
  },
  {
   "cell_type": "code",
   "execution_count": 7,
   "id": "c8fb76af",
   "metadata": {
    "execution": {
     "iopub.execute_input": "2025-06-09T14:49:26.564861Z",
     "iopub.status.busy": "2025-06-09T14:49:26.564545Z",
     "iopub.status.idle": "2025-06-09T14:49:26.568707Z",
     "shell.execute_reply": "2025-06-09T14:49:26.567951Z"
    },
    "papermill": {
     "duration": 0.012188,
     "end_time": "2025-06-09T14:49:26.570087",
     "exception": false,
     "start_time": "2025-06-09T14:49:26.557899",
     "status": "completed"
    },
    "tags": []
   },
   "outputs": [],
   "source": [
    "# Lines below will give you a hint or solution code\n",
    "#step_1.hint()\n",
    "#step_1.solution()"
   ]
  },
  {
   "cell_type": "markdown",
   "id": "8c996568",
   "metadata": {
    "papermill": {
     "duration": 0.00538,
     "end_time": "2025-06-09T14:49:26.581569",
     "exception": false,
     "start_time": "2025-06-09T14:49:26.576189",
     "status": "completed"
    },
    "tags": []
   },
   "source": [
    "## Step 2: Review the data\n",
    "\n",
    "Use a Python command to print the first 5 rows of the data."
   ]
  },
  {
   "cell_type": "code",
   "execution_count": 8,
   "id": "1299ee83",
   "metadata": {
    "execution": {
     "iopub.execute_input": "2025-06-09T14:49:26.596393Z",
     "iopub.status.busy": "2025-06-09T14:49:26.596044Z",
     "iopub.status.idle": "2025-06-09T14:49:26.619363Z",
     "shell.execute_reply": "2025-06-09T14:49:26.618464Z"
    },
    "papermill": {
     "duration": 0.032589,
     "end_time": "2025-06-09T14:49:26.621021",
     "exception": false,
     "start_time": "2025-06-09T14:49:26.588432",
     "status": "completed"
    },
    "tags": []
   },
   "outputs": [
    {
     "data": {
      "text/html": [
       "<div>\n",
       "<style scoped>\n",
       "    .dataframe tbody tr th:only-of-type {\n",
       "        vertical-align: middle;\n",
       "    }\n",
       "\n",
       "    .dataframe tbody tr th {\n",
       "        vertical-align: top;\n",
       "    }\n",
       "\n",
       "    .dataframe thead th {\n",
       "        text-align: right;\n",
       "    }\n",
       "</style>\n",
       "<table border=\"1\" class=\"dataframe\">\n",
       "  <thead>\n",
       "    <tr style=\"text-align: right;\">\n",
       "      <th></th>\n",
       "      <th>Diagnosis</th>\n",
       "      <th>Radius (mean)</th>\n",
       "      <th>Texture (mean)</th>\n",
       "      <th>Perimeter (mean)</th>\n",
       "      <th>Area (mean)</th>\n",
       "      <th>Smoothness (mean)</th>\n",
       "      <th>Compactness (mean)</th>\n",
       "      <th>Concavity (mean)</th>\n",
       "      <th>Concave points (mean)</th>\n",
       "      <th>Symmetry (mean)</th>\n",
       "      <th>...</th>\n",
       "      <th>Radius (worst)</th>\n",
       "      <th>Texture (worst)</th>\n",
       "      <th>Perimeter (worst)</th>\n",
       "      <th>Area (worst)</th>\n",
       "      <th>Smoothness (worst)</th>\n",
       "      <th>Compactness (worst)</th>\n",
       "      <th>Concavity (worst)</th>\n",
       "      <th>Concave points (worst)</th>\n",
       "      <th>Symmetry (worst)</th>\n",
       "      <th>Fractal dimension (worst)</th>\n",
       "    </tr>\n",
       "    <tr>\n",
       "      <th>Id</th>\n",
       "      <th></th>\n",
       "      <th></th>\n",
       "      <th></th>\n",
       "      <th></th>\n",
       "      <th></th>\n",
       "      <th></th>\n",
       "      <th></th>\n",
       "      <th></th>\n",
       "      <th></th>\n",
       "      <th></th>\n",
       "      <th></th>\n",
       "      <th></th>\n",
       "      <th></th>\n",
       "      <th></th>\n",
       "      <th></th>\n",
       "      <th></th>\n",
       "      <th></th>\n",
       "      <th></th>\n",
       "      <th></th>\n",
       "      <th></th>\n",
       "      <th></th>\n",
       "    </tr>\n",
       "  </thead>\n",
       "  <tbody>\n",
       "    <tr>\n",
       "      <th>8510426</th>\n",
       "      <td>B</td>\n",
       "      <td>13.540</td>\n",
       "      <td>14.36</td>\n",
       "      <td>87.46</td>\n",
       "      <td>566.3</td>\n",
       "      <td>0.09779</td>\n",
       "      <td>0.08129</td>\n",
       "      <td>0.06664</td>\n",
       "      <td>0.047810</td>\n",
       "      <td>0.1885</td>\n",
       "      <td>...</td>\n",
       "      <td>15.110</td>\n",
       "      <td>19.26</td>\n",
       "      <td>99.70</td>\n",
       "      <td>711.2</td>\n",
       "      <td>0.14400</td>\n",
       "      <td>0.17730</td>\n",
       "      <td>0.23900</td>\n",
       "      <td>0.12880</td>\n",
       "      <td>0.2977</td>\n",
       "      <td>0.07259</td>\n",
       "    </tr>\n",
       "    <tr>\n",
       "      <th>8510653</th>\n",
       "      <td>B</td>\n",
       "      <td>13.080</td>\n",
       "      <td>15.71</td>\n",
       "      <td>85.63</td>\n",
       "      <td>520.0</td>\n",
       "      <td>0.10750</td>\n",
       "      <td>0.12700</td>\n",
       "      <td>0.04568</td>\n",
       "      <td>0.031100</td>\n",
       "      <td>0.1967</td>\n",
       "      <td>...</td>\n",
       "      <td>14.500</td>\n",
       "      <td>20.49</td>\n",
       "      <td>96.09</td>\n",
       "      <td>630.5</td>\n",
       "      <td>0.13120</td>\n",
       "      <td>0.27760</td>\n",
       "      <td>0.18900</td>\n",
       "      <td>0.07283</td>\n",
       "      <td>0.3184</td>\n",
       "      <td>0.08183</td>\n",
       "    </tr>\n",
       "    <tr>\n",
       "      <th>8510824</th>\n",
       "      <td>B</td>\n",
       "      <td>9.504</td>\n",
       "      <td>12.44</td>\n",
       "      <td>60.34</td>\n",
       "      <td>273.9</td>\n",
       "      <td>0.10240</td>\n",
       "      <td>0.06492</td>\n",
       "      <td>0.02956</td>\n",
       "      <td>0.020760</td>\n",
       "      <td>0.1815</td>\n",
       "      <td>...</td>\n",
       "      <td>10.230</td>\n",
       "      <td>15.66</td>\n",
       "      <td>65.13</td>\n",
       "      <td>314.9</td>\n",
       "      <td>0.13240</td>\n",
       "      <td>0.11480</td>\n",
       "      <td>0.08867</td>\n",
       "      <td>0.06227</td>\n",
       "      <td>0.2450</td>\n",
       "      <td>0.07773</td>\n",
       "    </tr>\n",
       "    <tr>\n",
       "      <th>854941</th>\n",
       "      <td>B</td>\n",
       "      <td>13.030</td>\n",
       "      <td>18.42</td>\n",
       "      <td>82.61</td>\n",
       "      <td>523.8</td>\n",
       "      <td>0.08983</td>\n",
       "      <td>0.03766</td>\n",
       "      <td>0.02562</td>\n",
       "      <td>0.029230</td>\n",
       "      <td>0.1467</td>\n",
       "      <td>...</td>\n",
       "      <td>13.300</td>\n",
       "      <td>22.81</td>\n",
       "      <td>84.46</td>\n",
       "      <td>545.9</td>\n",
       "      <td>0.09701</td>\n",
       "      <td>0.04619</td>\n",
       "      <td>0.04833</td>\n",
       "      <td>0.05013</td>\n",
       "      <td>0.1987</td>\n",
       "      <td>0.06169</td>\n",
       "    </tr>\n",
       "    <tr>\n",
       "      <th>85713702</th>\n",
       "      <td>B</td>\n",
       "      <td>8.196</td>\n",
       "      <td>16.84</td>\n",
       "      <td>51.71</td>\n",
       "      <td>201.9</td>\n",
       "      <td>0.08600</td>\n",
       "      <td>0.05943</td>\n",
       "      <td>0.01588</td>\n",
       "      <td>0.005917</td>\n",
       "      <td>0.1769</td>\n",
       "      <td>...</td>\n",
       "      <td>8.964</td>\n",
       "      <td>21.96</td>\n",
       "      <td>57.26</td>\n",
       "      <td>242.2</td>\n",
       "      <td>0.12970</td>\n",
       "      <td>0.13570</td>\n",
       "      <td>0.06880</td>\n",
       "      <td>0.02564</td>\n",
       "      <td>0.3105</td>\n",
       "      <td>0.07409</td>\n",
       "    </tr>\n",
       "  </tbody>\n",
       "</table>\n",
       "<p>5 rows × 31 columns</p>\n",
       "</div>"
      ],
      "text/plain": [
       "         Diagnosis  Radius (mean)  Texture (mean)  Perimeter (mean)  \\\n",
       "Id                                                                    \n",
       "8510426          B         13.540           14.36             87.46   \n",
       "8510653          B         13.080           15.71             85.63   \n",
       "8510824          B          9.504           12.44             60.34   \n",
       "854941           B         13.030           18.42             82.61   \n",
       "85713702         B          8.196           16.84             51.71   \n",
       "\n",
       "          Area (mean)  Smoothness (mean)  Compactness (mean)  \\\n",
       "Id                                                             \n",
       "8510426         566.3            0.09779             0.08129   \n",
       "8510653         520.0            0.10750             0.12700   \n",
       "8510824         273.9            0.10240             0.06492   \n",
       "854941          523.8            0.08983             0.03766   \n",
       "85713702        201.9            0.08600             0.05943   \n",
       "\n",
       "          Concavity (mean)  Concave points (mean)  Symmetry (mean)  ...  \\\n",
       "Id                                                                  ...   \n",
       "8510426            0.06664               0.047810           0.1885  ...   \n",
       "8510653            0.04568               0.031100           0.1967  ...   \n",
       "8510824            0.02956               0.020760           0.1815  ...   \n",
       "854941             0.02562               0.029230           0.1467  ...   \n",
       "85713702           0.01588               0.005917           0.1769  ...   \n",
       "\n",
       "          Radius (worst)  Texture (worst)  Perimeter (worst)  Area (worst)  \\\n",
       "Id                                                                           \n",
       "8510426           15.110            19.26              99.70         711.2   \n",
       "8510653           14.500            20.49              96.09         630.5   \n",
       "8510824           10.230            15.66              65.13         314.9   \n",
       "854941            13.300            22.81              84.46         545.9   \n",
       "85713702           8.964            21.96              57.26         242.2   \n",
       "\n",
       "          Smoothness (worst)  Compactness (worst)  Concavity (worst)  \\\n",
       "Id                                                                     \n",
       "8510426              0.14400              0.17730            0.23900   \n",
       "8510653              0.13120              0.27760            0.18900   \n",
       "8510824              0.13240              0.11480            0.08867   \n",
       "854941               0.09701              0.04619            0.04833   \n",
       "85713702             0.12970              0.13570            0.06880   \n",
       "\n",
       "          Concave points (worst)  Symmetry (worst)  Fractal dimension (worst)  \n",
       "Id                                                                             \n",
       "8510426                  0.12880            0.2977                    0.07259  \n",
       "8510653                  0.07283            0.3184                    0.08183  \n",
       "8510824                  0.06227            0.2450                    0.07773  \n",
       "854941                   0.05013            0.1987                    0.06169  \n",
       "85713702                 0.02564            0.3105                    0.07409  \n",
       "\n",
       "[5 rows x 31 columns]"
      ]
     },
     "execution_count": 8,
     "metadata": {},
     "output_type": "execute_result"
    }
   ],
   "source": [
    "# Print the first five rows of the data\n",
    "# ____ # Your code here\n",
    "df.head(5)"
   ]
  },
  {
   "cell_type": "markdown",
   "id": "cb8d9999",
   "metadata": {
    "papermill": {
     "duration": 0.006093,
     "end_time": "2025-06-09T14:49:26.633631",
     "exception": false,
     "start_time": "2025-06-09T14:49:26.627538",
     "status": "completed"
    },
    "tags": []
   },
   "source": [
    "In the dataset, each row corresponds to a different image.  The dataset has 31 different columns, corresponding to:\n",
    "- 1 column (`'Diagnosis'`) that classifies tumors as either benign (which appears in the dataset as **`B`**) or malignant (__`M`__), and\n",
    "- 30 columns containing different measurements collected from the images.\n",
    "\n",
    "Use the first 5 rows of the data to answer the questions below."
   ]
  },
  {
   "cell_type": "code",
   "execution_count": 9,
   "id": "ef4c7bcf",
   "metadata": {
    "execution": {
     "iopub.execute_input": "2025-06-09T14:49:26.647439Z",
     "iopub.status.busy": "2025-06-09T14:49:26.647062Z",
     "iopub.status.idle": "2025-06-09T14:49:26.712747Z",
     "shell.execute_reply": "2025-06-09T14:49:26.711648Z"
    },
    "papermill": {
     "duration": 0.074671,
     "end_time": "2025-06-09T14:49:26.714305",
     "exception": false,
     "start_time": "2025-06-09T14:49:26.639634",
     "status": "completed"
    },
    "tags": []
   },
   "outputs": [
    {
     "data": {
      "text/plain": [
       "188.5"
      ]
     },
     "execution_count": 9,
     "metadata": {},
     "output_type": "execute_result"
    }
   ],
   "source": [
    "df.describe()[\"Perimeter (mean)\"][\"max\"]"
   ]
  },
  {
   "cell_type": "code",
   "execution_count": 10,
   "id": "68a47fef",
   "metadata": {
    "execution": {
     "iopub.execute_input": "2025-06-09T14:49:26.728145Z",
     "iopub.status.busy": "2025-06-09T14:49:26.727836Z",
     "iopub.status.idle": "2025-06-09T14:49:26.733190Z",
     "shell.execute_reply": "2025-06-09T14:49:26.732311Z"
    },
    "papermill": {
     "duration": 0.014143,
     "end_time": "2025-06-09T14:49:26.734805",
     "exception": false,
     "start_time": "2025-06-09T14:49:26.720662",
     "status": "completed"
    },
    "tags": []
   },
   "outputs": [],
   "source": [
    "mean_radius = df[df.index == 8510824]['Radius (mean)']\n"
   ]
  },
  {
   "cell_type": "code",
   "execution_count": 11,
   "id": "72805900",
   "metadata": {
    "execution": {
     "iopub.execute_input": "2025-06-09T14:49:26.750382Z",
     "iopub.status.busy": "2025-06-09T14:49:26.750052Z",
     "iopub.status.idle": "2025-06-09T14:49:26.754545Z",
     "shell.execute_reply": "2025-06-09T14:49:26.753318Z"
    },
    "papermill": {
     "duration": 0.01469,
     "end_time": "2025-06-09T14:49:26.756237",
     "exception": false,
     "start_time": "2025-06-09T14:49:26.741547",
     "status": "completed"
    },
    "tags": []
   },
   "outputs": [],
   "source": [
    "# mean_radius.index[0]"
   ]
  },
  {
   "cell_type": "code",
   "execution_count": 12,
   "id": "f854b72c",
   "metadata": {
    "execution": {
     "iopub.execute_input": "2025-06-09T14:49:26.770368Z",
     "iopub.status.busy": "2025-06-09T14:49:26.770020Z",
     "iopub.status.idle": "2025-06-09T14:49:26.773929Z",
     "shell.execute_reply": "2025-06-09T14:49:26.773061Z"
    },
    "papermill": {
     "duration": 0.012557,
     "end_time": "2025-06-09T14:49:26.775456",
     "exception": false,
     "start_time": "2025-06-09T14:49:26.762899",
     "status": "completed"
    },
    "tags": []
   },
   "outputs": [],
   "source": [
    "# for k,v in mean_radius:\n",
    "#     print(k,v)"
   ]
  },
  {
   "cell_type": "code",
   "execution_count": 13,
   "id": "a09fbe96",
   "metadata": {
    "execution": {
     "iopub.execute_input": "2025-06-09T14:49:26.789634Z",
     "iopub.status.busy": "2025-06-09T14:49:26.789349Z",
     "iopub.status.idle": "2025-06-09T14:49:26.798174Z",
     "shell.execute_reply": "2025-06-09T14:49:26.797440Z"
    },
    "papermill": {
     "duration": 0.017857,
     "end_time": "2025-06-09T14:49:26.799597",
     "exception": false,
     "start_time": "2025-06-09T14:49:26.781740",
     "status": "completed"
    },
    "tags": []
   },
   "outputs": [
    {
     "data": {
      "application/javascript": [
       "parent.postMessage({\"jupyterEvent\": \"custom.exercise_interaction\", \"data\": {\"outcomeType\": 1, \"valueTowardsCompletion\": 0.5, \"interactionType\": 1, \"questionType\": 1, \"questionId\": \"2_ReviewData\", \"learnToolsVersion\": \"0.3.5\", \"failureMessage\": \"\", \"exceptionClass\": \"\", \"trace\": \"\"}}, \"*\")"
      ],
      "text/plain": [
       "<IPython.core.display.Javascript object>"
      ]
     },
     "metadata": {},
     "output_type": "display_data"
    },
    {
     "data": {
      "text/markdown": [
       "<span style=\"color:#33cc33\">Correct</span>"
      ],
      "text/plain": [
       "Correct"
      ]
     },
     "metadata": {},
     "output_type": "display_data"
    }
   ],
   "source": [
    "# Fill in the line below: In the first five rows of the data, what is the\n",
    "# largest value for 'Perimeter (mean)'?\n",
    "max_perim = df.head(5)[\"Perimeter (mean)\"].max()\n",
    "\n",
    "# Fill in the line below: What is the value for 'Radius (mean)' for the tumor with Id 8510824?\n",
    "mean_radius = df[df.index == 8510824]['Radius (mean)'].iloc[0]\n",
    "\n",
    "# Check your answers\n",
    "step_2.check()"
   ]
  },
  {
   "cell_type": "code",
   "execution_count": 14,
   "id": "b8132999",
   "metadata": {
    "execution": {
     "iopub.execute_input": "2025-06-09T14:49:26.813426Z",
     "iopub.status.busy": "2025-06-09T14:49:26.813100Z",
     "iopub.status.idle": "2025-06-09T14:49:26.817240Z",
     "shell.execute_reply": "2025-06-09T14:49:26.816343Z"
    },
    "papermill": {
     "duration": 0.01294,
     "end_time": "2025-06-09T14:49:26.818888",
     "exception": false,
     "start_time": "2025-06-09T14:49:26.805948",
     "status": "completed"
    },
    "tags": []
   },
   "outputs": [],
   "source": [
    "# Lines below will give you a hint or solution code\n",
    "# step_2.hint()\n",
    "#step_2.solution()"
   ]
  },
  {
   "cell_type": "markdown",
   "id": "fc323dc1",
   "metadata": {
    "papermill": {
     "duration": 0.006003,
     "end_time": "2025-06-09T14:49:26.831507",
     "exception": false,
     "start_time": "2025-06-09T14:49:26.825504",
     "status": "completed"
    },
    "tags": []
   },
   "source": [
    "## Step 3: Investigating differences"
   ]
  },
  {
   "cell_type": "markdown",
   "id": "7831ea64",
   "metadata": {
    "papermill": {
     "duration": 0.006209,
     "end_time": "2025-06-09T14:49:26.843854",
     "exception": false,
     "start_time": "2025-06-09T14:49:26.837645",
     "status": "completed"
    },
    "tags": []
   },
   "source": [
    "#### Part A\n",
    "\n",
    "Use the code cell below to create two histograms that show the distribution in values for `'Area (mean)'`, separately for both benign and malignant tumors.  (_To permit easy comparison, create a single figure containing both histograms in the code cell below._)"
   ]
  },
  {
   "cell_type": "code",
   "execution_count": 15,
   "id": "a4e3cd4e",
   "metadata": {
    "execution": {
     "iopub.execute_input": "2025-06-09T14:49:26.857330Z",
     "iopub.status.busy": "2025-06-09T14:49:26.856981Z",
     "iopub.status.idle": "2025-06-09T14:49:26.895107Z",
     "shell.execute_reply": "2025-06-09T14:49:26.894104Z"
    },
    "papermill": {
     "duration": 0.046636,
     "end_time": "2025-06-09T14:49:26.896510",
     "exception": false,
     "start_time": "2025-06-09T14:49:26.849874",
     "status": "completed"
    },
    "tags": []
   },
   "outputs": [
    {
     "data": {
      "application/javascript": [
       "parent.postMessage({\"jupyterEvent\": \"custom.exercise_interaction\", \"data\": {\"outcomeType\": 2, \"failureMessage\": \"Please write code to create two histograms.\", \"interactionType\": 1, \"questionType\": 2, \"questionId\": \"3.1_PlotHist\", \"learnToolsVersion\": \"0.3.5\", \"valueTowardsCompletion\": 0.0, \"exceptionClass\": \"\", \"trace\": \"\"}}, \"*\")"
      ],
      "text/plain": [
       "<IPython.core.display.Javascript object>"
      ]
     },
     "metadata": {},
     "output_type": "display_data"
    },
    {
     "data": {
      "text/markdown": [
       "<span style=\"color:#cc3333\">Incorrect:</span> Please write code to create two histograms."
      ],
      "text/plain": [
       "Incorrect: Please write code to create two histograms."
      ]
     },
     "metadata": {},
     "output_type": "display_data"
    },
    {
     "data": {
      "text/plain": [
       "<Figure size 640x480 with 0 Axes>"
      ]
     },
     "metadata": {},
     "output_type": "display_data"
    }
   ],
   "source": [
    "# Histograms for benign and maligant tumors\n",
    "____\n",
    "\n",
    "# Check your answer\n",
    "step_3.a.check()"
   ]
  },
  {
   "cell_type": "code",
   "execution_count": 16,
   "id": "c11d6751",
   "metadata": {
    "execution": {
     "iopub.execute_input": "2025-06-09T14:49:26.910936Z",
     "iopub.status.busy": "2025-06-09T14:49:26.910644Z",
     "iopub.status.idle": "2025-06-09T14:49:26.914254Z",
     "shell.execute_reply": "2025-06-09T14:49:26.913587Z"
    },
    "papermill": {
     "duration": 0.012374,
     "end_time": "2025-06-09T14:49:26.915564",
     "exception": false,
     "start_time": "2025-06-09T14:49:26.903190",
     "status": "completed"
    },
    "tags": []
   },
   "outputs": [],
   "source": [
    "# Lines below will give you a hint or solution code\n",
    "#step_3.a.hint()\n",
    "#step_3.a.solution_plot()"
   ]
  },
  {
   "cell_type": "markdown",
   "id": "72a32e62",
   "metadata": {
    "papermill": {
     "duration": 0.006404,
     "end_time": "2025-06-09T14:49:26.928629",
     "exception": false,
     "start_time": "2025-06-09T14:49:26.922225",
     "status": "completed"
    },
    "tags": []
   },
   "source": [
    "#### Part B\n",
    "\n",
    "A researcher approaches you for help with identifying how the `'Area (mean)'` column can be used to understand the difference between benign and malignant tumors.  Based on the histograms above, \n",
    "- Do malignant tumors have higher or lower values for `'Area (mean)'` (relative to benign tumors), on average?\n",
    "- Which tumor type seems to have a larger range of potential values?"
   ]
  },
  {
   "cell_type": "code",
   "execution_count": 17,
   "id": "dc0cbc27",
   "metadata": {
    "execution": {
     "iopub.execute_input": "2025-06-09T14:49:26.942909Z",
     "iopub.status.busy": "2025-06-09T14:49:26.942587Z",
     "iopub.status.idle": "2025-06-09T14:49:26.946590Z",
     "shell.execute_reply": "2025-06-09T14:49:26.945777Z"
    },
    "papermill": {
     "duration": 0.013027,
     "end_time": "2025-06-09T14:49:26.948117",
     "exception": false,
     "start_time": "2025-06-09T14:49:26.935090",
     "status": "completed"
    },
    "tags": []
   },
   "outputs": [],
   "source": [
    "#step_3.b.hint()"
   ]
  },
  {
   "cell_type": "code",
   "execution_count": 18,
   "id": "699291ef",
   "metadata": {
    "execution": {
     "iopub.execute_input": "2025-06-09T14:49:26.963182Z",
     "iopub.status.busy": "2025-06-09T14:49:26.962872Z",
     "iopub.status.idle": "2025-06-09T14:49:26.969484Z",
     "shell.execute_reply": "2025-06-09T14:49:26.968816Z"
    },
    "papermill": {
     "duration": 0.015932,
     "end_time": "2025-06-09T14:49:26.970829",
     "exception": false,
     "start_time": "2025-06-09T14:49:26.954897",
     "status": "completed"
    },
    "tags": []
   },
   "outputs": [
    {
     "data": {
      "application/javascript": [
       "parent.postMessage({\"jupyterEvent\": \"custom.exercise_interaction\", \"data\": {\"interactionType\": 3, \"questionType\": 4, \"questionId\": \"3.2_ThinkHist\", \"learnToolsVersion\": \"0.3.5\", \"valueTowardsCompletion\": 0.0, \"failureMessage\": \"\", \"exceptionClass\": \"\", \"trace\": \"\", \"outcomeType\": 4}}, \"*\")"
      ],
      "text/plain": [
       "<IPython.core.display.Javascript object>"
      ]
     },
     "metadata": {},
     "output_type": "display_data"
    },
    {
     "data": {
      "text/markdown": [
       "<span style=\"color:#33cc99\">Solution:</span> Malignant tumors have higher values for `'Area (mean)'`, on average. Malignant tumors have a larger range of potential values."
      ],
      "text/plain": [
       "Solution: Malignant tumors have higher values for `'Area (mean)'`, on average. Malignant tumors have a larger range of potential values."
      ]
     },
     "metadata": {},
     "output_type": "display_data"
    }
   ],
   "source": [
    "# Check your answer (Run this code cell to receive credit!)\n",
    "step_3.b.solution()"
   ]
  },
  {
   "cell_type": "markdown",
   "id": "d2e78d9d",
   "metadata": {
    "papermill": {
     "duration": 0.006511,
     "end_time": "2025-06-09T14:49:26.984105",
     "exception": false,
     "start_time": "2025-06-09T14:49:26.977594",
     "status": "completed"
    },
    "tags": []
   },
   "source": [
    "## Step 4: A very useful column\n",
    "\n",
    "#### Part A\n",
    "\n",
    "Use the code cell below to create two KDE plots that show the distribution in values for `'Radius (worst)'`, separately for both benign and malignant tumors.  (_To permit easy comparison, create a single figure containing both KDE plots in the code cell below._)"
   ]
  },
  {
   "cell_type": "code",
   "execution_count": 19,
   "id": "a902ec85",
   "metadata": {
    "execution": {
     "iopub.execute_input": "2025-06-09T14:49:26.999170Z",
     "iopub.status.busy": "2025-06-09T14:49:26.998377Z",
     "iopub.status.idle": "2025-06-09T14:49:27.009121Z",
     "shell.execute_reply": "2025-06-09T14:49:27.008323Z"
    },
    "papermill": {
     "duration": 0.019483,
     "end_time": "2025-06-09T14:49:27.010373",
     "exception": false,
     "start_time": "2025-06-09T14:49:26.990890",
     "status": "completed"
    },
    "tags": []
   },
   "outputs": [
    {
     "data": {
      "application/javascript": [
       "parent.postMessage({\"jupyterEvent\": \"custom.exercise_interaction\", \"data\": {\"outcomeType\": 2, \"failureMessage\": \"Please write code to create one figure containing two KDE plots.\", \"interactionType\": 1, \"questionType\": 2, \"questionId\": \"4.1_PlotThreshold\", \"learnToolsVersion\": \"0.3.5\", \"valueTowardsCompletion\": 0.0, \"exceptionClass\": \"\", \"trace\": \"\"}}, \"*\")"
      ],
      "text/plain": [
       "<IPython.core.display.Javascript object>"
      ]
     },
     "metadata": {},
     "output_type": "display_data"
    },
    {
     "data": {
      "text/markdown": [
       "<span style=\"color:#cc3333\">Incorrect:</span> Please write code to create one figure containing two KDE plots."
      ],
      "text/plain": [
       "Incorrect: Please write code to create one figure containing two KDE plots."
      ]
     },
     "metadata": {},
     "output_type": "display_data"
    },
    {
     "data": {
      "text/plain": [
       "<Figure size 640x480 with 0 Axes>"
      ]
     },
     "metadata": {},
     "output_type": "display_data"
    }
   ],
   "source": [
    "# KDE plots for benign and malignant tumors\n",
    "____ \n",
    "\n",
    "# Check your answer\n",
    "step_4.a.check()"
   ]
  },
  {
   "cell_type": "code",
   "execution_count": 20,
   "id": "afcfb7dd",
   "metadata": {
    "execution": {
     "iopub.execute_input": "2025-06-09T14:49:27.026121Z",
     "iopub.status.busy": "2025-06-09T14:49:27.025469Z",
     "iopub.status.idle": "2025-06-09T14:49:27.029340Z",
     "shell.execute_reply": "2025-06-09T14:49:27.028443Z"
    },
    "papermill": {
     "duration": 0.013262,
     "end_time": "2025-06-09T14:49:27.030698",
     "exception": false,
     "start_time": "2025-06-09T14:49:27.017436",
     "status": "completed"
    },
    "tags": []
   },
   "outputs": [],
   "source": [
    "# Lines below will give you a hint or solution code\n",
    "#step_4.a.hint()\n",
    "#step_4.a.solution_plot()"
   ]
  },
  {
   "cell_type": "markdown",
   "id": "1e248bfe",
   "metadata": {
    "papermill": {
     "duration": 0.006906,
     "end_time": "2025-06-09T14:49:27.044720",
     "exception": false,
     "start_time": "2025-06-09T14:49:27.037814",
     "status": "completed"
    },
    "tags": []
   },
   "source": [
    "#### Part B\n",
    "\n",
    "A hospital has recently started using an algorithm that can diagnose tumors with high accuracy.  Given a tumor with a value for `'Radius (worst)'` of 25, do you think the algorithm is more likely to classify the tumor as benign or malignant?"
   ]
  },
  {
   "cell_type": "code",
   "execution_count": 21,
   "id": "75c9ca72",
   "metadata": {
    "execution": {
     "iopub.execute_input": "2025-06-09T14:49:27.060399Z",
     "iopub.status.busy": "2025-06-09T14:49:27.059605Z",
     "iopub.status.idle": "2025-06-09T14:49:27.063612Z",
     "shell.execute_reply": "2025-06-09T14:49:27.062859Z"
    },
    "papermill": {
     "duration": 0.013547,
     "end_time": "2025-06-09T14:49:27.065208",
     "exception": false,
     "start_time": "2025-06-09T14:49:27.051661",
     "status": "completed"
    },
    "tags": []
   },
   "outputs": [],
   "source": [
    "#step_4.b.hint()"
   ]
  },
  {
   "cell_type": "code",
   "execution_count": 22,
   "id": "bab87709",
   "metadata": {
    "execution": {
     "iopub.execute_input": "2025-06-09T14:49:27.081143Z",
     "iopub.status.busy": "2025-06-09T14:49:27.080857Z",
     "iopub.status.idle": "2025-06-09T14:49:27.087428Z",
     "shell.execute_reply": "2025-06-09T14:49:27.086533Z"
    },
    "papermill": {
     "duration": 0.016429,
     "end_time": "2025-06-09T14:49:27.088908",
     "exception": false,
     "start_time": "2025-06-09T14:49:27.072479",
     "status": "completed"
    },
    "tags": []
   },
   "outputs": [
    {
     "data": {
      "application/javascript": [
       "parent.postMessage({\"jupyterEvent\": \"custom.exercise_interaction\", \"data\": {\"interactionType\": 3, \"questionType\": 4, \"questionId\": \"4.2_ThinkThreshold\", \"learnToolsVersion\": \"0.3.5\", \"valueTowardsCompletion\": 0.0, \"failureMessage\": \"\", \"exceptionClass\": \"\", \"trace\": \"\", \"outcomeType\": 4}}, \"*\")"
      ],
      "text/plain": [
       "<IPython.core.display.Javascript object>"
      ]
     },
     "metadata": {},
     "output_type": "display_data"
    },
    {
     "data": {
      "text/markdown": [
       "<span style=\"color:#33cc99\">Solution:</span> The algorithm is more likely to classify the tumor as malignant. This is because the curve for malignant tumors is much higher than the curve for benign tumors around a value of 25 -- and an algorithm that gets high accuracy is likely to make decisions based on this pattern in the data."
      ],
      "text/plain": [
       "Solution: The algorithm is more likely to classify the tumor as malignant. This is because the curve for malignant tumors is much higher than the curve for benign tumors around a value of 25 -- and an algorithm that gets high accuracy is likely to make decisions based on this pattern in the data."
      ]
     },
     "metadata": {},
     "output_type": "display_data"
    }
   ],
   "source": [
    "# Check your answer (Run this code cell to receive credit!)\n",
    "step_4.b.solution()"
   ]
  },
  {
   "cell_type": "markdown",
   "id": "4d90b799",
   "metadata": {
    "papermill": {
     "duration": 0.007149,
     "end_time": "2025-06-09T14:49:27.103589",
     "exception": false,
     "start_time": "2025-06-09T14:49:27.096440",
     "status": "completed"
    },
    "tags": []
   },
   "source": [
    "## Keep going\n",
    "\n",
    "Review all that you've learned and explore how to further customize your plots in the **[next tutorial](https://www.kaggle.com/alexisbcook/choosing-plot-types-and-custom-styles)**!"
   ]
  },
  {
   "cell_type": "markdown",
   "id": "642f780b",
   "metadata": {
    "papermill": {
     "duration": 0.007219,
     "end_time": "2025-06-09T14:49:27.118082",
     "exception": false,
     "start_time": "2025-06-09T14:49:27.110863",
     "status": "completed"
    },
    "tags": []
   },
   "source": [
    "---\n",
    "\n",
    "\n",
    "\n",
    "\n",
    "*Have questions or comments? Visit the [course discussion forum](https://www.kaggle.com/learn/data-visualization/discussion) to chat with other learners.*"
   ]
  }
 ],
 "metadata": {
  "kaggle": {
   "accelerator": "none",
   "dataSources": [
    {
     "datasetId": 116573,
     "sourceId": 3551030,
     "sourceType": "datasetVersion"
    }
   ],
   "isGpuEnabled": false,
   "isInternetEnabled": false,
   "language": "python",
   "sourceType": "notebook"
  },
  "kernelspec": {
   "display_name": "Python 3",
   "language": "python",
   "name": "python3"
  },
  "language_info": {
   "codemirror_mode": {
    "name": "ipython",
    "version": 3
   },
   "file_extension": ".py",
   "mimetype": "text/x-python",
   "name": "python",
   "nbconvert_exporter": "python",
   "pygments_lexer": "ipython3",
   "version": "3.11.11"
  },
  "papermill": {
   "default_parameters": {},
   "duration": 10.626898,
   "end_time": "2025-06-09T14:49:27.845625",
   "environment_variables": {},
   "exception": null,
   "input_path": "__notebook__.ipynb",
   "output_path": "__notebook__.ipynb",
   "parameters": {},
   "start_time": "2025-06-09T14:49:17.218727",
   "version": "2.6.0"
  }
 },
 "nbformat": 4,
 "nbformat_minor": 5
}
