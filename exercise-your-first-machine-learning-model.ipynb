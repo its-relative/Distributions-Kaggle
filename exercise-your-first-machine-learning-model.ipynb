{
 "cells": [
  {
   "cell_type": "markdown",
   "id": "5fb80718",
   "metadata": {
    "papermill": {
     "duration": 0.004353,
     "end_time": "2025-06-20T15:43:05.871319",
     "exception": false,
     "start_time": "2025-06-20T15:43:05.866966",
     "status": "completed"
    },
    "tags": []
   },
   "source": [
    "**This notebook is an exercise in the [Introduction to Machine Learning](https://www.kaggle.com/learn/intro-to-machine-learning) course.  You can reference the tutorial at [this link](https://www.kaggle.com/dansbecker/your-first-machine-learning-model).**\n",
    "\n",
    "---\n"
   ]
  },
  {
   "cell_type": "markdown",
   "id": "e94779a4",
   "metadata": {
    "papermill": {
     "duration": 0.002839,
     "end_time": "2025-06-20T15:43:05.877345",
     "exception": false,
     "start_time": "2025-06-20T15:43:05.874506",
     "status": "completed"
    },
    "tags": []
   },
   "source": [
    "## Recap\n",
    "So far, you have loaded your data and reviewed it with the following code. Run this cell to set up your coding environment where the previous step left off."
   ]
  },
  {
   "cell_type": "code",
   "execution_count": 1,
   "id": "b341a022",
   "metadata": {
    "execution": {
     "iopub.execute_input": "2025-06-20T15:43:05.884582Z",
     "iopub.status.busy": "2025-06-20T15:43:05.884292Z",
     "iopub.status.idle": "2025-06-20T15:43:09.602625Z",
     "shell.execute_reply": "2025-06-20T15:43:09.601726Z"
    },
    "papermill": {
     "duration": 3.723532,
     "end_time": "2025-06-20T15:43:09.603851",
     "exception": false,
     "start_time": "2025-06-20T15:43:05.880319",
     "status": "completed"
    },
    "tags": []
   },
   "outputs": [
    {
     "name": "stdout",
     "output_type": "stream",
     "text": [
      "Setup Complete\n"
     ]
    }
   ],
   "source": [
    "# Code you have previously used to load data\n",
    "import pandas as pd\n",
    "\n",
    "# Path of the file to read\n",
    "iowa_file_path = '../input/home-data-for-ml-course/train.csv'\n",
    "\n",
    "home_data = pd.read_csv(iowa_file_path)\n",
    "\n",
    "# Set up code checking\n",
    "from learntools.core import binder\n",
    "binder.bind(globals())\n",
    "from learntools.machine_learning.ex3 import *\n",
    "\n",
    "print(\"Setup Complete\")"
   ]
  },
  {
   "cell_type": "markdown",
   "id": "502f5974",
   "metadata": {
    "papermill": {
     "duration": 0.002872,
     "end_time": "2025-06-20T15:43:09.610350",
     "exception": false,
     "start_time": "2025-06-20T15:43:09.607478",
     "status": "completed"
    },
    "tags": []
   },
   "source": [
    "# Exercises\n",
    "\n",
    "## Step 1: Specify Prediction Target\n",
    "Select the target variable, which corresponds to the sales price. Save this to a new variable called `y`. You'll need to print a list of the columns to find the name of the column you need.\n"
   ]
  },
  {
   "cell_type": "code",
   "execution_count": 2,
   "id": "8383df2a",
   "metadata": {
    "execution": {
     "iopub.execute_input": "2025-06-20T15:43:09.617888Z",
     "iopub.status.busy": "2025-06-20T15:43:09.617457Z",
     "iopub.status.idle": "2025-06-20T15:43:09.621347Z",
     "shell.execute_reply": "2025-06-20T15:43:09.620718Z"
    },
    "papermill": {
     "duration": 0.009173,
     "end_time": "2025-06-20T15:43:09.622589",
     "exception": false,
     "start_time": "2025-06-20T15:43:09.613416",
     "status": "completed"
    },
    "tags": []
   },
   "outputs": [],
   "source": [
    "df = home_data"
   ]
  },
  {
   "cell_type": "code",
   "execution_count": 3,
   "id": "e33e99ae",
   "metadata": {
    "execution": {
     "iopub.execute_input": "2025-06-20T15:43:09.630915Z",
     "iopub.status.busy": "2025-06-20T15:43:09.630614Z",
     "iopub.status.idle": "2025-06-20T15:43:09.638929Z",
     "shell.execute_reply": "2025-06-20T15:43:09.637947Z"
    },
    "papermill": {
     "duration": 0.014193,
     "end_time": "2025-06-20T15:43:09.640524",
     "exception": false,
     "start_time": "2025-06-20T15:43:09.626331",
     "status": "completed"
    },
    "tags": []
   },
   "outputs": [
    {
     "data": {
      "text/plain": [
       "Index(['Id', 'MSSubClass', 'MSZoning', 'LotFrontage', 'LotArea', 'Street',\n",
       "       'Alley', 'LotShape', 'LandContour', 'Utilities', 'LotConfig',\n",
       "       'LandSlope', 'Neighborhood', 'Condition1', 'Condition2', 'BldgType',\n",
       "       'HouseStyle', 'OverallQual', 'OverallCond', 'YearBuilt', 'YearRemodAdd',\n",
       "       'RoofStyle', 'RoofMatl', 'Exterior1st', 'Exterior2nd', 'MasVnrType',\n",
       "       'MasVnrArea', 'ExterQual', 'ExterCond', 'Foundation', 'BsmtQual',\n",
       "       'BsmtCond', 'BsmtExposure', 'BsmtFinType1', 'BsmtFinSF1',\n",
       "       'BsmtFinType2', 'BsmtFinSF2', 'BsmtUnfSF', 'TotalBsmtSF', 'Heating',\n",
       "       'HeatingQC', 'CentralAir', 'Electrical', '1stFlrSF', '2ndFlrSF',\n",
       "       'LowQualFinSF', 'GrLivArea', 'BsmtFullBath', 'BsmtHalfBath', 'FullBath',\n",
       "       'HalfBath', 'BedroomAbvGr', 'KitchenAbvGr', 'KitchenQual',\n",
       "       'TotRmsAbvGrd', 'Functional', 'Fireplaces', 'FireplaceQu', 'GarageType',\n",
       "       'GarageYrBlt', 'GarageFinish', 'GarageCars', 'GarageArea', 'GarageQual',\n",
       "       'GarageCond', 'PavedDrive', 'WoodDeckSF', 'OpenPorchSF',\n",
       "       'EnclosedPorch', '3SsnPorch', 'ScreenPorch', 'PoolArea', 'PoolQC',\n",
       "       'Fence', 'MiscFeature', 'MiscVal', 'MoSold', 'YrSold', 'SaleType',\n",
       "       'SaleCondition', 'SalePrice'],\n",
       "      dtype='object')"
      ]
     },
     "execution_count": 3,
     "metadata": {},
     "output_type": "execute_result"
    }
   ],
   "source": [
    "# print the list of columns in the dataset to find the name of the prediction target\n",
    "df.columns"
   ]
  },
  {
   "cell_type": "code",
   "execution_count": 4,
   "id": "92a59f66",
   "metadata": {
    "execution": {
     "iopub.execute_input": "2025-06-20T15:43:09.648952Z",
     "iopub.status.busy": "2025-06-20T15:43:09.648621Z",
     "iopub.status.idle": "2025-06-20T15:43:09.661003Z",
     "shell.execute_reply": "2025-06-20T15:43:09.660137Z"
    },
    "papermill": {
     "duration": 0.017858,
     "end_time": "2025-06-20T15:43:09.662237",
     "exception": false,
     "start_time": "2025-06-20T15:43:09.644379",
     "status": "completed"
    },
    "tags": []
   },
   "outputs": [
    {
     "data": {
      "application/javascript": [
       "parent.postMessage({\"jupyterEvent\": \"custom.exercise_interaction\", \"data\": {\"outcomeType\": 1, \"valueTowardsCompletion\": 0.25, \"interactionType\": 1, \"questionType\": 2, \"questionId\": \"1_SetTarget\", \"learnToolsVersion\": \"0.3.5\", \"failureMessage\": \"\", \"exceptionClass\": \"\", \"trace\": \"\"}}, \"*\")"
      ],
      "text/plain": [
       "<IPython.core.display.Javascript object>"
      ]
     },
     "metadata": {},
     "output_type": "display_data"
    },
    {
     "data": {
      "text/markdown": [
       "<span style=\"color:#33cc33\">Correct</span>"
      ],
      "text/plain": [
       "Correct"
      ]
     },
     "metadata": {},
     "output_type": "display_data"
    }
   ],
   "source": [
    "y = df.SalePrice\n",
    "\n",
    "# Check your answer\n",
    "step_1.check()"
   ]
  },
  {
   "cell_type": "code",
   "execution_count": 5,
   "id": "371ebedf",
   "metadata": {
    "collapsed": true,
    "execution": {
     "iopub.execute_input": "2025-06-20T15:43:09.670761Z",
     "iopub.status.busy": "2025-06-20T15:43:09.670385Z",
     "iopub.status.idle": "2025-06-20T15:43:09.674641Z",
     "shell.execute_reply": "2025-06-20T15:43:09.673891Z"
    },
    "jupyter": {
     "outputs_hidden": true
    },
    "papermill": {
     "duration": 0.009874,
     "end_time": "2025-06-20T15:43:09.675984",
     "exception": false,
     "start_time": "2025-06-20T15:43:09.666110",
     "status": "completed"
    },
    "tags": []
   },
   "outputs": [],
   "source": [
    "# The lines below will show you a hint or the solution.\n",
    "# step_1.hint() \n",
    "# step_1.solution()"
   ]
  },
  {
   "cell_type": "markdown",
   "id": "cc183876",
   "metadata": {
    "papermill": {
     "duration": 0.003167,
     "end_time": "2025-06-20T15:43:09.683145",
     "exception": false,
     "start_time": "2025-06-20T15:43:09.679978",
     "status": "completed"
    },
    "tags": []
   },
   "source": [
    "## Step 2: Create X\n",
    "Now you will create a DataFrame called `X` holding the predictive features.\n",
    "\n",
    "Since you want only some columns from the original data, you'll first create a list with the names of the columns you want in `X`.\n",
    "\n",
    "You'll use just the following columns in the list (you can copy and paste the whole list to save some typing, though you'll still need to add quotes):\n",
    "  * LotArea\n",
    "  * YearBuilt\n",
    "  * 1stFlrSF\n",
    "  * 2ndFlrSF\n",
    "  * FullBath\n",
    "  * BedroomAbvGr\n",
    "  * TotRmsAbvGrd\n",
    "\n",
    "After you've created that list of features, use it to create the DataFrame that you'll use to fit the model."
   ]
  },
  {
   "cell_type": "code",
   "execution_count": 6,
   "id": "4106ba2c",
   "metadata": {
    "execution": {
     "iopub.execute_input": "2025-06-20T15:43:09.691084Z",
     "iopub.status.busy": "2025-06-20T15:43:09.690771Z",
     "iopub.status.idle": "2025-06-20T15:43:09.695392Z",
     "shell.execute_reply": "2025-06-20T15:43:09.694364Z"
    },
    "papermill": {
     "duration": 0.010087,
     "end_time": "2025-06-20T15:43:09.696557",
     "exception": false,
     "start_time": "2025-06-20T15:43:09.686470",
     "status": "completed"
    },
    "tags": []
   },
   "outputs": [],
   "source": [
    "a = \"\"\"LotArea\n",
    "  * YearBuilt\n",
    "  * 1stFlrSF\n",
    "  * 2ndFlrSF\n",
    "  * FullBath\n",
    "  * BedroomAbvGr\n",
    "  * TotRmsAbvGrd\"\"\"\n",
    "\n",
    "#\"\".join(a.split(\"*\")).lstrip().split(\"\\n\")\n",
    "feature_names = [b.strip() for b in a.split(\"*\")]"
   ]
  },
  {
   "cell_type": "code",
   "execution_count": 7,
   "id": "7b8759ec",
   "metadata": {
    "execution": {
     "iopub.execute_input": "2025-06-20T15:43:09.704572Z",
     "iopub.status.busy": "2025-06-20T15:43:09.704293Z",
     "iopub.status.idle": "2025-06-20T15:43:09.709391Z",
     "shell.execute_reply": "2025-06-20T15:43:09.708718Z"
    },
    "papermill": {
     "duration": 0.01029,
     "end_time": "2025-06-20T15:43:09.710519",
     "exception": false,
     "start_time": "2025-06-20T15:43:09.700229",
     "status": "completed"
    },
    "tags": []
   },
   "outputs": [
    {
     "data": {
      "text/plain": [
       "['LotArea',\n",
       " 'YearBuilt',\n",
       " '1stFlrSF',\n",
       " '2ndFlrSF',\n",
       " 'FullBath',\n",
       " 'BedroomAbvGr',\n",
       " 'TotRmsAbvGrd']"
      ]
     },
     "execution_count": 7,
     "metadata": {},
     "output_type": "execute_result"
    }
   ],
   "source": [
    "feature_names"
   ]
  },
  {
   "cell_type": "code",
   "execution_count": 8,
   "id": "df23a5cd",
   "metadata": {
    "execution": {
     "iopub.execute_input": "2025-06-20T15:43:09.719735Z",
     "iopub.status.busy": "2025-06-20T15:43:09.719374Z",
     "iopub.status.idle": "2025-06-20T15:43:09.723976Z",
     "shell.execute_reply": "2025-06-20T15:43:09.722968Z"
    },
    "papermill": {
     "duration": 0.010976,
     "end_time": "2025-06-20T15:43:09.725464",
     "exception": false,
     "start_time": "2025-06-20T15:43:09.714488",
     "status": "completed"
    },
    "tags": []
   },
   "outputs": [],
   "source": [
    "df1 = df.copy()"
   ]
  },
  {
   "cell_type": "code",
   "execution_count": 9,
   "id": "34dd82f1",
   "metadata": {
    "execution": {
     "iopub.execute_input": "2025-06-20T15:43:09.734048Z",
     "iopub.status.busy": "2025-06-20T15:43:09.733776Z",
     "iopub.status.idle": "2025-06-20T15:43:09.743648Z",
     "shell.execute_reply": "2025-06-20T15:43:09.742767Z"
    },
    "papermill": {
     "duration": 0.01532,
     "end_time": "2025-06-20T15:43:09.744811",
     "exception": false,
     "start_time": "2025-06-20T15:43:09.729491",
     "status": "completed"
    },
    "tags": []
   },
   "outputs": [
    {
     "data": {
      "application/javascript": [
       "parent.postMessage({\"jupyterEvent\": \"custom.exercise_interaction\", \"data\": {\"outcomeType\": 1, \"valueTowardsCompletion\": 0.25, \"interactionType\": 1, \"questionType\": 2, \"questionId\": \"2_SelectPredictionData\", \"learnToolsVersion\": \"0.3.5\", \"failureMessage\": \"\", \"exceptionClass\": \"\", \"trace\": \"\"}}, \"*\")"
      ],
      "text/plain": [
       "<IPython.core.display.Javascript object>"
      ]
     },
     "metadata": {},
     "output_type": "display_data"
    },
    {
     "data": {
      "text/markdown": [
       "<span style=\"color:#33cc33\">Correct</span>"
      ],
      "text/plain": [
       "Correct"
      ]
     },
     "metadata": {},
     "output_type": "display_data"
    }
   ],
   "source": [
    "# Create the list of features below\n",
    "feature_names = ['LotArea',\n",
    " 'YearBuilt',\n",
    " '1stFlrSF',\n",
    " '2ndFlrSF',\n",
    " 'FullBath',\n",
    " 'BedroomAbvGr',\n",
    " 'TotRmsAbvGrd']\n",
    "\n",
    "# Select data corresponding to features in feature_names\n",
    "X = df1[feature_names]\n",
    "# Check your answer\n",
    "step_2.check()"
   ]
  },
  {
   "cell_type": "code",
   "execution_count": 10,
   "id": "f4751e4e",
   "metadata": {
    "collapsed": true,
    "execution": {
     "iopub.execute_input": "2025-06-20T15:43:09.753810Z",
     "iopub.status.busy": "2025-06-20T15:43:09.753451Z",
     "iopub.status.idle": "2025-06-20T15:43:09.757478Z",
     "shell.execute_reply": "2025-06-20T15:43:09.756493Z"
    },
    "jupyter": {
     "outputs_hidden": true
    },
    "papermill": {
     "duration": 0.010222,
     "end_time": "2025-06-20T15:43:09.758952",
     "exception": false,
     "start_time": "2025-06-20T15:43:09.748730",
     "status": "completed"
    },
    "tags": []
   },
   "outputs": [],
   "source": [
    "# step_2.hint()\n",
    "# step_2.solution()"
   ]
  },
  {
   "cell_type": "markdown",
   "id": "41956163",
   "metadata": {
    "papermill": {
     "duration": 0.003332,
     "end_time": "2025-06-20T15:43:09.766320",
     "exception": false,
     "start_time": "2025-06-20T15:43:09.762988",
     "status": "completed"
    },
    "tags": []
   },
   "source": [
    "## Review Data\n",
    "Before building a model, take a quick look at **X** to verify it looks sensible"
   ]
  },
  {
   "cell_type": "code",
   "execution_count": 11,
   "id": "146722cb",
   "metadata": {
    "execution": {
     "iopub.execute_input": "2025-06-20T15:43:09.776085Z",
     "iopub.status.busy": "2025-06-20T15:43:09.775753Z",
     "iopub.status.idle": "2025-06-20T15:43:09.799228Z",
     "shell.execute_reply": "2025-06-20T15:43:09.798151Z"
    },
    "papermill": {
     "duration": 0.030174,
     "end_time": "2025-06-20T15:43:09.800911",
     "exception": false,
     "start_time": "2025-06-20T15:43:09.770737",
     "status": "completed"
    },
    "tags": []
   },
   "outputs": [
    {
     "name": "stdout",
     "output_type": "stream",
     "text": [
      "<bound method NDFrame.describe of         Id  MSSubClass MSZoning  LotFrontage  LotArea Street Alley LotShape  \\\n",
      "0        1          60       RL         65.0     8450   Pave   NaN      Reg   \n",
      "1        2          20       RL         80.0     9600   Pave   NaN      Reg   \n",
      "2        3          60       RL         68.0    11250   Pave   NaN      IR1   \n",
      "3        4          70       RL         60.0     9550   Pave   NaN      IR1   \n",
      "4        5          60       RL         84.0    14260   Pave   NaN      IR1   \n",
      "...    ...         ...      ...          ...      ...    ...   ...      ...   \n",
      "1455  1456          60       RL         62.0     7917   Pave   NaN      Reg   \n",
      "1456  1457          20       RL         85.0    13175   Pave   NaN      Reg   \n",
      "1457  1458          70       RL         66.0     9042   Pave   NaN      Reg   \n",
      "1458  1459          20       RL         68.0     9717   Pave   NaN      Reg   \n",
      "1459  1460          20       RL         75.0     9937   Pave   NaN      Reg   \n",
      "\n",
      "     LandContour Utilities  ... PoolArea PoolQC  Fence MiscFeature MiscVal  \\\n",
      "0            Lvl    AllPub  ...        0    NaN    NaN         NaN       0   \n",
      "1            Lvl    AllPub  ...        0    NaN    NaN         NaN       0   \n",
      "2            Lvl    AllPub  ...        0    NaN    NaN         NaN       0   \n",
      "3            Lvl    AllPub  ...        0    NaN    NaN         NaN       0   \n",
      "4            Lvl    AllPub  ...        0    NaN    NaN         NaN       0   \n",
      "...          ...       ...  ...      ...    ...    ...         ...     ...   \n",
      "1455         Lvl    AllPub  ...        0    NaN    NaN         NaN       0   \n",
      "1456         Lvl    AllPub  ...        0    NaN  MnPrv         NaN       0   \n",
      "1457         Lvl    AllPub  ...        0    NaN  GdPrv        Shed    2500   \n",
      "1458         Lvl    AllPub  ...        0    NaN    NaN         NaN       0   \n",
      "1459         Lvl    AllPub  ...        0    NaN    NaN         NaN       0   \n",
      "\n",
      "     MoSold YrSold  SaleType  SaleCondition  SalePrice  \n",
      "0         2   2008        WD         Normal     208500  \n",
      "1         5   2007        WD         Normal     181500  \n",
      "2         9   2008        WD         Normal     223500  \n",
      "3         2   2006        WD        Abnorml     140000  \n",
      "4        12   2008        WD         Normal     250000  \n",
      "...     ...    ...       ...            ...        ...  \n",
      "1455      8   2007        WD         Normal     175000  \n",
      "1456      2   2010        WD         Normal     210000  \n",
      "1457      5   2010        WD         Normal     266500  \n",
      "1458      4   2010        WD         Normal     142125  \n",
      "1459      6   2008        WD         Normal     147500  \n",
      "\n",
      "[1460 rows x 81 columns]>\n",
      "   Id  MSSubClass MSZoning  LotFrontage  LotArea Street Alley LotShape  \\\n",
      "0   1          60       RL         65.0     8450   Pave   NaN      Reg   \n",
      "1   2          20       RL         80.0     9600   Pave   NaN      Reg   \n",
      "2   3          60       RL         68.0    11250   Pave   NaN      IR1   \n",
      "3   4          70       RL         60.0     9550   Pave   NaN      IR1   \n",
      "4   5          60       RL         84.0    14260   Pave   NaN      IR1   \n",
      "\n",
      "  LandContour Utilities  ... PoolArea PoolQC Fence MiscFeature MiscVal MoSold  \\\n",
      "0         Lvl    AllPub  ...        0    NaN   NaN         NaN       0      2   \n",
      "1         Lvl    AllPub  ...        0    NaN   NaN         NaN       0      5   \n",
      "2         Lvl    AllPub  ...        0    NaN   NaN         NaN       0      9   \n",
      "3         Lvl    AllPub  ...        0    NaN   NaN         NaN       0      2   \n",
      "4         Lvl    AllPub  ...        0    NaN   NaN         NaN       0     12   \n",
      "\n",
      "  YrSold  SaleType  SaleCondition  SalePrice  \n",
      "0   2008        WD         Normal     208500  \n",
      "1   2007        WD         Normal     181500  \n",
      "2   2008        WD         Normal     223500  \n",
      "3   2006        WD        Abnorml     140000  \n",
      "4   2008        WD         Normal     250000  \n",
      "\n",
      "[5 rows x 81 columns]\n"
     ]
    }
   ],
   "source": [
    "# Review data\n",
    "# print description or statistics from X\n",
    "print(df.describe)\n",
    "\n",
    "# print the top few lines\n",
    "print(df.head(5))"
   ]
  },
  {
   "cell_type": "markdown",
   "id": "b4e2b8c6",
   "metadata": {
    "papermill": {
     "duration": 0.00362,
     "end_time": "2025-06-20T15:43:09.808757",
     "exception": false,
     "start_time": "2025-06-20T15:43:09.805137",
     "status": "completed"
    },
    "tags": []
   },
   "source": [
    "## Step 3: Specify and Fit Model\n",
    "Create a `DecisionTreeRegressor` and save it iowa_model. Ensure you've done the relevant import from sklearn to run this command.\n",
    "\n",
    "Then fit the model you just created using the data in `X` and `y` that you saved above."
   ]
  },
  {
   "cell_type": "code",
   "execution_count": 12,
   "id": "df1b6923",
   "metadata": {
    "execution": {
     "iopub.execute_input": "2025-06-20T15:43:09.817440Z",
     "iopub.status.busy": "2025-06-20T15:43:09.817134Z",
     "iopub.status.idle": "2025-06-20T15:43:14.203597Z",
     "shell.execute_reply": "2025-06-20T15:43:14.202534Z"
    },
    "papermill": {
     "duration": 4.393185,
     "end_time": "2025-06-20T15:43:14.205759",
     "exception": false,
     "start_time": "2025-06-20T15:43:09.812574",
     "status": "completed"
    },
    "tags": []
   },
   "outputs": [
    {
     "name": "stdout",
     "output_type": "stream",
     "text": [
      "Requirement already satisfied: scikit-learn in /usr/local/lib/python3.11/dist-packages (1.2.2)\r\n",
      "Requirement already satisfied: numpy>=1.17.3 in /usr/local/lib/python3.11/dist-packages (from scikit-learn) (1.26.4)\r\n",
      "Requirement already satisfied: scipy>=1.3.2 in /usr/local/lib/python3.11/dist-packages (from scikit-learn) (1.15.2)\r\n",
      "Requirement already satisfied: joblib>=1.1.1 in /usr/local/lib/python3.11/dist-packages (from scikit-learn) (1.5.0)\r\n",
      "Requirement already satisfied: threadpoolctl>=2.0.0 in /usr/local/lib/python3.11/dist-packages (from scikit-learn) (3.6.0)\r\n",
      "Requirement already satisfied: mkl_fft in /usr/local/lib/python3.11/dist-packages (from numpy>=1.17.3->scikit-learn) (1.3.8)\r\n",
      "Requirement already satisfied: mkl_random in /usr/local/lib/python3.11/dist-packages (from numpy>=1.17.3->scikit-learn) (1.2.4)\r\n",
      "Requirement already satisfied: mkl_umath in /usr/local/lib/python3.11/dist-packages (from numpy>=1.17.3->scikit-learn) (0.1.1)\r\n",
      "Requirement already satisfied: mkl in /usr/local/lib/python3.11/dist-packages (from numpy>=1.17.3->scikit-learn) (2025.1.0)\r\n",
      "Requirement already satisfied: tbb4py in /usr/local/lib/python3.11/dist-packages (from numpy>=1.17.3->scikit-learn) (2022.1.0)\r\n",
      "Requirement already satisfied: mkl-service in /usr/local/lib/python3.11/dist-packages (from numpy>=1.17.3->scikit-learn) (2.4.1)\r\n",
      "Requirement already satisfied: intel-openmp<2026,>=2024 in /usr/local/lib/python3.11/dist-packages (from mkl->numpy>=1.17.3->scikit-learn) (2024.2.0)\r\n",
      "Requirement already satisfied: tbb==2022.* in /usr/local/lib/python3.11/dist-packages (from mkl->numpy>=1.17.3->scikit-learn) (2022.1.0)\r\n",
      "Requirement already satisfied: tcmlib==1.* in /usr/local/lib/python3.11/dist-packages (from tbb==2022.*->mkl->numpy>=1.17.3->scikit-learn) (1.3.0)\r\n",
      "Requirement already satisfied: intel-cmplr-lib-rt in /usr/local/lib/python3.11/dist-packages (from mkl_umath->numpy>=1.17.3->scikit-learn) (2024.2.0)\r\n",
      "Requirement already satisfied: intel-cmplr-lib-ur==2024.2.0 in /usr/local/lib/python3.11/dist-packages (from intel-openmp<2026,>=2024->mkl->numpy>=1.17.3->scikit-learn) (2024.2.0)\r\n"
     ]
    }
   ],
   "source": [
    "!pip install scikit-learn\n"
   ]
  },
  {
   "cell_type": "code",
   "execution_count": 13,
   "id": "2175076a",
   "metadata": {
    "execution": {
     "iopub.execute_input": "2025-06-20T15:43:14.214980Z",
     "iopub.status.busy": "2025-06-20T15:43:14.214679Z",
     "iopub.status.idle": "2025-06-20T15:43:14.230363Z",
     "shell.execute_reply": "2025-06-20T15:43:14.229612Z"
    },
    "papermill": {
     "duration": 0.02206,
     "end_time": "2025-06-20T15:43:14.231926",
     "exception": false,
     "start_time": "2025-06-20T15:43:14.209866",
     "status": "completed"
    },
    "tags": []
   },
   "outputs": [
    {
     "data": {
      "application/javascript": [
       "parent.postMessage({\"jupyterEvent\": \"custom.exercise_interaction\", \"data\": {\"outcomeType\": 1, \"valueTowardsCompletion\": 0.25, \"interactionType\": 1, \"questionType\": 2, \"questionId\": \"3_CreateModel\", \"learnToolsVersion\": \"0.3.5\", \"failureMessage\": \"\", \"exceptionClass\": \"\", \"trace\": \"\"}}, \"*\")"
      ],
      "text/plain": [
       "<IPython.core.display.Javascript object>"
      ]
     },
     "metadata": {},
     "output_type": "display_data"
    },
    {
     "data": {
      "text/markdown": [
       "<span style=\"color:#33cc33\">Correct</span>"
      ],
      "text/plain": [
       "Correct"
      ]
     },
     "metadata": {},
     "output_type": "display_data"
    }
   ],
   "source": [
    "from sklearn.tree import DecisionTreeRegressor \n",
    "#specify the model. \n",
    "\n",
    "dcr = DecisionTreeRegressor(random_state = 1)\n",
    "\n",
    "#For model reproducibility, set a numeric value for random_state when specifying the model\n",
    "iowa_model = dcr\n",
    "\n",
    "# Fit the model\n",
    "dcr.fit(X,y)\n",
    "# Check your answer\n",
    "step_3.check()"
   ]
  },
  {
   "cell_type": "code",
   "execution_count": 14,
   "id": "a8334c76",
   "metadata": {
    "collapsed": true,
    "execution": {
     "iopub.execute_input": "2025-06-20T15:43:14.241001Z",
     "iopub.status.busy": "2025-06-20T15:43:14.240761Z",
     "iopub.status.idle": "2025-06-20T15:43:14.244447Z",
     "shell.execute_reply": "2025-06-20T15:43:14.243551Z"
    },
    "jupyter": {
     "outputs_hidden": true
    },
    "papermill": {
     "duration": 0.009251,
     "end_time": "2025-06-20T15:43:14.245448",
     "exception": false,
     "start_time": "2025-06-20T15:43:14.236197",
     "status": "completed"
    },
    "tags": []
   },
   "outputs": [],
   "source": [
    "# step_3.hint()\n",
    "# step_3.solution()"
   ]
  },
  {
   "cell_type": "markdown",
   "id": "c062477a",
   "metadata": {
    "papermill": {
     "duration": 0.00357,
     "end_time": "2025-06-20T15:43:14.253143",
     "exception": false,
     "start_time": "2025-06-20T15:43:14.249573",
     "status": "completed"
    },
    "tags": []
   },
   "source": [
    "## Step 4: Make Predictions\n",
    "Make predictions with the model's `predict` command using `X` as the data. Save the results to a variable called `predictions`."
   ]
  },
  {
   "cell_type": "code",
   "execution_count": 15,
   "id": "5d4b9c8e",
   "metadata": {
    "collapsed": true,
    "execution": {
     "iopub.execute_input": "2025-06-20T15:43:14.262000Z",
     "iopub.status.busy": "2025-06-20T15:43:14.261731Z",
     "iopub.status.idle": "2025-06-20T15:43:14.268971Z",
     "shell.execute_reply": "2025-06-20T15:43:14.268146Z"
    },
    "jupyter": {
     "outputs_hidden": true
    },
    "papermill": {
     "duration": 0.013312,
     "end_time": "2025-06-20T15:43:14.270234",
     "exception": false,
     "start_time": "2025-06-20T15:43:14.256922",
     "status": "completed"
    },
    "tags": []
   },
   "outputs": [
    {
     "name": "stdout",
     "output_type": "stream",
     "text": [
      "<learntools.core.constants.PlaceholderValue object at 0x7a3b47e41d90>\n"
     ]
    },
    {
     "data": {
      "application/javascript": [
       "parent.postMessage({\"jupyterEvent\": \"custom.exercise_interaction\", \"data\": {\"outcomeType\": 4, \"interactionType\": 1, \"questionType\": 2, \"questionId\": \"4_MakePredictions\", \"learnToolsVersion\": \"0.3.5\", \"valueTowardsCompletion\": 0.0, \"failureMessage\": \"\", \"exceptionClass\": \"\", \"trace\": \"\"}}, \"*\")"
      ],
      "text/plain": [
       "<IPython.core.display.Javascript object>"
      ]
     },
     "metadata": {},
     "output_type": "display_data"
    },
    {
     "data": {
      "text/markdown": [
       "<span style=\"color:#ccaa33\">Check:</span> When you've updated the starter code, `check()` will tell you whether your code is correct. You need to update the code that creates variables `predictions`, `iowa_model`, `X`"
      ],
      "text/plain": [
       "Check: When you've updated the starter code, `check()` will tell you whether your code is correct. You need to update the code that creates variables `predictions`, `iowa_model`, `X`"
      ]
     },
     "metadata": {},
     "output_type": "display_data"
    }
   ],
   "source": [
    "predictions = ____\n",
    "print(predictions)\n",
    "\n",
    "# Check your answer\n",
    "step_4.check()"
   ]
  },
  {
   "cell_type": "code",
   "execution_count": 16,
   "id": "ae68c328",
   "metadata": {
    "collapsed": true,
    "execution": {
     "iopub.execute_input": "2025-06-20T15:43:14.280026Z",
     "iopub.status.busy": "2025-06-20T15:43:14.279748Z",
     "iopub.status.idle": "2025-06-20T15:43:14.282983Z",
     "shell.execute_reply": "2025-06-20T15:43:14.282398Z"
    },
    "jupyter": {
     "outputs_hidden": true
    },
    "papermill": {
     "duration": 0.009098,
     "end_time": "2025-06-20T15:43:14.283921",
     "exception": false,
     "start_time": "2025-06-20T15:43:14.274823",
     "status": "completed"
    },
    "tags": []
   },
   "outputs": [],
   "source": [
    "# step_4.hint()\n",
    "# step_4.solution()"
   ]
  },
  {
   "cell_type": "markdown",
   "id": "ca362832",
   "metadata": {
    "papermill": {
     "duration": 0.003807,
     "end_time": "2025-06-20T15:43:14.291915",
     "exception": false,
     "start_time": "2025-06-20T15:43:14.288108",
     "status": "completed"
    },
    "tags": []
   },
   "source": [
    "## Think About Your Results\n",
    "\n",
    "Use the `head` method to compare the top few predictions to the actual home values (in `y`) for those same homes. Anything surprising?\n"
   ]
  },
  {
   "cell_type": "code",
   "execution_count": 17,
   "id": "6e30fb4f",
   "metadata": {
    "execution": {
     "iopub.execute_input": "2025-06-20T15:43:14.301568Z",
     "iopub.status.busy": "2025-06-20T15:43:14.300933Z",
     "iopub.status.idle": "2025-06-20T15:43:14.304560Z",
     "shell.execute_reply": "2025-06-20T15:43:14.303907Z"
    },
    "papermill": {
     "duration": 0.009691,
     "end_time": "2025-06-20T15:43:14.305633",
     "exception": false,
     "start_time": "2025-06-20T15:43:14.295942",
     "status": "completed"
    },
    "tags": []
   },
   "outputs": [],
   "source": [
    "# You can write code in this cell\n"
   ]
  },
  {
   "cell_type": "markdown",
   "id": "f3265a13",
   "metadata": {
    "papermill": {
     "duration": 0.003939,
     "end_time": "2025-06-20T15:43:14.313798",
     "exception": false,
     "start_time": "2025-06-20T15:43:14.309859",
     "status": "completed"
    },
    "tags": []
   },
   "source": [
    "It's natural to ask how accurate the model's predictions will be and how you can improve that. That will be you're next step.\n",
    "\n",
    "# Keep Going\n",
    "\n",
    "You are ready for **[Model Validation](https://www.kaggle.com/dansbecker/model-validation).**\n"
   ]
  },
  {
   "cell_type": "markdown",
   "id": "ac31a7ba",
   "metadata": {
    "papermill": {
     "duration": 0.003871,
     "end_time": "2025-06-20T15:43:14.321722",
     "exception": false,
     "start_time": "2025-06-20T15:43:14.317851",
     "status": "completed"
    },
    "tags": []
   },
   "source": [
    "---\n",
    "\n",
    "\n",
    "\n",
    "\n",
    "*Have questions or comments? Visit the [course discussion forum](https://www.kaggle.com/learn/intro-to-machine-learning/discussion) to chat with other learners.*"
   ]
  }
 ],
 "metadata": {
  "kaggle": {
   "accelerator": "none",
   "dataSources": [
    {
     "databundleVersionId": 111096,
     "sourceId": 10211,
     "sourceType": "competition"
    },
    {
     "datasetId": 11167,
     "sourceId": 15520,
     "sourceType": "datasetVersion"
    },
    {
     "datasetId": 2709,
     "sourceId": 38454,
     "sourceType": "datasetVersion"
    }
   ],
   "isGpuEnabled": false,
   "isInternetEnabled": false,
   "language": "python",
   "sourceType": "notebook"
  },
  "kernelspec": {
   "display_name": "Python 3",
   "language": "python",
   "name": "python3"
  },
  "language_info": {
   "codemirror_mode": {
    "name": "ipython",
    "version": 3
   },
   "file_extension": ".py",
   "mimetype": "text/x-python",
   "name": "python",
   "nbconvert_exporter": "python",
   "pygments_lexer": "ipython3",
   "version": "3.11.11"
  },
  "papermill": {
   "default_parameters": {},
   "duration": 13.300326,
   "end_time": "2025-06-20T15:43:15.046065",
   "environment_variables": {},
   "exception": null,
   "input_path": "__notebook__.ipynb",
   "output_path": "__notebook__.ipynb",
   "parameters": {},
   "start_time": "2025-06-20T15:43:01.745739",
   "version": "2.6.0"
  }
 },
 "nbformat": 4,
 "nbformat_minor": 5
}
