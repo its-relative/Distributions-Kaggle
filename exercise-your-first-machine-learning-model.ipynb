{
 "cells": [
  {
   "cell_type": "markdown",
   "id": "c7cfdbd5",
   "metadata": {
    "papermill": {
     "duration": 0.005174,
     "end_time": "2025-06-20T15:53:33.237425",
     "exception": false,
     "start_time": "2025-06-20T15:53:33.232251",
     "status": "completed"
    },
    "tags": []
   },
   "source": [
    "**This notebook is an exercise in the [Introduction to Machine Learning](https://www.kaggle.com/learn/intro-to-machine-learning) course.  You can reference the tutorial at [this link](https://www.kaggle.com/dansbecker/your-first-machine-learning-model).**\n",
    "\n",
    "---\n"
   ]
  },
  {
   "cell_type": "markdown",
   "id": "e0d7eb26",
   "metadata": {
    "papermill": {
     "duration": 0.004,
     "end_time": "2025-06-20T15:53:33.245912",
     "exception": false,
     "start_time": "2025-06-20T15:53:33.241912",
     "status": "completed"
    },
    "tags": []
   },
   "source": [
    "## Recap\n",
    "So far, you have loaded your data and reviewed it with the following code. Run this cell to set up your coding environment where the previous step left off."
   ]
  },
  {
   "cell_type": "code",
   "execution_count": 1,
   "id": "a84e936a",
   "metadata": {
    "execution": {
     "iopub.execute_input": "2025-06-20T15:53:33.255818Z",
     "iopub.status.busy": "2025-06-20T15:53:33.255498Z",
     "iopub.status.idle": "2025-06-20T15:53:36.700864Z",
     "shell.execute_reply": "2025-06-20T15:53:36.699837Z"
    },
    "papermill": {
     "duration": 3.45236,
     "end_time": "2025-06-20T15:53:36.702471",
     "exception": false,
     "start_time": "2025-06-20T15:53:33.250111",
     "status": "completed"
    },
    "tags": []
   },
   "outputs": [
    {
     "name": "stdout",
     "output_type": "stream",
     "text": [
      "Setup Complete\n"
     ]
    }
   ],
   "source": [
    "# Code you have previously used to load data\n",
    "import pandas as pd\n",
    "\n",
    "# Path of the file to read\n",
    "iowa_file_path = '../input/home-data-for-ml-course/train.csv'\n",
    "\n",
    "home_data = pd.read_csv(iowa_file_path)\n",
    "\n",
    "# Set up code checking\n",
    "from learntools.core import binder\n",
    "binder.bind(globals())\n",
    "from learntools.machine_learning.ex3 import *\n",
    "\n",
    "print(\"Setup Complete\")"
   ]
  },
  {
   "cell_type": "markdown",
   "id": "7ed73835",
   "metadata": {
    "papermill": {
     "duration": 0.004024,
     "end_time": "2025-06-20T15:53:36.711012",
     "exception": false,
     "start_time": "2025-06-20T15:53:36.706988",
     "status": "completed"
    },
    "tags": []
   },
   "source": [
    "# Exercises\n",
    "\n",
    "## Step 1: Specify Prediction Target\n",
    "Select the target variable, which corresponds to the sales price. Save this to a new variable called `y`. You'll need to print a list of the columns to find the name of the column you need.\n"
   ]
  },
  {
   "cell_type": "code",
   "execution_count": 2,
   "id": "1b1df47d",
   "metadata": {
    "execution": {
     "iopub.execute_input": "2025-06-20T15:53:36.721363Z",
     "iopub.status.busy": "2025-06-20T15:53:36.720892Z",
     "iopub.status.idle": "2025-06-20T15:53:36.725189Z",
     "shell.execute_reply": "2025-06-20T15:53:36.724444Z"
    },
    "papermill": {
     "duration": 0.010868,
     "end_time": "2025-06-20T15:53:36.726520",
     "exception": false,
     "start_time": "2025-06-20T15:53:36.715652",
     "status": "completed"
    },
    "tags": []
   },
   "outputs": [],
   "source": [
    "df = home_data"
   ]
  },
  {
   "cell_type": "code",
   "execution_count": 3,
   "id": "122dc417",
   "metadata": {
    "execution": {
     "iopub.execute_input": "2025-06-20T15:53:36.736375Z",
     "iopub.status.busy": "2025-06-20T15:53:36.736045Z",
     "iopub.status.idle": "2025-06-20T15:53:36.743901Z",
     "shell.execute_reply": "2025-06-20T15:53:36.743128Z"
    },
    "papermill": {
     "duration": 0.014339,
     "end_time": "2025-06-20T15:53:36.745210",
     "exception": false,
     "start_time": "2025-06-20T15:53:36.730871",
     "status": "completed"
    },
    "tags": []
   },
   "outputs": [
    {
     "data": {
      "text/plain": [
       "Index(['Id', 'MSSubClass', 'MSZoning', 'LotFrontage', 'LotArea', 'Street',\n",
       "       'Alley', 'LotShape', 'LandContour', 'Utilities', 'LotConfig',\n",
       "       'LandSlope', 'Neighborhood', 'Condition1', 'Condition2', 'BldgType',\n",
       "       'HouseStyle', 'OverallQual', 'OverallCond', 'YearBuilt', 'YearRemodAdd',\n",
       "       'RoofStyle', 'RoofMatl', 'Exterior1st', 'Exterior2nd', 'MasVnrType',\n",
       "       'MasVnrArea', 'ExterQual', 'ExterCond', 'Foundation', 'BsmtQual',\n",
       "       'BsmtCond', 'BsmtExposure', 'BsmtFinType1', 'BsmtFinSF1',\n",
       "       'BsmtFinType2', 'BsmtFinSF2', 'BsmtUnfSF', 'TotalBsmtSF', 'Heating',\n",
       "       'HeatingQC', 'CentralAir', 'Electrical', '1stFlrSF', '2ndFlrSF',\n",
       "       'LowQualFinSF', 'GrLivArea', 'BsmtFullBath', 'BsmtHalfBath', 'FullBath',\n",
       "       'HalfBath', 'BedroomAbvGr', 'KitchenAbvGr', 'KitchenQual',\n",
       "       'TotRmsAbvGrd', 'Functional', 'Fireplaces', 'FireplaceQu', 'GarageType',\n",
       "       'GarageYrBlt', 'GarageFinish', 'GarageCars', 'GarageArea', 'GarageQual',\n",
       "       'GarageCond', 'PavedDrive', 'WoodDeckSF', 'OpenPorchSF',\n",
       "       'EnclosedPorch', '3SsnPorch', 'ScreenPorch', 'PoolArea', 'PoolQC',\n",
       "       'Fence', 'MiscFeature', 'MiscVal', 'MoSold', 'YrSold', 'SaleType',\n",
       "       'SaleCondition', 'SalePrice'],\n",
       "      dtype='object')"
      ]
     },
     "execution_count": 3,
     "metadata": {},
     "output_type": "execute_result"
    }
   ],
   "source": [
    "# print the list of columns in the dataset to find the name of the prediction target\n",
    "df.columns"
   ]
  },
  {
   "cell_type": "code",
   "execution_count": 4,
   "id": "909c85e9",
   "metadata": {
    "execution": {
     "iopub.execute_input": "2025-06-20T15:53:36.755998Z",
     "iopub.status.busy": "2025-06-20T15:53:36.755194Z",
     "iopub.status.idle": "2025-06-20T15:53:36.766637Z",
     "shell.execute_reply": "2025-06-20T15:53:36.765702Z"
    },
    "papermill": {
     "duration": 0.018276,
     "end_time": "2025-06-20T15:53:36.768059",
     "exception": false,
     "start_time": "2025-06-20T15:53:36.749783",
     "status": "completed"
    },
    "tags": []
   },
   "outputs": [
    {
     "data": {
      "application/javascript": [
       "parent.postMessage({\"jupyterEvent\": \"custom.exercise_interaction\", \"data\": {\"outcomeType\": 1, \"valueTowardsCompletion\": 0.25, \"interactionType\": 1, \"questionType\": 2, \"questionId\": \"1_SetTarget\", \"learnToolsVersion\": \"0.3.5\", \"failureMessage\": \"\", \"exceptionClass\": \"\", \"trace\": \"\"}}, \"*\")"
      ],
      "text/plain": [
       "<IPython.core.display.Javascript object>"
      ]
     },
     "metadata": {},
     "output_type": "display_data"
    },
    {
     "data": {
      "text/markdown": [
       "<span style=\"color:#33cc33\">Correct</span>"
      ],
      "text/plain": [
       "Correct"
      ]
     },
     "metadata": {},
     "output_type": "display_data"
    }
   ],
   "source": [
    "y = df.SalePrice\n",
    "\n",
    "# Check your answer\n",
    "step_1.check()"
   ]
  },
  {
   "cell_type": "code",
   "execution_count": 5,
   "id": "2266ca40",
   "metadata": {
    "collapsed": true,
    "execution": {
     "iopub.execute_input": "2025-06-20T15:53:36.778981Z",
     "iopub.status.busy": "2025-06-20T15:53:36.778350Z",
     "iopub.status.idle": "2025-06-20T15:53:36.782331Z",
     "shell.execute_reply": "2025-06-20T15:53:36.781413Z"
    },
    "jupyter": {
     "outputs_hidden": true
    },
    "papermill": {
     "duration": 0.010853,
     "end_time": "2025-06-20T15:53:36.783591",
     "exception": false,
     "start_time": "2025-06-20T15:53:36.772738",
     "status": "completed"
    },
    "tags": []
   },
   "outputs": [],
   "source": [
    "# The lines below will show you a hint or the solution.\n",
    "# step_1.hint() \n",
    "# step_1.solution()"
   ]
  },
  {
   "cell_type": "markdown",
   "id": "5561d745",
   "metadata": {
    "papermill": {
     "duration": 0.004241,
     "end_time": "2025-06-20T15:53:36.792566",
     "exception": false,
     "start_time": "2025-06-20T15:53:36.788325",
     "status": "completed"
    },
    "tags": []
   },
   "source": [
    "## Step 2: Create X\n",
    "Now you will create a DataFrame called `X` holding the predictive features.\n",
    "\n",
    "Since you want only some columns from the original data, you'll first create a list with the names of the columns you want in `X`.\n",
    "\n",
    "You'll use just the following columns in the list (you can copy and paste the whole list to save some typing, though you'll still need to add quotes):\n",
    "  * LotArea\n",
    "  * YearBuilt\n",
    "  * 1stFlrSF\n",
    "  * 2ndFlrSF\n",
    "  * FullBath\n",
    "  * BedroomAbvGr\n",
    "  * TotRmsAbvGrd\n",
    "\n",
    "After you've created that list of features, use it to create the DataFrame that you'll use to fit the model."
   ]
  },
  {
   "cell_type": "code",
   "execution_count": 6,
   "id": "7ead85f0",
   "metadata": {
    "execution": {
     "iopub.execute_input": "2025-06-20T15:53:36.803244Z",
     "iopub.status.busy": "2025-06-20T15:53:36.802495Z",
     "iopub.status.idle": "2025-06-20T15:53:36.807054Z",
     "shell.execute_reply": "2025-06-20T15:53:36.806229Z"
    },
    "papermill": {
     "duration": 0.011367,
     "end_time": "2025-06-20T15:53:36.808428",
     "exception": false,
     "start_time": "2025-06-20T15:53:36.797061",
     "status": "completed"
    },
    "tags": []
   },
   "outputs": [],
   "source": [
    "a = \"\"\"LotArea\n",
    "  * YearBuilt\n",
    "  * 1stFlrSF\n",
    "  * 2ndFlrSF\n",
    "  * FullBath\n",
    "  * BedroomAbvGr\n",
    "  * TotRmsAbvGrd\"\"\"\n",
    "\n",
    "#\"\".join(a.split(\"*\")).lstrip().split(\"\\n\")\n",
    "feature_names = [b.strip() for b in a.split(\"*\")]"
   ]
  },
  {
   "cell_type": "code",
   "execution_count": 7,
   "id": "e3984f5d",
   "metadata": {
    "execution": {
     "iopub.execute_input": "2025-06-20T15:53:36.819209Z",
     "iopub.status.busy": "2025-06-20T15:53:36.818467Z",
     "iopub.status.idle": "2025-06-20T15:53:36.824327Z",
     "shell.execute_reply": "2025-06-20T15:53:36.823281Z"
    },
    "papermill": {
     "duration": 0.013029,
     "end_time": "2025-06-20T15:53:36.826039",
     "exception": false,
     "start_time": "2025-06-20T15:53:36.813010",
     "status": "completed"
    },
    "tags": []
   },
   "outputs": [
    {
     "data": {
      "text/plain": [
       "['LotArea',\n",
       " 'YearBuilt',\n",
       " '1stFlrSF',\n",
       " '2ndFlrSF',\n",
       " 'FullBath',\n",
       " 'BedroomAbvGr',\n",
       " 'TotRmsAbvGrd']"
      ]
     },
     "execution_count": 7,
     "metadata": {},
     "output_type": "execute_result"
    }
   ],
   "source": [
    "feature_names"
   ]
  },
  {
   "cell_type": "code",
   "execution_count": 8,
   "id": "c70dff29",
   "metadata": {
    "execution": {
     "iopub.execute_input": "2025-06-20T15:53:36.844039Z",
     "iopub.status.busy": "2025-06-20T15:53:36.843689Z",
     "iopub.status.idle": "2025-06-20T15:53:36.849442Z",
     "shell.execute_reply": "2025-06-20T15:53:36.848515Z"
    },
    "papermill": {
     "duration": 0.016765,
     "end_time": "2025-06-20T15:53:36.850998",
     "exception": false,
     "start_time": "2025-06-20T15:53:36.834233",
     "status": "completed"
    },
    "tags": []
   },
   "outputs": [],
   "source": [
    "df1 = df.copy()"
   ]
  },
  {
   "cell_type": "code",
   "execution_count": 9,
   "id": "4248bbb1",
   "metadata": {
    "execution": {
     "iopub.execute_input": "2025-06-20T15:53:36.864522Z",
     "iopub.status.busy": "2025-06-20T15:53:36.863753Z",
     "iopub.status.idle": "2025-06-20T15:53:36.876625Z",
     "shell.execute_reply": "2025-06-20T15:53:36.875802Z"
    },
    "papermill": {
     "duration": 0.020445,
     "end_time": "2025-06-20T15:53:36.878387",
     "exception": false,
     "start_time": "2025-06-20T15:53:36.857942",
     "status": "completed"
    },
    "tags": []
   },
   "outputs": [
    {
     "data": {
      "application/javascript": [
       "parent.postMessage({\"jupyterEvent\": \"custom.exercise_interaction\", \"data\": {\"outcomeType\": 1, \"valueTowardsCompletion\": 0.25, \"interactionType\": 1, \"questionType\": 2, \"questionId\": \"2_SelectPredictionData\", \"learnToolsVersion\": \"0.3.5\", \"failureMessage\": \"\", \"exceptionClass\": \"\", \"trace\": \"\"}}, \"*\")"
      ],
      "text/plain": [
       "<IPython.core.display.Javascript object>"
      ]
     },
     "metadata": {},
     "output_type": "display_data"
    },
    {
     "data": {
      "text/markdown": [
       "<span style=\"color:#33cc33\">Correct</span>"
      ],
      "text/plain": [
       "Correct"
      ]
     },
     "metadata": {},
     "output_type": "display_data"
    }
   ],
   "source": [
    "# Create the list of features below\n",
    "feature_names = ['LotArea',\n",
    " 'YearBuilt',\n",
    " '1stFlrSF',\n",
    " '2ndFlrSF',\n",
    " 'FullBath',\n",
    " 'BedroomAbvGr',\n",
    " 'TotRmsAbvGrd']\n",
    "\n",
    "# Select data corresponding to features in feature_names\n",
    "X = df1[feature_names]\n",
    "# Check your answer\n",
    "step_2.check()"
   ]
  },
  {
   "cell_type": "code",
   "execution_count": 10,
   "id": "1f9f4613",
   "metadata": {
    "collapsed": true,
    "execution": {
     "iopub.execute_input": "2025-06-20T15:53:36.893137Z",
     "iopub.status.busy": "2025-06-20T15:53:36.892851Z",
     "iopub.status.idle": "2025-06-20T15:53:36.896644Z",
     "shell.execute_reply": "2025-06-20T15:53:36.895645Z"
    },
    "jupyter": {
     "outputs_hidden": true
    },
    "papermill": {
     "duration": 0.013275,
     "end_time": "2025-06-20T15:53:36.898126",
     "exception": false,
     "start_time": "2025-06-20T15:53:36.884851",
     "status": "completed"
    },
    "tags": []
   },
   "outputs": [],
   "source": [
    "# step_2.hint()\n",
    "# step_2.solution()"
   ]
  },
  {
   "cell_type": "markdown",
   "id": "c96a1ea7",
   "metadata": {
    "papermill": {
     "duration": 0.004425,
     "end_time": "2025-06-20T15:53:36.907517",
     "exception": false,
     "start_time": "2025-06-20T15:53:36.903092",
     "status": "completed"
    },
    "tags": []
   },
   "source": [
    "## Review Data\n",
    "Before building a model, take a quick look at **X** to verify it looks sensible"
   ]
  },
  {
   "cell_type": "code",
   "execution_count": 11,
   "id": "48bd5370",
   "metadata": {
    "execution": {
     "iopub.execute_input": "2025-06-20T15:53:36.918751Z",
     "iopub.status.busy": "2025-06-20T15:53:36.917909Z",
     "iopub.status.idle": "2025-06-20T15:53:36.945163Z",
     "shell.execute_reply": "2025-06-20T15:53:36.944004Z"
    },
    "papermill": {
     "duration": 0.034802,
     "end_time": "2025-06-20T15:53:36.946964",
     "exception": false,
     "start_time": "2025-06-20T15:53:36.912162",
     "status": "completed"
    },
    "tags": []
   },
   "outputs": [
    {
     "name": "stdout",
     "output_type": "stream",
     "text": [
      "<bound method NDFrame.describe of         Id  MSSubClass MSZoning  LotFrontage  LotArea Street Alley LotShape  \\\n",
      "0        1          60       RL         65.0     8450   Pave   NaN      Reg   \n",
      "1        2          20       RL         80.0     9600   Pave   NaN      Reg   \n",
      "2        3          60       RL         68.0    11250   Pave   NaN      IR1   \n",
      "3        4          70       RL         60.0     9550   Pave   NaN      IR1   \n",
      "4        5          60       RL         84.0    14260   Pave   NaN      IR1   \n",
      "...    ...         ...      ...          ...      ...    ...   ...      ...   \n",
      "1455  1456          60       RL         62.0     7917   Pave   NaN      Reg   \n",
      "1456  1457          20       RL         85.0    13175   Pave   NaN      Reg   \n",
      "1457  1458          70       RL         66.0     9042   Pave   NaN      Reg   \n",
      "1458  1459          20       RL         68.0     9717   Pave   NaN      Reg   \n",
      "1459  1460          20       RL         75.0     9937   Pave   NaN      Reg   \n",
      "\n",
      "     LandContour Utilities  ... PoolArea PoolQC  Fence MiscFeature MiscVal  \\\n",
      "0            Lvl    AllPub  ...        0    NaN    NaN         NaN       0   \n",
      "1            Lvl    AllPub  ...        0    NaN    NaN         NaN       0   \n",
      "2            Lvl    AllPub  ...        0    NaN    NaN         NaN       0   \n",
      "3            Lvl    AllPub  ...        0    NaN    NaN         NaN       0   \n",
      "4            Lvl    AllPub  ...        0    NaN    NaN         NaN       0   \n",
      "...          ...       ...  ...      ...    ...    ...         ...     ...   \n",
      "1455         Lvl    AllPub  ...        0    NaN    NaN         NaN       0   \n",
      "1456         Lvl    AllPub  ...        0    NaN  MnPrv         NaN       0   \n",
      "1457         Lvl    AllPub  ...        0    NaN  GdPrv        Shed    2500   \n",
      "1458         Lvl    AllPub  ...        0    NaN    NaN         NaN       0   \n",
      "1459         Lvl    AllPub  ...        0    NaN    NaN         NaN       0   \n",
      "\n",
      "     MoSold YrSold  SaleType  SaleCondition  SalePrice  \n",
      "0         2   2008        WD         Normal     208500  \n",
      "1         5   2007        WD         Normal     181500  \n",
      "2         9   2008        WD         Normal     223500  \n",
      "3         2   2006        WD        Abnorml     140000  \n",
      "4        12   2008        WD         Normal     250000  \n",
      "...     ...    ...       ...            ...        ...  \n",
      "1455      8   2007        WD         Normal     175000  \n",
      "1456      2   2010        WD         Normal     210000  \n",
      "1457      5   2010        WD         Normal     266500  \n",
      "1458      4   2010        WD         Normal     142125  \n",
      "1459      6   2008        WD         Normal     147500  \n",
      "\n",
      "[1460 rows x 81 columns]>\n",
      "   Id  MSSubClass MSZoning  LotFrontage  LotArea Street Alley LotShape  \\\n",
      "0   1          60       RL         65.0     8450   Pave   NaN      Reg   \n",
      "1   2          20       RL         80.0     9600   Pave   NaN      Reg   \n",
      "2   3          60       RL         68.0    11250   Pave   NaN      IR1   \n",
      "3   4          70       RL         60.0     9550   Pave   NaN      IR1   \n",
      "4   5          60       RL         84.0    14260   Pave   NaN      IR1   \n",
      "\n",
      "  LandContour Utilities  ... PoolArea PoolQC Fence MiscFeature MiscVal MoSold  \\\n",
      "0         Lvl    AllPub  ...        0    NaN   NaN         NaN       0      2   \n",
      "1         Lvl    AllPub  ...        0    NaN   NaN         NaN       0      5   \n",
      "2         Lvl    AllPub  ...        0    NaN   NaN         NaN       0      9   \n",
      "3         Lvl    AllPub  ...        0    NaN   NaN         NaN       0      2   \n",
      "4         Lvl    AllPub  ...        0    NaN   NaN         NaN       0     12   \n",
      "\n",
      "  YrSold  SaleType  SaleCondition  SalePrice  \n",
      "0   2008        WD         Normal     208500  \n",
      "1   2007        WD         Normal     181500  \n",
      "2   2008        WD         Normal     223500  \n",
      "3   2006        WD        Abnorml     140000  \n",
      "4   2008        WD         Normal     250000  \n",
      "\n",
      "[5 rows x 81 columns]\n"
     ]
    }
   ],
   "source": [
    "# Review data\n",
    "# print description or statistics from X\n",
    "print(df.describe)\n",
    "\n",
    "# print the top few lines\n",
    "print(df.head(5))"
   ]
  },
  {
   "cell_type": "markdown",
   "id": "7bdc249f",
   "metadata": {
    "papermill": {
     "duration": 0.005707,
     "end_time": "2025-06-20T15:53:36.958899",
     "exception": false,
     "start_time": "2025-06-20T15:53:36.953192",
     "status": "completed"
    },
    "tags": []
   },
   "source": [
    "## Step 3: Specify and Fit Model\n",
    "Create a `DecisionTreeRegressor` and save it iowa_model. Ensure you've done the relevant import from sklearn to run this command.\n",
    "\n",
    "Then fit the model you just created using the data in `X` and `y` that you saved above."
   ]
  },
  {
   "cell_type": "code",
   "execution_count": 12,
   "id": "e252e473",
   "metadata": {
    "execution": {
     "iopub.execute_input": "2025-06-20T15:53:36.971246Z",
     "iopub.status.busy": "2025-06-20T15:53:36.970830Z",
     "iopub.status.idle": "2025-06-20T15:53:41.626475Z",
     "shell.execute_reply": "2025-06-20T15:53:41.625436Z"
    },
    "papermill": {
     "duration": 4.664677,
     "end_time": "2025-06-20T15:53:41.629140",
     "exception": false,
     "start_time": "2025-06-20T15:53:36.964463",
     "status": "completed"
    },
    "tags": []
   },
   "outputs": [
    {
     "name": "stdout",
     "output_type": "stream",
     "text": [
      "Requirement already satisfied: scikit-learn in /usr/local/lib/python3.11/dist-packages (1.2.2)\r\n",
      "Requirement already satisfied: numpy>=1.17.3 in /usr/local/lib/python3.11/dist-packages (from scikit-learn) (1.26.4)\r\n",
      "Requirement already satisfied: scipy>=1.3.2 in /usr/local/lib/python3.11/dist-packages (from scikit-learn) (1.15.2)\r\n",
      "Requirement already satisfied: joblib>=1.1.1 in /usr/local/lib/python3.11/dist-packages (from scikit-learn) (1.5.0)\r\n",
      "Requirement already satisfied: threadpoolctl>=2.0.0 in /usr/local/lib/python3.11/dist-packages (from scikit-learn) (3.6.0)\r\n",
      "Requirement already satisfied: mkl_fft in /usr/local/lib/python3.11/dist-packages (from numpy>=1.17.3->scikit-learn) (1.3.8)\r\n",
      "Requirement already satisfied: mkl_random in /usr/local/lib/python3.11/dist-packages (from numpy>=1.17.3->scikit-learn) (1.2.4)\r\n",
      "Requirement already satisfied: mkl_umath in /usr/local/lib/python3.11/dist-packages (from numpy>=1.17.3->scikit-learn) (0.1.1)\r\n",
      "Requirement already satisfied: mkl in /usr/local/lib/python3.11/dist-packages (from numpy>=1.17.3->scikit-learn) (2025.1.0)\r\n",
      "Requirement already satisfied: tbb4py in /usr/local/lib/python3.11/dist-packages (from numpy>=1.17.3->scikit-learn) (2022.1.0)\r\n",
      "Requirement already satisfied: mkl-service in /usr/local/lib/python3.11/dist-packages (from numpy>=1.17.3->scikit-learn) (2.4.1)\r\n",
      "Requirement already satisfied: intel-openmp<2026,>=2024 in /usr/local/lib/python3.11/dist-packages (from mkl->numpy>=1.17.3->scikit-learn) (2024.2.0)\r\n",
      "Requirement already satisfied: tbb==2022.* in /usr/local/lib/python3.11/dist-packages (from mkl->numpy>=1.17.3->scikit-learn) (2022.1.0)\r\n",
      "Requirement already satisfied: tcmlib==1.* in /usr/local/lib/python3.11/dist-packages (from tbb==2022.*->mkl->numpy>=1.17.3->scikit-learn) (1.3.0)\r\n",
      "Requirement already satisfied: intel-cmplr-lib-rt in /usr/local/lib/python3.11/dist-packages (from mkl_umath->numpy>=1.17.3->scikit-learn) (2024.2.0)\r\n",
      "Requirement already satisfied: intel-cmplr-lib-ur==2024.2.0 in /usr/local/lib/python3.11/dist-packages (from intel-openmp<2026,>=2024->mkl->numpy>=1.17.3->scikit-learn) (2024.2.0)\r\n"
     ]
    }
   ],
   "source": [
    "!pip install scikit-learn\n"
   ]
  },
  {
   "cell_type": "code",
   "execution_count": 13,
   "id": "8eeab0f2",
   "metadata": {
    "execution": {
     "iopub.execute_input": "2025-06-20T15:53:41.646338Z",
     "iopub.status.busy": "2025-06-20T15:53:41.645536Z",
     "iopub.status.idle": "2025-06-20T15:53:41.669673Z",
     "shell.execute_reply": "2025-06-20T15:53:41.668733Z"
    },
    "papermill": {
     "duration": 0.032821,
     "end_time": "2025-06-20T15:53:41.671316",
     "exception": false,
     "start_time": "2025-06-20T15:53:41.638495",
     "status": "completed"
    },
    "tags": []
   },
   "outputs": [
    {
     "data": {
      "application/javascript": [
       "parent.postMessage({\"jupyterEvent\": \"custom.exercise_interaction\", \"data\": {\"outcomeType\": 1, \"valueTowardsCompletion\": 0.25, \"interactionType\": 1, \"questionType\": 2, \"questionId\": \"3_CreateModel\", \"learnToolsVersion\": \"0.3.5\", \"failureMessage\": \"\", \"exceptionClass\": \"\", \"trace\": \"\"}}, \"*\")"
      ],
      "text/plain": [
       "<IPython.core.display.Javascript object>"
      ]
     },
     "metadata": {},
     "output_type": "display_data"
    },
    {
     "data": {
      "text/markdown": [
       "<span style=\"color:#33cc33\">Correct</span>"
      ],
      "text/plain": [
       "Correct"
      ]
     },
     "metadata": {},
     "output_type": "display_data"
    }
   ],
   "source": [
    "from sklearn.tree import DecisionTreeRegressor \n",
    "#specify the model. \n",
    "\n",
    "dcr = DecisionTreeRegressor(random_state = 1)\n",
    "\n",
    "#For model reproducibility, set a numeric value for random_state when specifying the model\n",
    "iowa_model = dcr\n",
    "\n",
    "# Fit the model\n",
    "dcr.fit(X,y)\n",
    "# Check your answer\n",
    "step_3.check()"
   ]
  },
  {
   "cell_type": "code",
   "execution_count": 14,
   "id": "0facd1e5",
   "metadata": {
    "collapsed": true,
    "execution": {
     "iopub.execute_input": "2025-06-20T15:53:41.689111Z",
     "iopub.status.busy": "2025-06-20T15:53:41.688256Z",
     "iopub.status.idle": "2025-06-20T15:53:41.692482Z",
     "shell.execute_reply": "2025-06-20T15:53:41.691635Z"
    },
    "jupyter": {
     "outputs_hidden": true
    },
    "papermill": {
     "duration": 0.012989,
     "end_time": "2025-06-20T15:53:41.693987",
     "exception": false,
     "start_time": "2025-06-20T15:53:41.680998",
     "status": "completed"
    },
    "tags": []
   },
   "outputs": [],
   "source": [
    "# step_3.hint()\n",
    "# step_3.solution()"
   ]
  },
  {
   "cell_type": "markdown",
   "id": "911c5383",
   "metadata": {
    "papermill": {
     "duration": 0.005064,
     "end_time": "2025-06-20T15:53:41.704419",
     "exception": false,
     "start_time": "2025-06-20T15:53:41.699355",
     "status": "completed"
    },
    "tags": []
   },
   "source": [
    "## Step 4: Make Predictions\n",
    "Make predictions with the model's `predict` command using `X` as the data. Save the results to a variable called `predictions`."
   ]
  },
  {
   "cell_type": "code",
   "execution_count": 15,
   "id": "84db61a5",
   "metadata": {
    "execution": {
     "iopub.execute_input": "2025-06-20T15:53:41.715904Z",
     "iopub.status.busy": "2025-06-20T15:53:41.715580Z",
     "iopub.status.idle": "2025-06-20T15:53:41.726963Z",
     "shell.execute_reply": "2025-06-20T15:53:41.726162Z"
    },
    "papermill": {
     "duration": 0.018648,
     "end_time": "2025-06-20T15:53:41.728194",
     "exception": false,
     "start_time": "2025-06-20T15:53:41.709546",
     "status": "completed"
    },
    "tags": []
   },
   "outputs": [
    {
     "name": "stdout",
     "output_type": "stream",
     "text": [
      "[208500. 181500. 223500. ... 266500. 142125. 147500.]\n"
     ]
    },
    {
     "data": {
      "application/javascript": [
       "parent.postMessage({\"jupyterEvent\": \"custom.exercise_interaction\", \"data\": {\"outcomeType\": 1, \"valueTowardsCompletion\": 0.25, \"interactionType\": 1, \"questionType\": 2, \"questionId\": \"4_MakePredictions\", \"learnToolsVersion\": \"0.3.5\", \"failureMessage\": \"\", \"exceptionClass\": \"\", \"trace\": \"\"}}, \"*\")"
      ],
      "text/plain": [
       "<IPython.core.display.Javascript object>"
      ]
     },
     "metadata": {},
     "output_type": "display_data"
    },
    {
     "data": {
      "text/markdown": [
       "<span style=\"color:#33cc33\">Correct</span>"
      ],
      "text/plain": [
       "Correct"
      ]
     },
     "metadata": {},
     "output_type": "display_data"
    }
   ],
   "source": [
    "predictions = dcr.predict(X)\n",
    "print(predictions)\n",
    "\n",
    "# Check your answer\n",
    "step_4.check()"
   ]
  },
  {
   "cell_type": "code",
   "execution_count": 16,
   "id": "48a4f52e",
   "metadata": {
    "collapsed": true,
    "execution": {
     "iopub.execute_input": "2025-06-20T15:53:41.741169Z",
     "iopub.status.busy": "2025-06-20T15:53:41.740446Z",
     "iopub.status.idle": "2025-06-20T15:53:41.744686Z",
     "shell.execute_reply": "2025-06-20T15:53:41.743900Z"
    },
    "jupyter": {
     "outputs_hidden": true
    },
    "papermill": {
     "duration": 0.012195,
     "end_time": "2025-06-20T15:53:41.746047",
     "exception": false,
     "start_time": "2025-06-20T15:53:41.733852",
     "status": "completed"
    },
    "tags": []
   },
   "outputs": [],
   "source": [
    "# step_4.hint()\n",
    "# step_4.solution()"
   ]
  },
  {
   "cell_type": "markdown",
   "id": "f2422058",
   "metadata": {
    "papermill": {
     "duration": 0.005655,
     "end_time": "2025-06-20T15:53:41.757308",
     "exception": false,
     "start_time": "2025-06-20T15:53:41.751653",
     "status": "completed"
    },
    "tags": []
   },
   "source": [
    "## Think About Your Results\n",
    "\n",
    "Use the `head` method to compare the top few predictions to the actual home values (in `y`) for those same homes. Anything surprising?\n"
   ]
  },
  {
   "cell_type": "code",
   "execution_count": 17,
   "id": "5e0ccb20",
   "metadata": {
    "execution": {
     "iopub.execute_input": "2025-06-20T15:53:41.769940Z",
     "iopub.status.busy": "2025-06-20T15:53:41.769221Z",
     "iopub.status.idle": "2025-06-20T15:53:41.794202Z",
     "shell.execute_reply": "2025-06-20T15:53:41.793296Z"
    },
    "papermill": {
     "duration": 0.033055,
     "end_time": "2025-06-20T15:53:41.795834",
     "exception": false,
     "start_time": "2025-06-20T15:53:41.762779",
     "status": "completed"
    },
    "tags": []
   },
   "outputs": [
    {
     "data": {
      "text/html": [
       "<div>\n",
       "<style scoped>\n",
       "    .dataframe tbody tr th:only-of-type {\n",
       "        vertical-align: middle;\n",
       "    }\n",
       "\n",
       "    .dataframe tbody tr th {\n",
       "        vertical-align: top;\n",
       "    }\n",
       "\n",
       "    .dataframe thead th {\n",
       "        text-align: right;\n",
       "    }\n",
       "</style>\n",
       "<table border=\"1\" class=\"dataframe\">\n",
       "  <thead>\n",
       "    <tr style=\"text-align: right;\">\n",
       "      <th></th>\n",
       "      <th>top5_pred</th>\n",
       "      <th>top5_y</th>\n",
       "    </tr>\n",
       "  </thead>\n",
       "  <tbody>\n",
       "    <tr>\n",
       "      <th>0</th>\n",
       "      <td>208500.0</td>\n",
       "      <td>208500</td>\n",
       "    </tr>\n",
       "    <tr>\n",
       "      <th>1</th>\n",
       "      <td>181500.0</td>\n",
       "      <td>181500</td>\n",
       "    </tr>\n",
       "    <tr>\n",
       "      <th>2</th>\n",
       "      <td>223500.0</td>\n",
       "      <td>223500</td>\n",
       "    </tr>\n",
       "    <tr>\n",
       "      <th>3</th>\n",
       "      <td>140000.0</td>\n",
       "      <td>140000</td>\n",
       "    </tr>\n",
       "    <tr>\n",
       "      <th>4</th>\n",
       "      <td>250000.0</td>\n",
       "      <td>250000</td>\n",
       "    </tr>\n",
       "  </tbody>\n",
       "</table>\n",
       "</div>"
      ],
      "text/plain": [
       "   top5_pred  top5_y\n",
       "0   208500.0  208500\n",
       "1   181500.0  181500\n",
       "2   223500.0  223500\n",
       "3   140000.0  140000\n",
       "4   250000.0  250000"
      ]
     },
     "execution_count": 17,
     "metadata": {},
     "output_type": "execute_result"
    }
   ],
   "source": [
    "# You can write code in this cell\n",
    "pd.DataFrame({\"top5_pred\": dcr.predict(X.head(5)),\"top5_y\": y.head(5)})"
   ]
  },
  {
   "cell_type": "markdown",
   "id": "f6a19b79",
   "metadata": {
    "papermill": {
     "duration": 0.005607,
     "end_time": "2025-06-20T15:53:41.807383",
     "exception": false,
     "start_time": "2025-06-20T15:53:41.801776",
     "status": "completed"
    },
    "tags": []
   },
   "source": [
    "It's natural to ask how accurate the model's predictions will be and how you can improve that. That will be you're next step.\n",
    "\n",
    "# Keep Going\n",
    "\n",
    "You are ready for **[Model Validation](https://www.kaggle.com/dansbecker/model-validation).**\n"
   ]
  },
  {
   "cell_type": "markdown",
   "id": "52c64095",
   "metadata": {
    "papermill": {
     "duration": 0.005388,
     "end_time": "2025-06-20T15:53:41.818341",
     "exception": false,
     "start_time": "2025-06-20T15:53:41.812953",
     "status": "completed"
    },
    "tags": []
   },
   "source": [
    "---\n",
    "\n",
    "\n",
    "\n",
    "\n",
    "*Have questions or comments? Visit the [course discussion forum](https://www.kaggle.com/learn/intro-to-machine-learning/discussion) to chat with other learners.*"
   ]
  }
 ],
 "metadata": {
  "kaggle": {
   "accelerator": "none",
   "dataSources": [
    {
     "databundleVersionId": 111096,
     "sourceId": 10211,
     "sourceType": "competition"
    },
    {
     "datasetId": 11167,
     "sourceId": 15520,
     "sourceType": "datasetVersion"
    },
    {
     "datasetId": 2709,
     "sourceId": 38454,
     "sourceType": "datasetVersion"
    }
   ],
   "isGpuEnabled": false,
   "isInternetEnabled": false,
   "language": "python",
   "sourceType": "notebook"
  },
  "kernelspec": {
   "display_name": "Python 3",
   "language": "python",
   "name": "python3"
  },
  "language_info": {
   "codemirror_mode": {
    "name": "ipython",
    "version": 3
   },
   "file_extension": ".py",
   "mimetype": "text/x-python",
   "name": "python",
   "nbconvert_exporter": "python",
   "pygments_lexer": "ipython3",
   "version": "3.11.11"
  },
  "papermill": {
   "default_parameters": {},
   "duration": 13.896696,
   "end_time": "2025-06-20T15:53:42.543614",
   "environment_variables": {},
   "exception": null,
   "input_path": "__notebook__.ipynb",
   "output_path": "__notebook__.ipynb",
   "parameters": {},
   "start_time": "2025-06-20T15:53:28.646918",
   "version": "2.6.0"
  }
 },
 "nbformat": 4,
 "nbformat_minor": 5
}
