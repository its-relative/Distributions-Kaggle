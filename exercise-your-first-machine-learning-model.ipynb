{
 "cells": [
  {
   "cell_type": "markdown",
   "id": "25cc2fe8",
   "metadata": {
    "papermill": {
     "duration": 0.003709,
     "end_time": "2025-06-20T15:11:29.491247",
     "exception": false,
     "start_time": "2025-06-20T15:11:29.487538",
     "status": "completed"
    },
    "tags": []
   },
   "source": [
    "**This notebook is an exercise in the [Introduction to Machine Learning](https://www.kaggle.com/learn/intro-to-machine-learning) course.  You can reference the tutorial at [this link](https://www.kaggle.com/dansbecker/your-first-machine-learning-model).**\n",
    "\n",
    "---\n"
   ]
  },
  {
   "cell_type": "markdown",
   "id": "cef48fc9",
   "metadata": {
    "papermill": {
     "duration": 0.002753,
     "end_time": "2025-06-20T15:11:29.497211",
     "exception": false,
     "start_time": "2025-06-20T15:11:29.494458",
     "status": "completed"
    },
    "tags": []
   },
   "source": [
    "## Recap\n",
    "So far, you have loaded your data and reviewed it with the following code. Run this cell to set up your coding environment where the previous step left off."
   ]
  },
  {
   "cell_type": "code",
   "execution_count": 1,
   "id": "7e40b7c9",
   "metadata": {
    "collapsed": true,
    "execution": {
     "iopub.execute_input": "2025-06-20T15:11:29.504316Z",
     "iopub.status.busy": "2025-06-20T15:11:29.504027Z",
     "iopub.status.idle": "2025-06-20T15:11:32.742500Z",
     "shell.execute_reply": "2025-06-20T15:11:32.741718Z"
    },
    "jupyter": {
     "outputs_hidden": true
    },
    "papermill": {
     "duration": 3.244006,
     "end_time": "2025-06-20T15:11:32.744279",
     "exception": false,
     "start_time": "2025-06-20T15:11:29.500273",
     "status": "completed"
    },
    "tags": []
   },
   "outputs": [
    {
     "name": "stdout",
     "output_type": "stream",
     "text": [
      "Setup Complete\n"
     ]
    }
   ],
   "source": [
    "# Code you have previously used to load data\n",
    "import pandas as pd\n",
    "\n",
    "# Path of the file to read\n",
    "iowa_file_path = '../input/home-data-for-ml-course/train.csv'\n",
    "\n",
    "home_data = pd.read_csv(iowa_file_path)\n",
    "\n",
    "# Set up code checking\n",
    "from learntools.core import binder\n",
    "binder.bind(globals())\n",
    "from learntools.machine_learning.ex3 import *\n",
    "\n",
    "print(\"Setup Complete\")"
   ]
  },
  {
   "cell_type": "markdown",
   "id": "6c7329e2",
   "metadata": {
    "papermill": {
     "duration": 0.002988,
     "end_time": "2025-06-20T15:11:32.750602",
     "exception": false,
     "start_time": "2025-06-20T15:11:32.747614",
     "status": "completed"
    },
    "tags": []
   },
   "source": [
    "# Exercises\n",
    "\n",
    "## Step 1: Specify Prediction Target\n",
    "Select the target variable, which corresponds to the sales price. Save this to a new variable called `y`. You'll need to print a list of the columns to find the name of the column you need.\n"
   ]
  },
  {
   "cell_type": "code",
   "execution_count": 2,
   "id": "8259bfe0",
   "metadata": {
    "collapsed": true,
    "execution": {
     "iopub.execute_input": "2025-06-20T15:11:32.758431Z",
     "iopub.status.busy": "2025-06-20T15:11:32.757577Z",
     "iopub.status.idle": "2025-06-20T15:11:32.761582Z",
     "shell.execute_reply": "2025-06-20T15:11:32.760744Z"
    },
    "jupyter": {
     "outputs_hidden": true
    },
    "papermill": {
     "duration": 0.009306,
     "end_time": "2025-06-20T15:11:32.762980",
     "exception": false,
     "start_time": "2025-06-20T15:11:32.753674",
     "status": "completed"
    },
    "tags": []
   },
   "outputs": [],
   "source": [
    "# print the list of columns in the dataset to find the name of the prediction target\n"
   ]
  },
  {
   "cell_type": "code",
   "execution_count": 3,
   "id": "31a61c42",
   "metadata": {
    "collapsed": true,
    "execution": {
     "iopub.execute_input": "2025-06-20T15:11:32.770498Z",
     "iopub.status.busy": "2025-06-20T15:11:32.770237Z",
     "iopub.status.idle": "2025-06-20T15:11:32.777052Z",
     "shell.execute_reply": "2025-06-20T15:11:32.776315Z"
    },
    "jupyter": {
     "outputs_hidden": true
    },
    "papermill": {
     "duration": 0.012239,
     "end_time": "2025-06-20T15:11:32.778588",
     "exception": false,
     "start_time": "2025-06-20T15:11:32.766349",
     "status": "completed"
    },
    "tags": []
   },
   "outputs": [
    {
     "data": {
      "application/javascript": [
       "parent.postMessage({\"jupyterEvent\": \"custom.exercise_interaction\", \"data\": {\"outcomeType\": 4, \"interactionType\": 1, \"questionType\": 2, \"questionId\": \"1_SetTarget\", \"learnToolsVersion\": \"0.3.5\", \"valueTowardsCompletion\": 0.0, \"failureMessage\": \"\", \"exceptionClass\": \"\", \"trace\": \"\"}}, \"*\")"
      ],
      "text/plain": [
       "<IPython.core.display.Javascript object>"
      ]
     },
     "metadata": {},
     "output_type": "display_data"
    },
    {
     "data": {
      "text/markdown": [
       "<span style=\"color:#ccaa33\">Check:</span> When you've updated the starter code, `check()` will tell you whether your code is correct. You need to update the code that creates variable `y`"
      ],
      "text/plain": [
       "Check: When you've updated the starter code, `check()` will tell you whether your code is correct. You need to update the code that creates variable `y`"
      ]
     },
     "metadata": {},
     "output_type": "display_data"
    }
   ],
   "source": [
    "y = ____\n",
    "\n",
    "# Check your answer\n",
    "step_1.check()"
   ]
  },
  {
   "cell_type": "code",
   "execution_count": 4,
   "id": "1f9b5002",
   "metadata": {
    "collapsed": true,
    "execution": {
     "iopub.execute_input": "2025-06-20T15:11:32.786695Z",
     "iopub.status.busy": "2025-06-20T15:11:32.786407Z",
     "iopub.status.idle": "2025-06-20T15:11:32.790497Z",
     "shell.execute_reply": "2025-06-20T15:11:32.789508Z"
    },
    "jupyter": {
     "outputs_hidden": true
    },
    "papermill": {
     "duration": 0.009835,
     "end_time": "2025-06-20T15:11:32.792014",
     "exception": false,
     "start_time": "2025-06-20T15:11:32.782179",
     "status": "completed"
    },
    "tags": []
   },
   "outputs": [],
   "source": [
    "# The lines below will show you a hint or the solution.\n",
    "# step_1.hint() \n",
    "# step_1.solution()"
   ]
  },
  {
   "cell_type": "markdown",
   "id": "4f074d8f",
   "metadata": {
    "papermill": {
     "duration": 0.003361,
     "end_time": "2025-06-20T15:11:32.798956",
     "exception": false,
     "start_time": "2025-06-20T15:11:32.795595",
     "status": "completed"
    },
    "tags": []
   },
   "source": [
    "## Step 2: Create X\n",
    "Now you will create a DataFrame called `X` holding the predictive features.\n",
    "\n",
    "Since you want only some columns from the original data, you'll first create a list with the names of the columns you want in `X`.\n",
    "\n",
    "You'll use just the following columns in the list (you can copy and paste the whole list to save some typing, though you'll still need to add quotes):\n",
    "  * LotArea\n",
    "  * YearBuilt\n",
    "  * 1stFlrSF\n",
    "  * 2ndFlrSF\n",
    "  * FullBath\n",
    "  * BedroomAbvGr\n",
    "  * TotRmsAbvGrd\n",
    "\n",
    "After you've created that list of features, use it to create the DataFrame that you'll use to fit the model."
   ]
  },
  {
   "cell_type": "code",
   "execution_count": 5,
   "id": "7a8b8f96",
   "metadata": {
    "collapsed": true,
    "execution": {
     "iopub.execute_input": "2025-06-20T15:11:32.807411Z",
     "iopub.status.busy": "2025-06-20T15:11:32.806626Z",
     "iopub.status.idle": "2025-06-20T15:11:32.813514Z",
     "shell.execute_reply": "2025-06-20T15:11:32.812712Z"
    },
    "jupyter": {
     "outputs_hidden": true
    },
    "papermill": {
     "duration": 0.012305,
     "end_time": "2025-06-20T15:11:32.814814",
     "exception": false,
     "start_time": "2025-06-20T15:11:32.802509",
     "status": "completed"
    },
    "tags": []
   },
   "outputs": [
    {
     "data": {
      "application/javascript": [
       "parent.postMessage({\"jupyterEvent\": \"custom.exercise_interaction\", \"data\": {\"outcomeType\": 4, \"interactionType\": 1, \"questionType\": 2, \"questionId\": \"2_SelectPredictionData\", \"learnToolsVersion\": \"0.3.5\", \"valueTowardsCompletion\": 0.0, \"failureMessage\": \"\", \"exceptionClass\": \"\", \"trace\": \"\"}}, \"*\")"
      ],
      "text/plain": [
       "<IPython.core.display.Javascript object>"
      ]
     },
     "metadata": {},
     "output_type": "display_data"
    },
    {
     "data": {
      "text/markdown": [
       "<span style=\"color:#ccaa33\">Check:</span> When you've updated the starter code, `check()` will tell you whether your code is correct. You need to update the code that creates variable `X`"
      ],
      "text/plain": [
       "Check: When you've updated the starter code, `check()` will tell you whether your code is correct. You need to update the code that creates variable `X`"
      ]
     },
     "metadata": {},
     "output_type": "display_data"
    }
   ],
   "source": [
    "# Create the list of features below\n",
    "feature_names = ___\n",
    "\n",
    "# Select data corresponding to features in feature_names\n",
    "X = ____\n",
    "\n",
    "# Check your answer\n",
    "step_2.check()"
   ]
  },
  {
   "cell_type": "code",
   "execution_count": 6,
   "id": "278e82a0",
   "metadata": {
    "collapsed": true,
    "execution": {
     "iopub.execute_input": "2025-06-20T15:11:32.823337Z",
     "iopub.status.busy": "2025-06-20T15:11:32.823092Z",
     "iopub.status.idle": "2025-06-20T15:11:32.826728Z",
     "shell.execute_reply": "2025-06-20T15:11:32.826008Z"
    },
    "jupyter": {
     "outputs_hidden": true
    },
    "papermill": {
     "duration": 0.009421,
     "end_time": "2025-06-20T15:11:32.827931",
     "exception": false,
     "start_time": "2025-06-20T15:11:32.818510",
     "status": "completed"
    },
    "tags": []
   },
   "outputs": [],
   "source": [
    "# step_2.hint()\n",
    "# step_2.solution()"
   ]
  },
  {
   "cell_type": "markdown",
   "id": "d3db6c5e",
   "metadata": {
    "papermill": {
     "duration": 0.00337,
     "end_time": "2025-06-20T15:11:32.834922",
     "exception": false,
     "start_time": "2025-06-20T15:11:32.831552",
     "status": "completed"
    },
    "tags": []
   },
   "source": [
    "## Review Data\n",
    "Before building a model, take a quick look at **X** to verify it looks sensible"
   ]
  },
  {
   "cell_type": "code",
   "execution_count": 7,
   "id": "3189faf8",
   "metadata": {
    "collapsed": true,
    "execution": {
     "iopub.execute_input": "2025-06-20T15:11:32.842919Z",
     "iopub.status.busy": "2025-06-20T15:11:32.842643Z",
     "iopub.status.idle": "2025-06-20T15:11:32.846403Z",
     "shell.execute_reply": "2025-06-20T15:11:32.845588Z"
    },
    "jupyter": {
     "outputs_hidden": true
    },
    "papermill": {
     "duration": 0.009363,
     "end_time": "2025-06-20T15:11:32.847720",
     "exception": false,
     "start_time": "2025-06-20T15:11:32.838357",
     "status": "completed"
    },
    "tags": []
   },
   "outputs": [],
   "source": [
    "# Review data\n",
    "# print description or statistics from X\n",
    "#print(_)\n",
    "\n",
    "# print the top few lines\n",
    "#print(_)"
   ]
  },
  {
   "cell_type": "markdown",
   "id": "52faccc7",
   "metadata": {
    "papermill": {
     "duration": 0.003648,
     "end_time": "2025-06-20T15:11:32.855099",
     "exception": false,
     "start_time": "2025-06-20T15:11:32.851451",
     "status": "completed"
    },
    "tags": []
   },
   "source": [
    "## Step 3: Specify and Fit Model\n",
    "Create a `DecisionTreeRegressor` and save it iowa_model. Ensure you've done the relevant import from sklearn to run this command.\n",
    "\n",
    "Then fit the model you just created using the data in `X` and `y` that you saved above."
   ]
  },
  {
   "cell_type": "code",
   "execution_count": 8,
   "id": "566a27be",
   "metadata": {
    "collapsed": true,
    "execution": {
     "iopub.execute_input": "2025-06-20T15:11:32.864240Z",
     "iopub.status.busy": "2025-06-20T15:11:32.863524Z",
     "iopub.status.idle": "2025-06-20T15:11:32.870425Z",
     "shell.execute_reply": "2025-06-20T15:11:32.869738Z"
    },
    "jupyter": {
     "outputs_hidden": true
    },
    "papermill": {
     "duration": 0.013165,
     "end_time": "2025-06-20T15:11:32.871957",
     "exception": false,
     "start_time": "2025-06-20T15:11:32.858792",
     "status": "completed"
    },
    "tags": []
   },
   "outputs": [
    {
     "data": {
      "application/javascript": [
       "parent.postMessage({\"jupyterEvent\": \"custom.exercise_interaction\", \"data\": {\"outcomeType\": 4, \"interactionType\": 1, \"questionType\": 2, \"questionId\": \"3_CreateModel\", \"learnToolsVersion\": \"0.3.5\", \"valueTowardsCompletion\": 0.0, \"failureMessage\": \"\", \"exceptionClass\": \"\", \"trace\": \"\"}}, \"*\")"
      ],
      "text/plain": [
       "<IPython.core.display.Javascript object>"
      ]
     },
     "metadata": {},
     "output_type": "display_data"
    },
    {
     "data": {
      "text/markdown": [
       "<span style=\"color:#ccaa33\">Check:</span> When you've updated the starter code, `check()` will tell you whether your code is correct. You need to update the code that creates variable `iowa_model`"
      ],
      "text/plain": [
       "Check: When you've updated the starter code, `check()` will tell you whether your code is correct. You need to update the code that creates variable `iowa_model`"
      ]
     },
     "metadata": {},
     "output_type": "display_data"
    }
   ],
   "source": [
    "# from _ import _\n",
    "#specify the model. \n",
    "#For model reproducibility, set a numeric value for random_state when specifying the model\n",
    "iowa_model = ____\n",
    "\n",
    "# Fit the model\n",
    "____\n",
    "\n",
    "# Check your answer\n",
    "step_3.check()"
   ]
  },
  {
   "cell_type": "code",
   "execution_count": 9,
   "id": "2a7b8733",
   "metadata": {
    "collapsed": true,
    "execution": {
     "iopub.execute_input": "2025-06-20T15:11:32.881750Z",
     "iopub.status.busy": "2025-06-20T15:11:32.881123Z",
     "iopub.status.idle": "2025-06-20T15:11:32.884992Z",
     "shell.execute_reply": "2025-06-20T15:11:32.884159Z"
    },
    "jupyter": {
     "outputs_hidden": true
    },
    "papermill": {
     "duration": 0.009947,
     "end_time": "2025-06-20T15:11:32.886366",
     "exception": false,
     "start_time": "2025-06-20T15:11:32.876419",
     "status": "completed"
    },
    "tags": []
   },
   "outputs": [],
   "source": [
    "# step_3.hint()\n",
    "# step_3.solution()"
   ]
  },
  {
   "cell_type": "markdown",
   "id": "1d7465c4",
   "metadata": {
    "papermill": {
     "duration": 0.003658,
     "end_time": "2025-06-20T15:11:32.894049",
     "exception": false,
     "start_time": "2025-06-20T15:11:32.890391",
     "status": "completed"
    },
    "tags": []
   },
   "source": [
    "## Step 4: Make Predictions\n",
    "Make predictions with the model's `predict` command using `X` as the data. Save the results to a variable called `predictions`."
   ]
  },
  {
   "cell_type": "code",
   "execution_count": 10,
   "id": "bc53f0d0",
   "metadata": {
    "collapsed": true,
    "execution": {
     "iopub.execute_input": "2025-06-20T15:11:32.902911Z",
     "iopub.status.busy": "2025-06-20T15:11:32.902616Z",
     "iopub.status.idle": "2025-06-20T15:11:32.910170Z",
     "shell.execute_reply": "2025-06-20T15:11:32.909427Z"
    },
    "jupyter": {
     "outputs_hidden": true
    },
    "papermill": {
     "duration": 0.013513,
     "end_time": "2025-06-20T15:11:32.911405",
     "exception": false,
     "start_time": "2025-06-20T15:11:32.897892",
     "status": "completed"
    },
    "tags": []
   },
   "outputs": [
    {
     "name": "stdout",
     "output_type": "stream",
     "text": [
      "<learntools.core.constants.PlaceholderValue object at 0x7f45b692f110>\n"
     ]
    },
    {
     "data": {
      "application/javascript": [
       "parent.postMessage({\"jupyterEvent\": \"custom.exercise_interaction\", \"data\": {\"outcomeType\": 4, \"interactionType\": 1, \"questionType\": 2, \"questionId\": \"4_MakePredictions\", \"learnToolsVersion\": \"0.3.5\", \"valueTowardsCompletion\": 0.0, \"failureMessage\": \"\", \"exceptionClass\": \"\", \"trace\": \"\"}}, \"*\")"
      ],
      "text/plain": [
       "<IPython.core.display.Javascript object>"
      ]
     },
     "metadata": {},
     "output_type": "display_data"
    },
    {
     "data": {
      "text/markdown": [
       "<span style=\"color:#ccaa33\">Check:</span> When you've updated the starter code, `check()` will tell you whether your code is correct. You need to update the code that creates variables `predictions`, `iowa_model`, `X`"
      ],
      "text/plain": [
       "Check: When you've updated the starter code, `check()` will tell you whether your code is correct. You need to update the code that creates variables `predictions`, `iowa_model`, `X`"
      ]
     },
     "metadata": {},
     "output_type": "display_data"
    }
   ],
   "source": [
    "predictions = ____\n",
    "print(predictions)\n",
    "\n",
    "# Check your answer\n",
    "step_4.check()"
   ]
  },
  {
   "cell_type": "code",
   "execution_count": 11,
   "id": "25f93a3a",
   "metadata": {
    "collapsed": true,
    "execution": {
     "iopub.execute_input": "2025-06-20T15:11:32.920757Z",
     "iopub.status.busy": "2025-06-20T15:11:32.920449Z",
     "iopub.status.idle": "2025-06-20T15:11:32.924241Z",
     "shell.execute_reply": "2025-06-20T15:11:32.923480Z"
    },
    "jupyter": {
     "outputs_hidden": true
    },
    "papermill": {
     "duration": 0.009933,
     "end_time": "2025-06-20T15:11:32.925546",
     "exception": false,
     "start_time": "2025-06-20T15:11:32.915613",
     "status": "completed"
    },
    "tags": []
   },
   "outputs": [],
   "source": [
    "# step_4.hint()\n",
    "# step_4.solution()"
   ]
  },
  {
   "cell_type": "markdown",
   "id": "9377af3f",
   "metadata": {
    "papermill": {
     "duration": 0.004005,
     "end_time": "2025-06-20T15:11:32.933982",
     "exception": false,
     "start_time": "2025-06-20T15:11:32.929977",
     "status": "completed"
    },
    "tags": []
   },
   "source": [
    "## Think About Your Results\n",
    "\n",
    "Use the `head` method to compare the top few predictions to the actual home values (in `y`) for those same homes. Anything surprising?\n"
   ]
  },
  {
   "cell_type": "code",
   "execution_count": 12,
   "id": "dc789f25",
   "metadata": {
    "execution": {
     "iopub.execute_input": "2025-06-20T15:11:32.943439Z",
     "iopub.status.busy": "2025-06-20T15:11:32.943183Z",
     "iopub.status.idle": "2025-06-20T15:11:32.946635Z",
     "shell.execute_reply": "2025-06-20T15:11:32.945904Z"
    },
    "papermill": {
     "duration": 0.009546,
     "end_time": "2025-06-20T15:11:32.947924",
     "exception": false,
     "start_time": "2025-06-20T15:11:32.938378",
     "status": "completed"
    },
    "tags": []
   },
   "outputs": [],
   "source": [
    "# You can write code in this cell\n"
   ]
  },
  {
   "cell_type": "markdown",
   "id": "54c016d1",
   "metadata": {
    "papermill": {
     "duration": 0.003984,
     "end_time": "2025-06-20T15:11:32.956108",
     "exception": false,
     "start_time": "2025-06-20T15:11:32.952124",
     "status": "completed"
    },
    "tags": []
   },
   "source": [
    "It's natural to ask how accurate the model's predictions will be and how you can improve that. That will be you're next step.\n",
    "\n",
    "# Keep Going\n",
    "\n",
    "You are ready for **[Model Validation](https://www.kaggle.com/dansbecker/model-validation).**\n"
   ]
  },
  {
   "cell_type": "markdown",
   "id": "3c4d764b",
   "metadata": {
    "papermill": {
     "duration": 0.003755,
     "end_time": "2025-06-20T15:11:32.963788",
     "exception": false,
     "start_time": "2025-06-20T15:11:32.960033",
     "status": "completed"
    },
    "tags": []
   },
   "source": [
    "---\n",
    "\n",
    "\n",
    "\n",
    "\n",
    "*Have questions or comments? Visit the [course discussion forum](https://www.kaggle.com/learn/intro-to-machine-learning/discussion) to chat with other learners.*"
   ]
  }
 ],
 "metadata": {
  "kaggle": {
   "accelerator": "none",
   "dataSources": [
    {
     "databundleVersionId": 111096,
     "sourceId": 10211,
     "sourceType": "competition"
    },
    {
     "datasetId": 11167,
     "sourceId": 15520,
     "sourceType": "datasetVersion"
    },
    {
     "datasetId": 2709,
     "sourceId": 38454,
     "sourceType": "datasetVersion"
    }
   ],
   "isGpuEnabled": false,
   "isInternetEnabled": false,
   "language": "python",
   "sourceType": "notebook"
  },
  "kernelspec": {
   "display_name": "Python 3",
   "language": "python",
   "name": "python3"
  },
  "language_info": {
   "codemirror_mode": {
    "name": "ipython",
    "version": 3
   },
   "file_extension": ".py",
   "mimetype": "text/x-python",
   "name": "python",
   "nbconvert_exporter": "python",
   "pygments_lexer": "ipython3",
   "version": "3.11.11"
  },
  "papermill": {
   "default_parameters": {},
   "duration": 8.213982,
   "end_time": "2025-06-20T15:11:33.486631",
   "environment_variables": {},
   "exception": null,
   "input_path": "__notebook__.ipynb",
   "output_path": "__notebook__.ipynb",
   "parameters": {},
   "start_time": "2025-06-20T15:11:25.272649",
   "version": "2.6.0"
  }
 },
 "nbformat": 4,
 "nbformat_minor": 5
}
