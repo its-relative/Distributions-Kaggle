{
 "cells": [
  {
   "cell_type": "markdown",
   "id": "7a279964",
   "metadata": {
    "papermill": {
     "duration": 0.00543,
     "end_time": "2025-06-20T15:34:52.505943",
     "exception": false,
     "start_time": "2025-06-20T15:34:52.500513",
     "status": "completed"
    },
    "tags": []
   },
   "source": [
    "**This notebook is an exercise in the [Introduction to Machine Learning](https://www.kaggle.com/learn/intro-to-machine-learning) course.  You can reference the tutorial at [this link](https://www.kaggle.com/dansbecker/your-first-machine-learning-model).**\n",
    "\n",
    "---\n"
   ]
  },
  {
   "cell_type": "markdown",
   "id": "e1012e92",
   "metadata": {
    "papermill": {
     "duration": 0.004217,
     "end_time": "2025-06-20T15:34:52.514841",
     "exception": false,
     "start_time": "2025-06-20T15:34:52.510624",
     "status": "completed"
    },
    "tags": []
   },
   "source": [
    "## Recap\n",
    "So far, you have loaded your data and reviewed it with the following code. Run this cell to set up your coding environment where the previous step left off."
   ]
  },
  {
   "cell_type": "code",
   "execution_count": 1,
   "id": "76992723",
   "metadata": {
    "execution": {
     "iopub.execute_input": "2025-06-20T15:34:52.525817Z",
     "iopub.status.busy": "2025-06-20T15:34:52.525498Z",
     "iopub.status.idle": "2025-06-20T15:34:56.499405Z",
     "shell.execute_reply": "2025-06-20T15:34:56.498374Z"
    },
    "papermill": {
     "duration": 3.981438,
     "end_time": "2025-06-20T15:34:56.501070",
     "exception": false,
     "start_time": "2025-06-20T15:34:52.519632",
     "status": "completed"
    },
    "tags": []
   },
   "outputs": [
    {
     "name": "stdout",
     "output_type": "stream",
     "text": [
      "Setup Complete\n"
     ]
    }
   ],
   "source": [
    "# Code you have previously used to load data\n",
    "import pandas as pd\n",
    "\n",
    "# Path of the file to read\n",
    "iowa_file_path = '../input/home-data-for-ml-course/train.csv'\n",
    "\n",
    "home_data = pd.read_csv(iowa_file_path)\n",
    "\n",
    "# Set up code checking\n",
    "from learntools.core import binder\n",
    "binder.bind(globals())\n",
    "from learntools.machine_learning.ex3 import *\n",
    "\n",
    "print(\"Setup Complete\")"
   ]
  },
  {
   "cell_type": "markdown",
   "id": "4ebe3a5d",
   "metadata": {
    "papermill": {
     "duration": 0.004305,
     "end_time": "2025-06-20T15:34:56.510217",
     "exception": false,
     "start_time": "2025-06-20T15:34:56.505912",
     "status": "completed"
    },
    "tags": []
   },
   "source": [
    "# Exercises\n",
    "\n",
    "## Step 1: Specify Prediction Target\n",
    "Select the target variable, which corresponds to the sales price. Save this to a new variable called `y`. You'll need to print a list of the columns to find the name of the column you need.\n"
   ]
  },
  {
   "cell_type": "code",
   "execution_count": 2,
   "id": "62479481",
   "metadata": {
    "execution": {
     "iopub.execute_input": "2025-06-20T15:34:56.521188Z",
     "iopub.status.busy": "2025-06-20T15:34:56.520300Z",
     "iopub.status.idle": "2025-06-20T15:34:56.525045Z",
     "shell.execute_reply": "2025-06-20T15:34:56.524156Z"
    },
    "papermill": {
     "duration": 0.011824,
     "end_time": "2025-06-20T15:34:56.526592",
     "exception": false,
     "start_time": "2025-06-20T15:34:56.514768",
     "status": "completed"
    },
    "tags": []
   },
   "outputs": [],
   "source": [
    "df = home_data"
   ]
  },
  {
   "cell_type": "code",
   "execution_count": 3,
   "id": "255507c1",
   "metadata": {
    "execution": {
     "iopub.execute_input": "2025-06-20T15:34:56.537098Z",
     "iopub.status.busy": "2025-06-20T15:34:56.536803Z",
     "iopub.status.idle": "2025-06-20T15:34:56.545846Z",
     "shell.execute_reply": "2025-06-20T15:34:56.544786Z"
    },
    "papermill": {
     "duration": 0.016148,
     "end_time": "2025-06-20T15:34:56.547420",
     "exception": false,
     "start_time": "2025-06-20T15:34:56.531272",
     "status": "completed"
    },
    "tags": []
   },
   "outputs": [
    {
     "data": {
      "text/plain": [
       "Index(['Id', 'MSSubClass', 'MSZoning', 'LotFrontage', 'LotArea', 'Street',\n",
       "       'Alley', 'LotShape', 'LandContour', 'Utilities', 'LotConfig',\n",
       "       'LandSlope', 'Neighborhood', 'Condition1', 'Condition2', 'BldgType',\n",
       "       'HouseStyle', 'OverallQual', 'OverallCond', 'YearBuilt', 'YearRemodAdd',\n",
       "       'RoofStyle', 'RoofMatl', 'Exterior1st', 'Exterior2nd', 'MasVnrType',\n",
       "       'MasVnrArea', 'ExterQual', 'ExterCond', 'Foundation', 'BsmtQual',\n",
       "       'BsmtCond', 'BsmtExposure', 'BsmtFinType1', 'BsmtFinSF1',\n",
       "       'BsmtFinType2', 'BsmtFinSF2', 'BsmtUnfSF', 'TotalBsmtSF', 'Heating',\n",
       "       'HeatingQC', 'CentralAir', 'Electrical', '1stFlrSF', '2ndFlrSF',\n",
       "       'LowQualFinSF', 'GrLivArea', 'BsmtFullBath', 'BsmtHalfBath', 'FullBath',\n",
       "       'HalfBath', 'BedroomAbvGr', 'KitchenAbvGr', 'KitchenQual',\n",
       "       'TotRmsAbvGrd', 'Functional', 'Fireplaces', 'FireplaceQu', 'GarageType',\n",
       "       'GarageYrBlt', 'GarageFinish', 'GarageCars', 'GarageArea', 'GarageQual',\n",
       "       'GarageCond', 'PavedDrive', 'WoodDeckSF', 'OpenPorchSF',\n",
       "       'EnclosedPorch', '3SsnPorch', 'ScreenPorch', 'PoolArea', 'PoolQC',\n",
       "       'Fence', 'MiscFeature', 'MiscVal', 'MoSold', 'YrSold', 'SaleType',\n",
       "       'SaleCondition', 'SalePrice'],\n",
       "      dtype='object')"
      ]
     },
     "execution_count": 3,
     "metadata": {},
     "output_type": "execute_result"
    }
   ],
   "source": [
    "# print the list of columns in the dataset to find the name of the prediction target\n",
    "df.columns"
   ]
  },
  {
   "cell_type": "code",
   "execution_count": 4,
   "id": "4e47828f",
   "metadata": {
    "execution": {
     "iopub.execute_input": "2025-06-20T15:34:56.559271Z",
     "iopub.status.busy": "2025-06-20T15:34:56.558264Z",
     "iopub.status.idle": "2025-06-20T15:34:56.570310Z",
     "shell.execute_reply": "2025-06-20T15:34:56.569321Z"
    },
    "papermill": {
     "duration": 0.019389,
     "end_time": "2025-06-20T15:34:56.571994",
     "exception": false,
     "start_time": "2025-06-20T15:34:56.552605",
     "status": "completed"
    },
    "tags": []
   },
   "outputs": [
    {
     "data": {
      "application/javascript": [
       "parent.postMessage({\"jupyterEvent\": \"custom.exercise_interaction\", \"data\": {\"outcomeType\": 1, \"valueTowardsCompletion\": 0.25, \"interactionType\": 1, \"questionType\": 2, \"questionId\": \"1_SetTarget\", \"learnToolsVersion\": \"0.3.5\", \"failureMessage\": \"\", \"exceptionClass\": \"\", \"trace\": \"\"}}, \"*\")"
      ],
      "text/plain": [
       "<IPython.core.display.Javascript object>"
      ]
     },
     "metadata": {},
     "output_type": "display_data"
    },
    {
     "data": {
      "text/markdown": [
       "<span style=\"color:#33cc33\">Correct</span>"
      ],
      "text/plain": [
       "Correct"
      ]
     },
     "metadata": {},
     "output_type": "display_data"
    }
   ],
   "source": [
    "y = df.SalePrice\n",
    "\n",
    "# Check your answer\n",
    "step_1.check()"
   ]
  },
  {
   "cell_type": "code",
   "execution_count": 5,
   "id": "3c688cd1",
   "metadata": {
    "collapsed": true,
    "execution": {
     "iopub.execute_input": "2025-06-20T15:34:56.583494Z",
     "iopub.status.busy": "2025-06-20T15:34:56.583150Z",
     "iopub.status.idle": "2025-06-20T15:34:56.587141Z",
     "shell.execute_reply": "2025-06-20T15:34:56.586321Z"
    },
    "jupyter": {
     "outputs_hidden": true
    },
    "papermill": {
     "duration": 0.011648,
     "end_time": "2025-06-20T15:34:56.588823",
     "exception": false,
     "start_time": "2025-06-20T15:34:56.577175",
     "status": "completed"
    },
    "tags": []
   },
   "outputs": [],
   "source": [
    "# The lines below will show you a hint or the solution.\n",
    "# step_1.hint() \n",
    "# step_1.solution()"
   ]
  },
  {
   "cell_type": "markdown",
   "id": "a9f32ba5",
   "metadata": {
    "papermill": {
     "duration": 0.004676,
     "end_time": "2025-06-20T15:34:56.598709",
     "exception": false,
     "start_time": "2025-06-20T15:34:56.594033",
     "status": "completed"
    },
    "tags": []
   },
   "source": [
    "## Step 2: Create X\n",
    "Now you will create a DataFrame called `X` holding the predictive features.\n",
    "\n",
    "Since you want only some columns from the original data, you'll first create a list with the names of the columns you want in `X`.\n",
    "\n",
    "You'll use just the following columns in the list (you can copy and paste the whole list to save some typing, though you'll still need to add quotes):\n",
    "  * LotArea\n",
    "  * YearBuilt\n",
    "  * 1stFlrSF\n",
    "  * 2ndFlrSF\n",
    "  * FullBath\n",
    "  * BedroomAbvGr\n",
    "  * TotRmsAbvGrd\n",
    "\n",
    "After you've created that list of features, use it to create the DataFrame that you'll use to fit the model."
   ]
  },
  {
   "cell_type": "code",
   "execution_count": 6,
   "id": "def2fad3",
   "metadata": {
    "execution": {
     "iopub.execute_input": "2025-06-20T15:34:56.609923Z",
     "iopub.status.busy": "2025-06-20T15:34:56.609555Z",
     "iopub.status.idle": "2025-06-20T15:34:56.614628Z",
     "shell.execute_reply": "2025-06-20T15:34:56.613766Z"
    },
    "papermill": {
     "duration": 0.012355,
     "end_time": "2025-06-20T15:34:56.616068",
     "exception": false,
     "start_time": "2025-06-20T15:34:56.603713",
     "status": "completed"
    },
    "tags": []
   },
   "outputs": [],
   "source": [
    "a = \"\"\"LotArea\n",
    "  * YearBuilt\n",
    "  * 1stFlrSF\n",
    "  * 2ndFlrSF\n",
    "  * FullBath\n",
    "  * BedroomAbvGr\n",
    "  * TotRmsAbvGrd\"\"\"\n",
    "\n",
    "#\"\".join(a.split(\"*\")).lstrip().split(\"\\n\")\n",
    "feature_names = [b.strip() for b in a.split(\"*\")]"
   ]
  },
  {
   "cell_type": "code",
   "execution_count": 7,
   "id": "409ea5e5",
   "metadata": {
    "execution": {
     "iopub.execute_input": "2025-06-20T15:34:56.627208Z",
     "iopub.status.busy": "2025-06-20T15:34:56.626921Z",
     "iopub.status.idle": "2025-06-20T15:34:56.633354Z",
     "shell.execute_reply": "2025-06-20T15:34:56.632378Z"
    },
    "papermill": {
     "duration": 0.013808,
     "end_time": "2025-06-20T15:34:56.634893",
     "exception": false,
     "start_time": "2025-06-20T15:34:56.621085",
     "status": "completed"
    },
    "tags": []
   },
   "outputs": [
    {
     "data": {
      "text/plain": [
       "['LotArea',\n",
       " 'YearBuilt',\n",
       " '1stFlrSF',\n",
       " '2ndFlrSF',\n",
       " 'FullBath',\n",
       " 'BedroomAbvGr',\n",
       " 'TotRmsAbvGrd']"
      ]
     },
     "execution_count": 7,
     "metadata": {},
     "output_type": "execute_result"
    }
   ],
   "source": [
    "feature_names"
   ]
  },
  {
   "cell_type": "code",
   "execution_count": 8,
   "id": "adb0479a",
   "metadata": {
    "execution": {
     "iopub.execute_input": "2025-06-20T15:34:56.646860Z",
     "iopub.status.busy": "2025-06-20T15:34:56.646549Z",
     "iopub.status.idle": "2025-06-20T15:34:56.652042Z",
     "shell.execute_reply": "2025-06-20T15:34:56.651105Z"
    },
    "papermill": {
     "duration": 0.013183,
     "end_time": "2025-06-20T15:34:56.653693",
     "exception": false,
     "start_time": "2025-06-20T15:34:56.640510",
     "status": "completed"
    },
    "tags": []
   },
   "outputs": [],
   "source": [
    "df1 = df.copy()"
   ]
  },
  {
   "cell_type": "code",
   "execution_count": 9,
   "id": "10bcc89c",
   "metadata": {
    "execution": {
     "iopub.execute_input": "2025-06-20T15:34:56.665043Z",
     "iopub.status.busy": "2025-06-20T15:34:56.664754Z",
     "iopub.status.idle": "2025-06-20T15:34:56.675288Z",
     "shell.execute_reply": "2025-06-20T15:34:56.674095Z"
    },
    "papermill": {
     "duration": 0.018073,
     "end_time": "2025-06-20T15:34:56.676933",
     "exception": false,
     "start_time": "2025-06-20T15:34:56.658860",
     "status": "completed"
    },
    "tags": []
   },
   "outputs": [
    {
     "data": {
      "application/javascript": [
       "parent.postMessage({\"jupyterEvent\": \"custom.exercise_interaction\", \"data\": {\"outcomeType\": 1, \"valueTowardsCompletion\": 0.25, \"interactionType\": 1, \"questionType\": 2, \"questionId\": \"2_SelectPredictionData\", \"learnToolsVersion\": \"0.3.5\", \"failureMessage\": \"\", \"exceptionClass\": \"\", \"trace\": \"\"}}, \"*\")"
      ],
      "text/plain": [
       "<IPython.core.display.Javascript object>"
      ]
     },
     "metadata": {},
     "output_type": "display_data"
    },
    {
     "data": {
      "text/markdown": [
       "<span style=\"color:#33cc33\">Correct</span>"
      ],
      "text/plain": [
       "Correct"
      ]
     },
     "metadata": {},
     "output_type": "display_data"
    }
   ],
   "source": [
    "# Create the list of features below\n",
    "feature_names = ['LotArea',\n",
    " 'YearBuilt',\n",
    " '1stFlrSF',\n",
    " '2ndFlrSF',\n",
    " 'FullBath',\n",
    " 'BedroomAbvGr',\n",
    " 'TotRmsAbvGrd']\n",
    "\n",
    "# Select data corresponding to features in feature_names\n",
    "X = df1[feature_names]\n",
    "# Check your answer\n",
    "step_2.check()"
   ]
  },
  {
   "cell_type": "code",
   "execution_count": 10,
   "id": "ff0cc4c4",
   "metadata": {
    "collapsed": true,
    "execution": {
     "iopub.execute_input": "2025-06-20T15:34:56.689111Z",
     "iopub.status.busy": "2025-06-20T15:34:56.688825Z",
     "iopub.status.idle": "2025-06-20T15:34:56.693059Z",
     "shell.execute_reply": "2025-06-20T15:34:56.692139Z"
    },
    "jupyter": {
     "outputs_hidden": true
    },
    "papermill": {
     "duration": 0.011861,
     "end_time": "2025-06-20T15:34:56.694629",
     "exception": false,
     "start_time": "2025-06-20T15:34:56.682768",
     "status": "completed"
    },
    "tags": []
   },
   "outputs": [],
   "source": [
    "# step_2.hint()\n",
    "# step_2.solution()"
   ]
  },
  {
   "cell_type": "markdown",
   "id": "f55c5711",
   "metadata": {
    "papermill": {
     "duration": 0.005097,
     "end_time": "2025-06-20T15:34:56.705200",
     "exception": false,
     "start_time": "2025-06-20T15:34:56.700103",
     "status": "completed"
    },
    "tags": []
   },
   "source": [
    "## Review Data\n",
    "Before building a model, take a quick look at **X** to verify it looks sensible"
   ]
  },
  {
   "cell_type": "code",
   "execution_count": 11,
   "id": "ceabd988",
   "metadata": {
    "collapsed": true,
    "execution": {
     "iopub.execute_input": "2025-06-20T15:34:56.717210Z",
     "iopub.status.busy": "2025-06-20T15:34:56.716922Z",
     "iopub.status.idle": "2025-06-20T15:34:56.721050Z",
     "shell.execute_reply": "2025-06-20T15:34:56.720193Z"
    },
    "jupyter": {
     "outputs_hidden": true
    },
    "papermill": {
     "duration": 0.011952,
     "end_time": "2025-06-20T15:34:56.722549",
     "exception": false,
     "start_time": "2025-06-20T15:34:56.710597",
     "status": "completed"
    },
    "tags": []
   },
   "outputs": [],
   "source": [
    "# Review data\n",
    "# print description or statistics from X\n",
    "#print(_)\n",
    "\n",
    "# print the top few lines\n",
    "#print(_)"
   ]
  },
  {
   "cell_type": "markdown",
   "id": "0e3473d0",
   "metadata": {
    "papermill": {
     "duration": 0.005028,
     "end_time": "2025-06-20T15:34:56.733031",
     "exception": false,
     "start_time": "2025-06-20T15:34:56.728003",
     "status": "completed"
    },
    "tags": []
   },
   "source": [
    "## Step 3: Specify and Fit Model\n",
    "Create a `DecisionTreeRegressor` and save it iowa_model. Ensure you've done the relevant import from sklearn to run this command.\n",
    "\n",
    "Then fit the model you just created using the data in `X` and `y` that you saved above."
   ]
  },
  {
   "cell_type": "code",
   "execution_count": 12,
   "id": "b3d9fb66",
   "metadata": {
    "collapsed": true,
    "execution": {
     "iopub.execute_input": "2025-06-20T15:34:56.744931Z",
     "iopub.status.busy": "2025-06-20T15:34:56.744592Z",
     "iopub.status.idle": "2025-06-20T15:34:56.752169Z",
     "shell.execute_reply": "2025-06-20T15:34:56.751196Z"
    },
    "jupyter": {
     "outputs_hidden": true
    },
    "papermill": {
     "duration": 0.015463,
     "end_time": "2025-06-20T15:34:56.753821",
     "exception": false,
     "start_time": "2025-06-20T15:34:56.738358",
     "status": "completed"
    },
    "tags": []
   },
   "outputs": [
    {
     "data": {
      "application/javascript": [
       "parent.postMessage({\"jupyterEvent\": \"custom.exercise_interaction\", \"data\": {\"outcomeType\": 4, \"interactionType\": 1, \"questionType\": 2, \"questionId\": \"3_CreateModel\", \"learnToolsVersion\": \"0.3.5\", \"valueTowardsCompletion\": 0.0, \"failureMessage\": \"\", \"exceptionClass\": \"\", \"trace\": \"\"}}, \"*\")"
      ],
      "text/plain": [
       "<IPython.core.display.Javascript object>"
      ]
     },
     "metadata": {},
     "output_type": "display_data"
    },
    {
     "data": {
      "text/markdown": [
       "<span style=\"color:#ccaa33\">Check:</span> When you've updated the starter code, `check()` will tell you whether your code is correct. You need to update the code that creates variable `iowa_model`"
      ],
      "text/plain": [
       "Check: When you've updated the starter code, `check()` will tell you whether your code is correct. You need to update the code that creates variable `iowa_model`"
      ]
     },
     "metadata": {},
     "output_type": "display_data"
    }
   ],
   "source": [
    "# from _ import _\n",
    "#specify the model. \n",
    "#For model reproducibility, set a numeric value for random_state when specifying the model\n",
    "iowa_model = ____\n",
    "\n",
    "# Fit the model\n",
    "____\n",
    "\n",
    "# Check your answer\n",
    "step_3.check()"
   ]
  },
  {
   "cell_type": "code",
   "execution_count": 13,
   "id": "9aa22f1b",
   "metadata": {
    "collapsed": true,
    "execution": {
     "iopub.execute_input": "2025-06-20T15:34:56.766318Z",
     "iopub.status.busy": "2025-06-20T15:34:56.766032Z",
     "iopub.status.idle": "2025-06-20T15:34:56.770010Z",
     "shell.execute_reply": "2025-06-20T15:34:56.769256Z"
    },
    "jupyter": {
     "outputs_hidden": true
    },
    "papermill": {
     "duration": 0.011819,
     "end_time": "2025-06-20T15:34:56.771387",
     "exception": false,
     "start_time": "2025-06-20T15:34:56.759568",
     "status": "completed"
    },
    "tags": []
   },
   "outputs": [],
   "source": [
    "# step_3.hint()\n",
    "# step_3.solution()"
   ]
  },
  {
   "cell_type": "markdown",
   "id": "ee13ff10",
   "metadata": {
    "papermill": {
     "duration": 0.005443,
     "end_time": "2025-06-20T15:34:56.782658",
     "exception": false,
     "start_time": "2025-06-20T15:34:56.777215",
     "status": "completed"
    },
    "tags": []
   },
   "source": [
    "## Step 4: Make Predictions\n",
    "Make predictions with the model's `predict` command using `X` as the data. Save the results to a variable called `predictions`."
   ]
  },
  {
   "cell_type": "code",
   "execution_count": 14,
   "id": "3a3a0650",
   "metadata": {
    "collapsed": true,
    "execution": {
     "iopub.execute_input": "2025-06-20T15:34:56.795072Z",
     "iopub.status.busy": "2025-06-20T15:34:56.794710Z",
     "iopub.status.idle": "2025-06-20T15:34:56.802749Z",
     "shell.execute_reply": "2025-06-20T15:34:56.801880Z"
    },
    "jupyter": {
     "outputs_hidden": true
    },
    "papermill": {
     "duration": 0.016184,
     "end_time": "2025-06-20T15:34:56.804286",
     "exception": false,
     "start_time": "2025-06-20T15:34:56.788102",
     "status": "completed"
    },
    "tags": []
   },
   "outputs": [
    {
     "name": "stdout",
     "output_type": "stream",
     "text": [
      "<learntools.core.constants.PlaceholderValue object at 0x7d8c4085c890>\n"
     ]
    },
    {
     "data": {
      "application/javascript": [
       "parent.postMessage({\"jupyterEvent\": \"custom.exercise_interaction\", \"data\": {\"outcomeType\": 4, \"interactionType\": 1, \"questionType\": 2, \"questionId\": \"4_MakePredictions\", \"learnToolsVersion\": \"0.3.5\", \"valueTowardsCompletion\": 0.0, \"failureMessage\": \"\", \"exceptionClass\": \"\", \"trace\": \"\"}}, \"*\")"
      ],
      "text/plain": [
       "<IPython.core.display.Javascript object>"
      ]
     },
     "metadata": {},
     "output_type": "display_data"
    },
    {
     "data": {
      "text/markdown": [
       "<span style=\"color:#ccaa33\">Check:</span> When you've updated the starter code, `check()` will tell you whether your code is correct. You need to update the code that creates variables `predictions`, `iowa_model`, `X`"
      ],
      "text/plain": [
       "Check: When you've updated the starter code, `check()` will tell you whether your code is correct. You need to update the code that creates variables `predictions`, `iowa_model`, `X`"
      ]
     },
     "metadata": {},
     "output_type": "display_data"
    }
   ],
   "source": [
    "predictions = ____\n",
    "print(predictions)\n",
    "\n",
    "# Check your answer\n",
    "step_4.check()"
   ]
  },
  {
   "cell_type": "code",
   "execution_count": 15,
   "id": "3c8016de",
   "metadata": {
    "collapsed": true,
    "execution": {
     "iopub.execute_input": "2025-06-20T15:34:56.817412Z",
     "iopub.status.busy": "2025-06-20T15:34:56.817108Z",
     "iopub.status.idle": "2025-06-20T15:34:56.821027Z",
     "shell.execute_reply": "2025-06-20T15:34:56.820153Z"
    },
    "jupyter": {
     "outputs_hidden": true
    },
    "papermill": {
     "duration": 0.012055,
     "end_time": "2025-06-20T15:34:56.822425",
     "exception": false,
     "start_time": "2025-06-20T15:34:56.810370",
     "status": "completed"
    },
    "tags": []
   },
   "outputs": [],
   "source": [
    "# step_4.hint()\n",
    "# step_4.solution()"
   ]
  },
  {
   "cell_type": "markdown",
   "id": "d2961c19",
   "metadata": {
    "papermill": {
     "duration": 0.005703,
     "end_time": "2025-06-20T15:34:56.834327",
     "exception": false,
     "start_time": "2025-06-20T15:34:56.828624",
     "status": "completed"
    },
    "tags": []
   },
   "source": [
    "## Think About Your Results\n",
    "\n",
    "Use the `head` method to compare the top few predictions to the actual home values (in `y`) for those same homes. Anything surprising?\n"
   ]
  },
  {
   "cell_type": "code",
   "execution_count": 16,
   "id": "6dc4c728",
   "metadata": {
    "execution": {
     "iopub.execute_input": "2025-06-20T15:34:56.847272Z",
     "iopub.status.busy": "2025-06-20T15:34:56.846951Z",
     "iopub.status.idle": "2025-06-20T15:34:56.851131Z",
     "shell.execute_reply": "2025-06-20T15:34:56.850289Z"
    },
    "papermill": {
     "duration": 0.012425,
     "end_time": "2025-06-20T15:34:56.852500",
     "exception": false,
     "start_time": "2025-06-20T15:34:56.840075",
     "status": "completed"
    },
    "tags": []
   },
   "outputs": [],
   "source": [
    "# You can write code in this cell\n"
   ]
  },
  {
   "cell_type": "markdown",
   "id": "d5c4e83c",
   "metadata": {
    "papermill": {
     "duration": 0.005593,
     "end_time": "2025-06-20T15:34:56.864283",
     "exception": false,
     "start_time": "2025-06-20T15:34:56.858690",
     "status": "completed"
    },
    "tags": []
   },
   "source": [
    "It's natural to ask how accurate the model's predictions will be and how you can improve that. That will be you're next step.\n",
    "\n",
    "# Keep Going\n",
    "\n",
    "You are ready for **[Model Validation](https://www.kaggle.com/dansbecker/model-validation).**\n"
   ]
  },
  {
   "cell_type": "markdown",
   "id": "340239cc",
   "metadata": {
    "papermill": {
     "duration": 0.005614,
     "end_time": "2025-06-20T15:34:56.875658",
     "exception": false,
     "start_time": "2025-06-20T15:34:56.870044",
     "status": "completed"
    },
    "tags": []
   },
   "source": [
    "---\n",
    "\n",
    "\n",
    "\n",
    "\n",
    "*Have questions or comments? Visit the [course discussion forum](https://www.kaggle.com/learn/intro-to-machine-learning/discussion) to chat with other learners.*"
   ]
  }
 ],
 "metadata": {
  "kaggle": {
   "accelerator": "none",
   "dataSources": [
    {
     "databundleVersionId": 111096,
     "sourceId": 10211,
     "sourceType": "competition"
    },
    {
     "datasetId": 11167,
     "sourceId": 15520,
     "sourceType": "datasetVersion"
    },
    {
     "datasetId": 2709,
     "sourceId": 38454,
     "sourceType": "datasetVersion"
    }
   ],
   "isGpuEnabled": false,
   "isInternetEnabled": false,
   "language": "python",
   "sourceType": "notebook"
  },
  "kernelspec": {
   "display_name": "Python 3",
   "language": "python",
   "name": "python3"
  },
  "language_info": {
   "codemirror_mode": {
    "name": "ipython",
    "version": 3
   },
   "file_extension": ".py",
   "mimetype": "text/x-python",
   "name": "python",
   "nbconvert_exporter": "python",
   "pygments_lexer": "ipython3",
   "version": "3.11.11"
  },
  "papermill": {
   "default_parameters": {},
   "duration": 10.070771,
   "end_time": "2025-06-20T15:34:57.502078",
   "environment_variables": {},
   "exception": null,
   "input_path": "__notebook__.ipynb",
   "output_path": "__notebook__.ipynb",
   "parameters": {},
   "start_time": "2025-06-20T15:34:47.431307",
   "version": "2.6.0"
  }
 },
 "nbformat": 4,
 "nbformat_minor": 5
}
