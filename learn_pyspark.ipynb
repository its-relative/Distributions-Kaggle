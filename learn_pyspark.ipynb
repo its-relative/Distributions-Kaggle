{
  "metadata": {
    "kernelspec": {
      "display_name": "Python 3",
      "name": "python3"
    },
    "language_info": {
      "name": "python",
      "version": "3.6.4"
    },
    "colab": {
      "provenance": [],
      "include_colab_link": true
    },
    "widgets": {
      "application/vnd.jupyter.widget-state+json": {
        "569591b7a6ae4c8b917f349b1cd97967": {
          "model_module": "@jupyter-widgets/controls",
          "model_name": "VBoxModel",
          "model_module_version": "1.5.0",
          "state": {
            "_dom_classes": [],
            "_model_module": "@jupyter-widgets/controls",
            "_model_module_version": "1.5.0",
            "_model_name": "VBoxModel",
            "_view_count": null,
            "_view_module": "@jupyter-widgets/controls",
            "_view_module_version": "1.5.0",
            "_view_name": "VBoxView",
            "box_style": "",
            "children": [
              "IPY_MODEL_0da8d114df704cc5a903efb2f28635cd",
              "IPY_MODEL_c02035a598284b569fa36ecd2a0b3256",
              "IPY_MODEL_d1f925601b9542a1be898d1f97588aaf",
              "IPY_MODEL_b4df34d1601440a3b54566fb69d54893",
              "IPY_MODEL_3ceaf92152dc4e8cbbeae2a0f672e45b"
            ],
            "layout": "IPY_MODEL_2734925d9ff74b70b2c0c0c95f5bc895"
          }
        },
        "0da8d114df704cc5a903efb2f28635cd": {
          "model_module": "@jupyter-widgets/controls",
          "model_name": "HTMLModel",
          "model_module_version": "1.5.0",
          "state": {
            "_dom_classes": [],
            "_model_module": "@jupyter-widgets/controls",
            "_model_module_version": "1.5.0",
            "_model_name": "HTMLModel",
            "_view_count": null,
            "_view_module": "@jupyter-widgets/controls",
            "_view_module_version": "1.5.0",
            "_view_name": "HTMLView",
            "description": "",
            "description_tooltip": null,
            "layout": "IPY_MODEL_bd49d83b293e4a04a9acf14405c80f04",
            "placeholder": "​",
            "style": "IPY_MODEL_4110268b389648cd9eb957f0924ce4eb",
            "value": "<center> <img\nsrc=https://www.kaggle.com/static/images/site-logo.png\nalt='Kaggle'> <br> Create an API token from <a\nhref=\"https://www.kaggle.com/settings/account\" target=\"_blank\">your Kaggle\nsettings page</a> and paste it below along with your Kaggle username. <br> </center>"
          }
        },
        "c02035a598284b569fa36ecd2a0b3256": {
          "model_module": "@jupyter-widgets/controls",
          "model_name": "TextModel",
          "model_module_version": "1.5.0",
          "state": {
            "_dom_classes": [],
            "_model_module": "@jupyter-widgets/controls",
            "_model_module_version": "1.5.0",
            "_model_name": "TextModel",
            "_view_count": null,
            "_view_module": "@jupyter-widgets/controls",
            "_view_module_version": "1.5.0",
            "_view_name": "TextView",
            "continuous_update": true,
            "description": "Username:",
            "description_tooltip": null,
            "disabled": false,
            "layout": "IPY_MODEL_76e77f75b28248cba2f91a351279eb1c",
            "placeholder": "​",
            "style": "IPY_MODEL_8dd7af6ac41345d9b41255827fc837fe",
            "value": ""
          }
        },
        "d1f925601b9542a1be898d1f97588aaf": {
          "model_module": "@jupyter-widgets/controls",
          "model_name": "PasswordModel",
          "model_module_version": "1.5.0",
          "state": {
            "_dom_classes": [],
            "_model_module": "@jupyter-widgets/controls",
            "_model_module_version": "1.5.0",
            "_model_name": "PasswordModel",
            "_view_count": null,
            "_view_module": "@jupyter-widgets/controls",
            "_view_module_version": "1.5.0",
            "_view_name": "PasswordView",
            "continuous_update": true,
            "description": "Token:",
            "description_tooltip": null,
            "disabled": false,
            "layout": "IPY_MODEL_82407f59f4714a60af6ce28cc86f6b33",
            "placeholder": "​",
            "style": "IPY_MODEL_01c476cbfe1741e88d9ec265b15a3b97",
            "value": ""
          }
        },
        "b4df34d1601440a3b54566fb69d54893": {
          "model_module": "@jupyter-widgets/controls",
          "model_name": "ButtonModel",
          "model_module_version": "1.5.0",
          "state": {
            "_dom_classes": [],
            "_model_module": "@jupyter-widgets/controls",
            "_model_module_version": "1.5.0",
            "_model_name": "ButtonModel",
            "_view_count": null,
            "_view_module": "@jupyter-widgets/controls",
            "_view_module_version": "1.5.0",
            "_view_name": "ButtonView",
            "button_style": "",
            "description": "Login",
            "disabled": false,
            "icon": "",
            "layout": "IPY_MODEL_bb6ebd43da9940e080233cb81accb22a",
            "style": "IPY_MODEL_8b70f910541f4179ab63e5f0dddb8fa4",
            "tooltip": ""
          }
        },
        "3ceaf92152dc4e8cbbeae2a0f672e45b": {
          "model_module": "@jupyter-widgets/controls",
          "model_name": "HTMLModel",
          "model_module_version": "1.5.0",
          "state": {
            "_dom_classes": [],
            "_model_module": "@jupyter-widgets/controls",
            "_model_module_version": "1.5.0",
            "_model_name": "HTMLModel",
            "_view_count": null,
            "_view_module": "@jupyter-widgets/controls",
            "_view_module_version": "1.5.0",
            "_view_name": "HTMLView",
            "description": "",
            "description_tooltip": null,
            "layout": "IPY_MODEL_6fb5f64a34124864bc8aa4723bfe1477",
            "placeholder": "​",
            "style": "IPY_MODEL_84c0327c338d433a9c48a84cc384d556",
            "value": "\n<b>Thank You</b></center>"
          }
        },
        "2734925d9ff74b70b2c0c0c95f5bc895": {
          "model_module": "@jupyter-widgets/base",
          "model_name": "LayoutModel",
          "model_module_version": "1.2.0",
          "state": {
            "_model_module": "@jupyter-widgets/base",
            "_model_module_version": "1.2.0",
            "_model_name": "LayoutModel",
            "_view_count": null,
            "_view_module": "@jupyter-widgets/base",
            "_view_module_version": "1.2.0",
            "_view_name": "LayoutView",
            "align_content": null,
            "align_items": "center",
            "align_self": null,
            "border": null,
            "bottom": null,
            "display": "flex",
            "flex": null,
            "flex_flow": "column",
            "grid_area": null,
            "grid_auto_columns": null,
            "grid_auto_flow": null,
            "grid_auto_rows": null,
            "grid_column": null,
            "grid_gap": null,
            "grid_row": null,
            "grid_template_areas": null,
            "grid_template_columns": null,
            "grid_template_rows": null,
            "height": null,
            "justify_content": null,
            "justify_items": null,
            "left": null,
            "margin": null,
            "max_height": null,
            "max_width": null,
            "min_height": null,
            "min_width": null,
            "object_fit": null,
            "object_position": null,
            "order": null,
            "overflow": null,
            "overflow_x": null,
            "overflow_y": null,
            "padding": null,
            "right": null,
            "top": null,
            "visibility": null,
            "width": "50%"
          }
        },
        "bd49d83b293e4a04a9acf14405c80f04": {
          "model_module": "@jupyter-widgets/base",
          "model_name": "LayoutModel",
          "model_module_version": "1.2.0",
          "state": {
            "_model_module": "@jupyter-widgets/base",
            "_model_module_version": "1.2.0",
            "_model_name": "LayoutModel",
            "_view_count": null,
            "_view_module": "@jupyter-widgets/base",
            "_view_module_version": "1.2.0",
            "_view_name": "LayoutView",
            "align_content": null,
            "align_items": null,
            "align_self": null,
            "border": null,
            "bottom": null,
            "display": null,
            "flex": null,
            "flex_flow": null,
            "grid_area": null,
            "grid_auto_columns": null,
            "grid_auto_flow": null,
            "grid_auto_rows": null,
            "grid_column": null,
            "grid_gap": null,
            "grid_row": null,
            "grid_template_areas": null,
            "grid_template_columns": null,
            "grid_template_rows": null,
            "height": null,
            "justify_content": null,
            "justify_items": null,
            "left": null,
            "margin": null,
            "max_height": null,
            "max_width": null,
            "min_height": null,
            "min_width": null,
            "object_fit": null,
            "object_position": null,
            "order": null,
            "overflow": null,
            "overflow_x": null,
            "overflow_y": null,
            "padding": null,
            "right": null,
            "top": null,
            "visibility": null,
            "width": null
          }
        },
        "4110268b389648cd9eb957f0924ce4eb": {
          "model_module": "@jupyter-widgets/controls",
          "model_name": "DescriptionStyleModel",
          "model_module_version": "1.5.0",
          "state": {
            "_model_module": "@jupyter-widgets/controls",
            "_model_module_version": "1.5.0",
            "_model_name": "DescriptionStyleModel",
            "_view_count": null,
            "_view_module": "@jupyter-widgets/base",
            "_view_module_version": "1.2.0",
            "_view_name": "StyleView",
            "description_width": ""
          }
        },
        "76e77f75b28248cba2f91a351279eb1c": {
          "model_module": "@jupyter-widgets/base",
          "model_name": "LayoutModel",
          "model_module_version": "1.2.0",
          "state": {
            "_model_module": "@jupyter-widgets/base",
            "_model_module_version": "1.2.0",
            "_model_name": "LayoutModel",
            "_view_count": null,
            "_view_module": "@jupyter-widgets/base",
            "_view_module_version": "1.2.0",
            "_view_name": "LayoutView",
            "align_content": null,
            "align_items": null,
            "align_self": null,
            "border": null,
            "bottom": null,
            "display": null,
            "flex": null,
            "flex_flow": null,
            "grid_area": null,
            "grid_auto_columns": null,
            "grid_auto_flow": null,
            "grid_auto_rows": null,
            "grid_column": null,
            "grid_gap": null,
            "grid_row": null,
            "grid_template_areas": null,
            "grid_template_columns": null,
            "grid_template_rows": null,
            "height": null,
            "justify_content": null,
            "justify_items": null,
            "left": null,
            "margin": null,
            "max_height": null,
            "max_width": null,
            "min_height": null,
            "min_width": null,
            "object_fit": null,
            "object_position": null,
            "order": null,
            "overflow": null,
            "overflow_x": null,
            "overflow_y": null,
            "padding": null,
            "right": null,
            "top": null,
            "visibility": null,
            "width": null
          }
        },
        "8dd7af6ac41345d9b41255827fc837fe": {
          "model_module": "@jupyter-widgets/controls",
          "model_name": "DescriptionStyleModel",
          "model_module_version": "1.5.0",
          "state": {
            "_model_module": "@jupyter-widgets/controls",
            "_model_module_version": "1.5.0",
            "_model_name": "DescriptionStyleModel",
            "_view_count": null,
            "_view_module": "@jupyter-widgets/base",
            "_view_module_version": "1.2.0",
            "_view_name": "StyleView",
            "description_width": ""
          }
        },
        "82407f59f4714a60af6ce28cc86f6b33": {
          "model_module": "@jupyter-widgets/base",
          "model_name": "LayoutModel",
          "model_module_version": "1.2.0",
          "state": {
            "_model_module": "@jupyter-widgets/base",
            "_model_module_version": "1.2.0",
            "_model_name": "LayoutModel",
            "_view_count": null,
            "_view_module": "@jupyter-widgets/base",
            "_view_module_version": "1.2.0",
            "_view_name": "LayoutView",
            "align_content": null,
            "align_items": null,
            "align_self": null,
            "border": null,
            "bottom": null,
            "display": null,
            "flex": null,
            "flex_flow": null,
            "grid_area": null,
            "grid_auto_columns": null,
            "grid_auto_flow": null,
            "grid_auto_rows": null,
            "grid_column": null,
            "grid_gap": null,
            "grid_row": null,
            "grid_template_areas": null,
            "grid_template_columns": null,
            "grid_template_rows": null,
            "height": null,
            "justify_content": null,
            "justify_items": null,
            "left": null,
            "margin": null,
            "max_height": null,
            "max_width": null,
            "min_height": null,
            "min_width": null,
            "object_fit": null,
            "object_position": null,
            "order": null,
            "overflow": null,
            "overflow_x": null,
            "overflow_y": null,
            "padding": null,
            "right": null,
            "top": null,
            "visibility": null,
            "width": null
          }
        },
        "01c476cbfe1741e88d9ec265b15a3b97": {
          "model_module": "@jupyter-widgets/controls",
          "model_name": "DescriptionStyleModel",
          "model_module_version": "1.5.0",
          "state": {
            "_model_module": "@jupyter-widgets/controls",
            "_model_module_version": "1.5.0",
            "_model_name": "DescriptionStyleModel",
            "_view_count": null,
            "_view_module": "@jupyter-widgets/base",
            "_view_module_version": "1.2.0",
            "_view_name": "StyleView",
            "description_width": ""
          }
        },
        "bb6ebd43da9940e080233cb81accb22a": {
          "model_module": "@jupyter-widgets/base",
          "model_name": "LayoutModel",
          "model_module_version": "1.2.0",
          "state": {
            "_model_module": "@jupyter-widgets/base",
            "_model_module_version": "1.2.0",
            "_model_name": "LayoutModel",
            "_view_count": null,
            "_view_module": "@jupyter-widgets/base",
            "_view_module_version": "1.2.0",
            "_view_name": "LayoutView",
            "align_content": null,
            "align_items": null,
            "align_self": null,
            "border": null,
            "bottom": null,
            "display": null,
            "flex": null,
            "flex_flow": null,
            "grid_area": null,
            "grid_auto_columns": null,
            "grid_auto_flow": null,
            "grid_auto_rows": null,
            "grid_column": null,
            "grid_gap": null,
            "grid_row": null,
            "grid_template_areas": null,
            "grid_template_columns": null,
            "grid_template_rows": null,
            "height": null,
            "justify_content": null,
            "justify_items": null,
            "left": null,
            "margin": null,
            "max_height": null,
            "max_width": null,
            "min_height": null,
            "min_width": null,
            "object_fit": null,
            "object_position": null,
            "order": null,
            "overflow": null,
            "overflow_x": null,
            "overflow_y": null,
            "padding": null,
            "right": null,
            "top": null,
            "visibility": null,
            "width": null
          }
        },
        "8b70f910541f4179ab63e5f0dddb8fa4": {
          "model_module": "@jupyter-widgets/controls",
          "model_name": "ButtonStyleModel",
          "model_module_version": "1.5.0",
          "state": {
            "_model_module": "@jupyter-widgets/controls",
            "_model_module_version": "1.5.0",
            "_model_name": "ButtonStyleModel",
            "_view_count": null,
            "_view_module": "@jupyter-widgets/base",
            "_view_module_version": "1.2.0",
            "_view_name": "StyleView",
            "button_color": null,
            "font_weight": ""
          }
        },
        "6fb5f64a34124864bc8aa4723bfe1477": {
          "model_module": "@jupyter-widgets/base",
          "model_name": "LayoutModel",
          "model_module_version": "1.2.0",
          "state": {
            "_model_module": "@jupyter-widgets/base",
            "_model_module_version": "1.2.0",
            "_model_name": "LayoutModel",
            "_view_count": null,
            "_view_module": "@jupyter-widgets/base",
            "_view_module_version": "1.2.0",
            "_view_name": "LayoutView",
            "align_content": null,
            "align_items": null,
            "align_self": null,
            "border": null,
            "bottom": null,
            "display": null,
            "flex": null,
            "flex_flow": null,
            "grid_area": null,
            "grid_auto_columns": null,
            "grid_auto_flow": null,
            "grid_auto_rows": null,
            "grid_column": null,
            "grid_gap": null,
            "grid_row": null,
            "grid_template_areas": null,
            "grid_template_columns": null,
            "grid_template_rows": null,
            "height": null,
            "justify_content": null,
            "justify_items": null,
            "left": null,
            "margin": null,
            "max_height": null,
            "max_width": null,
            "min_height": null,
            "min_width": null,
            "object_fit": null,
            "object_position": null,
            "order": null,
            "overflow": null,
            "overflow_x": null,
            "overflow_y": null,
            "padding": null,
            "right": null,
            "top": null,
            "visibility": null,
            "width": null
          }
        },
        "84c0327c338d433a9c48a84cc384d556": {
          "model_module": "@jupyter-widgets/controls",
          "model_name": "DescriptionStyleModel",
          "model_module_version": "1.5.0",
          "state": {
            "_model_module": "@jupyter-widgets/controls",
            "_model_module_version": "1.5.0",
            "_model_name": "DescriptionStyleModel",
            "_view_count": null,
            "_view_module": "@jupyter-widgets/base",
            "_view_module_version": "1.2.0",
            "_view_name": "StyleView",
            "description_width": ""
          }
        }
      }
    }
  },
  "nbformat_minor": 0,
  "nbformat": 4,
  "cells": [
    {
      "cell_type": "markdown",
      "metadata": {
        "id": "view-in-github",
        "colab_type": "text"
      },
      "source": [
        "<a href=\"https://colab.research.google.com/github/its-relative/Kaggle/blob/main/learn_pyspark.ipynb\" target=\"_parent\"><img src=\"https://colab.research.google.com/assets/colab-badge.svg\" alt=\"Open In Colab\"/></a>"
      ]
    },
    {
      "cell_type": "markdown",
      "source": [
        "# Libraries\n"
      ],
      "metadata": {
        "id": "xIV90XfU_fK5"
      }
    },
    {
      "cell_type": "code",
      "source": [
        "import pyspark\n",
        "from pyspark.sql import SparkSession"
      ],
      "metadata": {
        "id": "XFp9GIjA_kb5"
      },
      "execution_count": 12,
      "outputs": []
    },
    {
      "cell_type": "markdown",
      "source": [
        "This is an introductory Pyspark hands on tutorial. I have decided to study and summarize some basic concepts of pyspark functions. Hope these can help some else!\n"
      ],
      "metadata": {
        "id": "ajl0wMIZ_fK7"
      }
    },
    {
      "cell_type": "markdown",
      "source": [
        "# CONTENT TABLE\n",
        "----------------\n",
        "## Concepts\n",
        "* 1) What is Spark \\ PySpark\n",
        "* 2) Characteristics\n",
        "## Practice\n",
        "* 1) GETTING RUNNING ON NOTEBOOKS ( Jupyter\\Colab\\Kaggle)\n",
        "* 2) READING DATA FROM DIFFERENT SOURCES\n",
        "* 3) DISPLAYING\n",
        "* 4) FILTERING\n",
        "* 5) FILTERING PART 2\n",
        "* 6) MANIPULATING DATA\n",
        "* 7) GROUPING BY\n",
        "* 8) WINDOW FUNCTION\n",
        "* 9) JOIN\n",
        "* 10) UDF\n",
        "* 11) REFERENCES\n",
        "## Next\n",
        "* 102 Pyspark - MLlib (Soon!)\n"
      ],
      "metadata": {
        "id": "57exFD5d_fK8"
      }
    },
    {
      "cell_type": "markdown",
      "source": [
        "# What is Spark \\ PySpark\n"
      ],
      "metadata": {
        "id": "ZsxN_Pbd_fK-"
      }
    },
    {
      "cell_type": "markdown",
      "source": [
        "Apache Spark is an open source unified computing engine for distributed data processing on computer clusters, allowing an easy and scalable developments. It supports many programing languages such as Python, R and Scala. Also, includes libraries from SQL and Machine Learning. The structure is designed to deal with huge amount of data distributing large datasets among \"computers\". Each one of the computers os called a \"Executors\" and the managemnt of all data is done by a so called \"Driver\".\n",
        "Pyspark is a library for python that enables to run python applications in the Apache Spark architeture, hence, allowing parallel distribuiton to cope with large data\n"
      ],
      "metadata": {
        "id": "buLogIVW_fK-"
      }
    },
    {
      "cell_type": "markdown",
      "source": [
        "# Characteristics\n",
        "Among the characteristics of Spark, some interesting ones are:\n",
        "* Fast Processing: High data processing speed that could reach 100x faster in memory and 10x faster on the disk\n",
        "* Lazy Evaluation: The transformations applied are not done right way. Spark order all transformations in an efficient way under the hood.\n",
        "* Support Multiple High level languages: Python, R, Scala, Java, SQL.\n",
        "* Native Libraries: Spark has Machine Learning and Graph libraries that cope with distributed systems (MLlib, SQL, Dataframes, GraphFrames)\n"
      ],
      "metadata": {
        "id": "GXyWXdh0_fK_"
      }
    },
    {
      "cell_type": "markdown",
      "source": [
        "--------------------\n"
      ],
      "metadata": {
        "id": "zse2wTyq_fK_"
      }
    },
    {
      "cell_type": "markdown",
      "source": [
        "# GETTING STARTED WITH PYSPARK IN NOTEBOOKS\n",
        "## Step 1: Install PySpark\n",
        "Install the PySpark library using pip. Ensure you use the quiet flag to avoid verbose output.\n",
        "\n",
        "## Step 2: Import Necessary Libraries\n",
        "Import `SparkSession` from `pyspark.sql` to create your Spark entry point. Also, import `StructType`, `StructField`, `StringType`, `IntegerType` etc. from `pyspark.sql.types` for defining schemas. You may also need `pyspark.sql.functions` as F for various DataFrame operations.\n",
        "\n",
        "## Step 3: Initialize SparkSession\n",
        "Create a SparkSession object. This is the main entry point for DataFrame and SQL functionalities.\n"
      ],
      "metadata": {
        "id": "NtsCI8JI_fLA"
      }
    },
    {
      "cell_type": "code",
      "source": [
        "!pip install pyspark"
      ],
      "metadata": {
        "colab": {
          "base_uri": "https://localhost:8080/"
        },
        "id": "rZtfuu0K_96P",
        "outputId": "e80d4890-0e66-41d4-a1d5-19104c7f4ff9"
      },
      "execution_count": 13,
      "outputs": [
        {
          "output_type": "stream",
          "name": "stdout",
          "text": [
            "Requirement already satisfied: pyspark in /usr/local/lib/python3.11/dist-packages (3.5.1)\n",
            "Requirement already satisfied: py4j==0.10.9.7 in /usr/local/lib/python3.11/dist-packages (from pyspark) (0.10.9.7)\n"
          ]
        }
      ]
    },
    {
      "cell_type": "code",
      "source": [
        "from pyspark.sql.types import StructType, StructField, StringType, IntegerType\n",
        "\n",
        "import pyspark.sql.functions as F"
      ],
      "metadata": {
        "id": "in_qSm-RADex"
      },
      "execution_count": 14,
      "outputs": []
    },
    {
      "cell_type": "code",
      "source": [],
      "metadata": {
        "id": "WPpD6rVpAfII"
      },
      "execution_count": 14,
      "outputs": []
    },
    {
      "source": [
        "# IMPORTANT: SOME KAGGLE DATA SOURCES ARE PRIVATE\n",
        "# RUN THIS CELL IN ORDER TO IMPORT YOUR KAGGLE DATA SOURCES.\n",
        "import kagglehub\n",
        "kagglehub.login()\n"
      ],
      "metadata": {
        "id": "UYG-fbgw1snP",
        "colab": {
          "base_uri": "https://localhost:8080/",
          "height": 274,
          "referenced_widgets": [
            "569591b7a6ae4c8b917f349b1cd97967",
            "0da8d114df704cc5a903efb2f28635cd",
            "c02035a598284b569fa36ecd2a0b3256",
            "d1f925601b9542a1be898d1f97588aaf",
            "b4df34d1601440a3b54566fb69d54893",
            "3ceaf92152dc4e8cbbeae2a0f672e45b",
            "2734925d9ff74b70b2c0c0c95f5bc895",
            "bd49d83b293e4a04a9acf14405c80f04",
            "4110268b389648cd9eb957f0924ce4eb",
            "76e77f75b28248cba2f91a351279eb1c",
            "8dd7af6ac41345d9b41255827fc837fe",
            "82407f59f4714a60af6ce28cc86f6b33",
            "01c476cbfe1741e88d9ec265b15a3b97",
            "bb6ebd43da9940e080233cb81accb22a",
            "8b70f910541f4179ab63e5f0dddb8fa4",
            "6fb5f64a34124864bc8aa4723bfe1477",
            "84c0327c338d433a9c48a84cc384d556"
          ]
        },
        "outputId": "92133202-f307-4221-efc0-cae0784a83f5"
      },
      "cell_type": "code",
      "outputs": [
        {
          "output_type": "display_data",
          "data": {
            "text/plain": [
              "VBox(children=(HTML(value='<center> <img\\nsrc=https://www.kaggle.com/static/images/site-logo.png\\nalt=\\'Kaggle…"
            ],
            "application/vnd.jupyter.widget-view+json": {
              "version_major": 2,
              "version_minor": 0,
              "model_id": "569591b7a6ae4c8b917f349b1cd97967"
            }
          },
          "metadata": {}
        }
      ],
      "execution_count": 15
    },
    {
      "source": [
        "# IMPORTANT: RUN THIS CELL IN ORDER TO IMPORT YOUR KAGGLE DATA SOURCES,\n",
        "# THEN FEEL FREE TO DELETE THIS CELL.\n",
        "# NOTE: THIS NOTEBOOK ENVIRONMENT DIFFERS FROM KAGGLE'S PYTHON\n",
        "# ENVIRONMENT SO THERE MAY BE MISSING LIBRARIES USED BY YOUR\n",
        "# NOTEBOOK.\n",
        "\n",
        "titanic_path = kagglehub.competition_download('titanic')\n",
        "yasserh_wine_quality_dataset_path = kagglehub.dataset_download('yasserh/wine-quality-dataset')\n",
        "\n",
        "print('Data source import complete.')\n"
      ],
      "metadata": {
        "id": "-xYZwn371snR",
        "colab": {
          "base_uri": "https://localhost:8080/"
        },
        "outputId": "fc2fd1f6-771a-4ad5-9c2c-6ab507f42c90"
      },
      "cell_type": "code",
      "outputs": [
        {
          "output_type": "stream",
          "name": "stdout",
          "text": [
            "Downloading from https://www.kaggle.com/api/v1/competitions/data/download-all/titanic...\n"
          ]
        },
        {
          "output_type": "stream",
          "name": "stderr",
          "text": [
            "100%|██████████| 34.1k/34.1k [00:00<00:00, 18.5MB/s]"
          ]
        },
        {
          "output_type": "stream",
          "name": "stdout",
          "text": [
            "Extracting files...\n"
          ]
        },
        {
          "output_type": "stream",
          "name": "stderr",
          "text": [
            "\n"
          ]
        },
        {
          "output_type": "stream",
          "name": "stdout",
          "text": [
            "Data source import complete.\n"
          ]
        }
      ],
      "execution_count": 16
    },
    {
      "cell_type": "code",
      "source": [
        "spark = SparkSession.builder.getOrCreate()"
      ],
      "metadata": {
        "id": "S4Z8Y0POEK3G"
      },
      "execution_count": 17,
      "outputs": []
    },
    {
      "cell_type": "markdown",
      "source": [
        "# READING DATA FROM DIFFERENT SOURCES\n",
        "## Step 1: Create a PySpark DataFrame from example data\n",
        "Define a schema for your data using `StructType` and `StructField`. Then, create an example dataset as a list of tuples. Finally, use `spark.createDataFrame()` to create a PySpark DataFrame from this data and schema.\n",
        "\n",
        "## Step 2: Read a CSV file into a PySpark DataFrame\n",
        "Code to read a CSV file. Remember to specify options like `header=True` to indicate the first row as headers and `inferSchema=True` to automatically detect column data types.\n",
        "\n",
        "## Step 3: Convert a Pandas DataFrame to a PySpark DataFrame\n",
        "First, create a Pandas DataFrame with some sample data. Then, convert this Pandas DataFrame into a PySpark DataFrame. Be cautious with large datasets as `toPandas()` can cause memory issues.\n"
      ],
      "metadata": {
        "id": "bz83uQ7h_fLA"
      }
    },
    {
      "cell_type": "code",
      "source": [
        "example_data = [(100,\"Brazil\",\"1000\",\"A100\",6),\n",
        "    (101,\"Spain\",\"2000\",\"MA100\",2),\n",
        "    (102,\"EUA\",\"3000\",\"A200\",10),\n",
        "    (110,\"Mexico\",\"B100\",\"F400\",8),\n",
        "    (200,\"Japan\",\"5000\",\"A100\",9),\n",
        "    (880,\"EUA\",\"500\",\"Z120\",1)\n",
        "  ]\n",
        "\n",
        "schema = StructType([StructField('key', IntegerType(), True),\n",
        "                     StructField('C1', StringType(),True),\n",
        "                      StructField(\"C2\", StringType(), True),\n",
        "                      StructField(\"C3\", StringType(),True),\n",
        "                      StructField(\"C4\", IntegerType(), True)])\n",
        "# schema = StructType([StructField('key', IntegerType(), True),\n",
        "#                     StructField('C1', StringType(), True),\n",
        "#                     StructField('C2', StringType(), True),\n",
        "#                     StructField('C3', StringType(), True),\n",
        "#                     StructField('C4', IntegerType(), True)])\n",
        "\n",
        "df1 = spark.createDataFrame(data=example_data, schema = schema)"
      ],
      "metadata": {
        "id": "NbPEyK_rBK_Z"
      },
      "execution_count": 18,
      "outputs": []
    },
    {
      "cell_type": "code",
      "source": [
        "#Toy dataset for example\n",
        "example_data_2 = [(100,\"BB\",10),\n",
        "    (101,\"XX\",99),\n",
        "    (102,\"AN\",898),\n",
        "    (110,\"AC\",567),\n",
        "    (200,\"AV\",344),\n",
        "    (300,\"FV\",834),\n",
        "    (111,\"ZW\",54)\n",
        "  ]\n",
        "\n",
        "schema2 = StructType([StructField(\"key\",IntegerType(), True),StructField(\"C1\", StringType(), True), StructField(\"C3\", IntegerType(), True)])\n",
        "\n",
        "df2 = spark.createDataFrame(example_data_2 ,  schema2)"
      ],
      "metadata": {
        "id": "LwlvN0VuJj3o"
      },
      "execution_count": 19,
      "outputs": []
    },
    {
      "cell_type": "markdown",
      "source": [
        "# DISPLAYING DATAFRAME INFORMATION\n",
        "## Step 1: Display the content of your DataFrame\n",
        "Use the `.show()` method to display the rows of your DataFrame. Experiment with the `numRows` parameter to control how many rows are shown.\n",
        "\n",
        "## Step 2: Check the schema and data types\n",
        "Utilize the `.printSchema()` method to see the column names and their inferred data types in your DataFrame.\n",
        "\n",
        "## Step 3: Get column names\n",
        "Access the column names of your DataFrame.\n",
        "\n",
        "## Step 4: Analyze descriptive statistics\n",
        "Use the `.describe()` method to view summary statistics (count, mean, stddev, min, max) for numerical columns in your DataFrame.\n",
        "\n",
        "## Step 5: Count rows and columns\n",
        "Determine the number of rows and columns in your DataFrame.\n",
        "\n",
        "## Step 6: Create a cross-tabulation (crosstab)\n",
        "Generate a frequency table for two or more columns using `.crosstab()` or similar grouping operations.\n",
        "\n",
        "## Step 7: Select specific columns\n",
        "Select a subset of columns from your DataFrame.\n",
        "\n",
        "## Step 8: Order your DataFrame by a column\n",
        "Sort the DataFrame rows based on the values in one or more columns, in ascending or descending order.\n",
        "\n",
        "## Step 9: Drop variables (columns)\n",
        "Remove unwanted columns from your DataFrame.\n"
      ],
      "metadata": {
        "id": "67SEgrZc_fLB"
      }
    },
    {
      "cell_type": "code",
      "source": [
        "df1.show(5)"
      ],
      "metadata": {
        "colab": {
          "base_uri": "https://localhost:8080/"
        },
        "id": "0KT8Vo89KS9p",
        "outputId": "0433c371-b9a5-4a64-f8ad-81ed756c08c7"
      },
      "execution_count": 20,
      "outputs": [
        {
          "output_type": "stream",
          "name": "stdout",
          "text": [
            "+---+------+----+-----+---+\n",
            "|key|    C1|  C2|   C3| C4|\n",
            "+---+------+----+-----+---+\n",
            "|100|Brazil|1000| A100|  6|\n",
            "|101| Spain|2000|MA100|  2|\n",
            "|102|   EUA|3000| A200| 10|\n",
            "|110|Mexico|B100| F400|  8|\n",
            "|200| Japan|5000| A100|  9|\n",
            "+---+------+----+-----+---+\n",
            "only showing top 5 rows\n",
            "\n"
          ]
        }
      ]
    },
    {
      "cell_type": "code",
      "source": [
        "df2.printSchema()"
      ],
      "metadata": {
        "colab": {
          "base_uri": "https://localhost:8080/"
        },
        "id": "nJRzpng_KvPs",
        "outputId": "645d5c22-7b61-4642-8d80-bb67853cfd40"
      },
      "execution_count": 21,
      "outputs": [
        {
          "output_type": "stream",
          "name": "stdout",
          "text": [
            "root\n",
            " |-- key: integer (nullable = true)\n",
            " |-- C1: string (nullable = true)\n",
            " |-- C3: integer (nullable = true)\n",
            "\n"
          ]
        }
      ]
    },
    {
      "cell_type": "code",
      "source": [
        "df1.columns"
      ],
      "metadata": {
        "colab": {
          "base_uri": "https://localhost:8080/"
        },
        "id": "EnUo6-0PKzI9",
        "outputId": "b48b3c33-0eb4-4440-f333-f66a3eaf7acb"
      },
      "execution_count": 22,
      "outputs": [
        {
          "output_type": "execute_result",
          "data": {
            "text/plain": [
              "['key', 'C1', 'C2', 'C3', 'C4']"
            ]
          },
          "metadata": {},
          "execution_count": 22
        }
      ]
    },
    {
      "cell_type": "code",
      "source": [
        "df1.printSchema()"
      ],
      "metadata": {
        "colab": {
          "base_uri": "https://localhost:8080/"
        },
        "id": "mjMIbnzyLCP6",
        "outputId": "6e7222da-6fc5-4d30-a6c7-37b93dff8119"
      },
      "execution_count": 23,
      "outputs": [
        {
          "output_type": "stream",
          "name": "stdout",
          "text": [
            "root\n",
            " |-- key: integer (nullable = true)\n",
            " |-- C1: string (nullable = true)\n",
            " |-- C2: string (nullable = true)\n",
            " |-- C3: string (nullable = true)\n",
            " |-- C4: integer (nullable = true)\n",
            "\n"
          ]
        }
      ]
    },
    {
      "cell_type": "code",
      "source": [
        "num_cols = [col for col, dtype in df1.dtypes if dtype in ['int', 'double', 'float', 'long']]\n",
        "# df1[num_cols].describe().show()\n",
        "df1.select(num_cols).describe().show()\n",
        "# num_cols"
      ],
      "metadata": {
        "colab": {
          "base_uri": "https://localhost:8080/"
        },
        "id": "LEi6YRz-LdnN",
        "outputId": "1f96466d-2d2c-4389-da48-f50aa90ddb98"
      },
      "execution_count": 24,
      "outputs": [
        {
          "output_type": "stream",
          "name": "stdout",
          "text": [
            "+-------+------------------+------------------+\n",
            "|summary|               key|                C4|\n",
            "+-------+------------------+------------------+\n",
            "|  count|                 6|                 6|\n",
            "|   mean|248.83333333333334|               6.0|\n",
            "| stddev|311.63980276381045|3.7416573867739413|\n",
            "|    min|               100|                 1|\n",
            "|    max|               880|                10|\n",
            "+-------+------------------+------------------+\n",
            "\n"
          ]
        }
      ]
    },
    {
      "cell_type": "code",
      "source": [
        "print(\"Number of rows: \\n\")\n",
        "print(df1.count())\n",
        "print(\"Number of columns : \\n\")\n",
        "print(len(df1.columns))"
      ],
      "metadata": {
        "colab": {
          "base_uri": "https://localhost:8080/"
        },
        "id": "90Px0pBfLF9E",
        "outputId": "1970df10-b3f1-4748-b479-55b9c9587fd7"
      },
      "execution_count": 25,
      "outputs": [
        {
          "output_type": "stream",
          "name": "stdout",
          "text": [
            "Number of rows: \n",
            "\n",
            "6\n",
            "Number of columns : \n",
            "\n",
            "5\n"
          ]
        }
      ]
    },
    {
      "cell_type": "code",
      "source": [
        "df1.crosstab(\"key\", \"C4\").show()"
      ],
      "metadata": {
        "colab": {
          "base_uri": "https://localhost:8080/"
        },
        "id": "JVIs5mGeNZ-n",
        "outputId": "9e57ba20-0444-4e91-bd61-c4c7a3900d55"
      },
      "execution_count": 26,
      "outputs": [
        {
          "output_type": "stream",
          "name": "stdout",
          "text": [
            "+------+---+---+---+---+---+---+\n",
            "|key_C4|  1| 10|  2|  6|  8|  9|\n",
            "+------+---+---+---+---+---+---+\n",
            "|   200|  0|  0|  0|  0|  0|  1|\n",
            "|   101|  0|  0|  1|  0|  0|  0|\n",
            "|   880|  1|  0|  0|  0|  0|  0|\n",
            "|   110|  0|  0|  0|  0|  1|  0|\n",
            "|   100|  0|  0|  0|  1|  0|  0|\n",
            "|   102|  0|  1|  0|  0|  0|  0|\n",
            "+------+---+---+---+---+---+---+\n",
            "\n"
          ]
        }
      ]
    },
    {
      "cell_type": "code",
      "source": [
        "df1.select(\"key\", \"C4\").show()"
      ],
      "metadata": {
        "colab": {
          "base_uri": "https://localhost:8080/"
        },
        "id": "0pWQllj6PiSv",
        "outputId": "98f983d3-bfc5-425c-b511-8b7808f45a29"
      },
      "execution_count": 27,
      "outputs": [
        {
          "output_type": "stream",
          "name": "stdout",
          "text": [
            "+---+---+\n",
            "|key| C4|\n",
            "+---+---+\n",
            "|100|  6|\n",
            "|101|  2|\n",
            "|102| 10|\n",
            "|110|  8|\n",
            "|200|  9|\n",
            "|880|  1|\n",
            "+---+---+\n",
            "\n"
          ]
        }
      ]
    },
    {
      "cell_type": "code",
      "source": [
        "# df1.crosstab(\"key\", \"C4\").orderBy(\"key_C4\", ascending =True).show()\n",
        "df1.crosstab(\"key\", \"C4\").orderBy(\"key_C4\", ascending = False).show()\n",
        "# df1.orderBy()"
      ],
      "metadata": {
        "colab": {
          "base_uri": "https://localhost:8080/"
        },
        "id": "vOkdm3p_QMFo",
        "outputId": "dfee899a-9d19-4c72-bd6a-514b6783a03f"
      },
      "execution_count": 28,
      "outputs": [
        {
          "output_type": "stream",
          "name": "stdout",
          "text": [
            "+------+---+---+---+---+---+---+\n",
            "|key_C4|  1| 10|  2|  6|  8|  9|\n",
            "+------+---+---+---+---+---+---+\n",
            "|   880|  1|  0|  0|  0|  0|  0|\n",
            "|   200|  0|  0|  0|  0|  0|  1|\n",
            "|   110|  0|  0|  0|  0|  1|  0|\n",
            "|   102|  0|  1|  0|  0|  0|  0|\n",
            "|   101|  0|  0|  1|  0|  0|  0|\n",
            "|   100|  0|  0|  0|  1|  0|  0|\n",
            "+------+---+---+---+---+---+---+\n",
            "\n"
          ]
        }
      ]
    },
    {
      "cell_type": "code",
      "source": [
        "df2.crosstab(\"key\",\"C3\").drop(\"344\").show()"
      ],
      "metadata": {
        "colab": {
          "base_uri": "https://localhost:8080/"
        },
        "id": "hM_dLK1IReSK",
        "outputId": "1efac7f5-ada9-4a97-c3e8-83572c2ce111"
      },
      "execution_count": 29,
      "outputs": [
        {
          "output_type": "stream",
          "name": "stdout",
          "text": [
            "+------+---+---+---+---+---+---+\n",
            "|key_C3| 10| 54|567|834|898| 99|\n",
            "+------+---+---+---+---+---+---+\n",
            "|   200|  0|  0|  0|  0|  0|  0|\n",
            "|   101|  0|  0|  0|  0|  0|  1|\n",
            "|   110|  0|  0|  1|  0|  0|  0|\n",
            "|   300|  0|  0|  0|  1|  0|  0|\n",
            "|   100|  1|  0|  0|  0|  0|  0|\n",
            "|   102|  0|  0|  0|  0|  1|  0|\n",
            "|   111|  0|  1|  0|  0|  0|  0|\n",
            "+------+---+---+---+---+---+---+\n",
            "\n"
          ]
        }
      ]
    },
    {
      "cell_type": "markdown",
      "source": [
        "# FILTERING DATAFRAME ROWS\n",
        "To filter data based on conditions, you will primarily use `pyspark.sql.functions`.\n",
        "Refer to the [SQL Functions in Spark](https://spark.apache.org/docs/2.4.0/api/python/pyspark.sql.html#pyspark.sql.functions.arrays_zip) documentation for a full list of available functions.\n",
        "\n",
        "## Step 1: Filter using a single numerical condition\n",
        "Filter the DataFrame where a numerical column is greater than a specific value. For example, filter where 'fixed acidity' > 5.\n",
        "\n",
        "## Step 2: Filter using another single numerical condition\n",
        "Filter the DataFrame where a numerical column is less than a specific value. For example, filter where 'fixed acidity' < 5.\n",
        "\n",
        "## Step 3: Filter using multiple conditions (AND operator)\n",
        "Combine multiple conditions using the AND (`&`) operator. For example, filter where 'fixed acidity' < 10 AND 'quality' > 5.\n",
        "\n",
        "## Step 4: Filter using multiple conditions (OR operator)\n",
        "Combine multiple conditions using the OR (`|`) operator. For example, filter where 'quality' > 4 OR 'quality' < 8.\n",
        "\n",
        "## Step 5: Filter using a list of values (isin)\n",
        "Filter rows where a column's value is present in a given list. For example, filter where 'quality' is 5, 6, or 7.\n"
      ],
      "metadata": {
        "id": "nmM_OLjC_fLB"
      }
    },
    {
      "cell_type": "code",
      "source": [
        "df3 = spark.read.csv(yasserh_wine_quality_dataset_path,header = True,inferSchema=True)"
      ],
      "metadata": {
        "id": "7JE47PrNLEqU"
      },
      "execution_count": 30,
      "outputs": []
    },
    {
      "cell_type": "code",
      "source": [
        "df3.show()"
      ],
      "metadata": {
        "colab": {
          "base_uri": "https://localhost:8080/"
        },
        "id": "7b33sveK4M9W",
        "outputId": "64c0fcba-eaf2-4bb4-a0f0-4779caaf7e3a"
      },
      "execution_count": 31,
      "outputs": [
        {
          "output_type": "stream",
          "name": "stdout",
          "text": [
            "+-------------+----------------+-----------+--------------+-------------------+-------------------+--------------------+-------+----+---------+-------+-------+---+\n",
            "|fixed acidity|volatile acidity|citric acid|residual sugar|          chlorides|free sulfur dioxide|total sulfur dioxide|density|  pH|sulphates|alcohol|quality| Id|\n",
            "+-------------+----------------+-----------+--------------+-------------------+-------------------+--------------------+-------+----+---------+-------+-------+---+\n",
            "|          7.4|             0.7|        0.0|           1.9|              0.076|               11.0|                34.0| 0.9978|3.51|     0.56|    9.4|      5|  0|\n",
            "|          7.8|            0.88|        0.0|           2.6|              0.098|               25.0|                67.0| 0.9968| 3.2|     0.68|    9.8|      5|  1|\n",
            "|          7.8|            0.76|       0.04|           2.3|              0.092|               15.0|                54.0|  0.997|3.26|     0.65|    9.8|      5|  2|\n",
            "|         11.2|            0.28|       0.56|           1.9|              0.075|               17.0|                60.0|  0.998|3.16|     0.58|    9.8|      6|  3|\n",
            "|          7.4|             0.7|        0.0|           1.9|              0.076|               11.0|                34.0| 0.9978|3.51|     0.56|    9.4|      5|  4|\n",
            "|          7.4|            0.66|        0.0|           1.8|              0.075|               13.0|                40.0| 0.9978|3.51|     0.56|    9.4|      5|  5|\n",
            "|          7.9|             0.6|       0.06|           1.6|              0.069|               15.0|                59.0| 0.9964| 3.3|     0.46|    9.4|      5|  6|\n",
            "|          7.3|            0.65|        0.0|           1.2|              0.065|               15.0|                21.0| 0.9946|3.39|     0.47|   10.0|      7|  7|\n",
            "|          7.8|            0.58|       0.02|           2.0|              0.073|                9.0|                18.0| 0.9968|3.36|     0.57|    9.5|      7|  8|\n",
            "|          6.7|            0.58|       0.08|           1.8|0.09699999999999999|               15.0|                65.0| 0.9959|3.28|     0.54|    9.2|      5| 10|\n",
            "|          5.6|           0.615|        0.0|           1.6|0.08900000000000001|               16.0|                59.0| 0.9943|3.58|     0.52|    9.9|      5| 12|\n",
            "|          7.8|            0.61|       0.29|           1.6|              0.114|                9.0|                29.0| 0.9974|3.26|     1.56|    9.1|      5| 13|\n",
            "|          8.5|            0.28|       0.56|           1.8|              0.092|               35.0|               103.0| 0.9969| 3.3|     0.75|   10.5|      7| 16|\n",
            "|          7.9|            0.32|       0.51|           1.8|              0.341|               17.0|                56.0| 0.9969|3.04|     1.08|    9.2|      6| 19|\n",
            "|          7.6|            0.39|       0.31|           2.3|0.08199999999999999|               23.0|                71.0| 0.9982|3.52|     0.65|    9.7|      5| 21|\n",
            "|          7.9|            0.43|       0.21|           1.6|              0.106|               10.0|                37.0| 0.9966|3.17|     0.91|    9.5|      5| 22|\n",
            "|          8.5|            0.49|       0.11|           2.3|              0.084|                9.0|                67.0| 0.9968|3.17|     0.53|    9.4|      5| 23|\n",
            "|          6.9|             0.4|       0.14|           2.4|              0.085|               21.0|                40.0| 0.9968|3.43|     0.63|    9.7|      6| 24|\n",
            "|          6.3|            0.39|       0.16|           1.4|               0.08|               11.0|                23.0| 0.9955|3.34|     0.56|    9.3|      5| 25|\n",
            "|          7.6|            0.41|       0.24|           1.8|               0.08|                4.0|                11.0| 0.9962|3.28|     0.59|    9.5|      5| 26|\n",
            "+-------------+----------------+-----------+--------------+-------------------+-------------------+--------------------+-------+----+---------+-------+-------+---+\n",
            "only showing top 20 rows\n",
            "\n"
          ]
        }
      ]
    },
    {
      "cell_type": "code",
      "source": [
        "df3.filter(df3[\"fixed acidity\"] > 5).show(5)"
      ],
      "metadata": {
        "colab": {
          "base_uri": "https://localhost:8080/"
        },
        "id": "gzTudeS5Kxca",
        "outputId": "f5becbcf-2484-4588-87b0-07b563576972"
      },
      "execution_count": 32,
      "outputs": [
        {
          "output_type": "stream",
          "name": "stdout",
          "text": [
            "+-------------+----------------+-----------+--------------+---------+-------------------+--------------------+-------+----+---------+-------+-------+---+\n",
            "|fixed acidity|volatile acidity|citric acid|residual sugar|chlorides|free sulfur dioxide|total sulfur dioxide|density|  pH|sulphates|alcohol|quality| Id|\n",
            "+-------------+----------------+-----------+--------------+---------+-------------------+--------------------+-------+----+---------+-------+-------+---+\n",
            "|          7.4|             0.7|        0.0|           1.9|    0.076|               11.0|                34.0| 0.9978|3.51|     0.56|    9.4|      5|  0|\n",
            "|          7.8|            0.88|        0.0|           2.6|    0.098|               25.0|                67.0| 0.9968| 3.2|     0.68|    9.8|      5|  1|\n",
            "|          7.8|            0.76|       0.04|           2.3|    0.092|               15.0|                54.0|  0.997|3.26|     0.65|    9.8|      5|  2|\n",
            "|         11.2|            0.28|       0.56|           1.9|    0.075|               17.0|                60.0|  0.998|3.16|     0.58|    9.8|      6|  3|\n",
            "|          7.4|             0.7|        0.0|           1.9|    0.076|               11.0|                34.0| 0.9978|3.51|     0.56|    9.4|      5|  4|\n",
            "+-------------+----------------+-----------+--------------+---------+-------------------+--------------------+-------+----+---------+-------+-------+---+\n",
            "only showing top 5 rows\n",
            "\n"
          ]
        }
      ]
    },
    {
      "cell_type": "code",
      "source": [
        "df3.filter((df3['fixed acidity'] < 10) & (df3['quality'] > 5)).show(5)"
      ],
      "metadata": {
        "colab": {
          "base_uri": "https://localhost:8080/"
        },
        "id": "dC988XtE4nLf",
        "outputId": "bbab122d-2c29-45f7-861e-537fcc5c7d9c"
      },
      "execution_count": 33,
      "outputs": [
        {
          "output_type": "stream",
          "name": "stdout",
          "text": [
            "+-------------+----------------+-----------+--------------+---------+-------------------+--------------------+-------+----+---------+-------+-------+---+\n",
            "|fixed acidity|volatile acidity|citric acid|residual sugar|chlorides|free sulfur dioxide|total sulfur dioxide|density|  pH|sulphates|alcohol|quality| Id|\n",
            "+-------------+----------------+-----------+--------------+---------+-------------------+--------------------+-------+----+---------+-------+-------+---+\n",
            "|          7.3|            0.65|        0.0|           1.2|    0.065|               15.0|                21.0| 0.9946|3.39|     0.47|   10.0|      7|  7|\n",
            "|          7.8|            0.58|       0.02|           2.0|    0.073|                9.0|                18.0| 0.9968|3.36|     0.57|    9.5|      7|  8|\n",
            "|          8.5|            0.28|       0.56|           1.8|    0.092|               35.0|               103.0| 0.9969| 3.3|     0.75|   10.5|      7| 16|\n",
            "|          7.9|            0.32|       0.51|           1.8|    0.341|               17.0|                56.0| 0.9969|3.04|     1.08|    9.2|      6| 19|\n",
            "|          6.9|             0.4|       0.14|           2.4|    0.085|               21.0|                40.0| 0.9968|3.43|     0.63|    9.7|      6| 24|\n",
            "+-------------+----------------+-----------+--------------+---------+-------------------+--------------------+-------+----+---------+-------+-------+---+\n",
            "only showing top 5 rows\n",
            "\n"
          ]
        }
      ]
    },
    {
      "cell_type": "code",
      "source": [
        "df3.filter((df3['quality'] > 4) | (df3['quality'] < 8)).show(5)"
      ],
      "metadata": {
        "colab": {
          "base_uri": "https://localhost:8080/"
        },
        "id": "DLxuHVPk7Qoc",
        "outputId": "87636ef0-d930-43b0-ec9e-c604017d61e5"
      },
      "execution_count": 34,
      "outputs": [
        {
          "output_type": "stream",
          "name": "stdout",
          "text": [
            "+-------------+----------------+-----------+--------------+---------+-------------------+--------------------+-------+----+---------+-------+-------+---+\n",
            "|fixed acidity|volatile acidity|citric acid|residual sugar|chlorides|free sulfur dioxide|total sulfur dioxide|density|  pH|sulphates|alcohol|quality| Id|\n",
            "+-------------+----------------+-----------+--------------+---------+-------------------+--------------------+-------+----+---------+-------+-------+---+\n",
            "|          7.4|             0.7|        0.0|           1.9|    0.076|               11.0|                34.0| 0.9978|3.51|     0.56|    9.4|      5|  0|\n",
            "|          7.8|            0.88|        0.0|           2.6|    0.098|               25.0|                67.0| 0.9968| 3.2|     0.68|    9.8|      5|  1|\n",
            "|          7.8|            0.76|       0.04|           2.3|    0.092|               15.0|                54.0|  0.997|3.26|     0.65|    9.8|      5|  2|\n",
            "|         11.2|            0.28|       0.56|           1.9|    0.075|               17.0|                60.0|  0.998|3.16|     0.58|    9.8|      6|  3|\n",
            "|          7.4|             0.7|        0.0|           1.9|    0.076|               11.0|                34.0| 0.9978|3.51|     0.56|    9.4|      5|  4|\n",
            "+-------------+----------------+-----------+--------------+---------+-------------------+--------------------+-------+----+---------+-------+-------+---+\n",
            "only showing top 5 rows\n",
            "\n"
          ]
        }
      ]
    },
    {
      "cell_type": "code",
      "source": [
        "df3.filter(df3['quality'].isin([5, 6, 7])).show(5)"
      ],
      "metadata": {
        "colab": {
          "base_uri": "https://localhost:8080/"
        },
        "id": "tFZ0gerd7-Km",
        "outputId": "b0f18d80-4b83-40f1-8c20-5392b69bd42f"
      },
      "execution_count": 35,
      "outputs": [
        {
          "output_type": "stream",
          "name": "stdout",
          "text": [
            "+-------------+----------------+-----------+--------------+---------+-------------------+--------------------+-------+----+---------+-------+-------+---+\n",
            "|fixed acidity|volatile acidity|citric acid|residual sugar|chlorides|free sulfur dioxide|total sulfur dioxide|density|  pH|sulphates|alcohol|quality| Id|\n",
            "+-------------+----------------+-----------+--------------+---------+-------------------+--------------------+-------+----+---------+-------+-------+---+\n",
            "|          7.4|             0.7|        0.0|           1.9|    0.076|               11.0|                34.0| 0.9978|3.51|     0.56|    9.4|      5|  0|\n",
            "|          7.8|            0.88|        0.0|           2.6|    0.098|               25.0|                67.0| 0.9968| 3.2|     0.68|    9.8|      5|  1|\n",
            "|          7.8|            0.76|       0.04|           2.3|    0.092|               15.0|                54.0|  0.997|3.26|     0.65|    9.8|      5|  2|\n",
            "|         11.2|            0.28|       0.56|           1.9|    0.075|               17.0|                60.0|  0.998|3.16|     0.58|    9.8|      6|  3|\n",
            "|          7.4|             0.7|        0.0|           1.9|    0.076|               11.0|                34.0| 0.9978|3.51|     0.56|    9.4|      5|  4|\n",
            "+-------------+----------------+-----------+--------------+---------+-------------------+--------------------+-------+----+---------+-------+-------+---+\n",
            "only showing top 5 rows\n",
            "\n"
          ]
        }
      ]
    },
    {
      "cell_type": "markdown",
      "source": [
        "# ADVANCED FILTERING TECHNIQUES\n",
        "## Step 1: Filter by categorical columns with multiple conditions\n",
        "Filter the DataFrame based on conditions involving categorical columns. For instance, filter where 'Embarked' is 'S' AND 'Sex' is 'female'.\n",
        "\n",
        "## Step 2: Filter with exclusion (NOT operator)\n",
        "Exclude rows that meet a certain condition using the NOT (`~`) operator. For example, filter where 'Embarked' is NOT 'S'.\n",
        "\n",
        "## Step 3: Filter with exclusion using SQL syntax\n",
        "Demonstrate filtering using SQL-like syntax for exclusion. For example, filter where 'Embarked' is not 'C' or 'Q'.\n",
        "\n",
        "## Step 4: Filter rows where a string column starts with a specific substring\n",
        "Filter the DataFrame where a string column (e.g., 'Cabin') starts with 'A'.\n",
        "\n",
        "## Step 5: Filter rows where a string column ends with a specific substring\n",
        "Filter the DataFrame where a string column (e.g., 'Cabin') ends with '3'.\n",
        "\n",
        "## Step 6: Filter rows where a string column contains a specific substring\n",
        "Filter the DataFrame where a string column (e.g., 'Name') contains 'Miss'.\n",
        "\n",
        "## Step 7: Filter using SQL `LIKE` operator (REGEX)\n",
        "Filter the DataFrame using regular expressions with the `like` operator. For example, filter where 'Name' contains 'John'.\n",
        "\n",
        "## Step 8: Filter for null values\n",
        "Identify and filter rows where a specific column (e.g., 'Cabin') has null values.\n",
        "\n",
        "## Step 9: Filter for non-null values\n",
        "Identify and filter rows where a specific column (e.g., 'Cabin') does NOT have null values.\n"
      ],
      "metadata": {
        "id": "QCnRNpwI_fLB"
      }
    },
    {
      "cell_type": "code",
      "source": [
        "df4 = spark.read.csv(titanic_path, header = True, inferSchema= True)"
      ],
      "metadata": {
        "id": "qSzyPm8ZBDXZ"
      },
      "execution_count": 36,
      "outputs": []
    },
    {
      "cell_type": "code",
      "source": [
        "# df4.filter((df4['Embarked']== 'S') & (df4['Sex'] == 'female')).show(5)\n",
        "df4.filter((F.col(\"Embarked\") == \"S\") & (F.col(\"Sex\") == \"female\")).show(5)"
      ],
      "metadata": {
        "colab": {
          "base_uri": "https://localhost:8080/"
        },
        "id": "zu4D2rJhATX1",
        "outputId": "0ccaebd0-4946-4451-fb06-b6aee2ee7020"
      },
      "execution_count": 37,
      "outputs": [
        {
          "output_type": "stream",
          "name": "stdout",
          "text": [
            "+-----------+--------+------+--------------------+------+---+-----+-----+----------------+-------+-----+--------+\n",
            "|PassengerId|Survived|Pclass|                Name|   Sex|Age|SibSp|Parch|          Ticket|   Fare|Cabin|Embarked|\n",
            "+-----------+--------+------+--------------------+------+---+-----+-----+----------------+-------+-----+--------+\n",
            "|          3|       1|     3|Heikkinen, Miss. ...|female| 26|    0|    0|STON/O2. 3101282|  7.925| NULL|       S|\n",
            "|          4|       1|     1|Futrelle, Mrs. Ja...|female| 35|    1|    0|          113803|   53.1| C123|       S|\n",
            "|          9|       1|     3|Johnson, Mrs. Osc...|female| 27|    0|    2|          347742|11.1333| NULL|       S|\n",
            "|         11|       1|     3|Sandstrom, Miss. ...|female|  4|    1|    1|         PP 9549|   16.7|   G6|       S|\n",
            "|         12|       1|     1|Bonnell, Miss. El...|female| 58|    0|    0|          113783|  26.55| C103|       S|\n",
            "+-----------+--------+------+--------------------+------+---+-----+-----+----------------+-------+-----+--------+\n",
            "only showing top 5 rows\n",
            "\n"
          ]
        }
      ]
    },
    {
      "cell_type": "code",
      "source": [
        "df4.filter(~(F.col(\"Embarked\") == \"S\")).show()"
      ],
      "metadata": {
        "colab": {
          "base_uri": "https://localhost:8080/"
        },
        "id": "z-YXZ-5xgMf7",
        "outputId": "64101e1e-e22c-4a5b-916b-0f41f22d04c0"
      },
      "execution_count": 40,
      "outputs": [
        {
          "output_type": "stream",
          "name": "stdout",
          "text": [
            "+-----------+--------+------+--------------------+------+----+-----+-----+-------------+--------+-----+--------+\n",
            "|PassengerId|Survived|Pclass|                Name|   Sex| Age|SibSp|Parch|       Ticket|    Fare|Cabin|Embarked|\n",
            "+-----------+--------+------+--------------------+------+----+-----+-----+-------------+--------+-----+--------+\n",
            "|          2|       1|     1|Cumings, Mrs. Joh...|female|  38|    1|    0|     PC 17599| 71.2833|  C85|       C|\n",
            "|          6|       0|     3|    Moran, Mr. James|  male|NULL|    0|    0|       330877|  8.4583| NULL|       Q|\n",
            "|         10|       1|     2|Nasser, Mrs. Nich...|female|  14|    1|    0|       237736| 30.0708| NULL|       C|\n",
            "|         17|       0|     3|Rice, Master. Eugene|  male|   2|    4|    1|       382652|  29.125| NULL|       Q|\n",
            "|         20|       1|     3|Masselmani, Mrs. ...|female|NULL|    0|    0|         2649|   7.225| NULL|       C|\n",
            "|         23|       1|     3|\"McGowan, Miss. A...|female|  15|    0|    0|       330923|  8.0292| NULL|       Q|\n",
            "|         27|       0|     3|Emir, Mr. Farred ...|  male|NULL|    0|    0|         2631|   7.225| NULL|       C|\n",
            "|         29|       1|     3|\"O'Dwyer, Miss. E...|female|NULL|    0|    0|       330959|  7.8792| NULL|       Q|\n",
            "|         31|       0|     1|Uruchurtu, Don. M...|  male|  40|    0|    0|     PC 17601| 27.7208| NULL|       C|\n",
            "|         32|       1|     1|Spencer, Mrs. Wil...|female|NULL|    1|    0|     PC 17569|146.5208|  B78|       C|\n",
            "|         33|       1|     3|Glynn, Miss. Mary...|female|NULL|    0|    0|       335677|    7.75| NULL|       Q|\n",
            "|         35|       0|     1|Meyer, Mr. Edgar ...|  male|  28|    1|    0|     PC 17604| 82.1708| NULL|       C|\n",
            "|         37|       1|     3|    Mamee, Mr. Hanna|  male|NULL|    0|    0|         2677|  7.2292| NULL|       C|\n",
            "|         40|       1|     3|Nicola-Yarred, Mi...|female|  14|    1|    0|         2651| 11.2417| NULL|       C|\n",
            "|         43|       0|     3| Kraeff, Mr. Theodor|  male|NULL|    0|    0|       349253|  7.8958| NULL|       C|\n",
            "|         44|       1|     2|Laroche, Miss. Si...|female|   3|    1|    2|SC/Paris 2123| 41.5792| NULL|       C|\n",
            "|         45|       1|     3|Devaney, Miss. Ma...|female|  19|    0|    0|       330958|  7.8792| NULL|       Q|\n",
            "|         47|       0|     3|   Lennon, Mr. Denis|  male|NULL|    1|    0|       370371|    15.5| NULL|       Q|\n",
            "|         48|       1|     3|O'Driscoll, Miss....|female|NULL|    0|    0|        14311|    7.75| NULL|       Q|\n",
            "|         49|       0|     3| Samaan, Mr. Youssef|  male|NULL|    2|    0|         2662| 21.6792| NULL|       C|\n",
            "+-----------+--------+------+--------------------+------+----+-----+-----+-------------+--------+-----+--------+\n",
            "only showing top 20 rows\n",
            "\n"
          ]
        }
      ]
    },
    {
      "cell_type": "code",
      "source": [
        "df4.filter((F.col(\"Embarked\") == \"C\") |(F.col(\"Embarked\") == \"Q\") ).show(5)"
      ],
      "metadata": {
        "colab": {
          "base_uri": "https://localhost:8080/"
        },
        "id": "VNLt1HjVjtXM",
        "outputId": "50a1212b-13df-4b23-c4f3-e0fab7ac9388"
      },
      "execution_count": 41,
      "outputs": [
        {
          "output_type": "stream",
          "name": "stdout",
          "text": [
            "+-----------+--------+------+--------------------+------+----+-----+-----+--------+-------+-----+--------+\n",
            "|PassengerId|Survived|Pclass|                Name|   Sex| Age|SibSp|Parch|  Ticket|   Fare|Cabin|Embarked|\n",
            "+-----------+--------+------+--------------------+------+----+-----+-----+--------+-------+-----+--------+\n",
            "|          2|       1|     1|Cumings, Mrs. Joh...|female|  38|    1|    0|PC 17599|71.2833|  C85|       C|\n",
            "|          6|       0|     3|    Moran, Mr. James|  male|NULL|    0|    0|  330877| 8.4583| NULL|       Q|\n",
            "|         10|       1|     2|Nasser, Mrs. Nich...|female|  14|    1|    0|  237736|30.0708| NULL|       C|\n",
            "|         17|       0|     3|Rice, Master. Eugene|  male|   2|    4|    1|  382652| 29.125| NULL|       Q|\n",
            "|         20|       1|     3|Masselmani, Mrs. ...|female|NULL|    0|    0|    2649|  7.225| NULL|       C|\n",
            "+-----------+--------+------+--------------------+------+----+-----+-----+--------+-------+-----+--------+\n",
            "only showing top 5 rows\n",
            "\n"
          ]
        }
      ]
    },
    {
      "cell_type": "code",
      "source": [
        "df4.filter(F.col(\"Cabin\").startswith(\"A\")).show()"
      ],
      "metadata": {
        "colab": {
          "base_uri": "https://localhost:8080/"
        },
        "id": "E7VOp9pqkZSO",
        "outputId": "9ba0ab2e-6612-4052-97d3-42bd5a1c6a2e"
      },
      "execution_count": 43,
      "outputs": [
        {
          "output_type": "stream",
          "name": "stdout",
          "text": [
            "+-----------+--------+------+--------------------+------+----+-----+-----+--------+-------+-----+--------+\n",
            "|PassengerId|Survived|Pclass|                Name|   Sex| Age|SibSp|Parch|  Ticket|   Fare|Cabin|Embarked|\n",
            "+-----------+--------+------+--------------------+------+----+-----+-----+--------+-------+-----+--------+\n",
            "|         24|       1|     1|Sloper, Mr. Willi...|  male|  28|    0|    0|  113788|   35.5|   A6|       S|\n",
            "|         97|       0|     1|Goldschmidt, Mr. ...|  male|  71|    0|    0|PC 17754|34.6542|   A5|       C|\n",
            "|        175|       0|     1|Smith, Mr. James ...|  male|  56|    0|    0|   17764|30.6958|   A7|       C|\n",
            "|        186|       0|     1|Rood, Mr. Hugh Ro...|  male|NULL|    0|    0|  113767|     50|  A32|       S|\n",
            "|        210|       1|     1|    Blank, Mr. Henry|  male|  40|    0|    0|  112277|     31|  A31|       C|\n",
            "|        285|       0|     1|Smith, Mr. Richar...|  male|NULL|    0|    0|  113056|     26|  A19|       S|\n",
            "|        446|       1|     1|Dodge, Master. Wa...|  male|   4|    0|    2|   33638|81.8583|  A34|       S|\n",
            "|        476|       0|     1|Clifford, Mr. Geo...|  male|NULL|    0|    0|  110465|     52|  A14|       S|\n",
            "|        557|       1|     1|\"Duff Gordon, Lad...|female|  48|    1|    0|   11755|   39.6|  A16|       C|\n",
            "|        584|       0|     1| Ross, Mr. John Hugo|  male|  36|    0|    0|   13049| 40.125|  A10|       C|\n",
            "|        600|       1|     1|\"Duff Gordon, Sir...|  male|  49|    1|    0|PC 17485|56.9292|  A20|       C|\n",
            "|        631|       1|     1|Barkworth, Mr. Al...|  male|  80|    0|    0|   27042|     30|  A23|       S|\n",
            "|        648|       1|     1|Simonius-Blumer, ...|  male|  56|    0|    0|   13213|   35.5|  A26|       C|\n",
            "|        807|       0|     1|Andrews, Mr. Thom...|  male|  39|    0|    0|  112050|      0|  A36|       S|\n",
            "|        868|       0|     1|Roebling, Mr. Was...|  male|  31|    0|    0|PC 17590|50.4958|  A24|       S|\n",
            "+-----------+--------+------+--------------------+------+----+-----+-----+--------+-------+-----+--------+\n",
            "\n"
          ]
        }
      ]
    },
    {
      "cell_type": "code",
      "source": [
        "df4.filter(F.col(\"Cabin\").endswith(\"7\")).show()"
      ],
      "metadata": {
        "colab": {
          "base_uri": "https://localhost:8080/"
        },
        "id": "wkq-FBdsm4W0",
        "outputId": "d40f812c-0f7c-4f31-a183-265b1faf5d67"
      },
      "execution_count": 44,
      "outputs": [
        {
          "output_type": "stream",
          "name": "stdout",
          "text": [
            "+-----------+--------+------+--------------------+------+----+-----+-----+-----------+--------+-----------+--------+\n",
            "|PassengerId|Survived|Pclass|                Name|   Sex| Age|SibSp|Parch|     Ticket|    Fare|      Cabin|Embarked|\n",
            "+-----------+--------+------+--------------------+------+----+-----+-----+-----------+--------+-----------+--------+\n",
            "|         28|       0|     1|Fortune, Mr. Char...|  male|  19|    3|    2|      19950|     263|C23 C25 C27|       S|\n",
            "|         89|       1|     1|Fortune, Miss. Ma...|female|  23|    3|    2|      19950|     263|C23 C25 C27|       S|\n",
            "|        137|       1|     1|Newsom, Miss. Hel...|female|  19|    0|    2|      11752| 26.2833|        D47|       S|\n",
            "|        175|       0|     1|Smith, Mr. James ...|  male|  56|    0|    0|      17764| 30.6958|         A7|       C|\n",
            "|        253|       0|     1|Stead, Mr. Willia...|  male|  62|    0|    0|     113514|   26.55|        C87|       S|\n",
            "|        258|       1|     1|Cherry, Miss. Gladys|female|  30|    0|    0|     110152|    86.5|        B77|       S|\n",
            "|        263|       0|     1|   Taussig, Mr. Emil|  male|  52|    1|    1|     110413|   79.65|        E67|       S|\n",
            "|        276|       1|     1|Andrews, Miss. Ko...|female|  63|    1|    0|      13502| 77.9583|         D7|       S|\n",
            "|        319|       1|     1|Wick, Miss. Mary ...|female|  31|    0|    2|      36928|164.8667|         C7|       S|\n",
            "|        342|       1|     1|Fortune, Miss. Al...|female|  24|    3|    2|      19950|     263|C23 C25 C27|       S|\n",
            "|        367|       1|     1|Warren, Mrs. Fran...|female|  60|    1|    0|     110813|   75.25|        D37|       C|\n",
            "|        439|       0|     1|   Fortune, Mr. Mark|  male|  64|    1|    4|      19950|     263|C23 C25 C27|       S|\n",
            "|        488|       0|     1|Kent, Mr. Edward ...|  male|  58|    0|    0|      11771|    29.7|        B37|       C|\n",
            "|        559|       1|     1|Taussig, Mrs. Emi...|female|  39|    1|    1|     110413|   79.65|        E67|       S|\n",
            "|        760|       1|     1|Rothes, the Count...|female|  33|    0|    0|     110152|    86.5|        B77|       S|\n",
            "|        773|       0|     2|   Mack, Mrs. (Mary)|female|  57|    0|    0|S.O./P.P. 3|    10.5|        E77|       S|\n",
            "|        797|       1|     1|Leader, Dr. Alice...|female|  49|    0|    0|      17465| 25.9292|        D17|       S|\n",
            "|        840|       1|     1|Marechal, Mr. Pierre|  male|NULL|    0|    0|      11774|    29.7|        C47|       C|\n",
            "|        858|       1|     1|Daly, Mr. Peter D...|  male|  51|    0|    0|     113055|   26.55|        E17|       S|\n",
            "|        863|       1|     1|Swift, Mrs. Frede...|female|  48|    0|    0|      17466| 25.9292|        D17|       S|\n",
            "+-----------+--------+------+--------------------+------+----+-----+-----+-----------+--------+-----------+--------+\n",
            "\n"
          ]
        }
      ]
    },
    {
      "cell_type": "code",
      "source": [
        "df4.filter(F.col(\"Name\").contains(\"Max\")).collect()[0][3]"
      ],
      "metadata": {
        "colab": {
          "base_uri": "https://localhost:8080/",
          "height": 35
        },
        "id": "lQ1fnEVhna8B",
        "outputId": "4de5a31c-7991-40e7-f14f-aec7de0a0513"
      },
      "execution_count": 51,
      "outputs": [
        {
          "output_type": "execute_result",
          "data": {
            "text/plain": [
              "'Hoyt, Mr. Frederick Maxfield'"
            ],
            "application/vnd.google.colaboratory.intrinsic+json": {
              "type": "string"
            }
          },
          "metadata": {},
          "execution_count": 51
        }
      ]
    },
    {
      "cell_type": "code",
      "source": [
        "df4.filter((F.col(\"Name\").like(\"%Jhon%\"))).show()"
      ],
      "metadata": {
        "colab": {
          "base_uri": "https://localhost:8080/"
        },
        "id": "XJxNkbueqzgE",
        "outputId": "f3cc95f9-104e-4016-cc05-b7dbaa98ea8b"
      },
      "execution_count": 53,
      "outputs": [
        {
          "output_type": "stream",
          "name": "stdout",
          "text": [
            "+-----------+--------+------+----+---+---+-----+-----+------+----+-----+--------+\n",
            "|PassengerId|Survived|Pclass|Name|Sex|Age|SibSp|Parch|Ticket|Fare|Cabin|Embarked|\n",
            "+-----------+--------+------+----+---+---+-----+-----+------+----+-----+--------+\n",
            "+-----------+--------+------+----+---+---+-----+-----+------+----+-----+--------+\n",
            "\n"
          ]
        }
      ]
    },
    {
      "cell_type": "code",
      "source": [
        "df4.filter((F.col(\"Cabin\").isNotNull())).show()"
      ],
      "metadata": {
        "colab": {
          "base_uri": "https://localhost:8080/"
        },
        "id": "moq5iLwXrLTs",
        "outputId": "e0d94f1e-2c40-4795-958c-d2d8eaaaa9da"
      },
      "execution_count": 58,
      "outputs": [
        {
          "output_type": "stream",
          "name": "stdout",
          "text": [
            "+-----------+--------+------+--------------------+------+----+-----+-----+-----------+--------+-----------+--------+\n",
            "|PassengerId|Survived|Pclass|                Name|   Sex| Age|SibSp|Parch|     Ticket|    Fare|      Cabin|Embarked|\n",
            "+-----------+--------+------+--------------------+------+----+-----+-----+-----------+--------+-----------+--------+\n",
            "|          2|       1|     1|Cumings, Mrs. Joh...|female|  38|    1|    0|   PC 17599| 71.2833|        C85|       C|\n",
            "|          4|       1|     1|Futrelle, Mrs. Ja...|female|  35|    1|    0|     113803|    53.1|       C123|       S|\n",
            "|          7|       0|     1|McCarthy, Mr. Tim...|  male|  54|    0|    0|      17463| 51.8625|        E46|       S|\n",
            "|         11|       1|     3|Sandstrom, Miss. ...|female|   4|    1|    1|    PP 9549|    16.7|         G6|       S|\n",
            "|         12|       1|     1|Bonnell, Miss. El...|female|  58|    0|    0|     113783|   26.55|       C103|       S|\n",
            "|         22|       1|     2|Beesley, Mr. Lawr...|  male|  34|    0|    0|     248698|      13|        D56|       S|\n",
            "|         24|       1|     1|Sloper, Mr. Willi...|  male|  28|    0|    0|     113788|    35.5|         A6|       S|\n",
            "|         28|       0|     1|Fortune, Mr. Char...|  male|  19|    3|    2|      19950|     263|C23 C25 C27|       S|\n",
            "|         32|       1|     1|Spencer, Mrs. Wil...|female|NULL|    1|    0|   PC 17569|146.5208|        B78|       C|\n",
            "|         53|       1|     1|Harper, Mrs. Henr...|female|  49|    1|    0|   PC 17572| 76.7292|        D33|       C|\n",
            "|         55|       0|     1|Ostby, Mr. Engelh...|  male|  65|    0|    1|     113509| 61.9792|        B30|       C|\n",
            "|         56|       1|     1|   Woolner, Mr. Hugh|  male|NULL|    0|    0|      19947|    35.5|        C52|       S|\n",
            "|         62|       1|     1| Icard, Miss. Amelie|female|  38|    0|    0|     113572|      80|        B28|    NULL|\n",
            "|         63|       0|     1|Harris, Mr. Henry...|  male|  45|    1|    0|      36973|  83.475|        C83|       S|\n",
            "|         67|       1|     2|Nye, Mrs. (Elizab...|female|  29|    0|    0| C.A. 29395|    10.5|        F33|       S|\n",
            "|         76|       0|     3|Moen, Mr. Sigurd ...|  male|  25|    0|    0|     348123|    7.65|      F G73|       S|\n",
            "|         89|       1|     1|Fortune, Miss. Ma...|female|  23|    3|    2|      19950|     263|C23 C25 C27|       S|\n",
            "|         93|       0|     1|Chaffee, Mr. Herb...|  male|  46|    1|    0|W.E.P. 5734|  61.175|        E31|       S|\n",
            "|         97|       0|     1|Goldschmidt, Mr. ...|  male|  71|    0|    0|   PC 17754| 34.6542|         A5|       C|\n",
            "|         98|       1|     1|Greenfield, Mr. W...|  male|  23|    0|    1|   PC 17759| 63.3583|    D10 D12|       C|\n",
            "+-----------+--------+------+--------------------+------+----+-----+-----+-----------+--------+-----------+--------+\n",
            "only showing top 20 rows\n",
            "\n"
          ]
        }
      ]
    },
    {
      "cell_type": "markdown",
      "source": [
        "# MANIPULATING DATA IN DATAFRAMES\n",
        "This section covers creating new columns, modifying existing ones, and changing data types. Key functions include `withColumn()`, `F.round()`, and `F.when()`.\n",
        "\n",
        "## Step 1: Create a new column by adding two existing columns\n",
        "Add the values of two numerical columns (e.g., 'volatile acidity' and 'citric acid') to create a new column.\n",
        "\n",
        "## Step 2: Create a new column with a constant value\n",
        "Add a new column to your DataFrame where all values are a constant (e.g., a dummy column with ones).\n",
        "\n",
        "## Step 3: Round a numerical column to a specific decimal place\n",
        "Round the values in a numerical column (e.g., 'pH') to one decimal place.\n",
        "\n",
        "## Step 4: Implement conditional logic for a new column (F.when())\n",
        "Create a new column ('Survived_TEXT') based on a conditional statement on an existing column ('Survived'). For instance, if 'Survived' is 0, set 'Survived_TEXT' to 'NO', otherwise 'YES'.\n",
        "\n",
        "## Step 5: Implement multiple conditional logic for a new column\n",
        "Apply multiple `F.when()` conditions to create a new categorical column ('COD_EMBARKED') based on values in 'Embarked'. For example, 'C' maps to 'YES_C', 'S' maps to 'NO_S', and others map to 'MAYBE_OTHER'.\n",
        "\n",
        "## Step 6: Change the data type of columns\n",
        "Import `pyspark.sql.types` as `T` to access data types like `DoubleType`, `IntegerType`, `StringType`, etc.\n",
        "Change the data type of an existing column (e.g., 'Survived' to DoubleType, 'Age' to StringType). Remember to print the schema before and after the change to verify.\n"
      ],
      "metadata": {
        "id": "TifGWn4b_fLB"
      }
    },
    {
      "cell_type": "markdown",
      "source": [
        "- Conditionals (F.when('Condition', value ))\n"
      ],
      "metadata": {
        "id": "y0Jn_Aj__fLB"
      }
    },
    {
      "cell_type": "markdown",
      "source": [
        "- Changing type of variables (importing the sql types module as T)\n",
        "- DoubleType, IntegerType, StringType...\n"
      ],
      "metadata": {
        "id": "Lo643Mk9_fLB"
      }
    },
    {
      "cell_type": "markdown",
      "source": [
        "# GROUPING AND AGGREGATING DATA\n",
        "This section covers various grouping operations including counting, aggregating with multiple functions, and pivot tables.\n",
        "\n",
        "## Step 1: Count occurrences after grouping by multiple columns\n",
        "Group your DataFrame by two categorical columns (e.g., 'Sex' and 'Embarked') and then count the number of occurrences for each group.\n",
        "\n",
        "## Step 2: Order grouped counts\n",
        "Extend the previous step by ordering the grouped counts based on one or more of the grouping columns.\n",
        "\n",
        "## Step 3: Aggregate multiple statistics with renaming\n",
        "Group by a column (e.g., 'Survived') and calculate multiple aggregation functions (mean, max, min) on another column (e.g., 'Age'). Alias the resulting aggregated columns for clarity.\n",
        "\n",
        "## Step 4: Create a Pivot Table\n",
        "Use the `pivot` function to reshape your DataFrame. Group by one column (e.g., 'Embarked'), pivot by another (e.g., 'Sex' with specified categories 'male', 'female'), and then apply an aggregation function (e.g., `F.sum('Survived')`, `F.count('Survived')`, `F.mean('Survived')`).\n"
      ],
      "metadata": {
        "id": "h3P2vEUP_fLC"
      }
    },
    {
      "cell_type": "markdown",
      "source": [
        "# WINDOW FUNCTIONS IN PYSPARK\n",
        "Window functions allow you to perform calculations across a set of DataFrame rows that are related to the current row. This is similar to `GROUP BY` but returns a value for each row, rather than a single aggregated value for a group.\n",
        "To use window functions, import `Window` from `pyspark.sql`.\n",
        "More details: [Pyspark Window Functions](https://spark.apache.org/docs/2.4.0/api/python/pyspark.sql.html#pyspark.sql.Window)\n",
        "\n",
        "## Step 1: Assign a row number\n",
        "Use `F.row_number().over(Window.orderBy('column'))` to assign a unique sequential number to each row within a window, ordered by a specified column.\n",
        "\n",
        "## Step 2: Calculate rank over partitions\n",
        "Calculate the rank of rows within partitions (groups) defined by one or more columns (e.g., 'Country'), ordered by another column (e.g., 'value'). Use `Window.partitionBy('column').orderBy('column')`.\n",
        "\n",
        "## Step 3: Get the previous value (LAG)\n",
        "Retrieve the value from a preceding row using `F.lag('column', offset).over(window_spec)`. Partition and order your window appropriately (e.g., by 'Country' and 'id').\n",
        "\n",
        "## Step 4: Get the next value (LEAD)\n",
        "Retrieve the value from a subsequent row using `F.lead('column', offset).over(window_spec)`. Partition and order your window as needed.\n",
        "\n",
        "## Step 5: Divide data into N tiles (NTILE)\n",
        "Distribute rows into a specified number of groups (tiles) based on the order of a column. Use `F.n_tile(n).over(window_spec)`.\n",
        "\n",
        "## Step 6: Calculate sum over a rolling window (RangeBetween)\n",
        "Compute a sum over a specified range of rows relative to the current row (e.g., the previous row, current row, and next row). Use `Window.orderBy('column').rowsBetween(start, end)` where -1 is previous, 0 is current, 1 is next, etc.\n"
      ],
      "metadata": {
        "id": "MARKPmL4_fLC"
      }
    },
    {
      "cell_type": "markdown",
      "source": [
        "# JOINING DATAFRAMES\n",
        "Joining DataFrames is fundamental for combining data from different sources. PySpark offers various join types similar to SQL.\n",
        "Available join types: Inner (default), Cross, Outer, Left, Right, Left anti, Left semi.\n",
        "More details: [Pyspark Joins](https://sparkbyexamples.com/pyspark/pyspark-join-types/)\n",
        "\n",
        "## Step 1: Perform an Inner Join\n",
        "Join two DataFrames (`df_data` and `df_data_2`) on a common key (e.g., 'id') using an inner join. This will return only the rows where the join key exists in both DataFrames.\n",
        "\n",
        "## Step 2: Perform a Left Join\n",
        "Execute a left join. This will return all rows from the left DataFrame (`df_data`) and the matching rows from the right DataFrame (`df_data_2`). If there's no match, the columns from the right DataFrame will be null.\n",
        "\n",
        "## Step 3: Perform a Right Join\n",
        "Execute a right join. This will return all rows from the right DataFrame (`df_data_2`) and the matching rows from the left DataFrame (`df_data`). If there's no match, the columns from the left DataFrame will be null.\n",
        "\n",
        "## Step 4: Perform a Cross Join\n",
        "Perform a cross join between two DataFrames. This join returns the Cartesian product of rows from both DataFrames (every row from the first DataFrame is combined with every row from the second).\n"
      ],
      "metadata": {
        "id": "PPdWKam__fLC"
      }
    },
    {
      "cell_type": "markdown",
      "source": [
        "# USER DEFINED FUNCTIONS (UDFs)\n",
        "UDFs allow you to use custom Python functions directly within PySpark DataFrames. This is useful for operations that are not natively supported by Spark's built-in functions.\n",
        "To use UDFs, import `udf` from `pyspark.sql.functions` and relevant `DataType` from `pyspark.sql.types`.\n",
        "More details: [UDF](https://sparkbyexamples.com/pyspark/pyspark-udf-user-defined-function/)\n",
        "\n",
        "## Step 1: Create a simple UDF\n",
        "Define a Python function (e.g., `price_to_category`) that takes a value and returns a categorized string ('Low', 'Medium', 'High'). Register this Python function as a PySpark UDF, specifying its return type (e.g., `StringType()`). Then, apply this UDF to a column in your DataFrame (e.g., 'Price') to create a new categorized column.\n"
      ],
      "metadata": {
        "id": "5WbObTG4_fLC"
      }
    },
    {
      "cell_type": "markdown",
      "source": [
        "# REFERENCES\n",
        "* [Pyspark: The Definitive Guide](https://www.amazon.com/Spark-Definitive-Guide-Unified-Analytics/dp/1491976707)\n",
        "* [Spark official webpage](https://spark.apache.org/docs/latest/)\n",
        "* [Pyspark official webpage](https://spark.apache.org/docs/latest/api/python/index.html)\n",
        "* [IBM tutorial on Pyspark](https://www.ibm.com/cloud/blog/apache-spark-for-beginners)\n",
        "* [Databricks tutorial](https://databricks.com/glossary/what-is-pyspark)\n",
        "* [Spark by examples](https://sparkbyexamples.com/pyspark-tutorial/)\n"
      ],
      "metadata": {
        "id": "Ro2mi3bq_fLC"
      }
    }
  ]
}