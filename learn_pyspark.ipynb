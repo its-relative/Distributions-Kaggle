{
  "metadata": {
    "kernelspec": {
      "display_name": "Python 3",
      "name": "python3"
    },
    "language_info": {
      "name": "python",
      "version": "3.6.4"
    },
    "colab": {
      "provenance": [],
      "gpuType": "T4",
      "include_colab_link": true
    },
    "accelerator": "GPU",
    "widgets": {
      "application/vnd.jupyter.widget-state+json": {
        "2df58ddc3eb44a859870265ac9087556": {
          "model_module": "@jupyter-widgets/controls",
          "model_name": "VBoxModel",
          "model_module_version": "1.5.0",
          "state": {
            "_dom_classes": [],
            "_model_module": "@jupyter-widgets/controls",
            "_model_module_version": "1.5.0",
            "_model_name": "VBoxModel",
            "_view_count": null,
            "_view_module": "@jupyter-widgets/controls",
            "_view_module_version": "1.5.0",
            "_view_name": "VBoxView",
            "box_style": "",
            "children": [
              "IPY_MODEL_4cda47ee681f45089b49e011695f8c82"
            ],
            "layout": "IPY_MODEL_3b4b38e598d64d5e849bb059c98431ae"
          }
        },
        "7c041b5533084a40b37b75f227e76790": {
          "model_module": "@jupyter-widgets/controls",
          "model_name": "HTMLModel",
          "model_module_version": "1.5.0",
          "state": {
            "_dom_classes": [],
            "_model_module": "@jupyter-widgets/controls",
            "_model_module_version": "1.5.0",
            "_model_name": "HTMLModel",
            "_view_count": null,
            "_view_module": "@jupyter-widgets/controls",
            "_view_module_version": "1.5.0",
            "_view_name": "HTMLView",
            "description": "",
            "description_tooltip": null,
            "layout": "IPY_MODEL_6a8e03d0992b45e2be277c9625aebd5a",
            "placeholder": "​",
            "style": "IPY_MODEL_baf6e888936d4b7b89a812a903807418",
            "value": "<center> <img\nsrc=https://www.kaggle.com/static/images/site-logo.png\nalt='Kaggle'> <br> Create an API token from <a\nhref=\"https://www.kaggle.com/settings/account\" target=\"_blank\">your Kaggle\nsettings page</a> and paste it below along with your Kaggle username. <br> </center>"
          }
        },
        "5a66ab893df64dd9841c159ddcd86d2c": {
          "model_module": "@jupyter-widgets/controls",
          "model_name": "TextModel",
          "model_module_version": "1.5.0",
          "state": {
            "_dom_classes": [],
            "_model_module": "@jupyter-widgets/controls",
            "_model_module_version": "1.5.0",
            "_model_name": "TextModel",
            "_view_count": null,
            "_view_module": "@jupyter-widgets/controls",
            "_view_module_version": "1.5.0",
            "_view_name": "TextView",
            "continuous_update": true,
            "description": "Username:",
            "description_tooltip": null,
            "disabled": false,
            "layout": "IPY_MODEL_0c0b374b965f4396ab61cd6470afcd93",
            "placeholder": "​",
            "style": "IPY_MODEL_8c3c56f8806b4daa926d5cf9bca881e6",
            "value": "sapekshtomar"
          }
        },
        "6a918d01a0de46cfb1908f44858674a3": {
          "model_module": "@jupyter-widgets/controls",
          "model_name": "PasswordModel",
          "model_module_version": "1.5.0",
          "state": {
            "_dom_classes": [],
            "_model_module": "@jupyter-widgets/controls",
            "_model_module_version": "1.5.0",
            "_model_name": "PasswordModel",
            "_view_count": null,
            "_view_module": "@jupyter-widgets/controls",
            "_view_module_version": "1.5.0",
            "_view_name": "PasswordView",
            "continuous_update": true,
            "description": "Token:",
            "description_tooltip": null,
            "disabled": false,
            "layout": "IPY_MODEL_663eede82da643139bb5ee56adb994b1",
            "placeholder": "​",
            "style": "IPY_MODEL_7748e99099f144e9ae8e0b8f655b8e25",
            "value": ""
          }
        },
        "f02bf9d97e654582b45435b91ae0a3e8": {
          "model_module": "@jupyter-widgets/controls",
          "model_name": "ButtonModel",
          "model_module_version": "1.5.0",
          "state": {
            "_dom_classes": [],
            "_model_module": "@jupyter-widgets/controls",
            "_model_module_version": "1.5.0",
            "_model_name": "ButtonModel",
            "_view_count": null,
            "_view_module": "@jupyter-widgets/controls",
            "_view_module_version": "1.5.0",
            "_view_name": "ButtonView",
            "button_style": "",
            "description": "Login",
            "disabled": false,
            "icon": "",
            "layout": "IPY_MODEL_0070a20abd964ffdb56d505f0361a9c1",
            "style": "IPY_MODEL_19efc0fa251c4a318df1986a410f50d4",
            "tooltip": ""
          }
        },
        "c8011367ab894f8aa1bdd0c182912f84": {
          "model_module": "@jupyter-widgets/controls",
          "model_name": "HTMLModel",
          "model_module_version": "1.5.0",
          "state": {
            "_dom_classes": [],
            "_model_module": "@jupyter-widgets/controls",
            "_model_module_version": "1.5.0",
            "_model_name": "HTMLModel",
            "_view_count": null,
            "_view_module": "@jupyter-widgets/controls",
            "_view_module_version": "1.5.0",
            "_view_name": "HTMLView",
            "description": "",
            "description_tooltip": null,
            "layout": "IPY_MODEL_df5a617eac654b3aabeeab30bff0c42f",
            "placeholder": "​",
            "style": "IPY_MODEL_4d59aec8949d47f2bd2c3e09fb69544a",
            "value": "\n<b>Thank You</b></center>"
          }
        },
        "3b4b38e598d64d5e849bb059c98431ae": {
          "model_module": "@jupyter-widgets/base",
          "model_name": "LayoutModel",
          "model_module_version": "1.2.0",
          "state": {
            "_model_module": "@jupyter-widgets/base",
            "_model_module_version": "1.2.0",
            "_model_name": "LayoutModel",
            "_view_count": null,
            "_view_module": "@jupyter-widgets/base",
            "_view_module_version": "1.2.0",
            "_view_name": "LayoutView",
            "align_content": null,
            "align_items": "center",
            "align_self": null,
            "border": null,
            "bottom": null,
            "display": "flex",
            "flex": null,
            "flex_flow": "column",
            "grid_area": null,
            "grid_auto_columns": null,
            "grid_auto_flow": null,
            "grid_auto_rows": null,
            "grid_column": null,
            "grid_gap": null,
            "grid_row": null,
            "grid_template_areas": null,
            "grid_template_columns": null,
            "grid_template_rows": null,
            "height": null,
            "justify_content": null,
            "justify_items": null,
            "left": null,
            "margin": null,
            "max_height": null,
            "max_width": null,
            "min_height": null,
            "min_width": null,
            "object_fit": null,
            "object_position": null,
            "order": null,
            "overflow": null,
            "overflow_x": null,
            "overflow_y": null,
            "padding": null,
            "right": null,
            "top": null,
            "visibility": null,
            "width": "50%"
          }
        },
        "6a8e03d0992b45e2be277c9625aebd5a": {
          "model_module": "@jupyter-widgets/base",
          "model_name": "LayoutModel",
          "model_module_version": "1.2.0",
          "state": {
            "_model_module": "@jupyter-widgets/base",
            "_model_module_version": "1.2.0",
            "_model_name": "LayoutModel",
            "_view_count": null,
            "_view_module": "@jupyter-widgets/base",
            "_view_module_version": "1.2.0",
            "_view_name": "LayoutView",
            "align_content": null,
            "align_items": null,
            "align_self": null,
            "border": null,
            "bottom": null,
            "display": null,
            "flex": null,
            "flex_flow": null,
            "grid_area": null,
            "grid_auto_columns": null,
            "grid_auto_flow": null,
            "grid_auto_rows": null,
            "grid_column": null,
            "grid_gap": null,
            "grid_row": null,
            "grid_template_areas": null,
            "grid_template_columns": null,
            "grid_template_rows": null,
            "height": null,
            "justify_content": null,
            "justify_items": null,
            "left": null,
            "margin": null,
            "max_height": null,
            "max_width": null,
            "min_height": null,
            "min_width": null,
            "object_fit": null,
            "object_position": null,
            "order": null,
            "overflow": null,
            "overflow_x": null,
            "overflow_y": null,
            "padding": null,
            "right": null,
            "top": null,
            "visibility": null,
            "width": null
          }
        },
        "baf6e888936d4b7b89a812a903807418": {
          "model_module": "@jupyter-widgets/controls",
          "model_name": "DescriptionStyleModel",
          "model_module_version": "1.5.0",
          "state": {
            "_model_module": "@jupyter-widgets/controls",
            "_model_module_version": "1.5.0",
            "_model_name": "DescriptionStyleModel",
            "_view_count": null,
            "_view_module": "@jupyter-widgets/base",
            "_view_module_version": "1.2.0",
            "_view_name": "StyleView",
            "description_width": ""
          }
        },
        "0c0b374b965f4396ab61cd6470afcd93": {
          "model_module": "@jupyter-widgets/base",
          "model_name": "LayoutModel",
          "model_module_version": "1.2.0",
          "state": {
            "_model_module": "@jupyter-widgets/base",
            "_model_module_version": "1.2.0",
            "_model_name": "LayoutModel",
            "_view_count": null,
            "_view_module": "@jupyter-widgets/base",
            "_view_module_version": "1.2.0",
            "_view_name": "LayoutView",
            "align_content": null,
            "align_items": null,
            "align_self": null,
            "border": null,
            "bottom": null,
            "display": null,
            "flex": null,
            "flex_flow": null,
            "grid_area": null,
            "grid_auto_columns": null,
            "grid_auto_flow": null,
            "grid_auto_rows": null,
            "grid_column": null,
            "grid_gap": null,
            "grid_row": null,
            "grid_template_areas": null,
            "grid_template_columns": null,
            "grid_template_rows": null,
            "height": null,
            "justify_content": null,
            "justify_items": null,
            "left": null,
            "margin": null,
            "max_height": null,
            "max_width": null,
            "min_height": null,
            "min_width": null,
            "object_fit": null,
            "object_position": null,
            "order": null,
            "overflow": null,
            "overflow_x": null,
            "overflow_y": null,
            "padding": null,
            "right": null,
            "top": null,
            "visibility": null,
            "width": null
          }
        },
        "8c3c56f8806b4daa926d5cf9bca881e6": {
          "model_module": "@jupyter-widgets/controls",
          "model_name": "DescriptionStyleModel",
          "model_module_version": "1.5.0",
          "state": {
            "_model_module": "@jupyter-widgets/controls",
            "_model_module_version": "1.5.0",
            "_model_name": "DescriptionStyleModel",
            "_view_count": null,
            "_view_module": "@jupyter-widgets/base",
            "_view_module_version": "1.2.0",
            "_view_name": "StyleView",
            "description_width": ""
          }
        },
        "663eede82da643139bb5ee56adb994b1": {
          "model_module": "@jupyter-widgets/base",
          "model_name": "LayoutModel",
          "model_module_version": "1.2.0",
          "state": {
            "_model_module": "@jupyter-widgets/base",
            "_model_module_version": "1.2.0",
            "_model_name": "LayoutModel",
            "_view_count": null,
            "_view_module": "@jupyter-widgets/base",
            "_view_module_version": "1.2.0",
            "_view_name": "LayoutView",
            "align_content": null,
            "align_items": null,
            "align_self": null,
            "border": null,
            "bottom": null,
            "display": null,
            "flex": null,
            "flex_flow": null,
            "grid_area": null,
            "grid_auto_columns": null,
            "grid_auto_flow": null,
            "grid_auto_rows": null,
            "grid_column": null,
            "grid_gap": null,
            "grid_row": null,
            "grid_template_areas": null,
            "grid_template_columns": null,
            "grid_template_rows": null,
            "height": null,
            "justify_content": null,
            "justify_items": null,
            "left": null,
            "margin": null,
            "max_height": null,
            "max_width": null,
            "min_height": null,
            "min_width": null,
            "object_fit": null,
            "object_position": null,
            "order": null,
            "overflow": null,
            "overflow_x": null,
            "overflow_y": null,
            "padding": null,
            "right": null,
            "top": null,
            "visibility": null,
            "width": null
          }
        },
        "7748e99099f144e9ae8e0b8f655b8e25": {
          "model_module": "@jupyter-widgets/controls",
          "model_name": "DescriptionStyleModel",
          "model_module_version": "1.5.0",
          "state": {
            "_model_module": "@jupyter-widgets/controls",
            "_model_module_version": "1.5.0",
            "_model_name": "DescriptionStyleModel",
            "_view_count": null,
            "_view_module": "@jupyter-widgets/base",
            "_view_module_version": "1.2.0",
            "_view_name": "StyleView",
            "description_width": ""
          }
        },
        "0070a20abd964ffdb56d505f0361a9c1": {
          "model_module": "@jupyter-widgets/base",
          "model_name": "LayoutModel",
          "model_module_version": "1.2.0",
          "state": {
            "_model_module": "@jupyter-widgets/base",
            "_model_module_version": "1.2.0",
            "_model_name": "LayoutModel",
            "_view_count": null,
            "_view_module": "@jupyter-widgets/base",
            "_view_module_version": "1.2.0",
            "_view_name": "LayoutView",
            "align_content": null,
            "align_items": null,
            "align_self": null,
            "border": null,
            "bottom": null,
            "display": null,
            "flex": null,
            "flex_flow": null,
            "grid_area": null,
            "grid_auto_columns": null,
            "grid_auto_flow": null,
            "grid_auto_rows": null,
            "grid_column": null,
            "grid_gap": null,
            "grid_row": null,
            "grid_template_areas": null,
            "grid_template_columns": null,
            "grid_template_rows": null,
            "height": null,
            "justify_content": null,
            "justify_items": null,
            "left": null,
            "margin": null,
            "max_height": null,
            "max_width": null,
            "min_height": null,
            "min_width": null,
            "object_fit": null,
            "object_position": null,
            "order": null,
            "overflow": null,
            "overflow_x": null,
            "overflow_y": null,
            "padding": null,
            "right": null,
            "top": null,
            "visibility": null,
            "width": null
          }
        },
        "19efc0fa251c4a318df1986a410f50d4": {
          "model_module": "@jupyter-widgets/controls",
          "model_name": "ButtonStyleModel",
          "model_module_version": "1.5.0",
          "state": {
            "_model_module": "@jupyter-widgets/controls",
            "_model_module_version": "1.5.0",
            "_model_name": "ButtonStyleModel",
            "_view_count": null,
            "_view_module": "@jupyter-widgets/base",
            "_view_module_version": "1.2.0",
            "_view_name": "StyleView",
            "button_color": null,
            "font_weight": ""
          }
        },
        "df5a617eac654b3aabeeab30bff0c42f": {
          "model_module": "@jupyter-widgets/base",
          "model_name": "LayoutModel",
          "model_module_version": "1.2.0",
          "state": {
            "_model_module": "@jupyter-widgets/base",
            "_model_module_version": "1.2.0",
            "_model_name": "LayoutModel",
            "_view_count": null,
            "_view_module": "@jupyter-widgets/base",
            "_view_module_version": "1.2.0",
            "_view_name": "LayoutView",
            "align_content": null,
            "align_items": null,
            "align_self": null,
            "border": null,
            "bottom": null,
            "display": null,
            "flex": null,
            "flex_flow": null,
            "grid_area": null,
            "grid_auto_columns": null,
            "grid_auto_flow": null,
            "grid_auto_rows": null,
            "grid_column": null,
            "grid_gap": null,
            "grid_row": null,
            "grid_template_areas": null,
            "grid_template_columns": null,
            "grid_template_rows": null,
            "height": null,
            "justify_content": null,
            "justify_items": null,
            "left": null,
            "margin": null,
            "max_height": null,
            "max_width": null,
            "min_height": null,
            "min_width": null,
            "object_fit": null,
            "object_position": null,
            "order": null,
            "overflow": null,
            "overflow_x": null,
            "overflow_y": null,
            "padding": null,
            "right": null,
            "top": null,
            "visibility": null,
            "width": null
          }
        },
        "4d59aec8949d47f2bd2c3e09fb69544a": {
          "model_module": "@jupyter-widgets/controls",
          "model_name": "DescriptionStyleModel",
          "model_module_version": "1.5.0",
          "state": {
            "_model_module": "@jupyter-widgets/controls",
            "_model_module_version": "1.5.0",
            "_model_name": "DescriptionStyleModel",
            "_view_count": null,
            "_view_module": "@jupyter-widgets/base",
            "_view_module_version": "1.2.0",
            "_view_name": "StyleView",
            "description_width": ""
          }
        },
        "352c87952b094f349c92976c1c2ac3b7": {
          "model_module": "@jupyter-widgets/controls",
          "model_name": "LabelModel",
          "model_module_version": "1.5.0",
          "state": {
            "_dom_classes": [],
            "_model_module": "@jupyter-widgets/controls",
            "_model_module_version": "1.5.0",
            "_model_name": "LabelModel",
            "_view_count": null,
            "_view_module": "@jupyter-widgets/controls",
            "_view_module_version": "1.5.0",
            "_view_name": "LabelView",
            "description": "",
            "description_tooltip": null,
            "layout": "IPY_MODEL_9dc09c1d791a450f9d5c6619216cb787",
            "placeholder": "​",
            "style": "IPY_MODEL_a72b2bef6c5441c095e6dd3c09d5c959",
            "value": "Connecting..."
          }
        },
        "9dc09c1d791a450f9d5c6619216cb787": {
          "model_module": "@jupyter-widgets/base",
          "model_name": "LayoutModel",
          "model_module_version": "1.2.0",
          "state": {
            "_model_module": "@jupyter-widgets/base",
            "_model_module_version": "1.2.0",
            "_model_name": "LayoutModel",
            "_view_count": null,
            "_view_module": "@jupyter-widgets/base",
            "_view_module_version": "1.2.0",
            "_view_name": "LayoutView",
            "align_content": null,
            "align_items": null,
            "align_self": null,
            "border": null,
            "bottom": null,
            "display": null,
            "flex": null,
            "flex_flow": null,
            "grid_area": null,
            "grid_auto_columns": null,
            "grid_auto_flow": null,
            "grid_auto_rows": null,
            "grid_column": null,
            "grid_gap": null,
            "grid_row": null,
            "grid_template_areas": null,
            "grid_template_columns": null,
            "grid_template_rows": null,
            "height": null,
            "justify_content": null,
            "justify_items": null,
            "left": null,
            "margin": null,
            "max_height": null,
            "max_width": null,
            "min_height": null,
            "min_width": null,
            "object_fit": null,
            "object_position": null,
            "order": null,
            "overflow": null,
            "overflow_x": null,
            "overflow_y": null,
            "padding": null,
            "right": null,
            "top": null,
            "visibility": null,
            "width": null
          }
        },
        "a72b2bef6c5441c095e6dd3c09d5c959": {
          "model_module": "@jupyter-widgets/controls",
          "model_name": "DescriptionStyleModel",
          "model_module_version": "1.5.0",
          "state": {
            "_model_module": "@jupyter-widgets/controls",
            "_model_module_version": "1.5.0",
            "_model_name": "DescriptionStyleModel",
            "_view_count": null,
            "_view_module": "@jupyter-widgets/base",
            "_view_module_version": "1.2.0",
            "_view_name": "StyleView",
            "description_width": ""
          }
        },
        "4cda47ee681f45089b49e011695f8c82": {
          "model_module": "@jupyter-widgets/controls",
          "model_name": "LabelModel",
          "model_module_version": "1.5.0",
          "state": {
            "_dom_classes": [],
            "_model_module": "@jupyter-widgets/controls",
            "_model_module_version": "1.5.0",
            "_model_name": "LabelModel",
            "_view_count": null,
            "_view_module": "@jupyter-widgets/controls",
            "_view_module_version": "1.5.0",
            "_view_name": "LabelView",
            "description": "",
            "description_tooltip": null,
            "layout": "IPY_MODEL_a17a4d995ce543a687621472e3d1f601",
            "placeholder": "​",
            "style": "IPY_MODEL_533c4d69e05b408b8e18af3f71aac53b",
            "value": "Kaggle credentials successfully validated."
          }
        },
        "a17a4d995ce543a687621472e3d1f601": {
          "model_module": "@jupyter-widgets/base",
          "model_name": "LayoutModel",
          "model_module_version": "1.2.0",
          "state": {
            "_model_module": "@jupyter-widgets/base",
            "_model_module_version": "1.2.0",
            "_model_name": "LayoutModel",
            "_view_count": null,
            "_view_module": "@jupyter-widgets/base",
            "_view_module_version": "1.2.0",
            "_view_name": "LayoutView",
            "align_content": null,
            "align_items": null,
            "align_self": null,
            "border": null,
            "bottom": null,
            "display": null,
            "flex": null,
            "flex_flow": null,
            "grid_area": null,
            "grid_auto_columns": null,
            "grid_auto_flow": null,
            "grid_auto_rows": null,
            "grid_column": null,
            "grid_gap": null,
            "grid_row": null,
            "grid_template_areas": null,
            "grid_template_columns": null,
            "grid_template_rows": null,
            "height": null,
            "justify_content": null,
            "justify_items": null,
            "left": null,
            "margin": null,
            "max_height": null,
            "max_width": null,
            "min_height": null,
            "min_width": null,
            "object_fit": null,
            "object_position": null,
            "order": null,
            "overflow": null,
            "overflow_x": null,
            "overflow_y": null,
            "padding": null,
            "right": null,
            "top": null,
            "visibility": null,
            "width": null
          }
        },
        "533c4d69e05b408b8e18af3f71aac53b": {
          "model_module": "@jupyter-widgets/controls",
          "model_name": "DescriptionStyleModel",
          "model_module_version": "1.5.0",
          "state": {
            "_model_module": "@jupyter-widgets/controls",
            "_model_module_version": "1.5.0",
            "_model_name": "DescriptionStyleModel",
            "_view_count": null,
            "_view_module": "@jupyter-widgets/base",
            "_view_module_version": "1.2.0",
            "_view_name": "StyleView",
            "description_width": ""
          }
        }
      }
    }
  },
  "nbformat_minor": 0,
  "nbformat": 4,
  "cells": [
    {
      "cell_type": "markdown",
      "metadata": {
        "id": "view-in-github",
        "colab_type": "text"
      },
      "source": [
        "<a href=\"https://colab.research.google.com/github/its-relative/Kaggle/blob/main/learn_pyspark.ipynb\" target=\"_parent\"><img src=\"https://colab.research.google.com/assets/colab-badge.svg\" alt=\"Open In Colab\"/></a>"
      ]
    },
    {
      "cell_type": "markdown",
      "source": [
        "# Libraries\n"
      ],
      "metadata": {
        "id": "xIV90XfU_fK5"
      }
    },
    {
      "cell_type": "code",
      "source": [
        "import pyspark\n",
        "from pyspark.sql import SparkSession"
      ],
      "metadata": {
        "id": "XFp9GIjA_kb5"
      },
      "execution_count": 3,
      "outputs": []
    },
    {
      "cell_type": "markdown",
      "source": [
        "This is an introductory Pyspark hands on tutorial. I have decided to study and summarize some basic concepts of pyspark functions. Hope these can help some else!\n"
      ],
      "metadata": {
        "id": "ajl0wMIZ_fK7"
      }
    },
    {
      "cell_type": "markdown",
      "source": [
        "# CONTENT TABLE\n",
        "----------------\n",
        "## Concepts\n",
        "* 1) What is Spark \\ PySpark\n",
        "* 2) Characteristics\n",
        "## Practice\n",
        "* 1) GETTING RUNNING ON NOTEBOOKS ( Jupyter\\Colab\\Kaggle)\n",
        "* 2) READING DATA FROM DIFFERENT SOURCES\n",
        "* 3) DISPLAYING\n",
        "* 4) FILTERING\n",
        "* 5) FILTERING PART 2\n",
        "* 6) MANIPULATING DATA\n",
        "* 7) GROUPING BY\n",
        "* 8) WINDOW FUNCTION\n",
        "* 9) JOIN\n",
        "* 10) UDF\n",
        "* 11) REFERENCES\n",
        "## Next\n",
        "* 102 Pyspark - MLlib (Soon!)\n"
      ],
      "metadata": {
        "id": "57exFD5d_fK8"
      }
    },
    {
      "cell_type": "markdown",
      "source": [
        "# What is Spark \\ PySpark\n"
      ],
      "metadata": {
        "id": "ZsxN_Pbd_fK-"
      }
    },
    {
      "cell_type": "markdown",
      "source": [
        "Apache Spark is an open source unified computing engine for distributed data processing on computer clusters, allowing an easy and scalable developments. It supports many programing languages such as Python, R and Scala. Also, includes libraries from SQL and Machine Learning. The structure is designed to deal with huge amount of data distributing large datasets among \"computers\". Each one of the computers os called a \"Executors\" and the managemnt of all data is done by a so called \"Driver\".\n",
        "Pyspark is a library for python that enables to run python applications in the Apache Spark architeture, hence, allowing parallel distribuiton to cope with large data\n"
      ],
      "metadata": {
        "id": "buLogIVW_fK-"
      }
    },
    {
      "cell_type": "markdown",
      "source": [
        "# Characteristics\n",
        "Among the characteristics of Spark, some interesting ones are:\n",
        "* Fast Processing: High data processing speed that could reach 100x faster in memory and 10x faster on the disk\n",
        "* Lazy Evaluation: The transformations applied are not done right way. Spark order all transformations in an efficient way under the hood.\n",
        "* Support Multiple High level languages: Python, R, Scala, Java, SQL.\n",
        "* Native Libraries: Spark has Machine Learning and Graph libraries that cope with distributed systems (MLlib, SQL, Dataframes, GraphFrames)\n"
      ],
      "metadata": {
        "id": "GXyWXdh0_fK_"
      }
    },
    {
      "cell_type": "markdown",
      "source": [
        "--------------------\n"
      ],
      "metadata": {
        "id": "zse2wTyq_fK_"
      }
    },
    {
      "cell_type": "markdown",
      "source": [
        "# GETTING STARTED WITH PYSPARK IN NOTEBOOKS\n",
        "## Step 1: Install PySpark\n",
        "Install the PySpark library using pip. Ensure you use the quiet flag to avoid verbose output.\n",
        "\n",
        "## Step 2: Import Necessary Libraries\n",
        "Import `SparkSession` from `pyspark.sql` to create your Spark entry point. Also, import `StructType`, `StructField`, `StringType`, `IntegerType` etc. from `pyspark.sql.types` for defining schemas. You may also need `pyspark.sql.functions` as F for various DataFrame operations.\n",
        "\n",
        "## Step 3: Initialize SparkSession\n",
        "Create a SparkSession object. This is the main entry point for DataFrame and SQL functionalities.\n"
      ],
      "metadata": {
        "id": "NtsCI8JI_fLA"
      }
    },
    {
      "cell_type": "code",
      "source": [
        "!pip install pyspark"
      ],
      "metadata": {
        "colab": {
          "base_uri": "https://localhost:8080/"
        },
        "id": "rZtfuu0K_96P",
        "outputId": "578eb9cc-afc0-41d7-e888-ff0ddddd342f"
      },
      "execution_count": 4,
      "outputs": [
        {
          "output_type": "stream",
          "name": "stdout",
          "text": [
            "Requirement already satisfied: pyspark in /usr/local/lib/python3.11/dist-packages (3.5.1)\n",
            "Requirement already satisfied: py4j==0.10.9.7 in /usr/local/lib/python3.11/dist-packages (from pyspark) (0.10.9.7)\n"
          ]
        }
      ]
    },
    {
      "cell_type": "code",
      "source": [
        "from pyspark.sql.types import StructType, StructField, StringType, IntegerType\n",
        "\n",
        "import pyspark.sql.functions as F"
      ],
      "metadata": {
        "id": "in_qSm-RADex"
      },
      "execution_count": 6,
      "outputs": []
    },
    {
      "cell_type": "code",
      "source": [],
      "metadata": {
        "id": "WPpD6rVpAfII"
      },
      "execution_count": null,
      "outputs": []
    },
    {
      "source": [
        "# IMPORTANT: SOME KAGGLE DATA SOURCES ARE PRIVATE\n",
        "# RUN THIS CELL IN ORDER TO IMPORT YOUR KAGGLE DATA SOURCES.\n",
        "import kagglehub\n",
        "kagglehub.login()\n"
      ],
      "metadata": {
        "id": "UYG-fbgw1snP",
        "colab": {
          "base_uri": "https://localhost:8080/",
          "height": 84,
          "referenced_widgets": [
            "2df58ddc3eb44a859870265ac9087556",
            "7c041b5533084a40b37b75f227e76790",
            "5a66ab893df64dd9841c159ddcd86d2c",
            "6a918d01a0de46cfb1908f44858674a3",
            "f02bf9d97e654582b45435b91ae0a3e8",
            "c8011367ab894f8aa1bdd0c182912f84",
            "3b4b38e598d64d5e849bb059c98431ae",
            "6a8e03d0992b45e2be277c9625aebd5a",
            "baf6e888936d4b7b89a812a903807418",
            "0c0b374b965f4396ab61cd6470afcd93",
            "8c3c56f8806b4daa926d5cf9bca881e6",
            "663eede82da643139bb5ee56adb994b1",
            "7748e99099f144e9ae8e0b8f655b8e25",
            "0070a20abd964ffdb56d505f0361a9c1",
            "19efc0fa251c4a318df1986a410f50d4",
            "df5a617eac654b3aabeeab30bff0c42f",
            "4d59aec8949d47f2bd2c3e09fb69544a",
            "352c87952b094f349c92976c1c2ac3b7",
            "9dc09c1d791a450f9d5c6619216cb787",
            "a72b2bef6c5441c095e6dd3c09d5c959",
            "4cda47ee681f45089b49e011695f8c82",
            "a17a4d995ce543a687621472e3d1f601",
            "533c4d69e05b408b8e18af3f71aac53b"
          ]
        },
        "outputId": "92dc511d-2e8e-4e37-f775-cccdbd8d6511"
      },
      "cell_type": "code",
      "outputs": [
        {
          "output_type": "display_data",
          "data": {
            "text/plain": [
              "VBox(children=(HTML(value='<center> <img\\nsrc=https://www.kaggle.com/static/images/site-logo.png\\nalt=\\'Kaggle…"
            ],
            "application/vnd.jupyter.widget-view+json": {
              "version_major": 2,
              "version_minor": 0,
              "model_id": "2df58ddc3eb44a859870265ac9087556"
            }
          },
          "metadata": {}
        },
        {
          "output_type": "stream",
          "name": "stdout",
          "text": [
            "Kaggle credentials set.\n",
            "Kaggle credentials successfully validated.\n"
          ]
        }
      ],
      "execution_count": 7
    },
    {
      "source": [
        "# IMPORTANT: RUN THIS CELL IN ORDER TO IMPORT YOUR KAGGLE DATA SOURCES,\n",
        "# THEN FEEL FREE TO DELETE THIS CELL.\n",
        "# NOTE: THIS NOTEBOOK ENVIRONMENT DIFFERS FROM KAGGLE'S PYTHON\n",
        "# ENVIRONMENT SO THERE MAY BE MISSING LIBRARIES USED BY YOUR\n",
        "# NOTEBOOK.\n",
        "\n",
        "titanic_path = kagglehub.competition_download('titanic')\n",
        "yasserh_wine_quality_dataset_path = kagglehub.dataset_download('yasserh/wine-quality-dataset')\n",
        "\n",
        "print('Data source import complete.')\n"
      ],
      "metadata": {
        "id": "-xYZwn371snR",
        "colab": {
          "base_uri": "https://localhost:8080/"
        },
        "outputId": "f659f878-0119-4cf1-db7e-d55a05534d27"
      },
      "cell_type": "code",
      "outputs": [
        {
          "output_type": "stream",
          "name": "stdout",
          "text": [
            "Downloading from https://www.kaggle.com/api/v1/competitions/data/download-all/titanic...\n"
          ]
        },
        {
          "output_type": "stream",
          "name": "stderr",
          "text": [
            "100%|██████████| 34.1k/34.1k [00:00<00:00, 34.9MB/s]"
          ]
        },
        {
          "output_type": "stream",
          "name": "stdout",
          "text": [
            "Extracting files...\n"
          ]
        },
        {
          "output_type": "stream",
          "name": "stderr",
          "text": [
            "\n"
          ]
        },
        {
          "output_type": "stream",
          "name": "stdout",
          "text": [
            "Data source import complete.\n"
          ]
        }
      ],
      "execution_count": 8
    },
    {
      "cell_type": "code",
      "source": [
        "spark = SparkSession.builder.getOrCreate()"
      ],
      "metadata": {
        "id": "S4Z8Y0POEK3G"
      },
      "execution_count": 19,
      "outputs": []
    },
    {
      "cell_type": "markdown",
      "source": [
        "# READING DATA FROM DIFFERENT SOURCES\n",
        "## Step 1: Create a PySpark DataFrame from example data\n",
        "Define a schema for your data using `StructType` and `StructField`. Then, create an example dataset as a list of tuples. Finally, use `spark.createDataFrame()` to create a PySpark DataFrame from this data and schema.\n",
        "\n",
        "## Step 2: Read a CSV file into a PySpark DataFrame\n",
        "Code to read a CSV file. Remember to specify options like `header=True` to indicate the first row as headers and `inferSchema=True` to automatically detect column data types.\n",
        "\n",
        "## Step 3: Convert a Pandas DataFrame to a PySpark DataFrame\n",
        "First, create a Pandas DataFrame with some sample data. Then, convert this Pandas DataFrame into a PySpark DataFrame. Be cautious with large datasets as `toPandas()` can cause memory issues.\n"
      ],
      "metadata": {
        "id": "bz83uQ7h_fLA"
      }
    },
    {
      "cell_type": "code",
      "source": [
        "example_data = [(100,\"Brazil\",\"1000\",\"A100\",6),\n",
        "    (101,\"Spain\",\"2000\",\"MA100\",2),\n",
        "    (102,\"EUA\",\"3000\",\"A200\",10),\n",
        "    (110,\"Mexico\",\"B100\",\"F400\",8),\n",
        "    (200,\"Japan\",\"5000\",\"A100\",9),\n",
        "    (880,\"EUA\",\"500\",\"Z120\",1)\n",
        "  ]\n",
        "\n",
        "schema = StructType([StructField('key', IntegerType(), True),\n",
        "                     StructField('C1', StringType(),True),\n",
        "                      StructField(\"C2\", StringType(), True),\n",
        "                      StructField(\"C3\", StringType(),True),\n",
        "                      StructField(\"C4\", IntegerType(), True)])\n",
        "# schema = StructType([StructField('key', IntegerType(), True),\n",
        "#                     StructField('C1', StringType(), True),\n",
        "#                     StructField('C2', StringType(), True),\n",
        "#                     StructField('C3', StringType(), True),\n",
        "#                     StructField('C4', IntegerType(), True)])\n",
        "\n",
        "df1 = spark.createDataFrame(data=example_data, schema = schema)"
      ],
      "metadata": {
        "id": "NbPEyK_rBK_Z"
      },
      "execution_count": 20,
      "outputs": []
    },
    {
      "cell_type": "code",
      "source": [
        "#Toy dataset for example\n",
        "example_data_2 = [(100,\"BB\",10),\n",
        "    (101,\"XX\",99),\n",
        "    (102,\"AN\",898),\n",
        "    (110,\"AC\",567),\n",
        "    (200,\"AV\",344),\n",
        "    (300,\"FV\",834),\n",
        "    (111,\"ZW\",54)\n",
        "  ]\n",
        "\n",
        "schema2 = StructType([StructField(\"key\",IntegerType(), True),StructField(\"C1\", StringType(), True), StructField(\"C3\", IntegerType(), True)])\n",
        "\n",
        "df2 = spark.createDataFrame(example_data_2 ,  schema2)"
      ],
      "metadata": {
        "id": "LwlvN0VuJj3o"
      },
      "execution_count": 21,
      "outputs": []
    },
    {
      "cell_type": "markdown",
      "source": [
        "# DISPLAYING DATAFRAME INFORMATION\n",
        "## Step 1: Display the content of your DataFrame\n",
        "Use the `.show()` method to display the rows of your DataFrame. Experiment with the `numRows` parameter to control how many rows are shown.\n",
        "\n",
        "## Step 2: Check the schema and data types\n",
        "Utilize the `.printSchema()` method to see the column names and their inferred data types in your DataFrame.\n",
        "\n",
        "## Step 3: Get column names\n",
        "Access the column names of your DataFrame.\n",
        "\n",
        "## Step 4: Analyze descriptive statistics\n",
        "Use the `.describe()` method to view summary statistics (count, mean, stddev, min, max) for numerical columns in your DataFrame.\n",
        "\n",
        "## Step 5: Count rows and columns\n",
        "Determine the number of rows and columns in your DataFrame.\n",
        "\n",
        "## Step 6: Create a cross-tabulation (crosstab)\n",
        "Generate a frequency table for two or more columns using `.crosstab()` or similar grouping operations.\n",
        "\n",
        "## Step 7: Select specific columns\n",
        "Select a subset of columns from your DataFrame.\n",
        "\n",
        "## Step 8: Order your DataFrame by a column\n",
        "Sort the DataFrame rows based on the values in one or more columns, in ascending or descending order.\n",
        "\n",
        "## Step 9: Drop variables (columns)\n",
        "Remove unwanted columns from your DataFrame.\n"
      ],
      "metadata": {
        "id": "67SEgrZc_fLB"
      }
    },
    {
      "cell_type": "code",
      "source": [
        "df1.show(5)"
      ],
      "metadata": {
        "colab": {
          "base_uri": "https://localhost:8080/"
        },
        "id": "0KT8Vo89KS9p",
        "outputId": "358ef043-2da0-443e-de60-03e1dbdb6c43"
      },
      "execution_count": 23,
      "outputs": [
        {
          "output_type": "stream",
          "name": "stdout",
          "text": [
            "+---+------+----+-----+---+\n",
            "|key|    C1|  C2|   C3| C4|\n",
            "+---+------+----+-----+---+\n",
            "|100|Brazil|1000| A100|  6|\n",
            "|101| Spain|2000|MA100|  2|\n",
            "|102|   EUA|3000| A200| 10|\n",
            "|110|Mexico|B100| F400|  8|\n",
            "|200| Japan|5000| A100|  9|\n",
            "+---+------+----+-----+---+\n",
            "only showing top 5 rows\n",
            "\n"
          ]
        }
      ]
    },
    {
      "cell_type": "code",
      "source": [
        "df2.printSchema()"
      ],
      "metadata": {
        "colab": {
          "base_uri": "https://localhost:8080/"
        },
        "id": "nJRzpng_KvPs",
        "outputId": "7329c1cd-aeb1-4c63-9155-2f4f38798d8b"
      },
      "execution_count": 24,
      "outputs": [
        {
          "output_type": "stream",
          "name": "stdout",
          "text": [
            "root\n",
            " |-- key: integer (nullable = true)\n",
            " |-- C1: string (nullable = true)\n",
            " |-- C3: integer (nullable = true)\n",
            "\n"
          ]
        }
      ]
    },
    {
      "cell_type": "code",
      "source": [
        "df1.columns"
      ],
      "metadata": {
        "colab": {
          "base_uri": "https://localhost:8080/"
        },
        "id": "EnUo6-0PKzI9",
        "outputId": "48c34d9c-400f-4c00-e350-87595347c943"
      },
      "execution_count": 25,
      "outputs": [
        {
          "output_type": "execute_result",
          "data": {
            "text/plain": [
              "['key', 'C1', 'C2', 'C3', 'C4']"
            ]
          },
          "metadata": {},
          "execution_count": 25
        }
      ]
    },
    {
      "cell_type": "code",
      "source": [
        "df1.printSchema()"
      ],
      "metadata": {
        "colab": {
          "base_uri": "https://localhost:8080/"
        },
        "id": "mjMIbnzyLCP6",
        "outputId": "34bdd4cb-d34a-4900-a4cd-e8c15480e6e5"
      },
      "execution_count": 26,
      "outputs": [
        {
          "output_type": "stream",
          "name": "stdout",
          "text": [
            "root\n",
            " |-- key: integer (nullable = true)\n",
            " |-- C1: string (nullable = true)\n",
            " |-- C2: string (nullable = true)\n",
            " |-- C3: string (nullable = true)\n",
            " |-- C4: integer (nullable = true)\n",
            "\n"
          ]
        }
      ]
    },
    {
      "cell_type": "code",
      "source": [
        "num_cols = [col for col, dtype in df1.dtypes if dtype in ['int', 'double', 'float', 'long']]\n",
        "# df1[num_cols].describe().show()\n",
        "df1.select(num_cols).describe().show()\n",
        "# num_cols"
      ],
      "metadata": {
        "colab": {
          "base_uri": "https://localhost:8080/"
        },
        "id": "LEi6YRz-LdnN",
        "outputId": "efec72a0-0d9d-4fda-efa5-e71f5d4f2954"
      },
      "execution_count": 37,
      "outputs": [
        {
          "output_type": "stream",
          "name": "stdout",
          "text": [
            "+-------+------------------+------------------+\n",
            "|summary|               key|                C4|\n",
            "+-------+------------------+------------------+\n",
            "|  count|                 6|                 6|\n",
            "|   mean|248.83333333333334|               6.0|\n",
            "| stddev|311.63980276381045|3.7416573867739413|\n",
            "|    min|               100|                 1|\n",
            "|    max|               880|                10|\n",
            "+-------+------------------+------------------+\n",
            "\n"
          ]
        }
      ]
    },
    {
      "cell_type": "code",
      "source": [
        "print(\"Number of rows: \\n\")\n",
        "print(df1.count())\n",
        "print(\"Number of columns : \\n\")\n",
        "print(len(df1.columns))"
      ],
      "metadata": {
        "colab": {
          "base_uri": "https://localhost:8080/"
        },
        "id": "90Px0pBfLF9E",
        "outputId": "f3db8123-ffe3-4acc-924a-fc593c0f11bf"
      },
      "execution_count": 40,
      "outputs": [
        {
          "output_type": "stream",
          "name": "stdout",
          "text": [
            "Number of rows: \n",
            "\n",
            "6\n",
            "Number of columns : \n",
            "\n",
            "5\n"
          ]
        }
      ]
    },
    {
      "cell_type": "code",
      "source": [
        "df1.crosstab(\"key\", \"C4\").show()"
      ],
      "metadata": {
        "colab": {
          "base_uri": "https://localhost:8080/"
        },
        "id": "JVIs5mGeNZ-n",
        "outputId": "c88a9986-e837-4566-a295-70b3246c1631"
      },
      "execution_count": 42,
      "outputs": [
        {
          "output_type": "stream",
          "name": "stdout",
          "text": [
            "+------+---+---+---+---+---+---+\n",
            "|key_C4|  1| 10|  2|  6|  8|  9|\n",
            "+------+---+---+---+---+---+---+\n",
            "|   200|  0|  0|  0|  0|  0|  1|\n",
            "|   101|  0|  0|  1|  0|  0|  0|\n",
            "|   880|  1|  0|  0|  0|  0|  0|\n",
            "|   110|  0|  0|  0|  0|  1|  0|\n",
            "|   100|  0|  0|  0|  1|  0|  0|\n",
            "|   102|  0|  1|  0|  0|  0|  0|\n",
            "+------+---+---+---+---+---+---+\n",
            "\n"
          ]
        }
      ]
    },
    {
      "cell_type": "code",
      "source": [
        "df1.select(\"key\", \"C4\").show()"
      ],
      "metadata": {
        "colab": {
          "base_uri": "https://localhost:8080/"
        },
        "id": "0pWQllj6PiSv",
        "outputId": "489ce212-71f0-4d52-a255-93409d4b9c73"
      },
      "execution_count": 45,
      "outputs": [
        {
          "output_type": "stream",
          "name": "stdout",
          "text": [
            "+---+---+\n",
            "|key| C4|\n",
            "+---+---+\n",
            "|100|  6|\n",
            "|101|  2|\n",
            "|102| 10|\n",
            "|110|  8|\n",
            "|200|  9|\n",
            "|880|  1|\n",
            "+---+---+\n",
            "\n"
          ]
        }
      ]
    },
    {
      "cell_type": "code",
      "source": [
        "# df1.crosstab(\"key\", \"C4\").orderBy(\"key_C4\", ascending =True).show()\n",
        "df1.crosstab(\"key\", \"C4\").orderBy(\"key_C4\", ascending = Falseb).show()\n",
        "# df1.orderBy()"
      ],
      "metadata": {
        "colab": {
          "base_uri": "https://localhost:8080/"
        },
        "id": "vOkdm3p_QMFo",
        "outputId": "43e3588a-fefe-4f11-b1fe-5980ef03faaf"
      },
      "execution_count": 50,
      "outputs": [
        {
          "output_type": "stream",
          "name": "stdout",
          "text": [
            "+------+---+---+---+---+---+---+\n",
            "|key_C4|  1| 10|  2|  6|  8|  9|\n",
            "+------+---+---+---+---+---+---+\n",
            "|   880|  1|  0|  0|  0|  0|  0|\n",
            "|   200|  0|  0|  0|  0|  0|  1|\n",
            "|   110|  0|  0|  0|  0|  1|  0|\n",
            "|   102|  0|  1|  0|  0|  0|  0|\n",
            "|   101|  0|  0|  1|  0|  0|  0|\n",
            "|   100|  0|  0|  0|  1|  0|  0|\n",
            "+------+---+---+---+---+---+---+\n",
            "\n"
          ]
        }
      ]
    },
    {
      "cell_type": "code",
      "source": [
        "df2.crosstab(\"key\",\"C3\").drop(\"344\").show()"
      ],
      "metadata": {
        "colab": {
          "base_uri": "https://localhost:8080/"
        },
        "id": "hM_dLK1IReSK",
        "outputId": "e8528711-5b9c-4588-f3a4-36755b0e9042"
      },
      "execution_count": 53,
      "outputs": [
        {
          "output_type": "stream",
          "name": "stdout",
          "text": [
            "+------+---+---+---+---+---+---+\n",
            "|key_C3| 10| 54|567|834|898| 99|\n",
            "+------+---+---+---+---+---+---+\n",
            "|   200|  0|  0|  0|  0|  0|  0|\n",
            "|   101|  0|  0|  0|  0|  0|  1|\n",
            "|   110|  0|  0|  1|  0|  0|  0|\n",
            "|   300|  0|  0|  0|  1|  0|  0|\n",
            "|   100|  1|  0|  0|  0|  0|  0|\n",
            "|   102|  0|  0|  0|  0|  1|  0|\n",
            "|   111|  0|  1|  0|  0|  0|  0|\n",
            "+------+---+---+---+---+---+---+\n",
            "\n"
          ]
        }
      ]
    },
    {
      "cell_type": "markdown",
      "source": [
        "# FILTERING DATAFRAME ROWS\n",
        "To filter data based on conditions, you will primarily use `pyspark.sql.functions`.\n",
        "Refer to the [SQL Functions in Spark](https://spark.apache.org/docs/2.4.0/api/python/pyspark.sql.html#pyspark.sql.functions.arrays_zip) documentation for a full list of available functions.\n",
        "\n",
        "## Step 1: Filter using a single numerical condition\n",
        "Filter the DataFrame where a numerical column is greater than a specific value. For example, filter where 'fixed acidity' > 5.\n",
        "\n",
        "## Step 2: Filter using another single numerical condition\n",
        "Filter the DataFrame where a numerical column is less than a specific value. For example, filter where 'fixed acidity' < 5.\n",
        "\n",
        "## Step 3: Filter using multiple conditions (AND operator)\n",
        "Combine multiple conditions using the AND (`&`) operator. For example, filter where 'fixed acidity' < 10 AND 'quality' > 5.\n",
        "\n",
        "## Step 4: Filter using multiple conditions (OR operator)\n",
        "Combine multiple conditions using the OR (`|`) operator. For example, filter where 'quality' > 4 OR 'quality' < 8.\n",
        "\n",
        "## Step 5: Filter using a list of values (isin)\n",
        "Filter rows where a column's value is present in a given list. For example, filter where 'quality' is 5, 6, or 7.\n"
      ],
      "metadata": {
        "id": "nmM_OLjC_fLB"
      }
    },
    {
      "cell_type": "code",
      "source": [],
      "metadata": {
        "id": "7JE47PrNLEqU"
      },
      "execution_count": null,
      "outputs": []
    },
    {
      "cell_type": "code",
      "source": [],
      "metadata": {
        "id": "gzTudeS5Kxca"
      },
      "execution_count": null,
      "outputs": []
    },
    {
      "cell_type": "markdown",
      "source": [
        "# ADVANCED FILTERING TECHNIQUES\n",
        "## Step 1: Filter by categorical columns with multiple conditions\n",
        "Filter the DataFrame based on conditions involving categorical columns. For instance, filter where 'Embarked' is 'S' AND 'Sex' is 'female'.\n",
        "\n",
        "## Step 2: Filter with exclusion (NOT operator)\n",
        "Exclude rows that meet a certain condition using the NOT (`~`) operator. For example, filter where 'Embarked' is NOT 'S'.\n",
        "\n",
        "## Step 3: Filter with exclusion using SQL syntax\n",
        "Demonstrate filtering using SQL-like syntax for exclusion. For example, filter where 'Embarked' is not 'C' or 'Q'.\n",
        "\n",
        "## Step 4: Filter rows where a string column starts with a specific substring\n",
        "Filter the DataFrame where a string column (e.g., 'Cabin') starts with 'A'.\n",
        "\n",
        "## Step 5: Filter rows where a string column ends with a specific substring\n",
        "Filter the DataFrame where a string column (e.g., 'Cabin') ends with '3'.\n",
        "\n",
        "## Step 6: Filter rows where a string column contains a specific substring\n",
        "Filter the DataFrame where a string column (e.g., 'Name') contains 'Miss'.\n",
        "\n",
        "## Step 7: Filter using SQL `LIKE` operator (REGEX)\n",
        "Filter the DataFrame using regular expressions with the `like` operator. For example, filter where 'Name' contains 'John'.\n",
        "\n",
        "## Step 8: Filter for null values\n",
        "Identify and filter rows where a specific column (e.g., 'Cabin') has null values.\n",
        "\n",
        "## Step 9: Filter for non-null values\n",
        "Identify and filter rows where a specific column (e.g., 'Cabin') does NOT have null values.\n"
      ],
      "metadata": {
        "id": "QCnRNpwI_fLB"
      }
    },
    {
      "cell_type": "markdown",
      "source": [
        "# MANIPULATING DATA IN DATAFRAMES\n",
        "This section covers creating new columns, modifying existing ones, and changing data types. Key functions include `withColumn()`, `F.round()`, and `F.when()`.\n",
        "\n",
        "## Step 1: Create a new column by adding two existing columns\n",
        "Add the values of two numerical columns (e.g., 'volatile acidity' and 'citric acid') to create a new column.\n",
        "\n",
        "## Step 2: Create a new column with a constant value\n",
        "Add a new column to your DataFrame where all values are a constant (e.g., a dummy column with ones).\n",
        "\n",
        "## Step 3: Round a numerical column to a specific decimal place\n",
        "Round the values in a numerical column (e.g., 'pH') to one decimal place.\n",
        "\n",
        "## Step 4: Implement conditional logic for a new column (F.when())\n",
        "Create a new column ('Survived_TEXT') based on a conditional statement on an existing column ('Survived'). For instance, if 'Survived' is 0, set 'Survived_TEXT' to 'NO', otherwise 'YES'.\n",
        "\n",
        "## Step 5: Implement multiple conditional logic for a new column\n",
        "Apply multiple `F.when()` conditions to create a new categorical column ('COD_EMBARKED') based on values in 'Embarked'. For example, 'C' maps to 'YES_C', 'S' maps to 'NO_S', and others map to 'MAYBE_OTHER'.\n",
        "\n",
        "## Step 6: Change the data type of columns\n",
        "Import `pyspark.sql.types` as `T` to access data types like `DoubleType`, `IntegerType`, `StringType`, etc.\n",
        "Change the data type of an existing column (e.g., 'Survived' to DoubleType, 'Age' to StringType). Remember to print the schema before and after the change to verify.\n"
      ],
      "metadata": {
        "id": "TifGWn4b_fLB"
      }
    },
    {
      "cell_type": "markdown",
      "source": [
        "- Conditionals (F.when('Condition', value ))\n"
      ],
      "metadata": {
        "id": "y0Jn_Aj__fLB"
      }
    },
    {
      "cell_type": "markdown",
      "source": [
        "- Changing type of variables (importing the sql types module as T)\n",
        "- DoubleType, IntegerType, StringType...\n"
      ],
      "metadata": {
        "id": "Lo643Mk9_fLB"
      }
    },
    {
      "cell_type": "markdown",
      "source": [
        "# GROUPING AND AGGREGATING DATA\n",
        "This section covers various grouping operations including counting, aggregating with multiple functions, and pivot tables.\n",
        "\n",
        "## Step 1: Count occurrences after grouping by multiple columns\n",
        "Group your DataFrame by two categorical columns (e.g., 'Sex' and 'Embarked') and then count the number of occurrences for each group.\n",
        "\n",
        "## Step 2: Order grouped counts\n",
        "Extend the previous step by ordering the grouped counts based on one or more of the grouping columns.\n",
        "\n",
        "## Step 3: Aggregate multiple statistics with renaming\n",
        "Group by a column (e.g., 'Survived') and calculate multiple aggregation functions (mean, max, min) on another column (e.g., 'Age'). Alias the resulting aggregated columns for clarity.\n",
        "\n",
        "## Step 4: Create a Pivot Table\n",
        "Use the `pivot` function to reshape your DataFrame. Group by one column (e.g., 'Embarked'), pivot by another (e.g., 'Sex' with specified categories 'male', 'female'), and then apply an aggregation function (e.g., `F.sum('Survived')`, `F.count('Survived')`, `F.mean('Survived')`).\n"
      ],
      "metadata": {
        "id": "h3P2vEUP_fLC"
      }
    },
    {
      "cell_type": "markdown",
      "source": [
        "# WINDOW FUNCTIONS IN PYSPARK\n",
        "Window functions allow you to perform calculations across a set of DataFrame rows that are related to the current row. This is similar to `GROUP BY` but returns a value for each row, rather than a single aggregated value for a group.\n",
        "To use window functions, import `Window` from `pyspark.sql`.\n",
        "More details: [Pyspark Window Functions](https://spark.apache.org/docs/2.4.0/api/python/pyspark.sql.html#pyspark.sql.Window)\n",
        "\n",
        "## Step 1: Assign a row number\n",
        "Use `F.row_number().over(Window.orderBy('column'))` to assign a unique sequential number to each row within a window, ordered by a specified column.\n",
        "\n",
        "## Step 2: Calculate rank over partitions\n",
        "Calculate the rank of rows within partitions (groups) defined by one or more columns (e.g., 'Country'), ordered by another column (e.g., 'value'). Use `Window.partitionBy('column').orderBy('column')`.\n",
        "\n",
        "## Step 3: Get the previous value (LAG)\n",
        "Retrieve the value from a preceding row using `F.lag('column', offset).over(window_spec)`. Partition and order your window appropriately (e.g., by 'Country' and 'id').\n",
        "\n",
        "## Step 4: Get the next value (LEAD)\n",
        "Retrieve the value from a subsequent row using `F.lead('column', offset).over(window_spec)`. Partition and order your window as needed.\n",
        "\n",
        "## Step 5: Divide data into N tiles (NTILE)\n",
        "Distribute rows into a specified number of groups (tiles) based on the order of a column. Use `F.n_tile(n).over(window_spec)`.\n",
        "\n",
        "## Step 6: Calculate sum over a rolling window (RangeBetween)\n",
        "Compute a sum over a specified range of rows relative to the current row (e.g., the previous row, current row, and next row). Use `Window.orderBy('column').rowsBetween(start, end)` where -1 is previous, 0 is current, 1 is next, etc.\n"
      ],
      "metadata": {
        "id": "MARKPmL4_fLC"
      }
    },
    {
      "cell_type": "markdown",
      "source": [
        "# JOINING DATAFRAMES\n",
        "Joining DataFrames is fundamental for combining data from different sources. PySpark offers various join types similar to SQL.\n",
        "Available join types: Inner (default), Cross, Outer, Left, Right, Left anti, Left semi.\n",
        "More details: [Pyspark Joins](https://sparkbyexamples.com/pyspark/pyspark-join-types/)\n",
        "\n",
        "## Step 1: Perform an Inner Join\n",
        "Join two DataFrames (`df_data` and `df_data_2`) on a common key (e.g., 'id') using an inner join. This will return only the rows where the join key exists in both DataFrames.\n",
        "\n",
        "## Step 2: Perform a Left Join\n",
        "Execute a left join. This will return all rows from the left DataFrame (`df_data`) and the matching rows from the right DataFrame (`df_data_2`). If there's no match, the columns from the right DataFrame will be null.\n",
        "\n",
        "## Step 3: Perform a Right Join\n",
        "Execute a right join. This will return all rows from the right DataFrame (`df_data_2`) and the matching rows from the left DataFrame (`df_data`). If there's no match, the columns from the left DataFrame will be null.\n",
        "\n",
        "## Step 4: Perform a Cross Join\n",
        "Perform a cross join between two DataFrames. This join returns the Cartesian product of rows from both DataFrames (every row from the first DataFrame is combined with every row from the second).\n"
      ],
      "metadata": {
        "id": "PPdWKam__fLC"
      }
    },
    {
      "cell_type": "markdown",
      "source": [
        "# USER DEFINED FUNCTIONS (UDFs)\n",
        "UDFs allow you to use custom Python functions directly within PySpark DataFrames. This is useful for operations that are not natively supported by Spark's built-in functions.\n",
        "To use UDFs, import `udf` from `pyspark.sql.functions` and relevant `DataType` from `pyspark.sql.types`.\n",
        "More details: [UDF](https://sparkbyexamples.com/pyspark/pyspark-udf-user-defined-function/)\n",
        "\n",
        "## Step 1: Create a simple UDF\n",
        "Define a Python function (e.g., `price_to_category`) that takes a value and returns a categorized string ('Low', 'Medium', 'High'). Register this Python function as a PySpark UDF, specifying its return type (e.g., `StringType()`). Then, apply this UDF to a column in your DataFrame (e.g., 'Price') to create a new categorized column.\n"
      ],
      "metadata": {
        "id": "5WbObTG4_fLC"
      }
    },
    {
      "cell_type": "markdown",
      "source": [
        "# REFERENCES\n",
        "* [Pyspark: The Definitive Guide](https://www.amazon.com/Spark-Definitive-Guide-Unified-Analytics/dp/1491976707)\n",
        "* [Spark official webpage](https://spark.apache.org/docs/latest/)\n",
        "* [Pyspark official webpage](https://spark.apache.org/docs/latest/api/python/index.html)\n",
        "* [IBM tutorial on Pyspark](https://www.ibm.com/cloud/blog/apache-spark-for-beginners)\n",
        "* [Databricks tutorial](https://databricks.com/glossary/what-is-pyspark)\n",
        "* [Spark by examples](https://sparkbyexamples.com/pyspark-tutorial/)\n"
      ],
      "metadata": {
        "id": "Ro2mi3bq_fLC"
      }
    }
  ]
}