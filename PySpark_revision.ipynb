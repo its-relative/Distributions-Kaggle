{
  "metadata": {
    "kernelspec": {
      "language": "python",
      "display_name": "Python 3",
      "name": "python3"
    },
    "language_info": {
      "name": "python",
      "version": "3.10.10",
      "mimetype": "text/x-python",
      "codemirror_mode": {
        "name": "ipython",
        "version": 3
      },
      "pygments_lexer": "ipython3",
      "nbconvert_exporter": "python",
      "file_extension": ".py"
    },
    "kaggle": {
      "accelerator": "none",
      "dataSources": [
        {
          "sourceId": 3548798,
          "sourceType": "datasetVersion",
          "datasetId": 2133850
        }
      ],
      "dockerImageVersionId": 30497,
      "isInternetEnabled": false,
      "language": "python",
      "sourceType": "notebook",
      "isGpuEnabled": false
    },
    "colab": {
      "name": "PySpark revision",
      "provenance": [],
      "include_colab_link": true
    }
  },
  "nbformat_minor": 0,
  "nbformat": 4,
  "cells": [
    {
      "cell_type": "markdown",
      "metadata": {
        "id": "view-in-github",
        "colab_type": "text"
      },
      "source": [
        "<a href=\"https://colab.research.google.com/github/its-relative/Kaggle/blob/main/PySpark_revision.ipynb\" target=\"_parent\"><img src=\"https://colab.research.google.com/assets/colab-badge.svg\" alt=\"Open In Colab\"/></a>"
      ]
    },
    {
      "source": [
        "# IMPORTANT: RUN THIS CELL IN ORDER TO IMPORT YOUR KAGGLE DATA SOURCES,\n",
        "# THEN FEEL FREE TO DELETE THIS CELL.\n",
        "# NOTE: THIS NOTEBOOK ENVIRONMENT DIFFERS FROM KAGGLE'S PYTHON\n",
        "# ENVIRONMENT SO THERE MAY BE MISSING LIBRARIES USED BY YOUR\n",
        "# NOTEBOOK.\n",
        "import kagglehub\n",
        "surajjha101_stores_area_and_sales_data_path = kagglehub.dataset_download('surajjha101/stores-area-and-sales-data')\n",
        "\n",
        "print('Data source import complete.')\n"
      ],
      "metadata": {
        "colab": {
          "base_uri": "https://localhost:8080/"
        },
        "id": "moJAxBSIIZtK",
        "outputId": "7dd39642-f1b4-419d-fd63-32ac79ed5066"
      },
      "cell_type": "code",
      "outputs": [
        {
          "output_type": "stream",
          "name": "stdout",
          "text": [
            "Downloading from https://www.kaggle.com/api/v1/datasets/download/surajjha101/stores-area-and-sales-data?dataset_version_number=1...\n"
          ]
        },
        {
          "output_type": "stream",
          "name": "stderr",
          "text": [
            "100%|██████████| 9.60k/9.60k [00:00<00:00, 14.4MB/s]"
          ]
        },
        {
          "output_type": "stream",
          "name": "stdout",
          "text": [
            "Extracting files...\n",
            "Data source import complete.\n"
          ]
        },
        {
          "output_type": "stream",
          "name": "stderr",
          "text": [
            "\n"
          ]
        }
      ],
      "execution_count": 10
    },
    {
      "cell_type": "markdown",
      "source": [
        "<br><div  class=\"alert alert-success\" style=\"background-color: #045D5D; border-color: #694b98; font-size: 15pt;font-family: Serif; color: white\">\n",
        "        <b> <center> Introduction </center> </b>\n",
        "    <a name=\"0\"></a>\n",
        "</div><br>\n",
        "\n",
        "PySpark is the Python API for Apache Spark, an open-source big data processing framework. It provides a powerful and scalable platform for data processing and analytics. This notebook will cover the basics of PySpark and guide you through some fundamental concepts and operations.\n",
        "\n",
        "![PySPark](https://editor.analyticsvidhya.com/uploads/374441.png)"
      ],
      "metadata": {
        "id": "NvgCRWL7IZtL"
      }
    },
    {
      "cell_type": "markdown",
      "source": [
        "<br><div  class=\"alert alert-success\" style=\"background-color: #045D5D; border-color: #694b98; font-size: 15pt;font-family: Serif; color: white\">\n",
        "        <b> <center> Table of Contents </center> </b>\n",
        "    <a name=\"0\"></a>\n",
        "</div><br>\n",
        "\n",
        "### [1. Installing PySpark](#1)\n",
        "### [2. Importing Required Libraries](#2)\n",
        "### [3. Initializing SparkSession](#3)\n",
        "### [4. Loading Data](#4)\n",
        "### [5. Exploring Data](#5)\n",
        "### [6. Data Transformation](#6)\n",
        "### [7. Data Aggregation](#7)\n",
        "### [8. Data Visualization](#8)\n",
        "### [9. Writing Data](#9)\n",
        "### [10. Conclusion](#10)"
      ],
      "metadata": {
        "id": "BfagMf8NIZtM"
      }
    },
    {
      "cell_type": "markdown",
      "source": [
        "<br><div  class=\"alert alert-success\" style=\"background-color: #045D5D; border-color: #694b98; font-size: 15pt;font-family: Serif; color: white\">\n",
        "        <b> <center> 1. Installing PySpark </center> </b>\n",
        "    <a name=\"1\"></a>\n",
        "</div><br>\n",
        "\n",
        "To use PySpark, you need to have Apache Spark installed on your system. You can download and install Apache Spark from the official website (https://spark.apache.org/downloads.html). Follow the installation instructions provided there."
      ],
      "metadata": {
        "id": "Y5hVyDEDIZtM"
      }
    },
    {
      "cell_type": "code",
      "source": [
        "!pip install spark"
      ],
      "metadata": {
        "_uuid": "8f2839f25d086af736a60e9eeb907d3b93b6e0e5",
        "_cell_guid": "b1076dfc-b9ad-4769-8c92-a6c4dae69d19",
        "trusted": true,
        "colab": {
          "base_uri": "https://localhost:8080/"
        },
        "id": "96TFw7YwIZtN",
        "outputId": "a37e3fb1-598c-4adc-daaf-0df9b767c827"
      },
      "outputs": [
        {
          "output_type": "stream",
          "name": "stdout",
          "text": [
            "Collecting spark\n",
            "  Downloading spark-0.2.1.tar.gz (41 kB)\n",
            "\u001b[?25l     \u001b[90m━━━━━━━━━━━━━━━━━━━━━━━━━━━━━━━━━━━━━━━━\u001b[0m \u001b[32m0.0/41.0 kB\u001b[0m \u001b[31m?\u001b[0m eta \u001b[36m-:--:--\u001b[0m\r\u001b[2K     \u001b[90m━━━━━━━━━━━━━━━━━━━━━━━━━━━━━━━━━━━━━━━━\u001b[0m \u001b[32m41.0/41.0 kB\u001b[0m \u001b[31m1.5 MB/s\u001b[0m eta \u001b[36m0:00:00\u001b[0m\n",
            "\u001b[?25h  Preparing metadata (setup.py) ... \u001b[?25l\u001b[?25hdone\n",
            "Building wheels for collected packages: spark\n",
            "  Building wheel for spark (setup.py) ... \u001b[?25l\u001b[?25hdone\n",
            "  Created wheel for spark: filename=spark-0.2.1-py3-none-any.whl size=58748 sha256=c7b9b1917bdddc346f9ae04ab996cf49222a2a872a2027c625555eca7627bbea\n",
            "  Stored in directory: /root/.cache/pip/wheels/67/c2/7c/a53325365fba358ffff35af84a2e14cf88c18052f88acfa5f0\n",
            "Successfully built spark\n",
            "Installing collected packages: spark\n",
            "Successfully installed spark-0.2.1\n"
          ]
        }
      ],
      "execution_count": 1
    },
    {
      "cell_type": "markdown",
      "source": [
        "<br><div  class=\"alert alert-success\" style=\"background-color: #045D5D; border-color: #694b98; font-size: 15pt;font-family: Serif; color: white\">\n",
        "        <b> <center> 2. Importing Required Libraries </center> </b>\n",
        "    <a name=\"2\"></a>\n",
        "</div><br>\n",
        "\n",
        "Before we start using PySpark, we need to import the necessary libraries."
      ],
      "metadata": {
        "id": "dkf7rJdBIZtN"
      }
    },
    {
      "cell_type": "code",
      "source": [
        "import pyspark\n",
        "from pyspark.sql import SparkSession\n",
        "import pandas as pd\n",
        "import numpy as np\n",
        "import matplotlib.pyplot as plt\n",
        "import seaborn as sns"
      ],
      "metadata": {
        "id": "hwp9QZndnpd0"
      },
      "execution_count": 4,
      "outputs": []
    },
    {
      "cell_type": "markdown",
      "source": [
        "<br><div  class=\"alert alert-success\" style=\"background-color: #045D5D; border-color: #694b98; font-size: 15pt;font-family: Serif; color: white\">\n",
        "        <b> <center> 3. Initializing SparkSession </center> </b>\n",
        "    <a name=\"3\"></a>\n",
        "</div><br>\n",
        "\n",
        "To interact with Spark, we need to create a SparkSession, which serves as the entry point for using PySpark."
      ],
      "metadata": {
        "id": "G0HgOKgqIZtO"
      }
    },
    {
      "cell_type": "code",
      "source": [
        "spark = SparkSession.builder.appName(\"PySpark\").getOrCreate()"
      ],
      "metadata": {
        "execution": {
          "iopub.status.busy": "2023-06-07T07:14:20.688634Z",
          "iopub.execute_input": "2023-06-07T07:14:20.690112Z",
          "iopub.status.idle": "2023-06-07T07:14:27.369035Z",
          "shell.execute_reply.started": "2023-06-07T07:14:20.690063Z",
          "shell.execute_reply": "2023-06-07T07:14:27.367437Z"
        },
        "trusted": true,
        "id": "njn7DeFzIZtO"
      },
      "outputs": [],
      "execution_count": 8
    },
    {
      "cell_type": "markdown",
      "source": [
        "<br><div  class=\"alert alert-success\" style=\"background-color: #045D5D; border-color: #694b98; font-size: 15pt;font-family: Serif; color: white\">\n",
        "        <b> <center> 4. Loading Data </center> </b>\n",
        "    <a name=\"4\"></a>\n",
        "</div><br>\n",
        "\n",
        "PySpark supports various data formats, including CSV, JSON, Parquet, and more. Let's see how to load a CSV file into a PySpark DataFrame."
      ],
      "metadata": {
        "id": "s_ZBl6Z-IZtP"
      }
    },
    {
      "cell_type": "code",
      "source": [
        "data = spark.read.csv(surajjha101_stores_area_and_sales_data_path, header = True, inferSchema=True)"
      ],
      "metadata": {
        "execution": {
          "iopub.status.busy": "2023-06-07T07:19:31.71711Z",
          "iopub.execute_input": "2023-06-07T07:19:31.717693Z",
          "iopub.status.idle": "2023-06-07T07:19:40.994029Z",
          "shell.execute_reply.started": "2023-06-07T07:19:31.717652Z",
          "shell.execute_reply": "2023-06-07T07:19:40.992239Z"
        },
        "trusted": true,
        "id": "sJXJlQkYIZtQ"
      },
      "outputs": [],
      "execution_count": 11
    },
    {
      "cell_type": "markdown",
      "source": [
        "<br><div  class=\"alert alert-success\" style=\"background-color: #045D5D; border-color: #694b98; font-size: 15pt;font-family: Serif; color: white\">\n",
        "        <b> <center> 5. Exploring Data </center> </b>\n",
        "    <a name=\"5\"></a>\n",
        "</div><br>\n",
        "\n",
        "Once the data is loaded into a PySpark DataFrame, we can perform various operations to explore the data."
      ],
      "metadata": {
        "id": "V-WeOugyIZtR"
      }
    },
    {
      "cell_type": "code",
      "source": [
        "# Display the first few rows of the DataFrame\n",
        "data.show(8)"
      ],
      "metadata": {
        "execution": {
          "iopub.status.busy": "2023-06-07T07:19:52.945758Z",
          "iopub.execute_input": "2023-06-07T07:19:52.946391Z",
          "iopub.status.idle": "2023-06-07T07:19:53.490575Z",
          "shell.execute_reply.started": "2023-06-07T07:19:52.946351Z",
          "shell.execute_reply": "2023-06-07T07:19:53.48916Z"
        },
        "trusted": true,
        "colab": {
          "base_uri": "https://localhost:8080/"
        },
        "id": "MuqzjDvTIZtR",
        "outputId": "e06ecbf9-1c74-42cd-a4bb-2038c1505ea1"
      },
      "outputs": [
        {
          "output_type": "stream",
          "name": "stdout",
          "text": [
            "+---------+----------+---------------+--------------------+-----------+\n",
            "|Store ID |Store_Area|Items_Available|Daily_Customer_Count|Store_Sales|\n",
            "+---------+----------+---------------+--------------------+-----------+\n",
            "|        1|      1659|           1961|                 530|      66490|\n",
            "|        2|      1461|           1752|                 210|      39820|\n",
            "|        3|      1340|           1609|                 720|      54010|\n",
            "|        4|      1451|           1748|                 620|      53730|\n",
            "|        5|      1770|           2111|                 450|      46620|\n",
            "|        6|      1442|           1733|                 760|      45260|\n",
            "|        7|      1542|           1858|                1030|      72240|\n",
            "|        8|      1261|           1507|                1020|      37720|\n",
            "+---------+----------+---------------+--------------------+-----------+\n",
            "only showing top 8 rows\n",
            "\n"
          ]
        }
      ],
      "execution_count": 13
    },
    {
      "cell_type": "code",
      "source": [
        "# Display the schema of the DataFrame\n",
        "data.printSchema()"
      ],
      "metadata": {
        "execution": {
          "iopub.status.busy": "2023-06-07T07:20:07.633618Z",
          "iopub.execute_input": "2023-06-07T07:20:07.634146Z",
          "iopub.status.idle": "2023-06-07T07:20:07.645904Z",
          "shell.execute_reply.started": "2023-06-07T07:20:07.634112Z",
          "shell.execute_reply": "2023-06-07T07:20:07.644579Z"
        },
        "trusted": true,
        "colab": {
          "base_uri": "https://localhost:8080/"
        },
        "id": "8PNclarLIZtS",
        "outputId": "ae40c8c2-a4dc-40a2-b34f-16e0978fdcc2"
      },
      "outputs": [
        {
          "output_type": "stream",
          "name": "stdout",
          "text": [
            "root\n",
            " |-- Store ID : integer (nullable = true)\n",
            " |-- Store_Area: integer (nullable = true)\n",
            " |-- Items_Available: integer (nullable = true)\n",
            " |-- Daily_Customer_Count: integer (nullable = true)\n",
            " |-- Store_Sales: integer (nullable = true)\n",
            "\n"
          ]
        }
      ],
      "execution_count": 14
    },
    {
      "cell_type": "code",
      "source": [
        "# Get the number of rows in the DataFrame\n",
        "data.count()"
      ],
      "metadata": {
        "execution": {
          "iopub.status.busy": "2023-06-07T07:20:20.284301Z",
          "iopub.execute_input": "2023-06-07T07:20:20.284748Z",
          "iopub.status.idle": "2023-06-07T07:20:21.121482Z",
          "shell.execute_reply.started": "2023-06-07T07:20:20.284716Z",
          "shell.execute_reply": "2023-06-07T07:20:21.12026Z"
        },
        "trusted": true,
        "colab": {
          "base_uri": "https://localhost:8080/"
        },
        "id": "aT4xr-dMIZtS",
        "outputId": "13106db4-3983-4c96-cff4-95a2115783be"
      },
      "outputs": [
        {
          "output_type": "execute_result",
          "data": {
            "text/plain": [
              "896"
            ]
          },
          "metadata": {},
          "execution_count": 16
        }
      ],
      "execution_count": 16
    },
    {
      "cell_type": "code",
      "source": [
        "# Get summary statistics of numerical columns\n",
        "data.describe().show()"
      ],
      "metadata": {
        "execution": {
          "iopub.status.busy": "2023-06-07T07:20:26.042023Z",
          "iopub.execute_input": "2023-06-07T07:20:26.0425Z",
          "iopub.status.idle": "2023-06-07T07:20:27.442459Z",
          "shell.execute_reply.started": "2023-06-07T07:20:26.042467Z",
          "shell.execute_reply": "2023-06-07T07:20:27.440981Z"
        },
        "trusted": true,
        "colab": {
          "base_uri": "https://localhost:8080/"
        },
        "id": "do2y2PDFIZtS",
        "outputId": "48ccc64c-cfe0-4a89-8c71-4c2635c5781d"
      },
      "outputs": [
        {
          "output_type": "stream",
          "name": "stdout",
          "text": [
            "+-------+----------------+------------------+------------------+--------------------+------------------+\n",
            "|summary|       Store ID |        Store_Area|   Items_Available|Daily_Customer_Count|       Store_Sales|\n",
            "+-------+----------------+------------------+------------------+--------------------+------------------+\n",
            "|  count|             896|               896|               896|                 896|               896|\n",
            "|   mean|           448.5|1485.4095982142858|1782.0357142857142|   786.3504464285714| 59351.30580357143|\n",
            "| stddev|258.797217913949|250.23701095319237| 299.8720525241988|  265.38928076727075|17190.741894878298|\n",
            "|    min|               1|               775|               932|                  10|             14920|\n",
            "|    max|             896|              2229|              2667|                1560|            116320|\n",
            "+-------+----------------+------------------+------------------+--------------------+------------------+\n",
            "\n"
          ]
        }
      ],
      "execution_count": 19
    },
    {
      "cell_type": "markdown",
      "source": [
        "<br><div  class=\"alert alert-success\" style=\"background-color: #045D5D; border-color: #694b98; font-size: 15pt;font-family: Serif; color: white\">\n",
        "        <b> <center> 6. Data Transformation </center> </b>\n",
        "    <a name=\"6\"></a>\n",
        "</div><br>\n",
        "\n",
        "PySpark provides a wide range of transformation operations to manipulate and preprocess data. Here are a few examples:"
      ],
      "metadata": {
        "id": "PrY-zlGFIZtT"
      }
    },
    {
      "cell_type": "code",
      "source": [
        "# Select specific columns \"Store ID \", \"Store_Sales\"\n",
        "selected_cols = data.select(\"Store ID \", \"Store_Sales\")"
      ],
      "metadata": {
        "execution": {
          "iopub.status.busy": "2023-06-07T07:22:08.136328Z",
          "iopub.execute_input": "2023-06-07T07:22:08.137144Z",
          "iopub.status.idle": "2023-06-07T07:22:08.180392Z",
          "shell.execute_reply.started": "2023-06-07T07:22:08.137086Z",
          "shell.execute_reply": "2023-06-07T07:22:08.178646Z"
        },
        "trusted": true,
        "id": "eeSRSgksIZtT"
      },
      "outputs": [],
      "execution_count": 20
    },
    {
      "cell_type": "code",
      "source": [
        "# Show selected columns\n",
        "selected_cols.show()"
      ],
      "metadata": {
        "execution": {
          "iopub.status.busy": "2023-06-07T07:22:26.894237Z",
          "iopub.execute_input": "2023-06-07T07:22:26.894746Z",
          "iopub.status.idle": "2023-06-07T07:22:27.175874Z",
          "shell.execute_reply.started": "2023-06-07T07:22:26.89471Z",
          "shell.execute_reply": "2023-06-07T07:22:27.174068Z"
        },
        "trusted": true,
        "colab": {
          "base_uri": "https://localhost:8080/"
        },
        "id": "6aEp_K2fIZtT",
        "outputId": "756be79a-019a-44b6-abda-24f130c52d52"
      },
      "outputs": [
        {
          "output_type": "stream",
          "name": "stdout",
          "text": [
            "+---------+-----------+\n",
            "|Store ID |Store_Sales|\n",
            "+---------+-----------+\n",
            "|        1|      66490|\n",
            "|        2|      39820|\n",
            "|        3|      54010|\n",
            "|        4|      53730|\n",
            "|        5|      46620|\n",
            "|        6|      45260|\n",
            "|        7|      72240|\n",
            "|        8|      37720|\n",
            "|        9|      46310|\n",
            "|       10|      44150|\n",
            "|       11|      71280|\n",
            "|       12|      57620|\n",
            "|       13|      60470|\n",
            "|       14|      59130|\n",
            "|       15|      66360|\n",
            "|       16|      78870|\n",
            "|       17|      77250|\n",
            "|       18|      38170|\n",
            "|       19|      63540|\n",
            "|       20|      40190|\n",
            "+---------+-----------+\n",
            "only showing top 20 rows\n",
            "\n"
          ]
        }
      ],
      "execution_count": 21
    },
    {
      "cell_type": "code",
      "source": [
        "# Filter rows based on a condition \"Daily_Customer_Count\"] < 100\n",
        "filtered_cols = data.filter(data[\"Daily_Customer_Count\"] < 100)\n"
      ],
      "metadata": {
        "execution": {
          "iopub.status.busy": "2023-06-07T07:24:17.900223Z",
          "iopub.execute_input": "2023-06-07T07:24:17.900627Z",
          "iopub.status.idle": "2023-06-07T07:24:17.911411Z",
          "shell.execute_reply.started": "2023-06-07T07:24:17.900598Z",
          "shell.execute_reply": "2023-06-07T07:24:17.909819Z"
        },
        "trusted": true,
        "id": "tKXa1RytIZtT"
      },
      "outputs": [],
      "execution_count": 22
    },
    {
      "cell_type": "code",
      "source": [
        "# Show filtered rows\n",
        "filtered_cols.show()"
      ],
      "metadata": {
        "execution": {
          "iopub.status.busy": "2023-06-07T07:24:20.340394Z",
          "iopub.execute_input": "2023-06-07T07:24:20.340836Z",
          "iopub.status.idle": "2023-06-07T07:24:20.526374Z",
          "shell.execute_reply.started": "2023-06-07T07:24:20.340803Z",
          "shell.execute_reply": "2023-06-07T07:24:20.525107Z"
        },
        "trusted": true,
        "colab": {
          "base_uri": "https://localhost:8080/"
        },
        "id": "2U1o6-1wIZtU",
        "outputId": "6ea9f1b0-5cfd-482b-87d1-43232154132a"
      },
      "outputs": [
        {
          "output_type": "stream",
          "name": "stdout",
          "text": [
            "+---------+----------+---------------+--------------------+-----------+\n",
            "|Store ID |Store_Area|Items_Available|Daily_Customer_Count|Store_Sales|\n",
            "+---------+----------+---------------+--------------------+-----------+\n",
            "|       40|      1270|           1516|                  10|      45480|\n",
            "|      152|      1662|           1986|                  70|      63730|\n",
            "+---------+----------+---------------+--------------------+-----------+\n",
            "\n"
          ]
        }
      ],
      "execution_count": 23
    },
    {
      "cell_type": "code",
      "source": [
        "# Add a new column \"Avg_Sales_per_person\", data[\"Store_Sales\"] / data[\"Daily_Customer_Count\"]\n",
        "new_col = data.withColumn(\"Avg_Sales_per_person\", data[\"Store_Sales\"]/data[\"Daily_Customer_Count\"])"
      ],
      "metadata": {
        "execution": {
          "iopub.status.busy": "2023-06-07T07:30:13.527437Z",
          "iopub.execute_input": "2023-06-07T07:30:13.527854Z",
          "iopub.status.idle": "2023-06-07T07:30:13.5497Z",
          "shell.execute_reply.started": "2023-06-07T07:30:13.527826Z",
          "shell.execute_reply": "2023-06-07T07:30:13.548437Z"
        },
        "trusted": true,
        "id": "gunK44TtIZtU"
      },
      "outputs": [],
      "execution_count": 24
    },
    {
      "cell_type": "code",
      "source": [
        "new_col.show(8)"
      ],
      "metadata": {
        "execution": {
          "iopub.status.busy": "2023-06-07T07:30:15.183172Z",
          "iopub.execute_input": "2023-06-07T07:30:15.184126Z",
          "iopub.status.idle": "2023-06-07T07:30:15.335308Z",
          "shell.execute_reply.started": "2023-06-07T07:30:15.184087Z",
          "shell.execute_reply": "2023-06-07T07:30:15.333973Z"
        },
        "trusted": true,
        "colab": {
          "base_uri": "https://localhost:8080/"
        },
        "id": "6QBsCN1OIZtV",
        "outputId": "35720874-3e74-44cb-fa5d-c0bbeaec6b38"
      },
      "outputs": [
        {
          "output_type": "stream",
          "name": "stdout",
          "text": [
            "+---------+----------+---------------+--------------------+-----------+--------------------+\n",
            "|Store ID |Store_Area|Items_Available|Daily_Customer_Count|Store_Sales|Avg_Sales_per_person|\n",
            "+---------+----------+---------------+--------------------+-----------+--------------------+\n",
            "|        1|      1659|           1961|                 530|      66490|  125.45283018867924|\n",
            "|        2|      1461|           1752|                 210|      39820|  189.61904761904762|\n",
            "|        3|      1340|           1609|                 720|      54010|   75.01388888888889|\n",
            "|        4|      1451|           1748|                 620|      53730|   86.66129032258064|\n",
            "|        5|      1770|           2111|                 450|      46620|               103.6|\n",
            "|        6|      1442|           1733|                 760|      45260|   59.55263157894737|\n",
            "|        7|      1542|           1858|                1030|      72240|   70.13592233009709|\n",
            "|        8|      1261|           1507|                1020|      37720|   36.98039215686274|\n",
            "+---------+----------+---------------+--------------------+-----------+--------------------+\n",
            "only showing top 8 rows\n",
            "\n"
          ]
        }
      ],
      "execution_count": 26
    },
    {
      "cell_type": "code",
      "source": [
        "# Group by a column StoreID and compute aggregate functions Store_Sales\": \"sum\"\n",
        "grouped = data.groupBy(\"Store ID \").agg({\"Store_Sales\": \"sum\"})"
      ],
      "metadata": {
        "execution": {
          "iopub.status.busy": "2023-06-07T07:32:14.707317Z",
          "iopub.execute_input": "2023-06-07T07:32:14.707746Z",
          "iopub.status.idle": "2023-06-07T07:32:14.750303Z",
          "shell.execute_reply.started": "2023-06-07T07:32:14.707718Z",
          "shell.execute_reply": "2023-06-07T07:32:14.749236Z"
        },
        "trusted": true,
        "id": "ZfxyD-klIZtV"
      },
      "outputs": [],
      "execution_count": 29
    },
    {
      "cell_type": "code",
      "source": [
        "grouped.show(5)"
      ],
      "metadata": {
        "execution": {
          "iopub.status.busy": "2023-06-07T07:32:25.435063Z",
          "iopub.execute_input": "2023-06-07T07:32:25.435564Z",
          "iopub.status.idle": "2023-06-07T07:32:25.889947Z",
          "shell.execute_reply.started": "2023-06-07T07:32:25.435526Z",
          "shell.execute_reply": "2023-06-07T07:32:25.88879Z"
        },
        "trusted": true,
        "colab": {
          "base_uri": "https://localhost:8080/"
        },
        "id": "zZ22bsXWIZtV",
        "outputId": "e444b4b6-d4b9-4bdf-bd60-7f855b220346"
      },
      "outputs": [
        {
          "output_type": "stream",
          "name": "stdout",
          "text": [
            "+---------+----------------+\n",
            "|Store ID |sum(Store_Sales)|\n",
            "+---------+----------------+\n",
            "|      148|           50360|\n",
            "|      463|           43190|\n",
            "|      471|           71240|\n",
            "|      496|           49750|\n",
            "|      833|           38510|\n",
            "+---------+----------------+\n",
            "only showing top 5 rows\n",
            "\n"
          ]
        }
      ],
      "execution_count": 30
    },
    {
      "cell_type": "markdown",
      "source": [
        "<br><div  class=\"alert alert-success\" style=\"background-color: #045D5D; border-color: #694b98; font-size: 15pt;font-family: Serif; color: white\">\n",
        "        <b> <center> 7. Data Aggregation </center> </b>\n",
        "    <a name=\"7\"></a>\n",
        "</div><br>\n",
        "\n",
        "\n",
        "PySpark provides powerful functions for aggregating data. Here's an example of how to compute the average of a column:"
      ],
      "metadata": {
        "id": "D05cWHsnIZtV"
      }
    },
    {
      "cell_type": "code",
      "source": [
        "# Compute the average of a column Store_Sales\n",
        "expr = data.selectExpr(\"avg(Store_Sales)\").collect()"
      ],
      "metadata": {
        "execution": {
          "iopub.status.busy": "2023-06-07T07:35:03.775873Z",
          "iopub.execute_input": "2023-06-07T07:35:03.776387Z",
          "iopub.status.idle": "2023-06-07T07:35:04.121905Z",
          "shell.execute_reply.started": "2023-06-07T07:35:03.776351Z",
          "shell.execute_reply": "2023-06-07T07:35:04.120973Z"
        },
        "trusted": true,
        "id": "jqFTCowwIZtW"
      },
      "outputs": [],
      "execution_count": 33
    },
    {
      "cell_type": "code",
      "source": [
        "aggregated_data = expr[0][0]"
      ],
      "metadata": {
        "execution": {
          "iopub.status.busy": "2023-06-07T07:35:11.269091Z",
          "iopub.execute_input": "2023-06-07T07:35:11.269518Z",
          "iopub.status.idle": "2023-06-07T07:35:11.278386Z",
          "shell.execute_reply.started": "2023-06-07T07:35:11.269485Z",
          "shell.execute_reply": "2023-06-07T07:35:11.27685Z"
        },
        "trusted": true,
        "colab": {
          "base_uri": "https://localhost:8080/"
        },
        "id": "egcvcZEVIZtW",
        "outputId": "d66ede75-048a-48e4-cb04-1dd93483633a"
      },
      "outputs": [
        {
          "output_type": "execute_result",
          "data": {
            "text/plain": [
              "59351.30580357143"
            ]
          },
          "metadata": {},
          "execution_count": 35
        }
      ],
      "execution_count": 35
    },
    {
      "cell_type": "code",
      "source": [],
      "metadata": {
        "colab": {
          "base_uri": "https://localhost:8080/"
        },
        "id": "wHkuRoqcRndK",
        "outputId": "7edb8c4f-274a-4711-fb36-de0332243cbb"
      },
      "execution_count": 52,
      "outputs": [
        {
          "output_type": "execute_result",
          "data": {
            "text/plain": [
              "59351.30580357143"
            ]
          },
          "metadata": {},
          "execution_count": 52
        }
      ]
    },
    {
      "cell_type": "markdown",
      "source": [
        "8. Data Visualization\n",
        "\n",
        "<br><div  class=\"alert alert-success\" style=\"background-color: #045D5D; border-color: #694b98; font-size: 15pt;font-family: Serif; color: white\">\n",
        "        <b> <center> 8. Data Visualization </center> </b>\n",
        "    <a name=\"8\"></a>\n",
        "</div><br>\n",
        "\n",
        "PySpark integrates well with popular Python visualization libraries, such as Matplotlib and Seaborn. Here's an example of how to create a histogram using Matplotlib:"
      ],
      "metadata": {
        "id": "1aD660MMIZtW"
      }
    },
    {
      "cell_type": "code",
      "source": [
        "# Import Libraries\n",
        "import matplotlib.pyplot as plt\n",
        "import seaborn as sns\n",
        "# Convert PySpark DataFrame data to Pandas DataFrame\n",
        "df = data.toPandas()\n",
        "\n",
        "# Create a histogram for Store_Sales\n",
        "plt.figure(figsize=(10,8))\n",
        "sns.histplot(data = df, x = \"Store_Sales\", bins=10)\n",
        "plt.title(\"Histogram for Store_Sales\")\n",
        "plt.show()"
      ],
      "metadata": {
        "execution": {
          "iopub.status.busy": "2023-06-07T07:36:06.995874Z",
          "iopub.execute_input": "2023-06-07T07:36:06.996376Z",
          "iopub.status.idle": "2023-06-07T07:36:07.751904Z",
          "shell.execute_reply.started": "2023-06-07T07:36:06.996345Z",
          "shell.execute_reply": "2023-06-07T07:36:07.750357Z"
        },
        "trusted": true,
        "colab": {
          "base_uri": "https://localhost:8080/",
          "height": 718
        },
        "id": "u2tFA7XcIZtW",
        "outputId": "5c872536-ce71-44db-85f5-087f76f18457"
      },
      "outputs": [
        {
          "output_type": "display_data",
          "data": {
            "text/plain": [
              "<Figure size 1000x800 with 1 Axes>"
            ],
            "image/png": "[encoded data removed]"
          },
          "metadata": {}
        }
      ],
      "execution_count": 41
    },
    {
      "cell_type": "markdown",
      "source": [
        "<br><div  class=\"alert alert-success\" style=\"background-color: #045D5D; border-color: #694b98; font-size: 15pt;font-family: Serif; color: white\">\n",
        "`        <b> <center> 9. Writing Data </center> </b>\n",
        "    <a name=\"9\"></a>\n",
        "</div><br>\n",
        "\n",
        "PySpark allows us to write data back to different formats. Here's an example of how to write a PySpark DataFrame to a Parquet file:"
      ],
      "metadata": {
        "id": "dK7t9ilsIZtW"
      }
    },
    {
      "cell_type": "code",
      "source": [
        "# Write DataFrame to Parquet file"
      ],
      "metadata": {
        "execution": {
          "iopub.status.busy": "2023-06-07T07:37:45.577483Z",
          "iopub.execute_input": "2023-06-07T07:37:45.577923Z",
          "iopub.status.idle": "2023-06-07T07:37:47.105689Z",
          "shell.execute_reply.started": "2023-06-07T07:37:45.577866Z",
          "shell.execute_reply": "2023-06-07T07:37:47.104019Z"
        },
        "trusted": true,
        "id": "HOkLC7QrIZtW"
      },
      "outputs": [],
      "execution_count": null
    },
    {
      "cell_type": "markdown",
      "source": [
        "\n",
        "<br><div  class=\"alert alert-success\" style=\"background-color: #045D5D; border-color: #694b98; font-size: 15pt;font-family: Serif; color: white\">\n",
        "        <b> <center> 10. Conclusion </center> </b>\n",
        "    <a name=\"10\"></a>\n",
        "</div><br>\n",
        "\n",
        "This notebook provided a brief introduction to PySpark and covered some of the basics, including loading data, exploring data, data transformation, data aggregation, data visualization, and writing data.\n",
        "\n",
        "PySpark offers many more advanced features and capabilities, which you can explore further to leverage the full power of Apache Spark for big data processing and analytics."
      ],
      "metadata": {
        "id": "Ztqz8R-3IZtW"
      }
    }
  ]
}