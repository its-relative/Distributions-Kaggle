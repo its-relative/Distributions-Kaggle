{
 "cells": [
  {
   "cell_type": "markdown",
   "id": "4c5946c3",
   "metadata": {
    "papermill": {
     "duration": 0.003056,
     "end_time": "2025-06-20T05:22:27.663391",
     "exception": false,
     "start_time": "2025-06-20T05:22:27.660335",
     "status": "completed"
    },
    "tags": []
   },
   "source": [
    "**[Machine Learning Course Home Page](https://www.kaggle.com/learn/machine-learning)**\n",
    "\n",
    "---\n"
   ]
  },
  {
   "cell_type": "markdown",
   "id": "b0eaf71d",
   "metadata": {
    "papermill": {
     "duration": 0.002098,
     "end_time": "2025-06-20T05:22:27.668428",
     "exception": false,
     "start_time": "2025-06-20T05:22:27.666330",
     "status": "completed"
    },
    "tags": []
   },
   "source": [
    "This exercise will test your ability to read a data file and understand statistics about the data.\n",
    "\n",
    "In later exercises, you will apply techniques to filter the data, build a machine learning model, and iteratively improve your model.\n",
    "\n",
    "The course examples use data from Melbourne. To ensure you can apply these techniques on your own, you will have to apply them to a new dataset (with house prices from Iowa).\n",
    "\n",
    "The exercises use a \"notebook\" coding environment.  In case you are unfamiliar with notebooks, we have a [90-second intro video](https://www.youtube.com/watch?v=4C2qMnaIKL4).\n",
    "\n",
    "# Exercises\n",
    "\n",
    "Run the following cell to set up code-checking, which will verify your work as you go."
   ]
  },
  {
   "cell_type": "code",
   "execution_count": 1,
   "id": "cba19df3",
   "metadata": {
    "collapsed": true,
    "execution": {
     "iopub.execute_input": "2025-06-20T05:22:27.674671Z",
     "iopub.status.busy": "2025-06-20T05:22:27.674260Z",
     "iopub.status.idle": "2025-06-20T05:22:29.994593Z",
     "shell.execute_reply": "2025-06-20T05:22:29.993416Z"
    },
    "jupyter": {
     "outputs_hidden": true
    },
    "papermill": {
     "duration": 2.325608,
     "end_time": "2025-06-20T05:22:29.996374",
     "exception": false,
     "start_time": "2025-06-20T05:22:27.670766",
     "status": "completed"
    },
    "tags": []
   },
   "outputs": [
    {
     "name": "stdout",
     "output_type": "stream",
     "text": [
      "Setup Complete\n"
     ]
    }
   ],
   "source": [
    "# Set up code checking\n",
    "from learntools.core import binder\n",
    "binder.bind(globals())\n",
    "from learntools.machine_learning.ex2 import *\n",
    "print(\"Setup Complete\")"
   ]
  },
  {
   "cell_type": "markdown",
   "id": "baa868ee",
   "metadata": {
    "papermill": {
     "duration": 0.002728,
     "end_time": "2025-06-20T05:22:30.002173",
     "exception": false,
     "start_time": "2025-06-20T05:22:29.999445",
     "status": "completed"
    },
    "tags": []
   },
   "source": [
    "## Step 1: Loading Data\n",
    "Read the Iowa data file into a Pandas DataFrame called `home_data`."
   ]
  },
  {
   "cell_type": "code",
   "execution_count": 2,
   "id": "79bb0df8",
   "metadata": {
    "collapsed": true,
    "execution": {
     "iopub.execute_input": "2025-06-20T05:22:30.009243Z",
     "iopub.status.busy": "2025-06-20T05:22:30.008768Z",
     "iopub.status.idle": "2025-06-20T05:22:30.018051Z",
     "shell.execute_reply": "2025-06-20T05:22:30.017076Z"
    },
    "jupyter": {
     "outputs_hidden": true
    },
    "papermill": {
     "duration": 0.014474,
     "end_time": "2025-06-20T05:22:30.019516",
     "exception": false,
     "start_time": "2025-06-20T05:22:30.005042",
     "status": "completed"
    },
    "tags": []
   },
   "outputs": [
    {
     "data": {
      "application/javascript": [
       "parent.postMessage({\"jupyterEvent\": \"custom.exercise_interaction\", \"data\": {\"outcomeType\": 4, \"interactionType\": 1, \"questionType\": 1, \"questionId\": \"1_LoadHomeData\", \"learnToolsVersion\": \"0.3.5\", \"valueTowardsCompletion\": 0.0, \"failureMessage\": \"\", \"exceptionClass\": \"\", \"trace\": \"\"}}, \"*\")"
      ],
      "text/plain": [
       "<IPython.core.display.Javascript object>"
      ]
     },
     "metadata": {},
     "output_type": "display_data"
    },
    {
     "data": {
      "text/markdown": [
       "<span style=\"color:#ccaa33\">Check:</span> When you've updated the starter code, `check()` will tell you whether your code is correct. You need to update the code that creates variable `home_data`"
      ],
      "text/plain": [
       "Check: When you've updated the starter code, `check()` will tell you whether your code is correct. You need to update the code that creates variable `home_data`"
      ]
     },
     "metadata": {},
     "output_type": "display_data"
    }
   ],
   "source": [
    "import pandas as pd\n",
    "\n",
    "# Path of the file to read\n",
    "iowa_file_path = '../input/home-data-for-ml-course/train.csv'\n",
    "\n",
    "# Fill in the line below to read the file into a variable home_data\n",
    "home_data = ____\n",
    "\n",
    "# Call line below with no argument to check that you've loaded the data correctly\n",
    "step_1.check()"
   ]
  },
  {
   "cell_type": "code",
   "execution_count": 3,
   "id": "1acbd805",
   "metadata": {
    "collapsed": true,
    "execution": {
     "iopub.execute_input": "2025-06-20T05:22:30.026957Z",
     "iopub.status.busy": "2025-06-20T05:22:30.026121Z",
     "iopub.status.idle": "2025-06-20T05:22:30.031052Z",
     "shell.execute_reply": "2025-06-20T05:22:30.029843Z"
    },
    "jupyter": {
     "outputs_hidden": true
    },
    "papermill": {
     "duration": 0.010307,
     "end_time": "2025-06-20T05:22:30.032716",
     "exception": false,
     "start_time": "2025-06-20T05:22:30.022409",
     "status": "completed"
    },
    "tags": []
   },
   "outputs": [],
   "source": [
    "# Lines below will give you a hint or solution code\n",
    "#step_1.hint()\n",
    "#step_1.solution()"
   ]
  },
  {
   "cell_type": "markdown",
   "id": "0c3aa7e2",
   "metadata": {
    "papermill": {
     "duration": 0.002543,
     "end_time": "2025-06-20T05:22:30.038276",
     "exception": false,
     "start_time": "2025-06-20T05:22:30.035733",
     "status": "completed"
    },
    "tags": []
   },
   "source": [
    "## Step 2: Review The Data\n",
    "Use the command you learned to view summary statistics of the data. Then fill in variables to answer the following questions"
   ]
  },
  {
   "cell_type": "code",
   "execution_count": 4,
   "id": "ec3e5c5e",
   "metadata": {
    "collapsed": true,
    "execution": {
     "iopub.execute_input": "2025-06-20T05:22:30.046128Z",
     "iopub.status.busy": "2025-06-20T05:22:30.044961Z",
     "iopub.status.idle": "2025-06-20T05:22:30.051177Z",
     "shell.execute_reply": "2025-06-20T05:22:30.050239Z"
    },
    "jupyter": {
     "outputs_hidden": true
    },
    "papermill": {
     "duration": 0.011498,
     "end_time": "2025-06-20T05:22:30.052589",
     "exception": false,
     "start_time": "2025-06-20T05:22:30.041091",
     "status": "completed"
    },
    "tags": []
   },
   "outputs": [
    {
     "data": {
      "text/markdown": [],
      "text/plain": [
       "<learntools.core.constants.PlaceholderValue at 0x7f4fcbe57690>"
      ]
     },
     "execution_count": 4,
     "metadata": {},
     "output_type": "execute_result"
    }
   ],
   "source": [
    "# Print summary statistics in next line\n",
    "____"
   ]
  },
  {
   "cell_type": "code",
   "execution_count": 5,
   "id": "65c2f87d",
   "metadata": {
    "execution": {
     "iopub.execute_input": "2025-06-20T05:22:30.060018Z",
     "iopub.status.busy": "2025-06-20T05:22:30.059671Z",
     "iopub.status.idle": "2025-06-20T05:22:30.067574Z",
     "shell.execute_reply": "2025-06-20T05:22:30.066681Z"
    },
    "papermill": {
     "duration": 0.01332,
     "end_time": "2025-06-20T05:22:30.068978",
     "exception": false,
     "start_time": "2025-06-20T05:22:30.055658",
     "status": "completed"
    },
    "tags": []
   },
   "outputs": [
    {
     "data": {
      "application/javascript": [
       "parent.postMessage({\"jupyterEvent\": \"custom.exercise_interaction\", \"data\": {\"outcomeType\": 4, \"interactionType\": 1, \"questionType\": 1, \"questionId\": \"2_HomeDescription\", \"learnToolsVersion\": \"0.3.5\", \"valueTowardsCompletion\": 0.0, \"failureMessage\": \"\", \"exceptionClass\": \"\", \"trace\": \"\"}}, \"*\")"
      ],
      "text/plain": [
       "<IPython.core.display.Javascript object>"
      ]
     },
     "metadata": {},
     "output_type": "display_data"
    },
    {
     "data": {
      "text/markdown": [
       "<span style=\"color:#ccaa33\">Check:</span> When you've updated the starter code, `check()` will tell you whether your code is correct. You need to update the code that creates variables `avg_lot_size`, `newest_home_age`"
      ],
      "text/plain": [
       "Check: When you've updated the starter code, `check()` will tell you whether your code is correct. You need to update the code that creates variables `avg_lot_size`, `newest_home_age`"
      ]
     },
     "metadata": {},
     "output_type": "display_data"
    }
   ],
   "source": [
    "# What is the average lot size (rounded to nearest integer)?\n",
    "avg_lot_size = ____\n",
    "\n",
    "# As of today, how old is the newest home (current year - the date in which it was built)\n",
    "newest_home_age = ____\n",
    "\n",
    "# Checks your answers\n",
    "step_2.check()"
   ]
  },
  {
   "cell_type": "code",
   "execution_count": 6,
   "id": "17c85228",
   "metadata": {
    "collapsed": true,
    "execution": {
     "iopub.execute_input": "2025-06-20T05:22:30.077106Z",
     "iopub.status.busy": "2025-06-20T05:22:30.076694Z",
     "iopub.status.idle": "2025-06-20T05:22:30.081272Z",
     "shell.execute_reply": "2025-06-20T05:22:30.080384Z"
    },
    "jupyter": {
     "outputs_hidden": true
    },
    "papermill": {
     "duration": 0.01027,
     "end_time": "2025-06-20T05:22:30.082741",
     "exception": false,
     "start_time": "2025-06-20T05:22:30.072471",
     "status": "completed"
    },
    "tags": []
   },
   "outputs": [],
   "source": [
    "#step_2.hint()\n",
    "#step_2.solution()"
   ]
  },
  {
   "cell_type": "markdown",
   "id": "6932d6ff",
   "metadata": {
    "papermill": {
     "duration": 0.003129,
     "end_time": "2025-06-20T05:22:30.089222",
     "exception": false,
     "start_time": "2025-06-20T05:22:30.086093",
     "status": "completed"
    },
    "tags": []
   },
   "source": [
    "## Think About Your Data\n",
    "\n",
    "The newest house in your data isn't that new.  A few potential explanations for this:\n",
    "1. They haven't built new houses where this data was collected.\n",
    "1. The data was collected a long time ago. Houses built after the data publication wouldn't show up.\n",
    "\n",
    "If the reason is explanation #1 above, does that affect your trust in the model you build with this data? What about if it is reason #2?\n",
    "\n",
    "How could you dig into the data to see which explanation is more plausible?\n",
    "\n",
    "Check out this **[discussion thread](https://www.kaggle.com/learn-forum/60581)** to see what others think or to add your ideas.\n",
    "\n",
    "# Keep Going\n",
    "\n",
    "You are ready for **[Your First Machine Learning Model](https://www.kaggle.com/dansbecker/your-first-machine-learning-model).**\n"
   ]
  },
  {
   "cell_type": "markdown",
   "id": "df7e657a",
   "metadata": {
    "papermill": {
     "duration": 0.002973,
     "end_time": "2025-06-20T05:22:30.095389",
     "exception": false,
     "start_time": "2025-06-20T05:22:30.092416",
     "status": "completed"
    },
    "tags": []
   },
   "source": [
    "---\n",
    "**[Machine Learning Course Home Page](https://www.kaggle.com/learn/machine-learning)**\n",
    "\n"
   ]
  }
 ],
 "metadata": {
  "kaggle": {
   "accelerator": "none",
   "dataSources": [
    {
     "datasetId": 2709,
     "sourceId": 38454,
     "sourceType": "datasetVersion"
    },
    {
     "datasetId": 108980,
     "sourceId": 260251,
     "sourceType": "datasetVersion"
    }
   ],
   "isGpuEnabled": false,
   "isInternetEnabled": false,
   "language": "python",
   "sourceType": "notebook"
  },
  "kernelspec": {
   "display_name": "Python 3",
   "language": "python",
   "name": "python3"
  },
  "language_info": {
   "codemirror_mode": {
    "name": "ipython",
    "version": 3
   },
   "file_extension": ".py",
   "mimetype": "text/x-python",
   "name": "python",
   "nbconvert_exporter": "python",
   "pygments_lexer": "ipython3",
   "version": "3.11.11"
  },
  "papermill": {
   "default_parameters": {},
   "duration": 8.110747,
   "end_time": "2025-06-20T05:22:30.619202",
   "environment_variables": {},
   "exception": null,
   "input_path": "__notebook__.ipynb",
   "output_path": "__notebook__.ipynb",
   "parameters": {},
   "start_time": "2025-06-20T05:22:22.508455",
   "version": "2.6.0"
  }
 },
 "nbformat": 4,
 "nbformat_minor": 5
}
