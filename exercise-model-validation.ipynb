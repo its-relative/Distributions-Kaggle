{
 "cells": [
  {
   "cell_type": "markdown",
   "id": "7cc48978",
   "metadata": {
    "papermill": {
     "duration": 0.004536,
     "end_time": "2025-06-23T20:11:50.609524",
     "exception": false,
     "start_time": "2025-06-23T20:11:50.604988",
     "status": "completed"
    },
    "tags": []
   },
   "source": [
    "**This notebook is an exercise in the [Introduction to Machine Learning](https://www.kaggle.com/learn/intro-to-machine-learning) course.  You can reference the tutorial at [this link](https://www.kaggle.com/dansbecker/model-validation).**\n",
    "\n",
    "---\n"
   ]
  },
  {
   "cell_type": "markdown",
   "id": "e5a202df",
   "metadata": {
    "papermill": {
     "duration": 0.003371,
     "end_time": "2025-06-23T20:11:50.617121",
     "exception": false,
     "start_time": "2025-06-23T20:11:50.613750",
     "status": "completed"
    },
    "tags": []
   },
   "source": [
    "## Recap\n",
    "You've built a model. In this exercise you will test how good your model is.\n",
    "\n",
    "Run the cell below to set up your coding environment where the previous exercise left off."
   ]
  },
  {
   "cell_type": "code",
   "execution_count": 1,
   "id": "71ba1c54",
   "metadata": {
    "execution": {
     "iopub.execute_input": "2025-06-23T20:11:50.626103Z",
     "iopub.status.busy": "2025-06-23T20:11:50.625783Z",
     "iopub.status.idle": "2025-06-23T20:11:55.303843Z",
     "shell.execute_reply": "2025-06-23T20:11:55.302749Z"
    },
    "papermill": {
     "duration": 4.68501,
     "end_time": "2025-06-23T20:11:55.305932",
     "exception": false,
     "start_time": "2025-06-23T20:11:50.620922",
     "status": "completed"
    },
    "tags": []
   },
   "outputs": [
    {
     "name": "stdout",
     "output_type": "stream",
     "text": [
      "First in-sample predictions: [208500. 181500. 223500. 140000. 250000.]\n",
      "Actual target values for those homes: [208500, 181500, 223500, 140000, 250000]\n",
      "Setup Complete\n"
     ]
    }
   ],
   "source": [
    "# Code you have previously used to load data\n",
    "import pandas as pd\n",
    "from sklearn.tree import DecisionTreeRegressor\n",
    "\n",
    "# Path of the file to read\n",
    "iowa_file_path = '../input/home-data-for-ml-course/train.csv'\n",
    "\n",
    "home_data = pd.read_csv(iowa_file_path)\n",
    "y = home_data.SalePrice\n",
    "feature_columns = ['LotArea', 'YearBuilt', '1stFlrSF', '2ndFlrSF', 'FullBath', 'BedroomAbvGr', 'TotRmsAbvGrd']\n",
    "X = home_data[feature_columns]\n",
    "\n",
    "# Specify Model\n",
    "iowa_model = DecisionTreeRegressor()\n",
    "# Fit Model\n",
    "iowa_model.fit(X, y)\n",
    "\n",
    "print(\"First in-sample predictions:\", iowa_model.predict(X.head()))\n",
    "print(\"Actual target values for those homes:\", y.head().tolist())\n",
    "\n",
    "# Set up code checking\n",
    "from learntools.core import binder\n",
    "binder.bind(globals())\n",
    "from learntools.machine_learning.ex4 import *\n",
    "print(\"Setup Complete\")"
   ]
  },
  {
   "cell_type": "markdown",
   "id": "e9653668",
   "metadata": {
    "papermill": {
     "duration": 0.005956,
     "end_time": "2025-06-23T20:11:55.318371",
     "exception": false,
     "start_time": "2025-06-23T20:11:55.312415",
     "status": "completed"
    },
    "tags": []
   },
   "source": [
    "# Exercises\n",
    "\n",
    "## Step 1: Split Your Data\n",
    "Use the `train_test_split` function to split up your data.\n",
    "\n",
    "Give it the argument `random_state=1` so the `check` functions know what to expect when verifying your code.\n",
    "\n",
    "Recall, your features are loaded in the DataFrame **X** and your target is loaded in **y**.\n"
   ]
  },
  {
   "cell_type": "code",
   "execution_count": 2,
   "id": "f14a730d",
   "metadata": {
    "execution": {
     "iopub.execute_input": "2025-06-23T20:11:55.332836Z",
     "iopub.status.busy": "2025-06-23T20:11:55.332156Z",
     "iopub.status.idle": "2025-06-23T20:11:55.351366Z",
     "shell.execute_reply": "2025-06-23T20:11:55.350370Z"
    },
    "papermill": {
     "duration": 0.028645,
     "end_time": "2025-06-23T20:11:55.353177",
     "exception": false,
     "start_time": "2025-06-23T20:11:55.324532",
     "status": "completed"
    },
    "tags": []
   },
   "outputs": [
    {
     "data": {
      "application/javascript": [
       "parent.postMessage({\"jupyterEvent\": \"custom.exercise_interaction\", \"data\": {\"outcomeType\": 1, \"valueTowardsCompletion\": 0.25, \"interactionType\": 1, \"questionType\": 2, \"questionId\": \"1_SplitData\", \"learnToolsVersion\": \"0.3.5\", \"failureMessage\": \"\", \"exceptionClass\": \"\", \"trace\": \"\"}}, \"*\")"
      ],
      "text/plain": [
       "<IPython.core.display.Javascript object>"
      ]
     },
     "metadata": {},
     "output_type": "display_data"
    },
    {
     "data": {
      "text/markdown": [
       "<span style=\"color:#33cc33\">Correct</span>"
      ],
      "text/plain": [
       "Correct"
      ]
     },
     "metadata": {},
     "output_type": "display_data"
    }
   ],
   "source": [
    "# Import the train_test_split function and uncomment\n",
    "from sklearn.model_selection import train_test_split\n",
    "\n",
    "# fill in and uncomment\n",
    "train_X, val_X, train_y, val_y = train_test_split(X, y, test_size = 0.25 ,random_state = 1)\n",
    "\n",
    "# Check your answer\n",
    "step_1.check()"
   ]
  },
  {
   "cell_type": "code",
   "execution_count": 3,
   "id": "77529e5e",
   "metadata": {
    "execution": {
     "iopub.execute_input": "2025-06-23T20:11:55.364169Z",
     "iopub.status.busy": "2025-06-23T20:11:55.363374Z",
     "iopub.status.idle": "2025-06-23T20:11:55.367828Z",
     "shell.execute_reply": "2025-06-23T20:11:55.366967Z"
    },
    "papermill": {
     "duration": 0.011532,
     "end_time": "2025-06-23T20:11:55.369268",
     "exception": false,
     "start_time": "2025-06-23T20:11:55.357736",
     "status": "completed"
    },
    "tags": []
   },
   "outputs": [],
   "source": [
    "# The lines below will show you a hint or the solution.\n",
    "# step_1.hint() \n",
    "# step_1.solution()\n"
   ]
  },
  {
   "cell_type": "code",
   "execution_count": null,
   "id": "cc2eb62d",
   "metadata": {
    "papermill": {
     "duration": 0.003443,
     "end_time": "2025-06-23T20:11:55.376527",
     "exception": false,
     "start_time": "2025-06-23T20:11:55.373084",
     "status": "completed"
    },
    "tags": []
   },
   "outputs": [],
   "source": []
  },
  {
   "cell_type": "markdown",
   "id": "18898639",
   "metadata": {
    "papermill": {
     "duration": 0.003516,
     "end_time": "2025-06-23T20:11:55.383810",
     "exception": false,
     "start_time": "2025-06-23T20:11:55.380294",
     "status": "completed"
    },
    "tags": []
   },
   "source": [
    "## Step 2: Specify and Fit the Model\n",
    "\n",
    "Create a `DecisionTreeRegressor` model and fit it to the relevant data.\n",
    "Set `random_state` to 1 again when creating the model."
   ]
  },
  {
   "cell_type": "code",
   "execution_count": 4,
   "id": "15880ef4",
   "metadata": {
    "execution": {
     "iopub.execute_input": "2025-06-23T20:11:55.396180Z",
     "iopub.status.busy": "2025-06-23T20:11:55.395763Z",
     "iopub.status.idle": "2025-06-23T20:11:55.428427Z",
     "shell.execute_reply": "2025-06-23T20:11:55.427540Z"
    },
    "papermill": {
     "duration": 0.040974,
     "end_time": "2025-06-23T20:11:55.430012",
     "exception": false,
     "start_time": "2025-06-23T20:11:55.389038",
     "status": "completed"
    },
    "tags": []
   },
   "outputs": [
    {
     "name": "stdout",
     "output_type": "stream",
     "text": [
      "[186500. 184000. 130000.  92000. 164500. 220000. 335000. 144152. 215000.\n",
      " 262000.]\n",
      "[186500. 184000. 130000.  92000. 164500. 220000. 335000. 144152. 215000.\n",
      " 262000.]\n"
     ]
    },
    {
     "data": {
      "application/javascript": [
       "parent.postMessage({\"jupyterEvent\": \"custom.exercise_interaction\", \"data\": {\"outcomeType\": 1, \"valueTowardsCompletion\": 0.25, \"interactionType\": 1, \"questionType\": 2, \"questionId\": \"2_FitModelWithTrain\", \"learnToolsVersion\": \"0.3.5\", \"failureMessage\": \"\", \"exceptionClass\": \"\", \"trace\": \"\"}}, \"*\")"
      ],
      "text/plain": [
       "<IPython.core.display.Javascript object>"
      ]
     },
     "metadata": {},
     "output_type": "display_data"
    },
    {
     "data": {
      "text/markdown": [
       "<span style=\"color:#33cc33\">Correct</span>"
      ],
      "text/plain": [
       "Correct"
      ]
     },
     "metadata": {},
     "output_type": "display_data"
    }
   ],
   "source": [
    "# You imported DecisionTreeRegressor in your last exercise\n",
    "# and that code has been copied to the setup code above. So, no need to\n",
    "# import it again\n",
    "\n",
    "# Specify the model\n",
    "iowa_model = DecisionTreeRegressor(random_state=1)\n",
    "\n",
    "# Fit iowa_model with the training data.\n",
    "iowa_model.fit(train_X,train_y)\n",
    "\n",
    "# Check your answer\n",
    "step_2.check()"
   ]
  },
  {
   "cell_type": "code",
   "execution_count": 5,
   "id": "60eb0ebe",
   "metadata": {
    "execution": {
     "iopub.execute_input": "2025-06-23T20:11:55.439528Z",
     "iopub.status.busy": "2025-06-23T20:11:55.439099Z",
     "iopub.status.idle": "2025-06-23T20:11:55.443451Z",
     "shell.execute_reply": "2025-06-23T20:11:55.442563Z"
    },
    "papermill": {
     "duration": 0.010944,
     "end_time": "2025-06-23T20:11:55.445054",
     "exception": false,
     "start_time": "2025-06-23T20:11:55.434110",
     "status": "completed"
    },
    "tags": []
   },
   "outputs": [],
   "source": [
    "# step_2.hint()\n",
    "# step_2.solution()"
   ]
  },
  {
   "cell_type": "markdown",
   "id": "b733fe00",
   "metadata": {
    "papermill": {
     "duration": 0.003825,
     "end_time": "2025-06-23T20:11:55.453422",
     "exception": false,
     "start_time": "2025-06-23T20:11:55.449597",
     "status": "completed"
    },
    "tags": []
   },
   "source": [
    "## Step 3: Make Predictions with Validation data\n"
   ]
  },
  {
   "cell_type": "code",
   "execution_count": 6,
   "id": "ecb31d97",
   "metadata": {
    "execution": {
     "iopub.execute_input": "2025-06-23T20:11:55.463651Z",
     "iopub.status.busy": "2025-06-23T20:11:55.463223Z",
     "iopub.status.idle": "2025-06-23T20:11:55.477111Z",
     "shell.execute_reply": "2025-06-23T20:11:55.476032Z"
    },
    "papermill": {
     "duration": 0.021393,
     "end_time": "2025-06-23T20:11:55.479307",
     "exception": false,
     "start_time": "2025-06-23T20:11:55.457914",
     "status": "completed"
    },
    "tags": []
   },
   "outputs": [
    {
     "data": {
      "application/javascript": [
       "parent.postMessage({\"jupyterEvent\": \"custom.exercise_interaction\", \"data\": {\"outcomeType\": 1, \"valueTowardsCompletion\": 0.25, \"interactionType\": 1, \"questionType\": 2, \"questionId\": \"3_ValPreds\", \"learnToolsVersion\": \"0.3.5\", \"failureMessage\": \"\", \"exceptionClass\": \"\", \"trace\": \"\"}}, \"*\")"
      ],
      "text/plain": [
       "<IPython.core.display.Javascript object>"
      ]
     },
     "metadata": {},
     "output_type": "display_data"
    },
    {
     "data": {
      "text/markdown": [
       "<span style=\"color:#33cc33\">Correct</span>"
      ],
      "text/plain": [
       "Correct"
      ]
     },
     "metadata": {},
     "output_type": "display_data"
    }
   ],
   "source": [
    "# Predict with all validation observations\n",
    "val_predictions = iowa_model.predict(val_X)\n",
    "\n",
    "# Check your answer\n",
    "step_3.check()"
   ]
  },
  {
   "cell_type": "code",
   "execution_count": 7,
   "id": "f1a8b467",
   "metadata": {
    "execution": {
     "iopub.execute_input": "2025-06-23T20:11:55.489454Z",
     "iopub.status.busy": "2025-06-23T20:11:55.488574Z",
     "iopub.status.idle": "2025-06-23T20:11:55.492990Z",
     "shell.execute_reply": "2025-06-23T20:11:55.492023Z"
    },
    "papermill": {
     "duration": 0.010964,
     "end_time": "2025-06-23T20:11:55.494502",
     "exception": false,
     "start_time": "2025-06-23T20:11:55.483538",
     "status": "completed"
    },
    "tags": []
   },
   "outputs": [],
   "source": [
    "# step_3.hint()\n",
    "# step_3.solution()"
   ]
  },
  {
   "cell_type": "markdown",
   "id": "cb2a0aee",
   "metadata": {
    "papermill": {
     "duration": 0.0039,
     "end_time": "2025-06-23T20:11:55.502806",
     "exception": false,
     "start_time": "2025-06-23T20:11:55.498906",
     "status": "completed"
    },
    "tags": []
   },
   "source": [
    "Inspect your predictions and actual values from validation data."
   ]
  },
  {
   "cell_type": "code",
   "execution_count": 8,
   "id": "85384bed",
   "metadata": {
    "execution": {
     "iopub.execute_input": "2025-06-23T20:11:55.512742Z",
     "iopub.status.busy": "2025-06-23T20:11:55.512379Z",
     "iopub.status.idle": "2025-06-23T20:11:55.519172Z",
     "shell.execute_reply": "2025-06-23T20:11:55.517706Z"
    },
    "papermill": {
     "duration": 0.013411,
     "end_time": "2025-06-23T20:11:55.520705",
     "exception": false,
     "start_time": "2025-06-23T20:11:55.507294",
     "status": "completed"
    },
    "tags": []
   },
   "outputs": [
    {
     "name": "stdout",
     "output_type": "stream",
     "text": [
      "[186500. 184000. 130000.  92000. 164500.]\n",
      "258     231500\n",
      "267     179500\n",
      "288     122000\n",
      "649      84500\n",
      "1233    142000\n",
      "Name: SalePrice, dtype: int64\n"
     ]
    }
   ],
   "source": [
    "# print the top few validation predictions\n",
    "print(val_predictions[:5])\n",
    "# print the top few actual prices from validation data\n",
    "print(val_y[:5])"
   ]
  },
  {
   "cell_type": "markdown",
   "id": "982a3ed7",
   "metadata": {
    "papermill": {
     "duration": 0.004457,
     "end_time": "2025-06-23T20:11:55.529429",
     "exception": false,
     "start_time": "2025-06-23T20:11:55.524972",
     "status": "completed"
    },
    "tags": []
   },
   "source": [
    "What do you notice that is different from what you saw with in-sample predictions (which are printed after the top code cell in this page).\n",
    "\n",
    "Do you remember why validation predictions differ from in-sample (or training) predictions? This is an important idea from the last lesson.\n",
    "\n",
    "## Step 4: Calculate the Mean Absolute Error in Validation Data\n"
   ]
  },
  {
   "cell_type": "code",
   "execution_count": 9,
   "id": "e3c8e85e",
   "metadata": {
    "execution": {
     "iopub.execute_input": "2025-06-23T20:11:55.539936Z",
     "iopub.status.busy": "2025-06-23T20:11:55.539407Z",
     "iopub.status.idle": "2025-06-23T20:11:55.550046Z",
     "shell.execute_reply": "2025-06-23T20:11:55.548543Z"
    },
    "papermill": {
     "duration": 0.017936,
     "end_time": "2025-06-23T20:11:55.552132",
     "exception": false,
     "start_time": "2025-06-23T20:11:55.534196",
     "status": "completed"
    },
    "tags": []
   },
   "outputs": [
    {
     "data": {
      "application/javascript": [
       "parent.postMessage({\"jupyterEvent\": \"custom.exercise_interaction\", \"data\": {\"outcomeType\": 1, \"valueTowardsCompletion\": 0.25, \"interactionType\": 1, \"questionType\": 1, \"questionId\": \"4_MAE\", \"learnToolsVersion\": \"0.3.5\", \"failureMessage\": \"\", \"exceptionClass\": \"\", \"trace\": \"\"}}, \"*\")"
      ],
      "text/plain": [
       "<IPython.core.display.Javascript object>"
      ]
     },
     "metadata": {},
     "output_type": "display_data"
    },
    {
     "data": {
      "text/markdown": [
       "<span style=\"color:#33cc33\">Correct</span>"
      ],
      "text/plain": [
       "Correct"
      ]
     },
     "metadata": {},
     "output_type": "display_data"
    }
   ],
   "source": [
    "from sklearn.metrics import mean_absolute_error\n",
    "val_mae = mean_absolute_error(val_y,val_predictions)\n",
    "\n",
    "# uncomment following line to see the validation_mae\n",
    "#print(val_mae)\n",
    "\n",
    "# Check your answer\n",
    "step_4.check()"
   ]
  },
  {
   "cell_type": "code",
   "execution_count": 10,
   "id": "8399a782",
   "metadata": {
    "execution": {
     "iopub.execute_input": "2025-06-23T20:11:55.563451Z",
     "iopub.status.busy": "2025-06-23T20:11:55.562545Z",
     "iopub.status.idle": "2025-06-23T20:11:55.567036Z",
     "shell.execute_reply": "2025-06-23T20:11:55.566119Z"
    },
    "papermill": {
     "duration": 0.01171,
     "end_time": "2025-06-23T20:11:55.568813",
     "exception": false,
     "start_time": "2025-06-23T20:11:55.557103",
     "status": "completed"
    },
    "tags": []
   },
   "outputs": [],
   "source": [
    "# step_4.hint()\n",
    "# step_4.solution()"
   ]
  },
  {
   "cell_type": "markdown",
   "id": "951aed5f",
   "metadata": {
    "papermill": {
     "duration": 0.006775,
     "end_time": "2025-06-23T20:11:55.584829",
     "exception": false,
     "start_time": "2025-06-23T20:11:55.578054",
     "status": "completed"
    },
    "tags": []
   },
   "source": [
    "Is that MAE good?  There isn't a general rule for what values are good that applies across applications. But you'll see how to use (and improve) this number in the next step.\n",
    "\n",
    "# Keep Going\n",
    "\n",
    "You are ready for **[Underfitting and Overfitting](https://www.kaggle.com/dansbecker/underfitting-and-overfitting).**\n"
   ]
  },
  {
   "cell_type": "markdown",
   "id": "a2d07305",
   "metadata": {
    "papermill": {
     "duration": 0.004124,
     "end_time": "2025-06-23T20:11:55.593409",
     "exception": false,
     "start_time": "2025-06-23T20:11:55.589285",
     "status": "completed"
    },
    "tags": []
   },
   "source": [
    "---\n",
    "\n",
    "\n",
    "\n",
    "\n",
    "*Have questions or comments? Visit the [course discussion forum](https://www.kaggle.com/learn/intro-to-machine-learning/discussion) to chat with other learners.*"
   ]
  }
 ],
 "metadata": {
  "kaggle": {
   "accelerator": "none",
   "dataSources": [
    {
     "databundleVersionId": 111096,
     "sourceId": 10211,
     "sourceType": "competition"
    },
    {
     "datasetId": 11167,
     "sourceId": 15520,
     "sourceType": "datasetVersion"
    },
    {
     "datasetId": 2709,
     "sourceId": 38454,
     "sourceType": "datasetVersion"
    }
   ],
   "isGpuEnabled": false,
   "isInternetEnabled": false,
   "language": "python",
   "sourceType": "notebook"
  },
  "kernelspec": {
   "display_name": "Python 3",
   "language": "python",
   "name": "python3"
  },
  "language_info": {
   "codemirror_mode": {
    "name": "ipython",
    "version": 3
   },
   "file_extension": ".py",
   "mimetype": "text/x-python",
   "name": "python",
   "nbconvert_exporter": "python",
   "pygments_lexer": "ipython3",
   "version": "3.11.11"
  },
  "papermill": {
   "default_parameters": {},
   "duration": 11.155137,
   "end_time": "2025-06-23T20:11:56.318500",
   "environment_variables": {},
   "exception": null,
   "input_path": "__notebook__.ipynb",
   "output_path": "__notebook__.ipynb",
   "parameters": {},
   "start_time": "2025-06-23T20:11:45.163363",
   "version": "2.6.0"
  }
 },
 "nbformat": 4,
 "nbformat_minor": 5
}
